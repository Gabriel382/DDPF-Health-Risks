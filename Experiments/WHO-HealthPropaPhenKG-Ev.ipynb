{
 "cells": [
  {
   "cell_type": "markdown",
   "id": "3475f409",
   "metadata": {},
   "source": [
    "# COVID-19 WHO-HealthPropaPhenKG Evaluation"
   ]
  },
  {
   "cell_type": "code",
   "execution_count": 1,
   "id": "f42d50a1",
   "metadata": {},
   "outputs": [],
   "source": [
    "%load_ext autoreload\n",
    "%autoreload 2"
   ]
  },
  {
   "cell_type": "markdown",
   "id": "c55c4ef9",
   "metadata": {},
   "source": [
    "## Introduction"
   ]
  },
  {
   "cell_type": "markdown",
   "id": "9f2eea68",
   "metadata": {},
   "source": [
    "### Standard"
   ]
  },
  {
   "cell_type": "code",
   "execution_count": 2,
   "id": "d7ff704c",
   "metadata": {},
   "outputs": [],
   "source": [
    "import numpy as np\n",
    "import pandas as pd"
   ]
  },
  {
   "cell_type": "markdown",
   "id": "275a8bcf",
   "metadata": {},
   "source": [
    "### Custom"
   ]
  },
  {
   "cell_type": "code",
   "execution_count": null,
   "id": "01373e93",
   "metadata": {},
   "outputs": [],
   "source": []
  },
  {
   "cell_type": "markdown",
   "id": "9578a741",
   "metadata": {},
   "source": [
    "## Paths\n",
    "\n",
    "Download the following files:  \n",
    "url = \"https://covid19.who.int/WHO-COVID-19-global-data.csv\"  \n",
    "url_iso = \"https://raw.githubusercontent.com/CSSEGISandData/COVID-19/master/csse_covid_19_data/UID_ISO_FIPS_LookUp_Table.csv\""
   ]
  },
  {
   "cell_type": "code",
   "execution_count": 3,
   "id": "5f53eec9",
   "metadata": {},
   "outputs": [],
   "source": [
    "path_who_data = \"../data/groudtruth/WHO-COVID-19-global-data.csv\"\n",
    "path_isodata = \"../data/groudtruth/UID_ISO_FIPS_LookUp_Table.csv\"\n",
    "path_coviddata = \"../data/groudtruth/covidToWorld.csv\""
   ]
  },
  {
   "cell_type": "code",
   "execution_count": 4,
   "id": "6f27196d",
   "metadata": {},
   "outputs": [],
   "source": [
    "path_to_netwoork_gazetteer = '../data/gazetteers/world_gazetteer_en.csv'"
   ]
  },
  {
   "cell_type": "markdown",
   "id": "37d35336",
   "metadata": {},
   "source": [
    "## Reading WHO data"
   ]
  },
  {
   "cell_type": "code",
   "execution_count": 5,
   "id": "b6cb95f2",
   "metadata": {},
   "outputs": [],
   "source": [
    "data = pd.read_csv(path_who_data)"
   ]
  },
  {
   "cell_type": "code",
   "execution_count": 6,
   "id": "1a5d02fa",
   "metadata": {},
   "outputs": [],
   "source": [
    "data = data[data[\"Cumulative_cases\"] > 0]"
   ]
  },
  {
   "cell_type": "code",
   "execution_count": 7,
   "id": "376848e9",
   "metadata": {},
   "outputs": [],
   "source": [
    "data.loc[data[\"Country\"] == 'Viet Nam',\"Country\"] = \"Vietnam\""
   ]
  },
  {
   "cell_type": "code",
   "execution_count": 8,
   "id": "c3b94a6d",
   "metadata": {},
   "outputs": [
    {
     "data": {
      "text/html": [
       "<div>\n",
       "<style scoped>\n",
       "    .dataframe tbody tr th:only-of-type {\n",
       "        vertical-align: middle;\n",
       "    }\n",
       "\n",
       "    .dataframe tbody tr th {\n",
       "        vertical-align: top;\n",
       "    }\n",
       "\n",
       "    .dataframe thead th {\n",
       "        text-align: right;\n",
       "    }\n",
       "</style>\n",
       "<table border=\"1\" class=\"dataframe\">\n",
       "  <thead>\n",
       "    <tr style=\"text-align: right;\">\n",
       "      <th></th>\n",
       "      <th>Date_reported</th>\n",
       "      <th>Country_code</th>\n",
       "      <th>Country</th>\n",
       "      <th>WHO_region</th>\n",
       "      <th>New_cases</th>\n",
       "      <th>Cumulative_cases</th>\n",
       "      <th>New_deaths</th>\n",
       "      <th>Cumulative_deaths</th>\n",
       "    </tr>\n",
       "  </thead>\n",
       "  <tbody>\n",
       "    <tr>\n",
       "      <th>8</th>\n",
       "      <td>2020-03-01</td>\n",
       "      <td>AF</td>\n",
       "      <td>Afghanistan</td>\n",
       "      <td>EMRO</td>\n",
       "      <td>1.0</td>\n",
       "      <td>1</td>\n",
       "      <td>NaN</td>\n",
       "      <td>0</td>\n",
       "    </tr>\n",
       "    <tr>\n",
       "      <th>9</th>\n",
       "      <td>2020-03-08</td>\n",
       "      <td>AF</td>\n",
       "      <td>Afghanistan</td>\n",
       "      <td>EMRO</td>\n",
       "      <td>NaN</td>\n",
       "      <td>1</td>\n",
       "      <td>NaN</td>\n",
       "      <td>0</td>\n",
       "    </tr>\n",
       "    <tr>\n",
       "      <th>10</th>\n",
       "      <td>2020-03-15</td>\n",
       "      <td>AF</td>\n",
       "      <td>Afghanistan</td>\n",
       "      <td>EMRO</td>\n",
       "      <td>6.0</td>\n",
       "      <td>7</td>\n",
       "      <td>NaN</td>\n",
       "      <td>0</td>\n",
       "    </tr>\n",
       "    <tr>\n",
       "      <th>11</th>\n",
       "      <td>2020-03-22</td>\n",
       "      <td>AF</td>\n",
       "      <td>Afghanistan</td>\n",
       "      <td>EMRO</td>\n",
       "      <td>17.0</td>\n",
       "      <td>24</td>\n",
       "      <td>NaN</td>\n",
       "      <td>0</td>\n",
       "    </tr>\n",
       "    <tr>\n",
       "      <th>12</th>\n",
       "      <td>2020-03-29</td>\n",
       "      <td>AF</td>\n",
       "      <td>Afghanistan</td>\n",
       "      <td>EMRO</td>\n",
       "      <td>67.0</td>\n",
       "      <td>91</td>\n",
       "      <td>2.0</td>\n",
       "      <td>2</td>\n",
       "    </tr>\n",
       "    <tr>\n",
       "      <th>...</th>\n",
       "      <td>...</td>\n",
       "      <td>...</td>\n",
       "      <td>...</td>\n",
       "      <td>...</td>\n",
       "      <td>...</td>\n",
       "      <td>...</td>\n",
       "      <td>...</td>\n",
       "      <td>...</td>\n",
       "    </tr>\n",
       "    <tr>\n",
       "      <th>52315</th>\n",
       "      <td>2024-02-04</td>\n",
       "      <td>ZW</td>\n",
       "      <td>Zimbabwe</td>\n",
       "      <td>AFRO</td>\n",
       "      <td>31.0</td>\n",
       "      <td>266319</td>\n",
       "      <td>NaN</td>\n",
       "      <td>5737</td>\n",
       "    </tr>\n",
       "    <tr>\n",
       "      <th>52316</th>\n",
       "      <td>2024-02-11</td>\n",
       "      <td>ZW</td>\n",
       "      <td>Zimbabwe</td>\n",
       "      <td>AFRO</td>\n",
       "      <td>9.0</td>\n",
       "      <td>266328</td>\n",
       "      <td>NaN</td>\n",
       "      <td>5737</td>\n",
       "    </tr>\n",
       "    <tr>\n",
       "      <th>52317</th>\n",
       "      <td>2024-02-18</td>\n",
       "      <td>ZW</td>\n",
       "      <td>Zimbabwe</td>\n",
       "      <td>AFRO</td>\n",
       "      <td>22.0</td>\n",
       "      <td>266350</td>\n",
       "      <td>NaN</td>\n",
       "      <td>5737</td>\n",
       "    </tr>\n",
       "    <tr>\n",
       "      <th>52318</th>\n",
       "      <td>2024-02-25</td>\n",
       "      <td>ZW</td>\n",
       "      <td>Zimbabwe</td>\n",
       "      <td>AFRO</td>\n",
       "      <td>5.0</td>\n",
       "      <td>266355</td>\n",
       "      <td>2.0</td>\n",
       "      <td>5739</td>\n",
       "    </tr>\n",
       "    <tr>\n",
       "      <th>52319</th>\n",
       "      <td>2024-03-03</td>\n",
       "      <td>ZW</td>\n",
       "      <td>Zimbabwe</td>\n",
       "      <td>AFRO</td>\n",
       "      <td>NaN</td>\n",
       "      <td>266355</td>\n",
       "      <td>NaN</td>\n",
       "      <td>5739</td>\n",
       "    </tr>\n",
       "  </tbody>\n",
       "</table>\n",
       "<p>47923 rows × 8 columns</p>\n",
       "</div>"
      ],
      "text/plain": [
       "      Date_reported Country_code      Country WHO_region  New_cases  \\\n",
       "8        2020-03-01           AF  Afghanistan       EMRO        1.0   \n",
       "9        2020-03-08           AF  Afghanistan       EMRO        NaN   \n",
       "10       2020-03-15           AF  Afghanistan       EMRO        6.0   \n",
       "11       2020-03-22           AF  Afghanistan       EMRO       17.0   \n",
       "12       2020-03-29           AF  Afghanistan       EMRO       67.0   \n",
       "...             ...          ...          ...        ...        ...   \n",
       "52315    2024-02-04           ZW     Zimbabwe       AFRO       31.0   \n",
       "52316    2024-02-11           ZW     Zimbabwe       AFRO        9.0   \n",
       "52317    2024-02-18           ZW     Zimbabwe       AFRO       22.0   \n",
       "52318    2024-02-25           ZW     Zimbabwe       AFRO        5.0   \n",
       "52319    2024-03-03           ZW     Zimbabwe       AFRO        NaN   \n",
       "\n",
       "       Cumulative_cases  New_deaths  Cumulative_deaths  \n",
       "8                     1         NaN                  0  \n",
       "9                     1         NaN                  0  \n",
       "10                    7         NaN                  0  \n",
       "11                   24         NaN                  0  \n",
       "12                   91         2.0                  2  \n",
       "...                 ...         ...                ...  \n",
       "52315            266319         NaN               5737  \n",
       "52316            266328         NaN               5737  \n",
       "52317            266350         NaN               5737  \n",
       "52318            266355         2.0               5739  \n",
       "52319            266355         NaN               5739  \n",
       "\n",
       "[47923 rows x 8 columns]"
      ]
     },
     "execution_count": 8,
     "metadata": {},
     "output_type": "execute_result"
    }
   ],
   "source": [
    "data"
   ]
  },
  {
   "cell_type": "code",
   "execution_count": 9,
   "id": "b05ad0bf",
   "metadata": {},
   "outputs": [],
   "source": [
    "df_network = pd.read_csv(path_to_netwoork_gazetteer)"
   ]
  },
  {
   "cell_type": "code",
   "execution_count": 10,
   "id": "e319c069",
   "metadata": {},
   "outputs": [],
   "source": [
    "df_network['Name'] = df_network['Name'].apply(lambda x: x.replace('\"','').lower())"
   ]
  },
  {
   "cell_type": "code",
   "execution_count": 11,
   "id": "37be4891",
   "metadata": {},
   "outputs": [],
   "source": [
    "data[\"Country\"] = data[\"Country\"].apply(lambda x: x.replace('\"','').lower())"
   ]
  },
  {
   "cell_type": "code",
   "execution_count": 12,
   "id": "6d642472",
   "metadata": {},
   "outputs": [],
   "source": [
    "df_network = df_network.drop(columns=['Unnamed: 0'])\n",
    "data = data.drop(['Country_code', 'WHO_region', 'New_cases', 'New_deaths',\n",
    "       'Cumulative_deaths'],axis=1)"
   ]
  },
  {
   "cell_type": "code",
   "execution_count": 13,
   "id": "52c3b51d",
   "metadata": {},
   "outputs": [
    {
     "data": {
      "text/html": [
       "<div>\n",
       "<style scoped>\n",
       "    .dataframe tbody tr th:only-of-type {\n",
       "        vertical-align: middle;\n",
       "    }\n",
       "\n",
       "    .dataframe tbody tr th {\n",
       "        vertical-align: top;\n",
       "    }\n",
       "\n",
       "    .dataframe thead th {\n",
       "        text-align: right;\n",
       "    }\n",
       "</style>\n",
       "<table border=\"1\" class=\"dataframe\">\n",
       "  <thead>\n",
       "    <tr style=\"text-align: right;\">\n",
       "      <th></th>\n",
       "      <th>Date_reported</th>\n",
       "      <th>Country</th>\n",
       "      <th>Cumulative_cases</th>\n",
       "    </tr>\n",
       "  </thead>\n",
       "  <tbody>\n",
       "    <tr>\n",
       "      <th>8</th>\n",
       "      <td>2020-03-01</td>\n",
       "      <td>afghanistan</td>\n",
       "      <td>1</td>\n",
       "    </tr>\n",
       "    <tr>\n",
       "      <th>9</th>\n",
       "      <td>2020-03-08</td>\n",
       "      <td>afghanistan</td>\n",
       "      <td>1</td>\n",
       "    </tr>\n",
       "    <tr>\n",
       "      <th>10</th>\n",
       "      <td>2020-03-15</td>\n",
       "      <td>afghanistan</td>\n",
       "      <td>7</td>\n",
       "    </tr>\n",
       "    <tr>\n",
       "      <th>11</th>\n",
       "      <td>2020-03-22</td>\n",
       "      <td>afghanistan</td>\n",
       "      <td>24</td>\n",
       "    </tr>\n",
       "    <tr>\n",
       "      <th>12</th>\n",
       "      <td>2020-03-29</td>\n",
       "      <td>afghanistan</td>\n",
       "      <td>91</td>\n",
       "    </tr>\n",
       "    <tr>\n",
       "      <th>...</th>\n",
       "      <td>...</td>\n",
       "      <td>...</td>\n",
       "      <td>...</td>\n",
       "    </tr>\n",
       "    <tr>\n",
       "      <th>52315</th>\n",
       "      <td>2024-02-04</td>\n",
       "      <td>zimbabwe</td>\n",
       "      <td>266319</td>\n",
       "    </tr>\n",
       "    <tr>\n",
       "      <th>52316</th>\n",
       "      <td>2024-02-11</td>\n",
       "      <td>zimbabwe</td>\n",
       "      <td>266328</td>\n",
       "    </tr>\n",
       "    <tr>\n",
       "      <th>52317</th>\n",
       "      <td>2024-02-18</td>\n",
       "      <td>zimbabwe</td>\n",
       "      <td>266350</td>\n",
       "    </tr>\n",
       "    <tr>\n",
       "      <th>52318</th>\n",
       "      <td>2024-02-25</td>\n",
       "      <td>zimbabwe</td>\n",
       "      <td>266355</td>\n",
       "    </tr>\n",
       "    <tr>\n",
       "      <th>52319</th>\n",
       "      <td>2024-03-03</td>\n",
       "      <td>zimbabwe</td>\n",
       "      <td>266355</td>\n",
       "    </tr>\n",
       "  </tbody>\n",
       "</table>\n",
       "<p>47923 rows × 3 columns</p>\n",
       "</div>"
      ],
      "text/plain": [
       "      Date_reported      Country  Cumulative_cases\n",
       "8        2020-03-01  afghanistan                 1\n",
       "9        2020-03-08  afghanistan                 1\n",
       "10       2020-03-15  afghanistan                 7\n",
       "11       2020-03-22  afghanistan                24\n",
       "12       2020-03-29  afghanistan                91\n",
       "...             ...          ...               ...\n",
       "52315    2024-02-04     zimbabwe            266319\n",
       "52316    2024-02-11     zimbabwe            266328\n",
       "52317    2024-02-18     zimbabwe            266350\n",
       "52318    2024-02-25     zimbabwe            266355\n",
       "52319    2024-03-03     zimbabwe            266355\n",
       "\n",
       "[47923 rows x 3 columns]"
      ]
     },
     "execution_count": 13,
     "metadata": {},
     "output_type": "execute_result"
    }
   ],
   "source": [
    "data"
   ]
  },
  {
   "cell_type": "code",
   "execution_count": 14,
   "id": "9210023c",
   "metadata": {},
   "outputs": [],
   "source": [
    "maindata = pd.merge(data,df_network,left_on=\"Country\",right_on=\"Name\")\n",
    "maindata = maindata.drop(['Name', 'Country'],axis=1)"
   ]
  },
  {
   "cell_type": "code",
   "execution_count": 15,
   "id": "1a21bb0e",
   "metadata": {},
   "outputs": [],
   "source": [
    "maindata['CUI:START_ID']= maindata.shape[0]*['C5203670']\n",
    "maindata[':TYPE']= maindata.shape[0]*[\"isReported\"]\n",
    "maindata = maindata.rename(columns={\"ID\": \"ID:END_ID\"})"
   ]
  },
  {
   "cell_type": "code",
   "execution_count": 16,
   "id": "fbe282c3",
   "metadata": {},
   "outputs": [],
   "source": [
    "maindata.to_csv(path_coviddata)"
   ]
  }
 ],
 "metadata": {
  "kernelspec": {
   "display_name": "Python 3 (ipykernel)",
   "language": "python",
   "name": "python3"
  },
  "language_info": {
   "codemirror_mode": {
    "name": "ipython",
    "version": 3
   },
   "file_extension": ".py",
   "mimetype": "text/x-python",
   "name": "python",
   "nbconvert_exporter": "python",
   "pygments_lexer": "ipython3",
   "version": "3.8.10"
  }
 },
 "nbformat": 4,
 "nbformat_minor": 5
}
