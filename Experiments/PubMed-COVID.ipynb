{
 "cells": [
  {
   "cell_type": "markdown",
   "id": "c8f47471",
   "metadata": {},
   "source": [
    "# COVID-19 Data Scrapper"
   ]
  },
  {
   "cell_type": "code",
   "execution_count": 1,
   "id": "b059505d",
   "metadata": {},
   "outputs": [],
   "source": [
    "%load_ext autoreload\n",
    "%autoreload 2"
   ]
  },
  {
   "cell_type": "markdown",
   "id": "610cc56c",
   "metadata": {},
   "source": [
    "## Introduction"
   ]
  },
  {
   "cell_type": "markdown",
   "id": "bd73e317",
   "metadata": {},
   "source": [
    "## Libraries"
   ]
  },
  {
   "cell_type": "code",
   "execution_count": 2,
   "id": "e937d21a",
   "metadata": {},
   "outputs": [],
   "source": [
    "# To install libraries, uncomment those lines:\n",
    "#!pip install bioc"
   ]
  },
  {
   "cell_type": "markdown",
   "id": "82e785ff",
   "metadata": {},
   "source": [
    "### Standard"
   ]
  },
  {
   "cell_type": "code",
   "execution_count": 3,
   "id": "961c7086",
   "metadata": {},
   "outputs": [],
   "source": [
    "import bioc\n",
    "import numpy as np\n",
    "import pandas as pd\n",
    "import os\n",
    "import json"
   ]
  },
  {
   "cell_type": "markdown",
   "id": "869b27a8",
   "metadata": {},
   "source": [
    "### Custom"
   ]
  },
  {
   "cell_type": "code",
   "execution_count": null,
   "id": "2e93db30",
   "metadata": {},
   "outputs": [],
   "source": []
  },
  {
   "cell_type": "markdown",
   "id": "4a5f3ac0",
   "metadata": {},
   "source": [
    "## Paths"
   ]
  },
  {
   "cell_type": "code",
   "execution_count": 4,
   "id": "cf1e11c9",
   "metadata": {},
   "outputs": [],
   "source": [
    "pubmed_filename = \"../data/covid/pubmed/litcovid2BioCXML.xml\"\n",
    "path_to_documents = \"../data/covid/pubmed/documents/\"\n",
    "cordmed_filename = \"../data/covid/pubmed/cord-19_2022-06-02/2022-06-02/\""
   ]
  },
  {
   "cell_type": "markdown",
   "id": "958cf6a2",
   "metadata": {},
   "source": [
    "## PubMed"
   ]
  },
  {
   "cell_type": "code",
   "execution_count": 12,
   "id": "0f0b0b88",
   "metadata": {},
   "outputs": [],
   "source": [
    "def DocToText(document):\n",
    "    filename = document.id\n",
    "    if 'journal' in document.passages[0].infons and len(document.passages[0].infons['journal'].split(\";\")) > 1:\n",
    "            filename = get_month_and_year(document.passages[0].infons['journal'].replace(\".\",\";\").split(\";\")[1].strip())\n",
    "            if filename is None:\n",
    "                return (None, None)\n",
    "            filename += \"-\"+str(document.id)\n",
    "    txt_to_save = \"\"\n",
    "    for passage in document.passages:\n",
    "        txt_to_save += passage.text + \"\\n\"\n",
    "    return (filename, txt_to_save)"
   ]
  },
  {
   "cell_type": "code",
   "execution_count": 13,
   "id": "aa335f5f",
   "metadata": {},
   "outputs": [],
   "source": [
    "import re\n",
    "from dateutil import parser\n",
    "def get_month_and_year(dt):\n",
    "    date_str = None\n",
    "\n",
    "    try:\n",
    "        if len(dt) == 6:\n",
    "            dt = (dt[:4]+' ' + dt[4:])\n",
    "        dtre = re.sub(r\"([0-9]+(\\.[0-9]+)?)\",r\" \\1 \", dt).strip()\n",
    "        date = parser.parse(dtre.lower())\n",
    "        year = date.strftime(\"%Y\")   # Four-digit year\n",
    "        month = date.month  # Full month name\n",
    "        date_str = year+\"-\"+str(month)\n",
    "    except ValueError:\n",
    "        try:\n",
    "            dtre = re.sub(r\"([0-9]+(\\.[0-9]+)?)\",r\" \\1 \", dt[:9]).strip()\n",
    "            date = parser.parse(dtre.lower())\n",
    "            year = date.strftime(\"%Y\")   # Four-digit year\n",
    "            month = date.month  # Full month name\n",
    "            date_str = year+\"-\"+str(month)\n",
    "        except:\n",
    "            pass  # Month doesn't exist in the datetime object\n",
    "\n",
    "    return date_str"
   ]
  },
  {
   "cell_type": "code",
   "execution_count": 27,
   "id": "ed6580b1",
   "metadata": {
    "scrolled": true
   },
   "outputs": [
    {
     "name": "stdout",
     "output_type": "stream",
     "text": [
      "['_BioCXMLDocumentReader__collection', '_BioCXMLDocumentReader__context', '_BioCXMLDocumentReader__document', '_BioCXMLDocumentReader__elem', '_BioCXMLDocumentReader__event', '_BioCXMLDocumentReader__has_next', '_BioCXMLDocumentReader__next_event', '_BioCXMLDocumentReader__passage', '_BioCXMLDocumentReader__read', '_BioCXMLDocumentReader__read_annotation', '_BioCXMLDocumentReader__read_relation', '_BioCXMLDocumentReader__state', '__class__', '__delattr__', '__dict__', '__dir__', '__doc__', '__eq__', '__format__', '__ge__', '__getattribute__', '__gt__', '__hash__', '__init__', '__init_subclass__', '__iter__', '__le__', '__lt__', '__module__', '__ne__', '__new__', '__next__', '__reduce__', '__reduce_ex__', '__repr__', '__setattr__', '__sizeof__', '__str__', '__subclasshook__', '__weakref__', 'file', 'get_collection_info']\n"
     ]
    },
    {
     "name": "stderr",
     "output_type": "stream",
     "text": [
      "1308it [00:02, 496.91it/s]\n"
     ]
    },
    {
     "ename": "KeyboardInterrupt",
     "evalue": "",
     "output_type": "error",
     "traceback": [
      "\u001b[0;31m---------------------------------------------------------------------------\u001b[0m",
      "\u001b[0;31mKeyboardInterrupt\u001b[0m                         Traceback (most recent call last)",
      "Cell \u001b[0;32mIn[27], line 8\u001b[0m\n\u001b[1;32m      6\u001b[0m collection_info \u001b[38;5;241m=\u001b[39m reader\u001b[38;5;241m.\u001b[39mget_collection_info()\n\u001b[1;32m      7\u001b[0m \u001b[38;5;28mprint\u001b[39m(\u001b[38;5;28mdir\u001b[39m(reader))\n\u001b[0;32m----> 8\u001b[0m \u001b[38;5;28;01mfor\u001b[39;00m document \u001b[38;5;129;01min\u001b[39;00m tqdm(reader):\n\u001b[1;32m      9\u001b[0m     count \u001b[38;5;241m+\u001b[39m\u001b[38;5;241m=\u001b[39m \u001b[38;5;241m1\u001b[39m\n\u001b[1;32m     10\u001b[0m     \u001b[38;5;28;01mtry\u001b[39;00m:\n",
      "File \u001b[0;32m/data/dataRapide/gabriel/git/DDPF/Detection/dtvenv/lib/python3.8/site-packages/tqdm/std.py:1181\u001b[0m, in \u001b[0;36mtqdm.__iter__\u001b[0;34m(self)\u001b[0m\n\u001b[1;32m   1178\u001b[0m time \u001b[38;5;241m=\u001b[39m \u001b[38;5;28mself\u001b[39m\u001b[38;5;241m.\u001b[39m_time\n\u001b[1;32m   1180\u001b[0m \u001b[38;5;28;01mtry\u001b[39;00m:\n\u001b[0;32m-> 1181\u001b[0m     \u001b[38;5;28;01mfor\u001b[39;00m obj \u001b[38;5;129;01min\u001b[39;00m iterable:\n\u001b[1;32m   1182\u001b[0m         \u001b[38;5;28;01myield\u001b[39;00m obj\n\u001b[1;32m   1183\u001b[0m         \u001b[38;5;66;03m# Update and possibly print the progressbar.\u001b[39;00m\n\u001b[1;32m   1184\u001b[0m         \u001b[38;5;66;03m# Note: does not call self.update(1) for speed optimisation.\u001b[39;00m\n",
      "File \u001b[0;32m/data/dataRapide/gabriel/git/DDPF/Detection/dtvenv/lib/python3.8/site-packages/bioc/biocxml/decoder.py:149\u001b[0m, in \u001b[0;36mBioCXMLDocumentReader.__next__\u001b[0;34m(self)\u001b[0m\n\u001b[1;32m    147\u001b[0m \u001b[38;5;28;01melse\u001b[39;00m:\n\u001b[1;32m    148\u001b[0m     document \u001b[38;5;241m=\u001b[39m \u001b[38;5;28mself\u001b[39m\u001b[38;5;241m.\u001b[39m__document\n\u001b[0;32m--> 149\u001b[0m     \u001b[38;5;28;43mself\u001b[39;49m\u001b[38;5;241;43m.\u001b[39;49m\u001b[43m__read\u001b[49m\u001b[43m(\u001b[49m\u001b[43m)\u001b[49m\n\u001b[1;32m    150\u001b[0m     \u001b[38;5;28;01mreturn\u001b[39;00m document\n",
      "File \u001b[0;32m/data/dataRapide/gabriel/git/DDPF/Detection/dtvenv/lib/python3.8/site-packages/bioc/biocxml/decoder.py:183\u001b[0m, in \u001b[0;36mBioCXMLDocumentReader.__read\u001b[0;34m(self)\u001b[0m\n\u001b[1;32m    181\u001b[0m \u001b[38;5;28;01mif\u001b[39;00m event \u001b[38;5;241m==\u001b[39m \u001b[38;5;124m'\u001b[39m\u001b[38;5;124mstart\u001b[39m\u001b[38;5;124m'\u001b[39m:\n\u001b[1;32m    182\u001b[0m     \u001b[38;5;28;01mif\u001b[39;00m elem\u001b[38;5;241m.\u001b[39mtag \u001b[38;5;241m==\u001b[39m \u001b[38;5;124m'\u001b[39m\u001b[38;5;124mpassage\u001b[39m\u001b[38;5;124m'\u001b[39m:\n\u001b[0;32m--> 183\u001b[0m         \u001b[38;5;28;43mself\u001b[39;49m\u001b[38;5;241;43m.\u001b[39;49m\u001b[43m__passage\u001b[49m \u001b[38;5;241m=\u001b[39m BioCPassage()\n\u001b[1;32m    184\u001b[0m         \u001b[38;5;28mself\u001b[39m\u001b[38;5;241m.\u001b[39m__state \u001b[38;5;241m=\u001b[39m \u001b[38;5;241m3\u001b[39m\n\u001b[1;32m    185\u001b[0m     \u001b[38;5;28;01melif\u001b[39;00m elem\u001b[38;5;241m.\u001b[39mtag \u001b[38;5;241m==\u001b[39m \u001b[38;5;124m'\u001b[39m\u001b[38;5;124mannotation\u001b[39m\u001b[38;5;124m'\u001b[39m:\n",
      "\u001b[0;31mKeyboardInterrupt\u001b[0m: "
     ]
    }
   ],
   "source": [
    "from bioc import biocxml\n",
    "from tqdm import tqdm\n",
    "# read from a file\n",
    "count = 0\n",
    "with biocxml.iterparse(pubmed_filename) as reader:\n",
    "    collection_info = reader.get_collection_info()\n",
    "    print(dir(reader))\n",
    "    for document in tqdm(reader):\n",
    "        count += 1\n",
    "        try:\n",
    "            to_save = DocToText(document)\n",
    "            if to_save[0] is not None and len(to_save[0].split(\"-\"))>1:\n",
    "                with open(path_to_documents+str(to_save[0])+'.txt', 'w') as f:\n",
    "                    f.write(to_save[1])\n",
    "        except:\n",
    "            print('Error in '+str(i))"
   ]
  },
  {
   "cell_type": "code",
   "execution_count": 4,
   "id": "36527a89",
   "metadata": {
    "scrolled": true
   },
   "outputs": [
    {
     "name": "stderr",
     "output_type": "stream",
     "text": [
      "17419it [01:06, 261.45it/s]\n"
     ]
    }
   ],
   "source": [
    "import glob\n",
    "import os\n",
    "from tqdm import tqdm\n",
    "count = 0\n",
    "for filepath in tqdm(glob.iglob(path_to_documents+'/*.txt')):\n",
    "    path_name = str(filepath)\n",
    "    directory = path_to_documents + '-'.join(path_name.split('/')[-1].replace(\".txt\",\"\").split(\"-\")[:2]) +\"/\"\n",
    "    if not os.path.exists(directory):\n",
    "        os.makedirs(directory)\n",
    "    os.system(\"mv \" + path_name + \" \" +directory+path_name.split('/')[-1])"
   ]
  },
  {
   "cell_type": "markdown",
   "id": "2927fe12",
   "metadata": {},
   "source": [
    "## PubMed from CORD-19"
   ]
  },
  {
   "cell_type": "code",
   "execution_count": 19,
   "id": "84a2ad87",
   "metadata": {},
   "outputs": [],
   "source": [
    "import csv\n",
    "import os\n",
    "import json\n",
    "from collections import defaultdict\n",
    "from dateutil import parser"
   ]
  },
  {
   "cell_type": "code",
   "execution_count": 6,
   "id": "93f83a0e",
   "metadata": {},
   "outputs": [],
   "source": [
    "def save_in_directory(filename, filecontent, directory):\n",
    "    if not os.path.exists(directory):\n",
    "        os.makedirs(directory)\n",
    "    with open(directory+filename+'.txt', 'w') as f:\n",
    "        f.write(filecontent)"
   ]
  },
  {
   "cell_type": "code",
   "execution_count": 7,
   "id": "88b4096f",
   "metadata": {},
   "outputs": [],
   "source": [
    "import glob\n",
    "import os\n",
    "from tqdm import tqdm\n",
    "count = 0\n",
    "def save_article(pubtime, abstract, full_text, folder, cord_uid):\n",
    "    filename = pubtime+\"-\"+cord_uid\n",
    "    save_in_directory(filename, abstract,folder+\"abstract/\"+pubtime+\"/\")\n",
    "    save_in_directory(filename, full_text,folder+\"fullpaper/\"+pubtime+\"/\")"
   ]
  },
  {
   "cell_type": "code",
   "execution_count": 8,
   "id": "806d8673",
   "metadata": {},
   "outputs": [],
   "source": [
    "def get_published_time(timestr):\n",
    "    try:\n",
    "        date = parser.parse(timestr)\n",
    "        year = date.strftime(\"%Y\")   # Four-digit year\n",
    "        month = date.month  # Full month name\n",
    "        return str(year) + \"-\" + str(month)\n",
    "    except:\n",
    "        return None"
   ]
  },
  {
   "cell_type": "code",
   "execution_count": 24,
   "id": "60462381",
   "metadata": {},
   "outputs": [
    {
     "name": "stderr",
     "output_type": "stream",
     "text": [
      "969488it [01:04, 14973.64it/s]"
     ]
    },
    {
     "name": "stdout",
     "output_type": "stream",
     "text": [
      "2019-12\n"
     ]
    },
    {
     "name": "stderr",
     "output_type": "stream",
     "text": [
      "\n"
     ]
    }
   ],
   "source": [
    "# open the file\n",
    "with open(cordmed_filename + \"metadata.csv\") as f_in:\n",
    "    reader = csv.DictReader(f_in)\n",
    "    for row in tqdm(reader):\n",
    "        # access some metadata\n",
    "        pubtime = get_published_time(row[ 'publish_time'])\n",
    "        if pubtime is None:\n",
    "            continue\n",
    "        cord_uid = row['cord_uid']\n",
    "        title = row['title']\n",
    "        abstract = row['abstract']\n",
    "        if(cord_uid == \"h5hq6xmm\"):\n",
    "            print(get_published_time(row['publish_time']))\n",
    "            break"
   ]
  },
  {
   "cell_type": "code",
   "execution_count": 102,
   "id": "0857973a",
   "metadata": {},
   "outputs": [],
   "source": [
    "# open the file\n",
    "with open(cordmed_filename + \"metadata.csv\") as f_in:\n",
    "    reader = csv.DictReader(f_in)\n",
    "    for row in reader:\n",
    "        # access some metadata\n",
    "        pubtime = get_published_time(row[ 'publish_time'])\n",
    "        if pubtime is None:\n",
    "            continue\n",
    "        cord_uid = row['cord_uid']\n",
    "        title = row['title']\n",
    "        abstract = row['abstract']\n",
    "\n",
    "        # access the full text (if available) for Intro\n",
    "        full_text = \"\"\n",
    "        if row['pdf_json_files']:\n",
    "            for json_path in row['pdf_json_files'].split('; '):\n",
    "                with open(cordmed_filename+json_path) as f_json:\n",
    "                    full_text_dict = json.load(f_json)\n",
    "                    if(len(full_text_dict['body_text']) > 0):\n",
    "                        # grab full text from *some* version of the full text\n",
    "                        for paragraph_dict in full_text_dict['body_text']:\n",
    "                            paragraph_text = paragraph_dict['text']\n",
    "                            section_name = paragraph_dict['section']\n",
    "                            full_text += section_name + \"\\n\" + paragraph_text + \"\\n\"\n",
    "                        break\n",
    "        save_article(pubtime, abstract, full_text, path_to_documents, cord_uid)"
   ]
  },
  {
   "cell_type": "code",
   "execution_count": 136,
   "id": "34b0e8c0",
   "metadata": {},
   "outputs": [],
   "source": [
    "from gatenlp import Document"
   ]
  },
  {
   "cell_type": "code",
   "execution_count": 137,
   "id": "ab176de2",
   "metadata": {},
   "outputs": [],
   "source": [
    "from gatenlp import Document\n",
    "from gatenlp.gateworker import GateWorker\n",
    "gs = GateWorker(start=False, auth_token=\"1234\")"
   ]
  },
  {
   "cell_type": "code",
   "execution_count": 141,
   "id": "70dec08b",
   "metadata": {},
   "outputs": [
    {
     "name": "stderr",
     "output_type": "stream",
     "text": [
      "728it [00:00, 1119.47it/s]\n"
     ]
    }
   ],
   "source": [
    "import glob\n",
    "import os\n",
    "from tqdm import tqdm\n",
    "count = 0\n",
    "for filepath in tqdm(glob.iglob(path_to_documents+'/fullpaper/2019-12/*.txt')):\n",
    "    filename = str(filepath).split(\"/\")[-1].replace(\".txt\",\"\")\n",
    "    with open(filepath, \"r\") as f:\n",
    "        pdoc = gs.worker.createDocument(f.read())\n",
    "        pdoc.setName(filename)"
   ]
  },
  {
   "cell_type": "code",
   "execution_count": 123,
   "id": "59ec9dba",
   "metadata": {},
   "outputs": [
    {
     "ename": "AttributeError",
     "evalue": "'function' object has no attribute '_get_object_id'",
     "output_type": "error",
     "traceback": [
      "\u001b[0;31m---------------------------------------------------------------------------\u001b[0m",
      "\u001b[0;31mAttributeError\u001b[0m                            Traceback (most recent call last)",
      "Cell \u001b[0;32mIn[123], line 1\u001b[0m\n\u001b[0;32m----> 1\u001b[0m \u001b[43mgs\u001b[49m\u001b[38;5;241;43m.\u001b[39;49m\u001b[43mcreateDocument\u001b[49m\u001b[43m(\u001b[49m\u001b[43mdoc\u001b[49m\u001b[43m)\u001b[49m\n",
      "File \u001b[0;32m/data/dataRapide/gabriel/git/DDPF/Detection/dtvenv/lib/python3.8/site-packages/gatenlp/gateworker/gateworker.py:725\u001b[0m, in \u001b[0;36mGateWorker.createDocument\u001b[0;34m(self, content)\u001b[0m\n\u001b[1;32m    715\u001b[0m \u001b[38;5;28;01mdef\u001b[39;00m \u001b[38;5;21mcreateDocument\u001b[39m(\u001b[38;5;28mself\u001b[39m, content: \u001b[38;5;28mstr\u001b[39m) \u001b[38;5;241m-\u001b[39m\u001b[38;5;241m>\u001b[39m py4j\u001b[38;5;241m.\u001b[39mjava_gateway\u001b[38;5;241m.\u001b[39mJavaObject:\n\u001b[1;32m    716\u001b[0m \u001b[38;5;250m    \u001b[39m\u001b[38;5;124;03m\"\"\"\u001b[39;00m\n\u001b[1;32m    717\u001b[0m \u001b[38;5;124;03m    Create a Java GATE document from the content string and return a handle to it.\u001b[39;00m\n\u001b[1;32m    718\u001b[0m \n\u001b[0;32m   (...)\u001b[0m\n\u001b[1;32m    723\u001b[0m \u001b[38;5;124;03m        handle to Java GATE document\u001b[39;00m\n\u001b[1;32m    724\u001b[0m \u001b[38;5;124;03m    \"\"\"\u001b[39;00m\n\u001b[0;32m--> 725\u001b[0m     \u001b[38;5;28;01mreturn\u001b[39;00m \u001b[38;5;28;43mself\u001b[39;49m\u001b[38;5;241;43m.\u001b[39;49m\u001b[43mworker\u001b[49m\u001b[38;5;241;43m.\u001b[39;49m\u001b[43mcreateDocument\u001b[49m\u001b[43m(\u001b[49m\u001b[43mcontent\u001b[49m\u001b[43m)\u001b[49m\n",
      "File \u001b[0;32m/data/dataRapide/gabriel/git/DDPF/Detection/dtvenv/lib/python3.8/site-packages/py4j/java_gateway.py:1314\u001b[0m, in \u001b[0;36mJavaMember.__call__\u001b[0;34m(self, *args)\u001b[0m\n\u001b[1;32m   1313\u001b[0m \u001b[38;5;28;01mdef\u001b[39;00m \u001b[38;5;21m__call__\u001b[39m(\u001b[38;5;28mself\u001b[39m, \u001b[38;5;241m*\u001b[39margs):\n\u001b[0;32m-> 1314\u001b[0m     args_command, temp_args \u001b[38;5;241m=\u001b[39m \u001b[38;5;28;43mself\u001b[39;49m\u001b[38;5;241;43m.\u001b[39;49m\u001b[43m_build_args\u001b[49m\u001b[43m(\u001b[49m\u001b[38;5;241;43m*\u001b[39;49m\u001b[43margs\u001b[49m\u001b[43m)\u001b[49m\n\u001b[1;32m   1316\u001b[0m     command \u001b[38;5;241m=\u001b[39m proto\u001b[38;5;241m.\u001b[39mCALL_COMMAND_NAME \u001b[38;5;241m+\u001b[39m\\\n\u001b[1;32m   1317\u001b[0m         \u001b[38;5;28mself\u001b[39m\u001b[38;5;241m.\u001b[39mcommand_header \u001b[38;5;241m+\u001b[39m\\\n\u001b[1;32m   1318\u001b[0m         args_command \u001b[38;5;241m+\u001b[39m\\\n\u001b[1;32m   1319\u001b[0m         proto\u001b[38;5;241m.\u001b[39mEND_COMMAND_PART\n\u001b[1;32m   1321\u001b[0m     answer \u001b[38;5;241m=\u001b[39m \u001b[38;5;28mself\u001b[39m\u001b[38;5;241m.\u001b[39mgateway_client\u001b[38;5;241m.\u001b[39msend_command(command)\n",
      "File \u001b[0;32m/data/dataRapide/gabriel/git/DDPF/Detection/dtvenv/lib/python3.8/site-packages/py4j/java_gateway.py:1283\u001b[0m, in \u001b[0;36mJavaMember._build_args\u001b[0;34m(self, *args)\u001b[0m\n\u001b[1;32m   1279\u001b[0m     new_args \u001b[38;5;241m=\u001b[39m args\n\u001b[1;32m   1280\u001b[0m     temp_args \u001b[38;5;241m=\u001b[39m []\n\u001b[1;32m   1282\u001b[0m args_command \u001b[38;5;241m=\u001b[39m \u001b[38;5;124m\"\u001b[39m\u001b[38;5;124m\"\u001b[39m\u001b[38;5;241m.\u001b[39mjoin(\n\u001b[0;32m-> 1283\u001b[0m     [get_command_part(arg, \u001b[38;5;28mself\u001b[39m\u001b[38;5;241m.\u001b[39mpool) \u001b[38;5;28;01mfor\u001b[39;00m arg \u001b[38;5;129;01min\u001b[39;00m new_args])\n\u001b[1;32m   1285\u001b[0m \u001b[38;5;28;01mreturn\u001b[39;00m args_command, temp_args\n",
      "File \u001b[0;32m/data/dataRapide/gabriel/git/DDPF/Detection/dtvenv/lib/python3.8/site-packages/py4j/java_gateway.py:1283\u001b[0m, in \u001b[0;36m<listcomp>\u001b[0;34m(.0)\u001b[0m\n\u001b[1;32m   1279\u001b[0m     new_args \u001b[38;5;241m=\u001b[39m args\n\u001b[1;32m   1280\u001b[0m     temp_args \u001b[38;5;241m=\u001b[39m []\n\u001b[1;32m   1282\u001b[0m args_command \u001b[38;5;241m=\u001b[39m \u001b[38;5;124m\"\u001b[39m\u001b[38;5;124m\"\u001b[39m\u001b[38;5;241m.\u001b[39mjoin(\n\u001b[0;32m-> 1283\u001b[0m     [\u001b[43mget_command_part\u001b[49m\u001b[43m(\u001b[49m\u001b[43marg\u001b[49m\u001b[43m,\u001b[49m\u001b[43m \u001b[49m\u001b[38;5;28;43mself\u001b[39;49m\u001b[38;5;241;43m.\u001b[39;49m\u001b[43mpool\u001b[49m\u001b[43m)\u001b[49m \u001b[38;5;28;01mfor\u001b[39;00m arg \u001b[38;5;129;01min\u001b[39;00m new_args])\n\u001b[1;32m   1285\u001b[0m \u001b[38;5;28;01mreturn\u001b[39;00m args_command, temp_args\n",
      "File \u001b[0;32m/data/dataRapide/gabriel/git/DDPF/Detection/dtvenv/lib/python3.8/site-packages/py4j/protocol.py:298\u001b[0m, in \u001b[0;36mget_command_part\u001b[0;34m(parameter, python_proxy_pool)\u001b[0m\n\u001b[1;32m    296\u001b[0m         command_part \u001b[38;5;241m+\u001b[39m\u001b[38;5;241m=\u001b[39m \u001b[38;5;124m\"\u001b[39m\u001b[38;5;124m;\u001b[39m\u001b[38;5;124m\"\u001b[39m \u001b[38;5;241m+\u001b[39m interface\n\u001b[1;32m    297\u001b[0m \u001b[38;5;28;01melse\u001b[39;00m:\n\u001b[0;32m--> 298\u001b[0m     command_part \u001b[38;5;241m=\u001b[39m REFERENCE_TYPE \u001b[38;5;241m+\u001b[39m \u001b[43mparameter\u001b[49m\u001b[38;5;241;43m.\u001b[39;49m\u001b[43m_get_object_id\u001b[49m()\n\u001b[1;32m    300\u001b[0m command_part \u001b[38;5;241m+\u001b[39m\u001b[38;5;241m=\u001b[39m \u001b[38;5;124m\"\u001b[39m\u001b[38;5;130;01m\\n\u001b[39;00m\u001b[38;5;124m\"\u001b[39m\n\u001b[1;32m    302\u001b[0m \u001b[38;5;28;01mreturn\u001b[39;00m command_part\n",
      "\u001b[0;31mAttributeError\u001b[0m: 'function' object has no attribute '_get_object_id'"
     ]
    }
   ],
   "source": [
    "gs.worker"
   ]
  },
  {
   "cell_type": "code",
   "execution_count": null,
   "id": "e3168255",
   "metadata": {},
   "outputs": [],
   "source": []
  }
 ],
 "metadata": {
  "kernelspec": {
   "display_name": "dtvenv",
   "language": "python",
   "name": "dtvenv"
  },
  "language_info": {
   "codemirror_mode": {
    "name": "ipython",
    "version": 3
   },
   "file_extension": ".py",
   "mimetype": "text/x-python",
   "name": "python",
   "nbconvert_exporter": "python",
   "pygments_lexer": "ipython3",
   "version": "3.8.10"
  }
 },
 "nbformat": 4,
 "nbformat_minor": 5
}
