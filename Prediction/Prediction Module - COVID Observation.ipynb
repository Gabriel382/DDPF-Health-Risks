{
 "cells": [
  {
   "cell_type": "markdown",
   "id": "f6d84d91",
   "metadata": {},
   "source": [
    "# Prediction Module\n",
    "\n",
    "    The main goal of the prediction module is to use the PropaPhenKG+ and the observations found in the detection module to cluster the observations into similar phenomenon clusters"
   ]
  },
  {
   "cell_type": "code",
   "execution_count": 1,
   "id": "110efc56",
   "metadata": {},
   "outputs": [],
   "source": [
    "%load_ext autoreload\n",
    "%autoreload 2"
   ]
  },
  {
   "cell_type": "markdown",
   "id": "aa0ceac9",
   "metadata": {},
   "source": [
    "## Libraries"
   ]
  },
  {
   "cell_type": "markdown",
   "id": "50975ef2",
   "metadata": {},
   "source": [
    "### Installing"
   ]
  },
  {
   "cell_type": "code",
   "execution_count": 2,
   "id": "c1d1a692",
   "metadata": {},
   "outputs": [],
   "source": [
    "#!pip install pandas\n",
    "#!pip install tqdm\n",
    "#!pip install -U scikit-learn\n",
    "#!pip install matplotlib"
   ]
  },
  {
   "cell_type": "markdown",
   "id": "65d43728",
   "metadata": {},
   "source": [
    "### Standard"
   ]
  },
  {
   "cell_type": "code",
   "execution_count": 3,
   "id": "3dc96c6b",
   "metadata": {},
   "outputs": [],
   "source": [
    "import pandas as pd\n",
    "import numpy as np\n",
    "from tqdm import tqdm\n",
    "import glob"
   ]
  },
  {
   "cell_type": "markdown",
   "id": "7438eb90",
   "metadata": {},
   "source": [
    "### Custom libraries"
   ]
  },
  {
   "cell_type": "code",
   "execution_count": null,
   "id": "7296f019",
   "metadata": {},
   "outputs": [],
   "source": []
  },
  {
   "cell_type": "markdown",
   "id": "6aaa39dd",
   "metadata": {},
   "source": [
    "## Globals"
   ]
  },
  {
   "cell_type": "code",
   "execution_count": 4,
   "id": "55a0d020",
   "metadata": {},
   "outputs": [],
   "source": [
    "path_to_kb_gazetteer = \"../Detection/data/gazetteers/kbgazetteer.csv\"\n",
    "path_to_netwoork_gazetteer = \"../Detection/data/gazetteers/world_gazetteer.csv\"\n",
    "path_to_observationcsv = \"../Detection/data/csv/observations_phrase.csv\"\n",
    "path_to_worldkg_nodes = \"../Description/data/worldkg_nodes.csv\""
   ]
  },
  {
   "cell_type": "code",
   "execution_count": 5,
   "id": "dfa851b1",
   "metadata": {},
   "outputs": [],
   "source": [
    "\n",
    "path_to_journalobservationcsv = \"../data/neo4j/observations_journal.csv\"\n",
    "path_to_medicalobservationcsv = \"../data/neo4j/observations_medical.csv\"\n",
    "path_to_socialobservationcsv = \"../data/neo4j/observations_social.csv\""
   ]
  },
  {
   "cell_type": "markdown",
   "id": "827b7794",
   "metadata": {},
   "source": [
    "## Observation Embedding\n",
    "\n",
    "    It should get the observations and the PropaPhenKG+ to transform the observations into observation vectors"
   ]
  },
  {
   "cell_type": "markdown",
   "id": "794beaf2",
   "metadata": {},
   "source": [
    "### Loading Observations"
   ]
  },
  {
   "cell_type": "code",
   "execution_count": 6,
   "id": "f2c3123a",
   "metadata": {},
   "outputs": [],
   "source": [
    "df_observations_journal = pd.read_csv(path_to_journalobservationcsv)\n",
    "df_observations_medical = pd.read_csv(path_to_medicalobservationcsv)\n",
    "df_observations_social = pd.read_csv(path_to_socialobservationcsv)\n",
    "df_observations_journal['System_Name'] = 'Journal_' + df_observations_journal['System_Name'].astype(str)\n",
    "df_observations_medical['System_Name'] = 'Medical_' + df_observations_medical['System_Name'].astype(str)\n",
    "df_observations_social['System_Name'] = 'Social_' + df_observations_social['System_Name'].astype(str)"
   ]
  },
  {
   "cell_type": "code",
   "execution_count": 7,
   "id": "b7624066",
   "metadata": {},
   "outputs": [],
   "source": [
    "df_observations = pd.concat([df_observations_journal,df_observations_medical], ignore_index=True)\n",
    "df_observations = pd.concat([df_observations,df_observations_social], ignore_index=True)"
   ]
  },
  {
   "cell_type": "code",
   "execution_count": 8,
   "id": "fed905bc",
   "metadata": {},
   "outputs": [
    {
     "data": {
      "text/html": [
       "<div>\n",
       "<style scoped>\n",
       "    .dataframe tbody tr th:only-of-type {\n",
       "        vertical-align: middle;\n",
       "    }\n",
       "\n",
       "    .dataframe tbody tr th {\n",
       "        vertical-align: top;\n",
       "    }\n",
       "\n",
       "    .dataframe thead th {\n",
       "        text-align: right;\n",
       "    }\n",
       "</style>\n",
       "<table border=\"1\" class=\"dataframe\">\n",
       "  <thead>\n",
       "    <tr style=\"text-align: right;\">\n",
       "      <th></th>\n",
       "      <th>Unnamed: 0</th>\n",
       "      <th>System_Name</th>\n",
       "      <th>n.id</th>\n",
       "      <th>c.name</th>\n",
       "      <th>c.id</th>\n",
       "      <th>intensity</th>\n",
       "    </tr>\n",
       "  </thead>\n",
       "  <tbody>\n",
       "    <tr>\n",
       "      <th>0</th>\n",
       "      <td>0</td>\n",
       "      <td>Journal_\"China\"</td>\n",
       "      <td>wkg:424313582</td>\n",
       "      <td>['Genus: Coronavirus', 'virus', 'host', 'year'...</td>\n",
       "      <td>['A23448874', 'A4387104', 'A18644523', 'A71838...</td>\n",
       "      <td>[6, 14, 5, 5, 6, 7, 6, 6, 6, 6, 9, 14, 6, 7, 7...</td>\n",
       "    </tr>\n",
       "    <tr>\n",
       "      <th>1</th>\n",
       "      <td>1</td>\n",
       "      <td>Journal_\"India\"</td>\n",
       "      <td>wkg:424314145</td>\n",
       "      <td>['viruses', 'viruses', 'bat', 'recent', 'state...</td>\n",
       "      <td>['A18631884', 'A8396339', 'A18627674', 'A18692...</td>\n",
       "      <td>[16, 16, 6, 6, 5, 5, 5, 5, 6, 14, 6, 5, 9, 13,...</td>\n",
       "    </tr>\n",
       "    <tr>\n",
       "      <th>2</th>\n",
       "      <td>2</td>\n",
       "      <td>Journal_\"Japan\"</td>\n",
       "      <td>wkg:424313451</td>\n",
       "      <td>['CDISC ADAS-Cog - Orientation: Date', 'CDISC ...</td>\n",
       "      <td>['C3639227', 'A21413049']</td>\n",
       "      <td>[6, 6]</td>\n",
       "    </tr>\n",
       "    <tr>\n",
       "      <th>3</th>\n",
       "      <td>3</td>\n",
       "      <td>Journal_\"United States\"</td>\n",
       "      <td>wkg:424317935</td>\n",
       "      <td>['University', 'University', 'University', 'ne...</td>\n",
       "      <td>['A2887795', 'A0130305', 'A10762625', 'A185809...</td>\n",
       "      <td>[5, 5, 5, 5]</td>\n",
       "    </tr>\n",
       "    <tr>\n",
       "      <th>4</th>\n",
       "      <td>0</td>\n",
       "      <td>Medical_\"Canada\"</td>\n",
       "      <td>wkg:424313760</td>\n",
       "      <td>['CDISC ADAS-Cog - Naming Objects and Fingers:...</td>\n",
       "      <td>['A21402131', 'C0332281', 'A26673288', 'A31804...</td>\n",
       "      <td>[13, 7, 7, 7, 6, 6, 13, 17, 7, 6, 6, 6, 6, 7, ...</td>\n",
       "    </tr>\n",
       "    <tr>\n",
       "      <th>...</th>\n",
       "      <td>...</td>\n",
       "      <td>...</td>\n",
       "      <td>...</td>\n",
       "      <td>...</td>\n",
       "      <td>...</td>\n",
       "      <td>...</td>\n",
       "    </tr>\n",
       "    <tr>\n",
       "      <th>57</th>\n",
       "      <td>34</td>\n",
       "      <td>Social_\"Ukraine\"</td>\n",
       "      <td>wkg:1648342273</td>\n",
       "      <td>['CDISC ADAS-Cog - Naming Objects and Fingers:...</td>\n",
       "      <td>['A21402131', 'C3639180', 'A7883147']</td>\n",
       "      <td>[20, 20, 30]</td>\n",
       "    </tr>\n",
       "    <tr>\n",
       "      <th>58</th>\n",
       "      <td>35</td>\n",
       "      <td>Social_\"United Kingdom\"</td>\n",
       "      <td>wkg:838090640</td>\n",
       "      <td>['Times', 'woman', '6', '6', 'confirmed', 'via...</td>\n",
       "      <td>['A19654950', 'A18631976', 'A8317211', 'C53999...</td>\n",
       "      <td>[25, 28, 26, 26, 24, 33, 39, 54, 29, 25, 33, 3...</td>\n",
       "    </tr>\n",
       "    <tr>\n",
       "      <th>59</th>\n",
       "      <td>36</td>\n",
       "      <td>Social_\"United States\"</td>\n",
       "      <td>wkg:424317935</td>\n",
       "      <td>['CDISC ADAS-Cog - Naming Objects and Fingers:...</td>\n",
       "      <td>['A21401148', 'C1561579', 'A20948640', 'A00775...</td>\n",
       "      <td>[97, 90, 37, 23, 24, 47, 201, 39, 29, 27, 23, ...</td>\n",
       "    </tr>\n",
       "    <tr>\n",
       "      <th>60</th>\n",
       "      <td>37</td>\n",
       "      <td>Social_\"Venezuela\"</td>\n",
       "      <td>wkg:424311890</td>\n",
       "      <td>['CDISC ADAS-Cog - Naming Objects and Fingers:...</td>\n",
       "      <td>['A21419034', 'A0320232', 'A8312915', 'A328107...</td>\n",
       "      <td>[21, 25, 21, 21, 21, 25, 29, 21, 21, 21, 21]</td>\n",
       "    </tr>\n",
       "    <tr>\n",
       "      <th>61</th>\n",
       "      <td>38</td>\n",
       "      <td>Social_\"Vietnam\"</td>\n",
       "      <td>wkg:424298150</td>\n",
       "      <td>['virus', 'virus', 'Animal inoculation: virus'...</td>\n",
       "      <td>['A18637092', 'C0319157', 'A22841615', 'A78831...</td>\n",
       "      <td>[24, 24, 24, 88, 24, 24, 43, 24, 24, 24, 43, 2...</td>\n",
       "    </tr>\n",
       "  </tbody>\n",
       "</table>\n",
       "<p>62 rows × 6 columns</p>\n",
       "</div>"
      ],
      "text/plain": [
       "    Unnamed: 0              System_Name            n.id  \\\n",
       "0            0          Journal_\"China\"   wkg:424313582   \n",
       "1            1          Journal_\"India\"   wkg:424314145   \n",
       "2            2          Journal_\"Japan\"   wkg:424313451   \n",
       "3            3  Journal_\"United States\"   wkg:424317935   \n",
       "4            0         Medical_\"Canada\"   wkg:424313760   \n",
       "..         ...                      ...             ...   \n",
       "57          34         Social_\"Ukraine\"  wkg:1648342273   \n",
       "58          35  Social_\"United Kingdom\"   wkg:838090640   \n",
       "59          36   Social_\"United States\"   wkg:424317935   \n",
       "60          37       Social_\"Venezuela\"   wkg:424311890   \n",
       "61          38         Social_\"Vietnam\"   wkg:424298150   \n",
       "\n",
       "                                               c.name  \\\n",
       "0   ['Genus: Coronavirus', 'virus', 'host', 'year'...   \n",
       "1   ['viruses', 'viruses', 'bat', 'recent', 'state...   \n",
       "2   ['CDISC ADAS-Cog - Orientation: Date', 'CDISC ...   \n",
       "3   ['University', 'University', 'University', 'ne...   \n",
       "4   ['CDISC ADAS-Cog - Naming Objects and Fingers:...   \n",
       "..                                                ...   \n",
       "57  ['CDISC ADAS-Cog - Naming Objects and Fingers:...   \n",
       "58  ['Times', 'woman', '6', '6', 'confirmed', 'via...   \n",
       "59  ['CDISC ADAS-Cog - Naming Objects and Fingers:...   \n",
       "60  ['CDISC ADAS-Cog - Naming Objects and Fingers:...   \n",
       "61  ['virus', 'virus', 'Animal inoculation: virus'...   \n",
       "\n",
       "                                                 c.id  \\\n",
       "0   ['A23448874', 'A4387104', 'A18644523', 'A71838...   \n",
       "1   ['A18631884', 'A8396339', 'A18627674', 'A18692...   \n",
       "2                           ['C3639227', 'A21413049']   \n",
       "3   ['A2887795', 'A0130305', 'A10762625', 'A185809...   \n",
       "4   ['A21402131', 'C0332281', 'A26673288', 'A31804...   \n",
       "..                                                ...   \n",
       "57              ['A21402131', 'C3639180', 'A7883147']   \n",
       "58  ['A19654950', 'A18631976', 'A8317211', 'C53999...   \n",
       "59  ['A21401148', 'C1561579', 'A20948640', 'A00775...   \n",
       "60  ['A21419034', 'A0320232', 'A8312915', 'A328107...   \n",
       "61  ['A18637092', 'C0319157', 'A22841615', 'A78831...   \n",
       "\n",
       "                                            intensity  \n",
       "0   [6, 14, 5, 5, 6, 7, 6, 6, 6, 6, 9, 14, 6, 7, 7...  \n",
       "1   [16, 16, 6, 6, 5, 5, 5, 5, 6, 14, 6, 5, 9, 13,...  \n",
       "2                                              [6, 6]  \n",
       "3                                        [5, 5, 5, 5]  \n",
       "4   [13, 7, 7, 7, 6, 6, 13, 17, 7, 6, 6, 6, 6, 7, ...  \n",
       "..                                                ...  \n",
       "57                                       [20, 20, 30]  \n",
       "58  [25, 28, 26, 26, 24, 33, 39, 54, 29, 25, 33, 3...  \n",
       "59  [97, 90, 37, 23, 24, 47, 201, 39, 29, 27, 23, ...  \n",
       "60       [21, 25, 21, 21, 21, 25, 29, 21, 21, 21, 21]  \n",
       "61  [24, 24, 24, 88, 24, 24, 43, 24, 24, 24, 43, 2...  \n",
       "\n",
       "[62 rows x 6 columns]"
      ]
     },
     "execution_count": 8,
     "metadata": {},
     "output_type": "execute_result"
    }
   ],
   "source": [
    "df_observations"
   ]
  },
  {
   "cell_type": "code",
   "execution_count": 9,
   "id": "29774aa9",
   "metadata": {
    "scrolled": true
   },
   "outputs": [],
   "source": [
    "def obsToList(obs,isint=False):\n",
    "    newlist = list([x.replace(\"'\",'') for x in\n",
    "        map(str.strip, obs.strip('][').replace('\"', '').replace('\"', \"\").split(','))])\n",
    "    if isint:\n",
    "        return [int(x) for x in newlist]\n",
    "    else:\n",
    "        return newlist"
   ]
  },
  {
   "cell_type": "code",
   "execution_count": 10,
   "id": "e5b51b61",
   "metadata": {},
   "outputs": [],
   "source": [
    "def getTopMax(df_observations, top=10):    \n",
    "    for index, row in df_observations.iterrows():\n",
    "        newsort_value = []\n",
    "        newsort_names = []\n",
    "        newsort_id = []\n",
    "        for (x,y,z) in zip( obsToList(row['c.id']),obsToList(row['intensity'],True),obsToList(row['c.name'])):\n",
    "            if z not in newsort_names:\n",
    "                newsort_names.append(z)\n",
    "                newsort_value.append(y)\n",
    "                newsort_id.append(x)\n",
    "        newsort_names = [x for _, x in sorted(zip(newsort_value, newsort_names ))]\n",
    "        newsort_id = [x for _, x in sorted(zip(newsort_value, newsort_id ))]\n",
    "        newsort_value.sort()\n",
    "        df_observations.at[index,'c.id'] = str(newsort_id[-min(top,len(newsort_id)):])\n",
    "        df_observations.at[index,'intensity'] = str(newsort_value[-min(top,len(newsort_id)):])\n",
    "        df_observations.at[index,'c.name'] = str(newsort_names[-min(top,len(newsort_id)):])\n",
    "    return df_observations"
   ]
  },
  {
   "cell_type": "code",
   "execution_count": 11,
   "id": "4e19e1f4",
   "metadata": {},
   "outputs": [],
   "source": [
    "df_observations = getTopMax(df_observations,top=25)"
   ]
  },
  {
   "cell_type": "code",
   "execution_count": 12,
   "id": "de16e9c4",
   "metadata": {},
   "outputs": [
    {
     "data": {
      "text/plain": [
       "25"
      ]
     },
     "execution_count": 12,
     "metadata": {},
     "output_type": "execute_result"
    }
   ],
   "source": [
    "pd.set_option('display.max_rows', None)\n",
    "len(obsToList(df_observations.at[27,'c.name']))"
   ]
  },
  {
   "cell_type": "code",
   "execution_count": 13,
   "id": "cfab7c14",
   "metadata": {},
   "outputs": [
    {
     "data": {
      "text/plain": [
       "\"['CDISC ADAS-Cog - Naming Objects and Fingers: 8', 'Yersinia enterocolitica serogroup O:8', 'CDISC ADAS-Cog - Naming Objects and Fingers: 4', 'www', 'Flu', 'amp', 'CDISC ADAS-Cog - Naming Objects and Fingers: 5', 'CDISC ADAS-Cog - Naming Objects and Fingers: 1', 'Boucher JL. Nutrition care for hospitalized individuals with diabetes. Diabetes Spectrum 2005;18:34-38. Available at: http://spectrum.diabetesjournals.org/cgi/content/full/18/1/34 . Accessed July 29', 'outbreak', 'Coronavirus', 'Genus: Coronavirus', 'new', 'Chinese', 'Race: Chinese', 'CDISC ADAS-Cog - Naming Objects and Fingers: 2', 'cases', 'Source: Swift CS', 'Animal inoculation: virus', 'people', 'virus', 'https://github.com/geneontology/go-ontology/issues/22888', 'comments', 'coronavirus', 'Yersinia enterocolitica serogroup O:19']\""
      ]
     },
     "execution_count": 13,
     "metadata": {},
     "output_type": "execute_result"
    }
   ],
   "source": [
    "df_observations.at[27,'c.name']"
   ]
  },
  {
   "cell_type": "code",
   "execution_count": 14,
   "id": "b74f6786",
   "metadata": {},
   "outputs": [],
   "source": [
    "obs_dict = {}\n",
    "obs_set = set([])\n",
    "for index, row in df_observations.iterrows():\n",
    "    obs_dict[row['System_Name']] = obsToList(row['c.name'])\n",
    "    obs_set = obs_set.union(set(obs_dict[row['System_Name']]))\n",
    "place_set = list(obs_dict.keys())"
   ]
  },
  {
   "cell_type": "markdown",
   "id": "98863b51",
   "metadata": {},
   "source": [
    "### Embeddings"
   ]
  },
  {
   "cell_type": "code",
   "execution_count": 15,
   "id": "29e30959",
   "metadata": {},
   "outputs": [],
   "source": [
    "class ObservationEmbedding():\n",
    "    \n",
    "    def __init__(self, obs_dict):\n",
    "        self.obs_dict = obs_dict\n",
    "        \n",
    "    def binaryDictionaryEmbedding(self, dict_kb):\n",
    "        obs_matrix = np.zeros((len(obs_dict.keys()),len(dict_kb)))\n",
    "        for system in self.obs_dict.keys():\n",
    "            for kb_item in obs_dict[system]:\n",
    "                obs_matrix[dict_net[system],dict_kb[kb_item]] = 1\n",
    "        return obs_matrix"
   ]
  },
  {
   "cell_type": "code",
   "execution_count": 16,
   "id": "a951ad90",
   "metadata": {
    "scrolled": true
   },
   "outputs": [],
   "source": [
    "dict_kb = dict(zip(list(obs_set),range(len(obs_set))))"
   ]
  },
  {
   "cell_type": "code",
   "execution_count": 17,
   "id": "bd9ca5a9",
   "metadata": {},
   "outputs": [],
   "source": [
    "dict_net = dict(zip(list(df_observations['System_Name']),range(len(place_set))))"
   ]
  },
  {
   "cell_type": "code",
   "execution_count": 18,
   "id": "c8372b45",
   "metadata": {},
   "outputs": [],
   "source": [
    "#import sys\n",
    "#print(\"The size of the variable is:\",sys.getsizeof(obs_matrix), \"bytes.\")"
   ]
  },
  {
   "cell_type": "code",
   "execution_count": 19,
   "id": "ee510afa",
   "metadata": {},
   "outputs": [],
   "source": [
    "obsEmbedding = ObservationEmbedding(obs_dict)"
   ]
  },
  {
   "cell_type": "code",
   "execution_count": 20,
   "id": "2ff86d15",
   "metadata": {},
   "outputs": [],
   "source": [
    "embeddingMatrix = obsEmbedding.binaryDictionaryEmbedding(dict_kb)"
   ]
  },
  {
   "cell_type": "markdown",
   "id": "2936348b",
   "metadata": {},
   "source": [
    "### Connection to Neo4j"
   ]
  },
  {
   "cell_type": "markdown",
   "id": "1164957d",
   "metadata": {},
   "source": [
    "## Observation Clustering\n",
    "    It should get the observation vectors and transform them into Phenomenon Cluster"
   ]
  },
  {
   "cell_type": "code",
   "execution_count": 21,
   "id": "e8c73808",
   "metadata": {},
   "outputs": [],
   "source": [
    "class ObservationClustering():\n",
    "    \n",
    "    def __init__(self, embeddingMatrix=None):\n",
    "        self.embeddingMatrix = embeddingMatrix\n",
    "        \n",
    "    def KMeans(self,nb_clusters,random_state=0,n_init=\"auto\"):\n",
    "        return KMeans(n_clusters=nb_clusters, random_state=random_state, n_init=n_init).fit(self.embeddingMatrix)\n",
    "    \n",
    "    def plot(self, legend_list, labels, apply_pca=False,apply_tsne=True, pca_random_state=1):\n",
    "        if apply_pca:\n",
    "            pca = PCA(2, random_state=pca_random_state)\n",
    "            matrix = pca.fit_transform(self.embeddingMatrix)\n",
    "        elif apply_tsne:\n",
    "            tsne = TSNE(n_components=2, random_state=pca_random_state)\n",
    "            matrix = tsne.fit_transform(self.embeddingMatrix)\n",
    "        else:\n",
    "            matrix = self.embeddingMatrix\n",
    "        u_labels = np.unique(labels)\n",
    "        for i in u_labels:\n",
    "            plt.scatter(matrix[labels == i , 0] , matrix[labels == i , 1] , label = i)\n",
    "        # Label points\n",
    "        for (i,j, legend) in zip(matrix[:,0], matrix[:,1],legend_list):\n",
    "            plt.text(i, j, legend)\n",
    "        plt.legend()\n",
    "        plt.show()\n",
    "    \n",
    "    def smartPrint(self, np_obslist, labels):\n",
    "        u_labels = np.unique(labels)\n",
    "        print('Clusters:')\n",
    "        for i in range(len(u_labels)):\n",
    "            print(\"clusters : \" + str(u_labels[i]))\n",
    "            print(np_obslist[labels==u_labels[i]])"
   ]
  },
  {
   "cell_type": "code",
   "execution_count": 22,
   "id": "f5cc9749",
   "metadata": {},
   "outputs": [],
   "source": [
    "from sklearn.cluster import KMeans\n",
    "from sklearn.decomposition import PCA\n",
    "import matplotlib.pyplot as plt"
   ]
  },
  {
   "cell_type": "code",
   "execution_count": 23,
   "id": "cedb0cc3",
   "metadata": {},
   "outputs": [],
   "source": [
    "#list_indexes = list(range(embeddingMatrix.shape[0]))\n",
    "list_indexes = [0,5,27,1,15,33]"
   ]
  },
  {
   "cell_type": "code",
   "execution_count": 24,
   "id": "ae7fbd9a",
   "metadata": {},
   "outputs": [],
   "source": [
    "from sklearn.manifold import TSNE\n",
    "tsne = TSNE(n_components=2, random_state=42)\n",
    "matrix = tsne.fit_transform(embeddingMatrix)\n",
    "obsClusteringModule = ObservationClustering(matrix[list_indexes])"
   ]
  },
  {
   "cell_type": "code",
   "execution_count": 25,
   "id": "9b2f22e6",
   "metadata": {},
   "outputs": [],
   "source": [
    "kmeans = obsClusteringModule.KMeans(2,random_state=9)"
   ]
  },
  {
   "cell_type": "code",
   "execution_count": 26,
   "id": "758f26a0",
   "metadata": {},
   "outputs": [
    {
     "data": {
      "image/png": "[encoded data removed]",
      "text/plain": [
       "<Figure size 640x480 with 1 Axes>"
      ]
     },
     "metadata": {},
     "output_type": "display_data"
    }
   ],
   "source": [
    "obsClusteringModule.plot(np.array(list(df_observations['System_Name']))[list_indexes],kmeans.labels_,\n",
    "                         apply_tsne=False )"
   ]
  },
  {
   "cell_type": "code",
   "execution_count": 27,
   "id": "dea8a1d0",
   "metadata": {},
   "outputs": [
    {
     "name": "stdout",
     "output_type": "stream",
     "text": [
      "Clusters:\n",
      "clusters : 0\n",
      "['Journal_\"China\"' 'Medical_\"China\"' 'Social_\"China\"']\n",
      "clusters : 1\n",
      "['Journal_\"India\"' 'Medical_\"Russia\"' 'Social_\"Guyana\"']\n"
     ]
    }
   ],
   "source": [
    "obsClusteringModule.smartPrint(df_observations['System_Name'].to_numpy()[list_indexes],kmeans.labels_)"
   ]
  },
  {
   "cell_type": "code",
   "execution_count": 28,
   "id": "964bc537",
   "metadata": {},
   "outputs": [],
   "source": [
    "from scipy import spatial"
   ]
  },
  {
   "cell_type": "code",
   "execution_count": 29,
   "id": "0fd564b0",
   "metadata": {},
   "outputs": [],
   "source": [
    "from sklearn.metrics.pairwise import cosine_similarity"
   ]
  },
  {
   "cell_type": "code",
   "execution_count": 34,
   "id": "0650f853",
   "metadata": {},
   "outputs": [],
   "source": [
    "list_indexes = list(range(embeddingMatrix.shape[0]))"
   ]
  },
  {
   "cell_type": "code",
   "execution_count": 35,
   "id": "0fd35d0e",
   "metadata": {},
   "outputs": [
    {
     "name": "stdout",
     "output_type": "stream",
     "text": [
      "[0, 1, 2, 3, 4, 5, 6, 7, 8, 9, 10, 11, 12, 13, 14, 15, 16, 17, 18, 19, 20, 21, 22, 23, 24, 25, 26, 27, 28, 29, 30, 31, 32, 33, 34, 35, 36, 37, 38, 39, 40, 41, 42, 43, 44, 45, 46, 47, 48, 49, 50, 51, 52, 53, 54, 55, 56, 57, 58, 59, 60, 61]\n",
      "['Journal_\"China\"' 'Journal_\"India\"' 'Journal_\"Japan\"'\n",
      " 'Journal_\"United States\"' 'Medical_\"Canada\"' 'Medical_\"China\"'\n",
      " 'Medical_\"Djibouti\"' 'Medical_\"France\"' 'Medical_\"Germany\"'\n",
      " 'Medical_\"Ghana\"' 'Medical_\"Iran\"' 'Medical_\"Iraq\"' 'Medical_\"Ireland\"'\n",
      " 'Medical_\"Italy\"' 'Medical_\"Portugal\"' 'Medical_\"Russia\"'\n",
      " 'Medical_\"Saudi Arabia\"' 'Medical_\"South Korea\"' 'Medical_\"Spain\"'\n",
      " 'Medical_\"Turkey\"' 'Medical_\"Ukraine\"' 'Medical_\"United Kingdom\"'\n",
      " 'Medical_\"United States\"' 'Social_\"Argentina\"' 'Social_\"Australia\"'\n",
      " 'Social_\"Belgium\"' 'Social_\"Canada\"' 'Social_\"China\"' 'Social_\"Ethiopia\"'\n",
      " 'Social_\"France\"' 'Social_\"Germany\"' 'Social_\"Greece\"' 'Social_\"Guinea\"'\n",
      " 'Social_\"Guyana\"' 'Social_\"India\"' 'Social_\"Indonesia\"' 'Social_\"Iran\"'\n",
      " 'Social_\"Ireland\"' 'Social_\"Italy\"' 'Social_\"Japan\"' 'Social_\"Malaysia\"'\n",
      " 'Social_\"Mexico\"' 'Social_\"Netherlands\"' 'Social_\"New Zealand\"'\n",
      " 'Social_\"Nigeria\"' 'Social_\"North Korea\"' 'Social_\"Norway\"'\n",
      " 'Social_\"Pakistan\"' 'Social_\"Philippines\"' 'Social_\"Poland\"'\n",
      " 'Social_\"Romania\"' 'Social_\"Russia\"' 'Social_\"South Korea\"'\n",
      " 'Social_\"Spain\"' 'Social_\"Sweden\"' 'Social_\"Switzerland\"'\n",
      " 'Social_\"Taiwan\"' 'Social_\"Ukraine\"' 'Social_\"United Kingdom\"'\n",
      " 'Social_\"United States\"' 'Social_\"Venezuela\"' 'Social_\"Vietnam\"']\n"
     ]
    }
   ],
   "source": [
    "print(list_indexes)\n",
    "print(df_observations['System_Name'].to_numpy()[list_indexes])\n",
    "distanceMatrix = np.zeros((len(list_indexes),len(list_indexes)))\n",
    "for x in range(len(list_indexes)):\n",
    "    for y in range(len(list_indexes)):\n",
    "        distanceMatrix[x,y] = cosine_similarity(embeddingMatrix[list_indexes[x],:].reshape(1, -1)\n",
    "                                                ,embeddingMatrix[list_indexes[y],:].reshape(1, -1))[0,0]"
   ]
  },
  {
   "cell_type": "code",
   "execution_count": 36,
   "id": "7db22bae",
   "metadata": {},
   "outputs": [],
   "source": [
    "df_cosinus_distance = pd.DataFrame(distanceMatrix, index=df_observations['System_Name'].to_numpy()[list_indexes],\n",
    "                                   columns=df_observations['System_Name'].to_numpy()[list_indexes])"
   ]
  },
  {
   "cell_type": "code",
   "execution_count": 37,
   "id": "a103b4af",
   "metadata": {
    "scrolled": true
   },
   "outputs": [
    {
     "data": {
      "text/html": [
       "<div>\n",
       "<style scoped>\n",
       "    .dataframe tbody tr th:only-of-type {\n",
       "        vertical-align: middle;\n",
       "    }\n",
       "\n",
       "    .dataframe tbody tr th {\n",
       "        vertical-align: top;\n",
       "    }\n",
       "\n",
       "    .dataframe thead th {\n",
       "        text-align: right;\n",
       "    }\n",
       "</style>\n",
       "<table border=\"1\" class=\"dataframe\">\n",
       "  <thead>\n",
       "    <tr style=\"text-align: right;\">\n",
       "      <th></th>\n",
       "      <th>Journal_\"China\"</th>\n",
       "      <th>Journal_\"India\"</th>\n",
       "      <th>Journal_\"Japan\"</th>\n",
       "      <th>Journal_\"United States\"</th>\n",
       "      <th>Medical_\"Canada\"</th>\n",
       "      <th>Medical_\"China\"</th>\n",
       "      <th>Medical_\"Djibouti\"</th>\n",
       "      <th>Medical_\"France\"</th>\n",
       "      <th>Medical_\"Germany\"</th>\n",
       "      <th>Medical_\"Ghana\"</th>\n",
       "      <th>...</th>\n",
       "      <th>Social_\"South Korea\"</th>\n",
       "      <th>Social_\"Spain\"</th>\n",
       "      <th>Social_\"Sweden\"</th>\n",
       "      <th>Social_\"Switzerland\"</th>\n",
       "      <th>Social_\"Taiwan\"</th>\n",
       "      <th>Social_\"Ukraine\"</th>\n",
       "      <th>Social_\"United Kingdom\"</th>\n",
       "      <th>Social_\"United States\"</th>\n",
       "      <th>Social_\"Venezuela\"</th>\n",
       "      <th>Social_\"Vietnam\"</th>\n",
       "    </tr>\n",
       "  </thead>\n",
       "  <tbody>\n",
       "    <tr>\n",
       "      <th>Journal_\"China\"</th>\n",
       "      <td>1.000000</td>\n",
       "      <td>0.047140</td>\n",
       "      <td>0.0</td>\n",
       "      <td>0.000000</td>\n",
       "      <td>0.000000</td>\n",
       "      <td>0.188562</td>\n",
       "      <td>0.000000</td>\n",
       "      <td>0.000000</td>\n",
       "      <td>0.0</td>\n",
       "      <td>0.000000</td>\n",
       "      <td>...</td>\n",
       "      <td>0.068041</td>\n",
       "      <td>0.000000</td>\n",
       "      <td>0.000000</td>\n",
       "      <td>0.000000</td>\n",
       "      <td>0.000000</td>\n",
       "      <td>0.000000</td>\n",
       "      <td>0.141421</td>\n",
       "      <td>0.188562</td>\n",
       "      <td>0.000000</td>\n",
       "      <td>0.210819</td>\n",
       "    </tr>\n",
       "    <tr>\n",
       "      <th>Journal_\"India\"</th>\n",
       "      <td>0.047140</td>\n",
       "      <td>1.000000</td>\n",
       "      <td>0.0</td>\n",
       "      <td>0.000000</td>\n",
       "      <td>0.000000</td>\n",
       "      <td>0.120000</td>\n",
       "      <td>0.000000</td>\n",
       "      <td>0.000000</td>\n",
       "      <td>0.0</td>\n",
       "      <td>0.000000</td>\n",
       "      <td>...</td>\n",
       "      <td>0.000000</td>\n",
       "      <td>0.000000</td>\n",
       "      <td>0.000000</td>\n",
       "      <td>0.000000</td>\n",
       "      <td>0.000000</td>\n",
       "      <td>0.000000</td>\n",
       "      <td>0.040000</td>\n",
       "      <td>0.040000</td>\n",
       "      <td>0.000000</td>\n",
       "      <td>0.000000</td>\n",
       "    </tr>\n",
       "    <tr>\n",
       "      <th>Journal_\"Japan\"</th>\n",
       "      <td>0.000000</td>\n",
       "      <td>0.000000</td>\n",
       "      <td>1.0</td>\n",
       "      <td>0.000000</td>\n",
       "      <td>0.000000</td>\n",
       "      <td>0.000000</td>\n",
       "      <td>0.000000</td>\n",
       "      <td>0.000000</td>\n",
       "      <td>0.0</td>\n",
       "      <td>0.000000</td>\n",
       "      <td>...</td>\n",
       "      <td>0.000000</td>\n",
       "      <td>0.000000</td>\n",
       "      <td>0.000000</td>\n",
       "      <td>0.000000</td>\n",
       "      <td>0.000000</td>\n",
       "      <td>0.000000</td>\n",
       "      <td>0.000000</td>\n",
       "      <td>0.000000</td>\n",
       "      <td>0.000000</td>\n",
       "      <td>0.000000</td>\n",
       "    </tr>\n",
       "    <tr>\n",
       "      <th>Journal_\"United States\"</th>\n",
       "      <td>0.000000</td>\n",
       "      <td>0.000000</td>\n",
       "      <td>0.0</td>\n",
       "      <td>1.000000</td>\n",
       "      <td>0.000000</td>\n",
       "      <td>0.000000</td>\n",
       "      <td>0.000000</td>\n",
       "      <td>0.000000</td>\n",
       "      <td>0.0</td>\n",
       "      <td>0.000000</td>\n",
       "      <td>...</td>\n",
       "      <td>0.000000</td>\n",
       "      <td>0.000000</td>\n",
       "      <td>0.000000</td>\n",
       "      <td>0.000000</td>\n",
       "      <td>0.000000</td>\n",
       "      <td>0.000000</td>\n",
       "      <td>0.141421</td>\n",
       "      <td>0.000000</td>\n",
       "      <td>0.000000</td>\n",
       "      <td>0.000000</td>\n",
       "    </tr>\n",
       "    <tr>\n",
       "      <th>Medical_\"Canada\"</th>\n",
       "      <td>0.000000</td>\n",
       "      <td>0.000000</td>\n",
       "      <td>0.0</td>\n",
       "      <td>0.000000</td>\n",
       "      <td>1.000000</td>\n",
       "      <td>0.133333</td>\n",
       "      <td>0.000000</td>\n",
       "      <td>0.235702</td>\n",
       "      <td>0.0</td>\n",
       "      <td>0.000000</td>\n",
       "      <td>...</td>\n",
       "      <td>0.000000</td>\n",
       "      <td>0.000000</td>\n",
       "      <td>0.000000</td>\n",
       "      <td>0.000000</td>\n",
       "      <td>0.000000</td>\n",
       "      <td>0.235702</td>\n",
       "      <td>0.133333</td>\n",
       "      <td>0.066667</td>\n",
       "      <td>0.000000</td>\n",
       "      <td>0.149071</td>\n",
       "    </tr>\n",
       "    <tr>\n",
       "      <th>Medical_\"China\"</th>\n",
       "      <td>0.188562</td>\n",
       "      <td>0.120000</td>\n",
       "      <td>0.0</td>\n",
       "      <td>0.000000</td>\n",
       "      <td>0.133333</td>\n",
       "      <td>1.000000</td>\n",
       "      <td>0.000000</td>\n",
       "      <td>0.141421</td>\n",
       "      <td>0.0</td>\n",
       "      <td>0.000000</td>\n",
       "      <td>...</td>\n",
       "      <td>0.000000</td>\n",
       "      <td>0.000000</td>\n",
       "      <td>0.000000</td>\n",
       "      <td>0.000000</td>\n",
       "      <td>0.000000</td>\n",
       "      <td>0.141421</td>\n",
       "      <td>0.160000</td>\n",
       "      <td>0.120000</td>\n",
       "      <td>0.000000</td>\n",
       "      <td>0.268328</td>\n",
       "    </tr>\n",
       "    <tr>\n",
       "      <th>Medical_\"Djibouti\"</th>\n",
       "      <td>0.000000</td>\n",
       "      <td>0.000000</td>\n",
       "      <td>0.0</td>\n",
       "      <td>0.000000</td>\n",
       "      <td>0.000000</td>\n",
       "      <td>0.000000</td>\n",
       "      <td>1.000000</td>\n",
       "      <td>0.000000</td>\n",
       "      <td>0.0</td>\n",
       "      <td>0.000000</td>\n",
       "      <td>...</td>\n",
       "      <td>0.000000</td>\n",
       "      <td>0.000000</td>\n",
       "      <td>0.000000</td>\n",
       "      <td>0.000000</td>\n",
       "      <td>0.000000</td>\n",
       "      <td>0.000000</td>\n",
       "      <td>0.000000</td>\n",
       "      <td>0.000000</td>\n",
       "      <td>0.000000</td>\n",
       "      <td>0.000000</td>\n",
       "    </tr>\n",
       "    <tr>\n",
       "      <th>Medical_\"France\"</th>\n",
       "      <td>0.000000</td>\n",
       "      <td>0.000000</td>\n",
       "      <td>0.0</td>\n",
       "      <td>0.000000</td>\n",
       "      <td>0.235702</td>\n",
       "      <td>0.141421</td>\n",
       "      <td>0.000000</td>\n",
       "      <td>1.000000</td>\n",
       "      <td>0.0</td>\n",
       "      <td>0.000000</td>\n",
       "      <td>...</td>\n",
       "      <td>0.000000</td>\n",
       "      <td>0.000000</td>\n",
       "      <td>0.000000</td>\n",
       "      <td>0.000000</td>\n",
       "      <td>0.000000</td>\n",
       "      <td>0.250000</td>\n",
       "      <td>0.141421</td>\n",
       "      <td>0.070711</td>\n",
       "      <td>0.000000</td>\n",
       "      <td>0.158114</td>\n",
       "    </tr>\n",
       "    <tr>\n",
       "      <th>Medical_\"Germany\"</th>\n",
       "      <td>0.000000</td>\n",
       "      <td>0.000000</td>\n",
       "      <td>0.0</td>\n",
       "      <td>0.000000</td>\n",
       "      <td>0.000000</td>\n",
       "      <td>0.000000</td>\n",
       "      <td>0.000000</td>\n",
       "      <td>0.000000</td>\n",
       "      <td>1.0</td>\n",
       "      <td>0.000000</td>\n",
       "      <td>...</td>\n",
       "      <td>0.000000</td>\n",
       "      <td>0.000000</td>\n",
       "      <td>0.000000</td>\n",
       "      <td>0.000000</td>\n",
       "      <td>0.000000</td>\n",
       "      <td>0.000000</td>\n",
       "      <td>0.000000</td>\n",
       "      <td>0.000000</td>\n",
       "      <td>0.000000</td>\n",
       "      <td>0.000000</td>\n",
       "    </tr>\n",
       "    <tr>\n",
       "      <th>Medical_\"Ghana\"</th>\n",
       "      <td>0.000000</td>\n",
       "      <td>0.000000</td>\n",
       "      <td>0.0</td>\n",
       "      <td>0.000000</td>\n",
       "      <td>0.000000</td>\n",
       "      <td>0.000000</td>\n",
       "      <td>0.000000</td>\n",
       "      <td>0.000000</td>\n",
       "      <td>0.0</td>\n",
       "      <td>1.000000</td>\n",
       "      <td>...</td>\n",
       "      <td>0.166667</td>\n",
       "      <td>0.000000</td>\n",
       "      <td>0.000000</td>\n",
       "      <td>0.000000</td>\n",
       "      <td>0.000000</td>\n",
       "      <td>0.000000</td>\n",
       "      <td>0.000000</td>\n",
       "      <td>0.000000</td>\n",
       "      <td>0.000000</td>\n",
       "      <td>0.000000</td>\n",
       "    </tr>\n",
       "    <tr>\n",
       "      <th>Medical_\"Iran\"</th>\n",
       "      <td>0.000000</td>\n",
       "      <td>0.047140</td>\n",
       "      <td>0.0</td>\n",
       "      <td>0.000000</td>\n",
       "      <td>0.157135</td>\n",
       "      <td>0.188562</td>\n",
       "      <td>0.000000</td>\n",
       "      <td>0.166667</td>\n",
       "      <td>0.0</td>\n",
       "      <td>0.000000</td>\n",
       "      <td>...</td>\n",
       "      <td>0.068041</td>\n",
       "      <td>0.000000</td>\n",
       "      <td>0.000000</td>\n",
       "      <td>0.000000</td>\n",
       "      <td>0.000000</td>\n",
       "      <td>0.166667</td>\n",
       "      <td>0.094281</td>\n",
       "      <td>0.094281</td>\n",
       "      <td>0.000000</td>\n",
       "      <td>0.105409</td>\n",
       "    </tr>\n",
       "    <tr>\n",
       "      <th>Medical_\"Iraq\"</th>\n",
       "      <td>0.000000</td>\n",
       "      <td>0.000000</td>\n",
       "      <td>0.0</td>\n",
       "      <td>0.000000</td>\n",
       "      <td>0.000000</td>\n",
       "      <td>0.000000</td>\n",
       "      <td>0.000000</td>\n",
       "      <td>0.000000</td>\n",
       "      <td>0.0</td>\n",
       "      <td>0.000000</td>\n",
       "      <td>...</td>\n",
       "      <td>0.000000</td>\n",
       "      <td>0.000000</td>\n",
       "      <td>0.000000</td>\n",
       "      <td>0.000000</td>\n",
       "      <td>0.000000</td>\n",
       "      <td>0.000000</td>\n",
       "      <td>0.000000</td>\n",
       "      <td>0.000000</td>\n",
       "      <td>0.000000</td>\n",
       "      <td>0.000000</td>\n",
       "    </tr>\n",
       "    <tr>\n",
       "      <th>Medical_\"Ireland\"</th>\n",
       "      <td>0.000000</td>\n",
       "      <td>0.000000</td>\n",
       "      <td>0.0</td>\n",
       "      <td>0.000000</td>\n",
       "      <td>0.000000</td>\n",
       "      <td>0.000000</td>\n",
       "      <td>0.000000</td>\n",
       "      <td>0.000000</td>\n",
       "      <td>0.0</td>\n",
       "      <td>0.000000</td>\n",
       "      <td>...</td>\n",
       "      <td>0.000000</td>\n",
       "      <td>0.000000</td>\n",
       "      <td>0.000000</td>\n",
       "      <td>0.000000</td>\n",
       "      <td>0.000000</td>\n",
       "      <td>0.000000</td>\n",
       "      <td>0.000000</td>\n",
       "      <td>0.000000</td>\n",
       "      <td>0.000000</td>\n",
       "      <td>0.000000</td>\n",
       "    </tr>\n",
       "    <tr>\n",
       "      <th>Medical_\"Italy\"</th>\n",
       "      <td>0.272166</td>\n",
       "      <td>0.000000</td>\n",
       "      <td>0.0</td>\n",
       "      <td>0.000000</td>\n",
       "      <td>0.000000</td>\n",
       "      <td>0.230940</td>\n",
       "      <td>0.000000</td>\n",
       "      <td>0.204124</td>\n",
       "      <td>0.0</td>\n",
       "      <td>0.000000</td>\n",
       "      <td>...</td>\n",
       "      <td>0.000000</td>\n",
       "      <td>0.000000</td>\n",
       "      <td>0.000000</td>\n",
       "      <td>0.000000</td>\n",
       "      <td>0.000000</td>\n",
       "      <td>0.000000</td>\n",
       "      <td>0.230940</td>\n",
       "      <td>0.230940</td>\n",
       "      <td>0.000000</td>\n",
       "      <td>0.516398</td>\n",
       "    </tr>\n",
       "    <tr>\n",
       "      <th>Medical_\"Portugal\"</th>\n",
       "      <td>0.000000</td>\n",
       "      <td>0.000000</td>\n",
       "      <td>0.0</td>\n",
       "      <td>0.000000</td>\n",
       "      <td>0.000000</td>\n",
       "      <td>0.000000</td>\n",
       "      <td>0.000000</td>\n",
       "      <td>0.000000</td>\n",
       "      <td>0.0</td>\n",
       "      <td>0.000000</td>\n",
       "      <td>...</td>\n",
       "      <td>0.000000</td>\n",
       "      <td>0.000000</td>\n",
       "      <td>0.000000</td>\n",
       "      <td>0.000000</td>\n",
       "      <td>0.000000</td>\n",
       "      <td>0.000000</td>\n",
       "      <td>0.000000</td>\n",
       "      <td>0.000000</td>\n",
       "      <td>0.000000</td>\n",
       "      <td>0.000000</td>\n",
       "    </tr>\n",
       "    <tr>\n",
       "      <th>Medical_\"Russia\"</th>\n",
       "      <td>0.000000</td>\n",
       "      <td>0.000000</td>\n",
       "      <td>0.0</td>\n",
       "      <td>0.000000</td>\n",
       "      <td>0.235702</td>\n",
       "      <td>0.141421</td>\n",
       "      <td>0.000000</td>\n",
       "      <td>0.250000</td>\n",
       "      <td>0.0</td>\n",
       "      <td>0.000000</td>\n",
       "      <td>...</td>\n",
       "      <td>0.000000</td>\n",
       "      <td>0.000000</td>\n",
       "      <td>0.000000</td>\n",
       "      <td>0.000000</td>\n",
       "      <td>0.000000</td>\n",
       "      <td>0.000000</td>\n",
       "      <td>0.141421</td>\n",
       "      <td>0.141421</td>\n",
       "      <td>0.288675</td>\n",
       "      <td>0.000000</td>\n",
       "    </tr>\n",
       "    <tr>\n",
       "      <th>Medical_\"Saudi Arabia\"</th>\n",
       "      <td>0.105409</td>\n",
       "      <td>0.000000</td>\n",
       "      <td>0.0</td>\n",
       "      <td>0.000000</td>\n",
       "      <td>0.149071</td>\n",
       "      <td>0.089443</td>\n",
       "      <td>0.447214</td>\n",
       "      <td>0.158114</td>\n",
       "      <td>0.0</td>\n",
       "      <td>0.000000</td>\n",
       "      <td>...</td>\n",
       "      <td>0.000000</td>\n",
       "      <td>0.000000</td>\n",
       "      <td>0.000000</td>\n",
       "      <td>0.000000</td>\n",
       "      <td>0.000000</td>\n",
       "      <td>0.316228</td>\n",
       "      <td>0.089443</td>\n",
       "      <td>0.000000</td>\n",
       "      <td>0.000000</td>\n",
       "      <td>0.200000</td>\n",
       "    </tr>\n",
       "    <tr>\n",
       "      <th>Medical_\"South Korea\"</th>\n",
       "      <td>0.000000</td>\n",
       "      <td>0.000000</td>\n",
       "      <td>0.0</td>\n",
       "      <td>0.000000</td>\n",
       "      <td>0.000000</td>\n",
       "      <td>0.000000</td>\n",
       "      <td>0.000000</td>\n",
       "      <td>0.000000</td>\n",
       "      <td>0.0</td>\n",
       "      <td>0.000000</td>\n",
       "      <td>...</td>\n",
       "      <td>0.288675</td>\n",
       "      <td>0.000000</td>\n",
       "      <td>0.000000</td>\n",
       "      <td>0.000000</td>\n",
       "      <td>0.000000</td>\n",
       "      <td>0.000000</td>\n",
       "      <td>0.000000</td>\n",
       "      <td>0.000000</td>\n",
       "      <td>0.000000</td>\n",
       "      <td>0.000000</td>\n",
       "    </tr>\n",
       "    <tr>\n",
       "      <th>Medical_\"Spain\"</th>\n",
       "      <td>0.000000</td>\n",
       "      <td>0.000000</td>\n",
       "      <td>0.0</td>\n",
       "      <td>0.000000</td>\n",
       "      <td>0.117851</td>\n",
       "      <td>0.070711</td>\n",
       "      <td>0.000000</td>\n",
       "      <td>0.125000</td>\n",
       "      <td>0.0</td>\n",
       "      <td>0.000000</td>\n",
       "      <td>...</td>\n",
       "      <td>0.102062</td>\n",
       "      <td>0.000000</td>\n",
       "      <td>0.000000</td>\n",
       "      <td>0.000000</td>\n",
       "      <td>0.000000</td>\n",
       "      <td>0.000000</td>\n",
       "      <td>0.141421</td>\n",
       "      <td>0.070711</td>\n",
       "      <td>0.000000</td>\n",
       "      <td>0.000000</td>\n",
       "    </tr>\n",
       "    <tr>\n",
       "      <th>Medical_\"Turkey\"</th>\n",
       "      <td>0.000000</td>\n",
       "      <td>0.000000</td>\n",
       "      <td>0.0</td>\n",
       "      <td>0.000000</td>\n",
       "      <td>0.333333</td>\n",
       "      <td>0.200000</td>\n",
       "      <td>0.000000</td>\n",
       "      <td>0.353553</td>\n",
       "      <td>0.0</td>\n",
       "      <td>0.000000</td>\n",
       "      <td>...</td>\n",
       "      <td>0.000000</td>\n",
       "      <td>0.000000</td>\n",
       "      <td>0.000000</td>\n",
       "      <td>0.000000</td>\n",
       "      <td>0.000000</td>\n",
       "      <td>0.000000</td>\n",
       "      <td>0.200000</td>\n",
       "      <td>0.200000</td>\n",
       "      <td>0.000000</td>\n",
       "      <td>0.000000</td>\n",
       "    </tr>\n",
       "    <tr>\n",
       "      <th>Medical_\"Ukraine\"</th>\n",
       "      <td>0.000000</td>\n",
       "      <td>0.000000</td>\n",
       "      <td>0.0</td>\n",
       "      <td>0.000000</td>\n",
       "      <td>0.235702</td>\n",
       "      <td>0.141421</td>\n",
       "      <td>0.000000</td>\n",
       "      <td>0.250000</td>\n",
       "      <td>0.0</td>\n",
       "      <td>0.000000</td>\n",
       "      <td>...</td>\n",
       "      <td>0.000000</td>\n",
       "      <td>0.000000</td>\n",
       "      <td>0.000000</td>\n",
       "      <td>0.000000</td>\n",
       "      <td>0.000000</td>\n",
       "      <td>0.000000</td>\n",
       "      <td>0.141421</td>\n",
       "      <td>0.141421</td>\n",
       "      <td>0.000000</td>\n",
       "      <td>0.000000</td>\n",
       "    </tr>\n",
       "    <tr>\n",
       "      <th>Medical_\"United Kingdom\"</th>\n",
       "      <td>0.000000</td>\n",
       "      <td>0.081650</td>\n",
       "      <td>0.0</td>\n",
       "      <td>0.000000</td>\n",
       "      <td>0.136083</td>\n",
       "      <td>0.163299</td>\n",
       "      <td>0.000000</td>\n",
       "      <td>0.144338</td>\n",
       "      <td>0.0</td>\n",
       "      <td>0.000000</td>\n",
       "      <td>...</td>\n",
       "      <td>0.117851</td>\n",
       "      <td>0.000000</td>\n",
       "      <td>0.000000</td>\n",
       "      <td>0.000000</td>\n",
       "      <td>0.000000</td>\n",
       "      <td>0.000000</td>\n",
       "      <td>0.081650</td>\n",
       "      <td>0.163299</td>\n",
       "      <td>0.000000</td>\n",
       "      <td>0.000000</td>\n",
       "    </tr>\n",
       "    <tr>\n",
       "      <th>Medical_\"United States\"</th>\n",
       "      <td>0.094281</td>\n",
       "      <td>0.000000</td>\n",
       "      <td>0.0</td>\n",
       "      <td>0.000000</td>\n",
       "      <td>0.133333</td>\n",
       "      <td>0.160000</td>\n",
       "      <td>0.000000</td>\n",
       "      <td>0.141421</td>\n",
       "      <td>0.0</td>\n",
       "      <td>0.000000</td>\n",
       "      <td>...</td>\n",
       "      <td>0.057735</td>\n",
       "      <td>0.000000</td>\n",
       "      <td>0.000000</td>\n",
       "      <td>0.000000</td>\n",
       "      <td>0.000000</td>\n",
       "      <td>0.141421</td>\n",
       "      <td>0.200000</td>\n",
       "      <td>0.240000</td>\n",
       "      <td>0.081650</td>\n",
       "      <td>0.268328</td>\n",
       "    </tr>\n",
       "    <tr>\n",
       "      <th>Social_\"Argentina\"</th>\n",
       "      <td>0.000000</td>\n",
       "      <td>0.000000</td>\n",
       "      <td>0.0</td>\n",
       "      <td>0.000000</td>\n",
       "      <td>0.000000</td>\n",
       "      <td>0.000000</td>\n",
       "      <td>0.000000</td>\n",
       "      <td>0.000000</td>\n",
       "      <td>0.0</td>\n",
       "      <td>0.000000</td>\n",
       "      <td>...</td>\n",
       "      <td>0.333333</td>\n",
       "      <td>0.816497</td>\n",
       "      <td>0.408248</td>\n",
       "      <td>0.816497</td>\n",
       "      <td>0.258199</td>\n",
       "      <td>0.408248</td>\n",
       "      <td>0.346410</td>\n",
       "      <td>0.230940</td>\n",
       "      <td>0.235702</td>\n",
       "      <td>0.258199</td>\n",
       "    </tr>\n",
       "    <tr>\n",
       "      <th>Social_\"Australia\"</th>\n",
       "      <td>0.000000</td>\n",
       "      <td>0.000000</td>\n",
       "      <td>0.0</td>\n",
       "      <td>0.000000</td>\n",
       "      <td>0.000000</td>\n",
       "      <td>0.000000</td>\n",
       "      <td>0.000000</td>\n",
       "      <td>0.000000</td>\n",
       "      <td>0.0</td>\n",
       "      <td>0.000000</td>\n",
       "      <td>...</td>\n",
       "      <td>0.288675</td>\n",
       "      <td>0.707107</td>\n",
       "      <td>0.707107</td>\n",
       "      <td>0.707107</td>\n",
       "      <td>0.447214</td>\n",
       "      <td>0.707107</td>\n",
       "      <td>0.200000</td>\n",
       "      <td>0.000000</td>\n",
       "      <td>0.408248</td>\n",
       "      <td>0.447214</td>\n",
       "    </tr>\n",
       "    <tr>\n",
       "      <th>Social_\"Belgium\"</th>\n",
       "      <td>0.111111</td>\n",
       "      <td>0.000000</td>\n",
       "      <td>0.0</td>\n",
       "      <td>0.000000</td>\n",
       "      <td>0.078567</td>\n",
       "      <td>0.047140</td>\n",
       "      <td>0.000000</td>\n",
       "      <td>0.083333</td>\n",
       "      <td>0.0</td>\n",
       "      <td>0.136083</td>\n",
       "      <td>...</td>\n",
       "      <td>0.408248</td>\n",
       "      <td>0.166667</td>\n",
       "      <td>0.166667</td>\n",
       "      <td>0.333333</td>\n",
       "      <td>0.210819</td>\n",
       "      <td>0.333333</td>\n",
       "      <td>0.188562</td>\n",
       "      <td>0.188562</td>\n",
       "      <td>0.192450</td>\n",
       "      <td>0.210819</td>\n",
       "    </tr>\n",
       "    <tr>\n",
       "      <th>Social_\"Canada\"</th>\n",
       "      <td>0.094281</td>\n",
       "      <td>0.040000</td>\n",
       "      <td>0.0</td>\n",
       "      <td>0.141421</td>\n",
       "      <td>0.133333</td>\n",
       "      <td>0.160000</td>\n",
       "      <td>0.000000</td>\n",
       "      <td>0.141421</td>\n",
       "      <td>0.0</td>\n",
       "      <td>0.000000</td>\n",
       "      <td>...</td>\n",
       "      <td>0.173205</td>\n",
       "      <td>0.282843</td>\n",
       "      <td>0.141421</td>\n",
       "      <td>0.282843</td>\n",
       "      <td>0.089443</td>\n",
       "      <td>0.282843</td>\n",
       "      <td>0.520000</td>\n",
       "      <td>0.360000</td>\n",
       "      <td>0.081650</td>\n",
       "      <td>0.357771</td>\n",
       "    </tr>\n",
       "    <tr>\n",
       "      <th>Social_\"China\"</th>\n",
       "      <td>0.235702</td>\n",
       "      <td>0.040000</td>\n",
       "      <td>0.0</td>\n",
       "      <td>0.000000</td>\n",
       "      <td>0.133333</td>\n",
       "      <td>0.160000</td>\n",
       "      <td>0.000000</td>\n",
       "      <td>0.141421</td>\n",
       "      <td>0.0</td>\n",
       "      <td>0.115470</td>\n",
       "      <td>...</td>\n",
       "      <td>0.346410</td>\n",
       "      <td>0.282843</td>\n",
       "      <td>0.141421</td>\n",
       "      <td>0.282843</td>\n",
       "      <td>0.178885</td>\n",
       "      <td>0.282843</td>\n",
       "      <td>0.560000</td>\n",
       "      <td>0.400000</td>\n",
       "      <td>0.081650</td>\n",
       "      <td>0.357771</td>\n",
       "    </tr>\n",
       "    <tr>\n",
       "      <th>Social_\"Ethiopia\"</th>\n",
       "      <td>0.000000</td>\n",
       "      <td>0.000000</td>\n",
       "      <td>0.0</td>\n",
       "      <td>0.000000</td>\n",
       "      <td>0.000000</td>\n",
       "      <td>0.000000</td>\n",
       "      <td>0.000000</td>\n",
       "      <td>0.000000</td>\n",
       "      <td>0.0</td>\n",
       "      <td>0.000000</td>\n",
       "      <td>...</td>\n",
       "      <td>0.000000</td>\n",
       "      <td>0.000000</td>\n",
       "      <td>0.000000</td>\n",
       "      <td>0.000000</td>\n",
       "      <td>0.000000</td>\n",
       "      <td>0.000000</td>\n",
       "      <td>0.000000</td>\n",
       "      <td>0.000000</td>\n",
       "      <td>0.000000</td>\n",
       "      <td>0.000000</td>\n",
       "    </tr>\n",
       "    <tr>\n",
       "      <th>Social_\"France\"</th>\n",
       "      <td>0.136083</td>\n",
       "      <td>0.000000</td>\n",
       "      <td>0.0</td>\n",
       "      <td>0.000000</td>\n",
       "      <td>0.096225</td>\n",
       "      <td>0.057735</td>\n",
       "      <td>0.000000</td>\n",
       "      <td>0.102062</td>\n",
       "      <td>0.0</td>\n",
       "      <td>0.000000</td>\n",
       "      <td>...</td>\n",
       "      <td>0.333333</td>\n",
       "      <td>0.204124</td>\n",
       "      <td>0.204124</td>\n",
       "      <td>0.408248</td>\n",
       "      <td>0.258199</td>\n",
       "      <td>0.408248</td>\n",
       "      <td>0.288675</td>\n",
       "      <td>0.173205</td>\n",
       "      <td>0.235702</td>\n",
       "      <td>0.258199</td>\n",
       "    </tr>\n",
       "    <tr>\n",
       "      <th>Social_\"Germany\"</th>\n",
       "      <td>0.235702</td>\n",
       "      <td>0.000000</td>\n",
       "      <td>0.0</td>\n",
       "      <td>0.000000</td>\n",
       "      <td>0.000000</td>\n",
       "      <td>0.000000</td>\n",
       "      <td>0.000000</td>\n",
       "      <td>0.000000</td>\n",
       "      <td>0.0</td>\n",
       "      <td>0.000000</td>\n",
       "      <td>...</td>\n",
       "      <td>0.288675</td>\n",
       "      <td>0.353553</td>\n",
       "      <td>0.353553</td>\n",
       "      <td>0.707107</td>\n",
       "      <td>0.223607</td>\n",
       "      <td>0.353553</td>\n",
       "      <td>0.200000</td>\n",
       "      <td>0.300000</td>\n",
       "      <td>0.204124</td>\n",
       "      <td>0.223607</td>\n",
       "    </tr>\n",
       "    <tr>\n",
       "      <th>Social_\"Greece\"</th>\n",
       "      <td>0.000000</td>\n",
       "      <td>0.000000</td>\n",
       "      <td>0.0</td>\n",
       "      <td>0.000000</td>\n",
       "      <td>0.000000</td>\n",
       "      <td>0.000000</td>\n",
       "      <td>0.000000</td>\n",
       "      <td>0.000000</td>\n",
       "      <td>0.0</td>\n",
       "      <td>0.000000</td>\n",
       "      <td>...</td>\n",
       "      <td>0.000000</td>\n",
       "      <td>0.000000</td>\n",
       "      <td>0.000000</td>\n",
       "      <td>0.000000</td>\n",
       "      <td>0.000000</td>\n",
       "      <td>0.000000</td>\n",
       "      <td>0.000000</td>\n",
       "      <td>0.000000</td>\n",
       "      <td>0.000000</td>\n",
       "      <td>0.000000</td>\n",
       "    </tr>\n",
       "    <tr>\n",
       "      <th>Social_\"Guinea\"</th>\n",
       "      <td>0.000000</td>\n",
       "      <td>0.000000</td>\n",
       "      <td>0.0</td>\n",
       "      <td>0.000000</td>\n",
       "      <td>0.000000</td>\n",
       "      <td>0.000000</td>\n",
       "      <td>0.000000</td>\n",
       "      <td>0.000000</td>\n",
       "      <td>0.0</td>\n",
       "      <td>0.000000</td>\n",
       "      <td>...</td>\n",
       "      <td>0.117851</td>\n",
       "      <td>0.288675</td>\n",
       "      <td>0.288675</td>\n",
       "      <td>0.288675</td>\n",
       "      <td>0.182574</td>\n",
       "      <td>0.288675</td>\n",
       "      <td>0.081650</td>\n",
       "      <td>0.000000</td>\n",
       "      <td>1.000000</td>\n",
       "      <td>0.182574</td>\n",
       "    </tr>\n",
       "    <tr>\n",
       "      <th>Social_\"Guyana\"</th>\n",
       "      <td>0.162221</td>\n",
       "      <td>0.045883</td>\n",
       "      <td>0.0</td>\n",
       "      <td>0.000000</td>\n",
       "      <td>0.000000</td>\n",
       "      <td>0.045883</td>\n",
       "      <td>0.000000</td>\n",
       "      <td>0.000000</td>\n",
       "      <td>0.0</td>\n",
       "      <td>0.000000</td>\n",
       "      <td>...</td>\n",
       "      <td>0.463586</td>\n",
       "      <td>0.162221</td>\n",
       "      <td>0.324443</td>\n",
       "      <td>0.324443</td>\n",
       "      <td>0.307794</td>\n",
       "      <td>0.162221</td>\n",
       "      <td>0.275299</td>\n",
       "      <td>0.137649</td>\n",
       "      <td>0.093659</td>\n",
       "      <td>0.102598</td>\n",
       "    </tr>\n",
       "    <tr>\n",
       "      <th>Social_\"India\"</th>\n",
       "      <td>0.000000</td>\n",
       "      <td>0.000000</td>\n",
       "      <td>0.0</td>\n",
       "      <td>0.000000</td>\n",
       "      <td>0.000000</td>\n",
       "      <td>0.000000</td>\n",
       "      <td>0.000000</td>\n",
       "      <td>0.000000</td>\n",
       "      <td>0.0</td>\n",
       "      <td>0.000000</td>\n",
       "      <td>...</td>\n",
       "      <td>0.408248</td>\n",
       "      <td>0.500000</td>\n",
       "      <td>0.500000</td>\n",
       "      <td>1.000000</td>\n",
       "      <td>0.316228</td>\n",
       "      <td>0.500000</td>\n",
       "      <td>0.282843</td>\n",
       "      <td>0.141421</td>\n",
       "      <td>0.288675</td>\n",
       "      <td>0.316228</td>\n",
       "    </tr>\n",
       "    <tr>\n",
       "      <th>Social_\"Indonesia\"</th>\n",
       "      <td>0.000000</td>\n",
       "      <td>0.000000</td>\n",
       "      <td>0.0</td>\n",
       "      <td>0.000000</td>\n",
       "      <td>0.000000</td>\n",
       "      <td>0.000000</td>\n",
       "      <td>0.000000</td>\n",
       "      <td>0.000000</td>\n",
       "      <td>0.0</td>\n",
       "      <td>0.000000</td>\n",
       "      <td>...</td>\n",
       "      <td>0.288675</td>\n",
       "      <td>0.707107</td>\n",
       "      <td>0.707107</td>\n",
       "      <td>0.707107</td>\n",
       "      <td>0.447214</td>\n",
       "      <td>0.707107</td>\n",
       "      <td>0.200000</td>\n",
       "      <td>0.000000</td>\n",
       "      <td>0.408248</td>\n",
       "      <td>0.447214</td>\n",
       "    </tr>\n",
       "    <tr>\n",
       "      <th>Social_\"Iran\"</th>\n",
       "      <td>0.117851</td>\n",
       "      <td>0.000000</td>\n",
       "      <td>0.0</td>\n",
       "      <td>0.000000</td>\n",
       "      <td>0.083333</td>\n",
       "      <td>0.050000</td>\n",
       "      <td>0.000000</td>\n",
       "      <td>0.088388</td>\n",
       "      <td>0.0</td>\n",
       "      <td>0.000000</td>\n",
       "      <td>...</td>\n",
       "      <td>0.288675</td>\n",
       "      <td>0.176777</td>\n",
       "      <td>0.176777</td>\n",
       "      <td>0.176777</td>\n",
       "      <td>0.223607</td>\n",
       "      <td>0.353553</td>\n",
       "      <td>0.150000</td>\n",
       "      <td>0.150000</td>\n",
       "      <td>0.204124</td>\n",
       "      <td>0.223607</td>\n",
       "    </tr>\n",
       "    <tr>\n",
       "      <th>Social_\"Ireland\"</th>\n",
       "      <td>0.000000</td>\n",
       "      <td>0.000000</td>\n",
       "      <td>0.0</td>\n",
       "      <td>0.000000</td>\n",
       "      <td>0.000000</td>\n",
       "      <td>0.000000</td>\n",
       "      <td>0.000000</td>\n",
       "      <td>0.000000</td>\n",
       "      <td>0.0</td>\n",
       "      <td>0.000000</td>\n",
       "      <td>...</td>\n",
       "      <td>0.288675</td>\n",
       "      <td>0.707107</td>\n",
       "      <td>0.707107</td>\n",
       "      <td>0.707107</td>\n",
       "      <td>0.447214</td>\n",
       "      <td>0.707107</td>\n",
       "      <td>0.200000</td>\n",
       "      <td>0.000000</td>\n",
       "      <td>0.408248</td>\n",
       "      <td>0.447214</td>\n",
       "    </tr>\n",
       "    <tr>\n",
       "      <th>Social_\"Italy\"</th>\n",
       "      <td>0.294628</td>\n",
       "      <td>0.000000</td>\n",
       "      <td>0.0</td>\n",
       "      <td>0.000000</td>\n",
       "      <td>0.166667</td>\n",
       "      <td>0.200000</td>\n",
       "      <td>0.000000</td>\n",
       "      <td>0.176777</td>\n",
       "      <td>0.0</td>\n",
       "      <td>0.000000</td>\n",
       "      <td>...</td>\n",
       "      <td>0.433013</td>\n",
       "      <td>0.353553</td>\n",
       "      <td>0.176777</td>\n",
       "      <td>0.353553</td>\n",
       "      <td>0.223607</td>\n",
       "      <td>0.353553</td>\n",
       "      <td>0.450000</td>\n",
       "      <td>0.350000</td>\n",
       "      <td>0.204124</td>\n",
       "      <td>0.447214</td>\n",
       "    </tr>\n",
       "    <tr>\n",
       "      <th>Social_\"Japan\"</th>\n",
       "      <td>0.117851</td>\n",
       "      <td>0.000000</td>\n",
       "      <td>0.0</td>\n",
       "      <td>0.000000</td>\n",
       "      <td>0.000000</td>\n",
       "      <td>0.100000</td>\n",
       "      <td>0.000000</td>\n",
       "      <td>0.000000</td>\n",
       "      <td>0.0</td>\n",
       "      <td>0.000000</td>\n",
       "      <td>...</td>\n",
       "      <td>0.360844</td>\n",
       "      <td>0.176777</td>\n",
       "      <td>0.176777</td>\n",
       "      <td>0.353553</td>\n",
       "      <td>0.223607</td>\n",
       "      <td>0.176777</td>\n",
       "      <td>0.350000</td>\n",
       "      <td>0.300000</td>\n",
       "      <td>0.204124</td>\n",
       "      <td>0.335410</td>\n",
       "    </tr>\n",
       "    <tr>\n",
       "      <th>Social_\"Malaysia\"</th>\n",
       "      <td>0.000000</td>\n",
       "      <td>0.000000</td>\n",
       "      <td>0.0</td>\n",
       "      <td>0.000000</td>\n",
       "      <td>0.000000</td>\n",
       "      <td>0.000000</td>\n",
       "      <td>0.000000</td>\n",
       "      <td>0.000000</td>\n",
       "      <td>0.0</td>\n",
       "      <td>0.000000</td>\n",
       "      <td>...</td>\n",
       "      <td>0.288675</td>\n",
       "      <td>0.707107</td>\n",
       "      <td>0.707107</td>\n",
       "      <td>0.707107</td>\n",
       "      <td>0.447214</td>\n",
       "      <td>0.707107</td>\n",
       "      <td>0.200000</td>\n",
       "      <td>0.000000</td>\n",
       "      <td>0.408248</td>\n",
       "      <td>0.447214</td>\n",
       "    </tr>\n",
       "    <tr>\n",
       "      <th>Social_\"Mexico\"</th>\n",
       "      <td>0.000000</td>\n",
       "      <td>0.000000</td>\n",
       "      <td>0.0</td>\n",
       "      <td>0.000000</td>\n",
       "      <td>0.000000</td>\n",
       "      <td>0.000000</td>\n",
       "      <td>0.000000</td>\n",
       "      <td>0.000000</td>\n",
       "      <td>0.0</td>\n",
       "      <td>0.000000</td>\n",
       "      <td>...</td>\n",
       "      <td>0.109109</td>\n",
       "      <td>0.534522</td>\n",
       "      <td>0.267261</td>\n",
       "      <td>0.267261</td>\n",
       "      <td>0.169031</td>\n",
       "      <td>0.267261</td>\n",
       "      <td>0.151186</td>\n",
       "      <td>0.075593</td>\n",
       "      <td>0.925820</td>\n",
       "      <td>0.169031</td>\n",
       "    </tr>\n",
       "    <tr>\n",
       "      <th>Social_\"Netherlands\"</th>\n",
       "      <td>0.000000</td>\n",
       "      <td>0.000000</td>\n",
       "      <td>0.0</td>\n",
       "      <td>0.000000</td>\n",
       "      <td>0.000000</td>\n",
       "      <td>0.000000</td>\n",
       "      <td>0.000000</td>\n",
       "      <td>0.000000</td>\n",
       "      <td>0.0</td>\n",
       "      <td>0.000000</td>\n",
       "      <td>...</td>\n",
       "      <td>0.288675</td>\n",
       "      <td>0.707107</td>\n",
       "      <td>0.707107</td>\n",
       "      <td>0.707107</td>\n",
       "      <td>0.447214</td>\n",
       "      <td>0.707107</td>\n",
       "      <td>0.200000</td>\n",
       "      <td>0.000000</td>\n",
       "      <td>0.408248</td>\n",
       "      <td>0.447214</td>\n",
       "    </tr>\n",
       "    <tr>\n",
       "      <th>Social_\"New Zealand\"</th>\n",
       "      <td>0.000000</td>\n",
       "      <td>0.000000</td>\n",
       "      <td>0.0</td>\n",
       "      <td>0.000000</td>\n",
       "      <td>0.000000</td>\n",
       "      <td>0.000000</td>\n",
       "      <td>0.000000</td>\n",
       "      <td>0.000000</td>\n",
       "      <td>0.0</td>\n",
       "      <td>0.000000</td>\n",
       "      <td>...</td>\n",
       "      <td>0.000000</td>\n",
       "      <td>0.000000</td>\n",
       "      <td>0.000000</td>\n",
       "      <td>0.000000</td>\n",
       "      <td>0.000000</td>\n",
       "      <td>0.000000</td>\n",
       "      <td>0.200000</td>\n",
       "      <td>0.200000</td>\n",
       "      <td>0.000000</td>\n",
       "      <td>0.000000</td>\n",
       "    </tr>\n",
       "    <tr>\n",
       "      <th>Social_\"Nigeria\"</th>\n",
       "      <td>0.000000</td>\n",
       "      <td>0.000000</td>\n",
       "      <td>0.0</td>\n",
       "      <td>0.000000</td>\n",
       "      <td>0.000000</td>\n",
       "      <td>0.000000</td>\n",
       "      <td>0.000000</td>\n",
       "      <td>0.000000</td>\n",
       "      <td>0.0</td>\n",
       "      <td>0.000000</td>\n",
       "      <td>...</td>\n",
       "      <td>0.288675</td>\n",
       "      <td>0.707107</td>\n",
       "      <td>0.707107</td>\n",
       "      <td>0.707107</td>\n",
       "      <td>0.447214</td>\n",
       "      <td>0.707107</td>\n",
       "      <td>0.200000</td>\n",
       "      <td>0.000000</td>\n",
       "      <td>0.408248</td>\n",
       "      <td>0.447214</td>\n",
       "    </tr>\n",
       "    <tr>\n",
       "      <th>Social_\"North Korea\"</th>\n",
       "      <td>0.000000</td>\n",
       "      <td>0.000000</td>\n",
       "      <td>0.0</td>\n",
       "      <td>0.000000</td>\n",
       "      <td>0.000000</td>\n",
       "      <td>0.000000</td>\n",
       "      <td>0.000000</td>\n",
       "      <td>0.000000</td>\n",
       "      <td>0.0</td>\n",
       "      <td>0.000000</td>\n",
       "      <td>...</td>\n",
       "      <td>0.288675</td>\n",
       "      <td>0.000000</td>\n",
       "      <td>0.000000</td>\n",
       "      <td>0.000000</td>\n",
       "      <td>0.000000</td>\n",
       "      <td>0.000000</td>\n",
       "      <td>0.000000</td>\n",
       "      <td>0.000000</td>\n",
       "      <td>0.000000</td>\n",
       "      <td>0.000000</td>\n",
       "    </tr>\n",
       "    <tr>\n",
       "      <th>Social_\"Norway\"</th>\n",
       "      <td>0.000000</td>\n",
       "      <td>0.000000</td>\n",
       "      <td>0.0</td>\n",
       "      <td>0.000000</td>\n",
       "      <td>0.000000</td>\n",
       "      <td>0.000000</td>\n",
       "      <td>0.000000</td>\n",
       "      <td>0.000000</td>\n",
       "      <td>0.0</td>\n",
       "      <td>0.000000</td>\n",
       "      <td>...</td>\n",
       "      <td>0.288675</td>\n",
       "      <td>0.707107</td>\n",
       "      <td>0.707107</td>\n",
       "      <td>0.707107</td>\n",
       "      <td>0.447214</td>\n",
       "      <td>0.707107</td>\n",
       "      <td>0.200000</td>\n",
       "      <td>0.000000</td>\n",
       "      <td>0.408248</td>\n",
       "      <td>0.447214</td>\n",
       "    </tr>\n",
       "    <tr>\n",
       "      <th>Social_\"Pakistan\"</th>\n",
       "      <td>0.000000</td>\n",
       "      <td>0.000000</td>\n",
       "      <td>0.0</td>\n",
       "      <td>0.000000</td>\n",
       "      <td>0.000000</td>\n",
       "      <td>0.000000</td>\n",
       "      <td>0.000000</td>\n",
       "      <td>0.000000</td>\n",
       "      <td>0.0</td>\n",
       "      <td>0.000000</td>\n",
       "      <td>...</td>\n",
       "      <td>0.288675</td>\n",
       "      <td>0.707107</td>\n",
       "      <td>0.707107</td>\n",
       "      <td>0.707107</td>\n",
       "      <td>0.447214</td>\n",
       "      <td>0.707107</td>\n",
       "      <td>0.200000</td>\n",
       "      <td>0.000000</td>\n",
       "      <td>0.408248</td>\n",
       "      <td>0.447214</td>\n",
       "    </tr>\n",
       "    <tr>\n",
       "      <th>Social_\"Philippines\"</th>\n",
       "      <td>0.000000</td>\n",
       "      <td>0.000000</td>\n",
       "      <td>0.0</td>\n",
       "      <td>0.000000</td>\n",
       "      <td>0.000000</td>\n",
       "      <td>0.000000</td>\n",
       "      <td>0.000000</td>\n",
       "      <td>0.000000</td>\n",
       "      <td>0.0</td>\n",
       "      <td>0.000000</td>\n",
       "      <td>...</td>\n",
       "      <td>0.288675</td>\n",
       "      <td>0.707107</td>\n",
       "      <td>0.707107</td>\n",
       "      <td>0.707107</td>\n",
       "      <td>0.447214</td>\n",
       "      <td>0.707107</td>\n",
       "      <td>0.200000</td>\n",
       "      <td>0.000000</td>\n",
       "      <td>0.408248</td>\n",
       "      <td>0.447214</td>\n",
       "    </tr>\n",
       "    <tr>\n",
       "      <th>Social_\"Poland\"</th>\n",
       "      <td>0.000000</td>\n",
       "      <td>0.000000</td>\n",
       "      <td>0.0</td>\n",
       "      <td>0.000000</td>\n",
       "      <td>0.000000</td>\n",
       "      <td>0.000000</td>\n",
       "      <td>0.000000</td>\n",
       "      <td>0.000000</td>\n",
       "      <td>0.0</td>\n",
       "      <td>0.000000</td>\n",
       "      <td>...</td>\n",
       "      <td>0.288675</td>\n",
       "      <td>0.707107</td>\n",
       "      <td>0.707107</td>\n",
       "      <td>0.707107</td>\n",
       "      <td>0.447214</td>\n",
       "      <td>0.707107</td>\n",
       "      <td>0.200000</td>\n",
       "      <td>0.000000</td>\n",
       "      <td>0.408248</td>\n",
       "      <td>0.447214</td>\n",
       "    </tr>\n",
       "    <tr>\n",
       "      <th>Social_\"Romania\"</th>\n",
       "      <td>0.235702</td>\n",
       "      <td>0.000000</td>\n",
       "      <td>0.0</td>\n",
       "      <td>0.000000</td>\n",
       "      <td>0.000000</td>\n",
       "      <td>0.000000</td>\n",
       "      <td>0.000000</td>\n",
       "      <td>0.000000</td>\n",
       "      <td>0.0</td>\n",
       "      <td>0.000000</td>\n",
       "      <td>...</td>\n",
       "      <td>0.144338</td>\n",
       "      <td>0.353553</td>\n",
       "      <td>0.353553</td>\n",
       "      <td>0.353553</td>\n",
       "      <td>0.223607</td>\n",
       "      <td>0.353553</td>\n",
       "      <td>0.100000</td>\n",
       "      <td>0.200000</td>\n",
       "      <td>0.204124</td>\n",
       "      <td>0.223607</td>\n",
       "    </tr>\n",
       "    <tr>\n",
       "      <th>Social_\"Russia\"</th>\n",
       "      <td>0.121716</td>\n",
       "      <td>0.000000</td>\n",
       "      <td>0.0</td>\n",
       "      <td>0.000000</td>\n",
       "      <td>0.086066</td>\n",
       "      <td>0.154919</td>\n",
       "      <td>0.000000</td>\n",
       "      <td>0.091287</td>\n",
       "      <td>0.0</td>\n",
       "      <td>0.149071</td>\n",
       "      <td>...</td>\n",
       "      <td>0.447214</td>\n",
       "      <td>0.365148</td>\n",
       "      <td>0.182574</td>\n",
       "      <td>0.365148</td>\n",
       "      <td>0.115470</td>\n",
       "      <td>0.365148</td>\n",
       "      <td>0.413118</td>\n",
       "      <td>0.309839</td>\n",
       "      <td>0.105409</td>\n",
       "      <td>0.461880</td>\n",
       "    </tr>\n",
       "    <tr>\n",
       "      <th>Social_\"South Korea\"</th>\n",
       "      <td>0.068041</td>\n",
       "      <td>0.000000</td>\n",
       "      <td>0.0</td>\n",
       "      <td>0.000000</td>\n",
       "      <td>0.000000</td>\n",
       "      <td>0.000000</td>\n",
       "      <td>0.000000</td>\n",
       "      <td>0.000000</td>\n",
       "      <td>0.0</td>\n",
       "      <td>0.166667</td>\n",
       "      <td>...</td>\n",
       "      <td>1.000000</td>\n",
       "      <td>0.204124</td>\n",
       "      <td>0.204124</td>\n",
       "      <td>0.408248</td>\n",
       "      <td>0.258199</td>\n",
       "      <td>0.204124</td>\n",
       "      <td>0.230940</td>\n",
       "      <td>0.115470</td>\n",
       "      <td>0.117851</td>\n",
       "      <td>0.129099</td>\n",
       "    </tr>\n",
       "    <tr>\n",
       "      <th>Social_\"Spain\"</th>\n",
       "      <td>0.000000</td>\n",
       "      <td>0.000000</td>\n",
       "      <td>0.0</td>\n",
       "      <td>0.000000</td>\n",
       "      <td>0.000000</td>\n",
       "      <td>0.000000</td>\n",
       "      <td>0.000000</td>\n",
       "      <td>0.000000</td>\n",
       "      <td>0.0</td>\n",
       "      <td>0.000000</td>\n",
       "      <td>...</td>\n",
       "      <td>0.204124</td>\n",
       "      <td>1.000000</td>\n",
       "      <td>0.500000</td>\n",
       "      <td>0.500000</td>\n",
       "      <td>0.316228</td>\n",
       "      <td>0.500000</td>\n",
       "      <td>0.282843</td>\n",
       "      <td>0.141421</td>\n",
       "      <td>0.288675</td>\n",
       "      <td>0.316228</td>\n",
       "    </tr>\n",
       "    <tr>\n",
       "      <th>Social_\"Sweden\"</th>\n",
       "      <td>0.000000</td>\n",
       "      <td>0.000000</td>\n",
       "      <td>0.0</td>\n",
       "      <td>0.000000</td>\n",
       "      <td>0.000000</td>\n",
       "      <td>0.000000</td>\n",
       "      <td>0.000000</td>\n",
       "      <td>0.000000</td>\n",
       "      <td>0.0</td>\n",
       "      <td>0.000000</td>\n",
       "      <td>...</td>\n",
       "      <td>0.204124</td>\n",
       "      <td>0.500000</td>\n",
       "      <td>1.000000</td>\n",
       "      <td>0.500000</td>\n",
       "      <td>0.316228</td>\n",
       "      <td>0.500000</td>\n",
       "      <td>0.141421</td>\n",
       "      <td>0.000000</td>\n",
       "      <td>0.288675</td>\n",
       "      <td>0.316228</td>\n",
       "    </tr>\n",
       "    <tr>\n",
       "      <th>Social_\"Switzerland\"</th>\n",
       "      <td>0.000000</td>\n",
       "      <td>0.000000</td>\n",
       "      <td>0.0</td>\n",
       "      <td>0.000000</td>\n",
       "      <td>0.000000</td>\n",
       "      <td>0.000000</td>\n",
       "      <td>0.000000</td>\n",
       "      <td>0.000000</td>\n",
       "      <td>0.0</td>\n",
       "      <td>0.000000</td>\n",
       "      <td>...</td>\n",
       "      <td>0.408248</td>\n",
       "      <td>0.500000</td>\n",
       "      <td>0.500000</td>\n",
       "      <td>1.000000</td>\n",
       "      <td>0.316228</td>\n",
       "      <td>0.500000</td>\n",
       "      <td>0.282843</td>\n",
       "      <td>0.141421</td>\n",
       "      <td>0.288675</td>\n",
       "      <td>0.316228</td>\n",
       "    </tr>\n",
       "    <tr>\n",
       "      <th>Social_\"Taiwan\"</th>\n",
       "      <td>0.000000</td>\n",
       "      <td>0.000000</td>\n",
       "      <td>0.0</td>\n",
       "      <td>0.000000</td>\n",
       "      <td>0.000000</td>\n",
       "      <td>0.000000</td>\n",
       "      <td>0.000000</td>\n",
       "      <td>0.000000</td>\n",
       "      <td>0.0</td>\n",
       "      <td>0.000000</td>\n",
       "      <td>...</td>\n",
       "      <td>0.258199</td>\n",
       "      <td>0.316228</td>\n",
       "      <td>0.316228</td>\n",
       "      <td>0.316228</td>\n",
       "      <td>1.000000</td>\n",
       "      <td>0.316228</td>\n",
       "      <td>0.089443</td>\n",
       "      <td>0.000000</td>\n",
       "      <td>0.182574</td>\n",
       "      <td>0.200000</td>\n",
       "    </tr>\n",
       "    <tr>\n",
       "      <th>Social_\"Ukraine\"</th>\n",
       "      <td>0.000000</td>\n",
       "      <td>0.000000</td>\n",
       "      <td>0.0</td>\n",
       "      <td>0.000000</td>\n",
       "      <td>0.235702</td>\n",
       "      <td>0.141421</td>\n",
       "      <td>0.000000</td>\n",
       "      <td>0.250000</td>\n",
       "      <td>0.0</td>\n",
       "      <td>0.000000</td>\n",
       "      <td>...</td>\n",
       "      <td>0.204124</td>\n",
       "      <td>0.500000</td>\n",
       "      <td>0.500000</td>\n",
       "      <td>0.500000</td>\n",
       "      <td>0.316228</td>\n",
       "      <td>1.000000</td>\n",
       "      <td>0.282843</td>\n",
       "      <td>0.000000</td>\n",
       "      <td>0.288675</td>\n",
       "      <td>0.632456</td>\n",
       "    </tr>\n",
       "    <tr>\n",
       "      <th>Social_\"United Kingdom\"</th>\n",
       "      <td>0.141421</td>\n",
       "      <td>0.040000</td>\n",
       "      <td>0.0</td>\n",
       "      <td>0.141421</td>\n",
       "      <td>0.133333</td>\n",
       "      <td>0.160000</td>\n",
       "      <td>0.000000</td>\n",
       "      <td>0.141421</td>\n",
       "      <td>0.0</td>\n",
       "      <td>0.000000</td>\n",
       "      <td>...</td>\n",
       "      <td>0.230940</td>\n",
       "      <td>0.282843</td>\n",
       "      <td>0.141421</td>\n",
       "      <td>0.282843</td>\n",
       "      <td>0.089443</td>\n",
       "      <td>0.282843</td>\n",
       "      <td>1.000000</td>\n",
       "      <td>0.360000</td>\n",
       "      <td>0.081650</td>\n",
       "      <td>0.357771</td>\n",
       "    </tr>\n",
       "    <tr>\n",
       "      <th>Social_\"United States\"</th>\n",
       "      <td>0.188562</td>\n",
       "      <td>0.040000</td>\n",
       "      <td>0.0</td>\n",
       "      <td>0.000000</td>\n",
       "      <td>0.066667</td>\n",
       "      <td>0.120000</td>\n",
       "      <td>0.000000</td>\n",
       "      <td>0.070711</td>\n",
       "      <td>0.0</td>\n",
       "      <td>0.000000</td>\n",
       "      <td>...</td>\n",
       "      <td>0.115470</td>\n",
       "      <td>0.141421</td>\n",
       "      <td>0.000000</td>\n",
       "      <td>0.141421</td>\n",
       "      <td>0.000000</td>\n",
       "      <td>0.000000</td>\n",
       "      <td>0.360000</td>\n",
       "      <td>1.000000</td>\n",
       "      <td>0.000000</td>\n",
       "      <td>0.178885</td>\n",
       "    </tr>\n",
       "    <tr>\n",
       "      <th>Social_\"Venezuela\"</th>\n",
       "      <td>0.000000</td>\n",
       "      <td>0.000000</td>\n",
       "      <td>0.0</td>\n",
       "      <td>0.000000</td>\n",
       "      <td>0.000000</td>\n",
       "      <td>0.000000</td>\n",
       "      <td>0.000000</td>\n",
       "      <td>0.000000</td>\n",
       "      <td>0.0</td>\n",
       "      <td>0.000000</td>\n",
       "      <td>...</td>\n",
       "      <td>0.117851</td>\n",
       "      <td>0.288675</td>\n",
       "      <td>0.288675</td>\n",
       "      <td>0.288675</td>\n",
       "      <td>0.182574</td>\n",
       "      <td>0.288675</td>\n",
       "      <td>0.081650</td>\n",
       "      <td>0.000000</td>\n",
       "      <td>1.000000</td>\n",
       "      <td>0.182574</td>\n",
       "    </tr>\n",
       "    <tr>\n",
       "      <th>Social_\"Vietnam\"</th>\n",
       "      <td>0.210819</td>\n",
       "      <td>0.000000</td>\n",
       "      <td>0.0</td>\n",
       "      <td>0.000000</td>\n",
       "      <td>0.149071</td>\n",
       "      <td>0.268328</td>\n",
       "      <td>0.000000</td>\n",
       "      <td>0.158114</td>\n",
       "      <td>0.0</td>\n",
       "      <td>0.000000</td>\n",
       "      <td>...</td>\n",
       "      <td>0.129099</td>\n",
       "      <td>0.316228</td>\n",
       "      <td>0.316228</td>\n",
       "      <td>0.316228</td>\n",
       "      <td>0.200000</td>\n",
       "      <td>0.632456</td>\n",
       "      <td>0.357771</td>\n",
       "      <td>0.178885</td>\n",
       "      <td>0.182574</td>\n",
       "      <td>1.000000</td>\n",
       "    </tr>\n",
       "  </tbody>\n",
       "</table>\n",
       "<p>62 rows × 62 columns</p>\n",
       "</div>"
      ],
      "text/plain": [
       "                          Journal_\"China\"  Journal_\"India\"  Journal_\"Japan\"  \\\n",
       "Journal_\"China\"                  1.000000         0.047140              0.0   \n",
       "Journal_\"India\"                  0.047140         1.000000              0.0   \n",
       "Journal_\"Japan\"                  0.000000         0.000000              1.0   \n",
       "Journal_\"United States\"          0.000000         0.000000              0.0   \n",
       "Medical_\"Canada\"                 0.000000         0.000000              0.0   \n",
       "Medical_\"China\"                  0.188562         0.120000              0.0   \n",
       "Medical_\"Djibouti\"               0.000000         0.000000              0.0   \n",
       "Medical_\"France\"                 0.000000         0.000000              0.0   \n",
       "Medical_\"Germany\"                0.000000         0.000000              0.0   \n",
       "Medical_\"Ghana\"                  0.000000         0.000000              0.0   \n",
       "Medical_\"Iran\"                   0.000000         0.047140              0.0   \n",
       "Medical_\"Iraq\"                   0.000000         0.000000              0.0   \n",
       "Medical_\"Ireland\"                0.000000         0.000000              0.0   \n",
       "Medical_\"Italy\"                  0.272166         0.000000              0.0   \n",
       "Medical_\"Portugal\"               0.000000         0.000000              0.0   \n",
       "Medical_\"Russia\"                 0.000000         0.000000              0.0   \n",
       "Medical_\"Saudi Arabia\"           0.105409         0.000000              0.0   \n",
       "Medical_\"South Korea\"            0.000000         0.000000              0.0   \n",
       "Medical_\"Spain\"                  0.000000         0.000000              0.0   \n",
       "Medical_\"Turkey\"                 0.000000         0.000000              0.0   \n",
       "Medical_\"Ukraine\"                0.000000         0.000000              0.0   \n",
       "Medical_\"United Kingdom\"         0.000000         0.081650              0.0   \n",
       "Medical_\"United States\"          0.094281         0.000000              0.0   \n",
       "Social_\"Argentina\"               0.000000         0.000000              0.0   \n",
       "Social_\"Australia\"               0.000000         0.000000              0.0   \n",
       "Social_\"Belgium\"                 0.111111         0.000000              0.0   \n",
       "Social_\"Canada\"                  0.094281         0.040000              0.0   \n",
       "Social_\"China\"                   0.235702         0.040000              0.0   \n",
       "Social_\"Ethiopia\"                0.000000         0.000000              0.0   \n",
       "Social_\"France\"                  0.136083         0.000000              0.0   \n",
       "Social_\"Germany\"                 0.235702         0.000000              0.0   \n",
       "Social_\"Greece\"                  0.000000         0.000000              0.0   \n",
       "Social_\"Guinea\"                  0.000000         0.000000              0.0   \n",
       "Social_\"Guyana\"                  0.162221         0.045883              0.0   \n",
       "Social_\"India\"                   0.000000         0.000000              0.0   \n",
       "Social_\"Indonesia\"               0.000000         0.000000              0.0   \n",
       "Social_\"Iran\"                    0.117851         0.000000              0.0   \n",
       "Social_\"Ireland\"                 0.000000         0.000000              0.0   \n",
       "Social_\"Italy\"                   0.294628         0.000000              0.0   \n",
       "Social_\"Japan\"                   0.117851         0.000000              0.0   \n",
       "Social_\"Malaysia\"                0.000000         0.000000              0.0   \n",
       "Social_\"Mexico\"                  0.000000         0.000000              0.0   \n",
       "Social_\"Netherlands\"             0.000000         0.000000              0.0   \n",
       "Social_\"New Zealand\"             0.000000         0.000000              0.0   \n",
       "Social_\"Nigeria\"                 0.000000         0.000000              0.0   \n",
       "Social_\"North Korea\"             0.000000         0.000000              0.0   \n",
       "Social_\"Norway\"                  0.000000         0.000000              0.0   \n",
       "Social_\"Pakistan\"                0.000000         0.000000              0.0   \n",
       "Social_\"Philippines\"             0.000000         0.000000              0.0   \n",
       "Social_\"Poland\"                  0.000000         0.000000              0.0   \n",
       "Social_\"Romania\"                 0.235702         0.000000              0.0   \n",
       "Social_\"Russia\"                  0.121716         0.000000              0.0   \n",
       "Social_\"South Korea\"             0.068041         0.000000              0.0   \n",
       "Social_\"Spain\"                   0.000000         0.000000              0.0   \n",
       "Social_\"Sweden\"                  0.000000         0.000000              0.0   \n",
       "Social_\"Switzerland\"             0.000000         0.000000              0.0   \n",
       "Social_\"Taiwan\"                  0.000000         0.000000              0.0   \n",
       "Social_\"Ukraine\"                 0.000000         0.000000              0.0   \n",
       "Social_\"United Kingdom\"          0.141421         0.040000              0.0   \n",
       "Social_\"United States\"           0.188562         0.040000              0.0   \n",
       "Social_\"Venezuela\"               0.000000         0.000000              0.0   \n",
       "Social_\"Vietnam\"                 0.210819         0.000000              0.0   \n",
       "\n",
       "                          Journal_\"United States\"  Medical_\"Canada\"  \\\n",
       "Journal_\"China\"                          0.000000          0.000000   \n",
       "Journal_\"India\"                          0.000000          0.000000   \n",
       "Journal_\"Japan\"                          0.000000          0.000000   \n",
       "Journal_\"United States\"                  1.000000          0.000000   \n",
       "Medical_\"Canada\"                         0.000000          1.000000   \n",
       "Medical_\"China\"                          0.000000          0.133333   \n",
       "Medical_\"Djibouti\"                       0.000000          0.000000   \n",
       "Medical_\"France\"                         0.000000          0.235702   \n",
       "Medical_\"Germany\"                        0.000000          0.000000   \n",
       "Medical_\"Ghana\"                          0.000000          0.000000   \n",
       "Medical_\"Iran\"                           0.000000          0.157135   \n",
       "Medical_\"Iraq\"                           0.000000          0.000000   \n",
       "Medical_\"Ireland\"                        0.000000          0.000000   \n",
       "Medical_\"Italy\"                          0.000000          0.000000   \n",
       "Medical_\"Portugal\"                       0.000000          0.000000   \n",
       "Medical_\"Russia\"                         0.000000          0.235702   \n",
       "Medical_\"Saudi Arabia\"                   0.000000          0.149071   \n",
       "Medical_\"South Korea\"                    0.000000          0.000000   \n",
       "Medical_\"Spain\"                          0.000000          0.117851   \n",
       "Medical_\"Turkey\"                         0.000000          0.333333   \n",
       "Medical_\"Ukraine\"                        0.000000          0.235702   \n",
       "Medical_\"United Kingdom\"                 0.000000          0.136083   \n",
       "Medical_\"United States\"                  0.000000          0.133333   \n",
       "Social_\"Argentina\"                       0.000000          0.000000   \n",
       "Social_\"Australia\"                       0.000000          0.000000   \n",
       "Social_\"Belgium\"                         0.000000          0.078567   \n",
       "Social_\"Canada\"                          0.141421          0.133333   \n",
       "Social_\"China\"                           0.000000          0.133333   \n",
       "Social_\"Ethiopia\"                        0.000000          0.000000   \n",
       "Social_\"France\"                          0.000000          0.096225   \n",
       "Social_\"Germany\"                         0.000000          0.000000   \n",
       "Social_\"Greece\"                          0.000000          0.000000   \n",
       "Social_\"Guinea\"                          0.000000          0.000000   \n",
       "Social_\"Guyana\"                          0.000000          0.000000   \n",
       "Social_\"India\"                           0.000000          0.000000   \n",
       "Social_\"Indonesia\"                       0.000000          0.000000   \n",
       "Social_\"Iran\"                            0.000000          0.083333   \n",
       "Social_\"Ireland\"                         0.000000          0.000000   \n",
       "Social_\"Italy\"                           0.000000          0.166667   \n",
       "Social_\"Japan\"                           0.000000          0.000000   \n",
       "Social_\"Malaysia\"                        0.000000          0.000000   \n",
       "Social_\"Mexico\"                          0.000000          0.000000   \n",
       "Social_\"Netherlands\"                     0.000000          0.000000   \n",
       "Social_\"New Zealand\"                     0.000000          0.000000   \n",
       "Social_\"Nigeria\"                         0.000000          0.000000   \n",
       "Social_\"North Korea\"                     0.000000          0.000000   \n",
       "Social_\"Norway\"                          0.000000          0.000000   \n",
       "Social_\"Pakistan\"                        0.000000          0.000000   \n",
       "Social_\"Philippines\"                     0.000000          0.000000   \n",
       "Social_\"Poland\"                          0.000000          0.000000   \n",
       "Social_\"Romania\"                         0.000000          0.000000   \n",
       "Social_\"Russia\"                          0.000000          0.086066   \n",
       "Social_\"South Korea\"                     0.000000          0.000000   \n",
       "Social_\"Spain\"                           0.000000          0.000000   \n",
       "Social_\"Sweden\"                          0.000000          0.000000   \n",
       "Social_\"Switzerland\"                     0.000000          0.000000   \n",
       "Social_\"Taiwan\"                          0.000000          0.000000   \n",
       "Social_\"Ukraine\"                         0.000000          0.235702   \n",
       "Social_\"United Kingdom\"                  0.141421          0.133333   \n",
       "Social_\"United States\"                   0.000000          0.066667   \n",
       "Social_\"Venezuela\"                       0.000000          0.000000   \n",
       "Social_\"Vietnam\"                         0.000000          0.149071   \n",
       "\n",
       "                          Medical_\"China\"  Medical_\"Djibouti\"  \\\n",
       "Journal_\"China\"                  0.188562            0.000000   \n",
       "Journal_\"India\"                  0.120000            0.000000   \n",
       "Journal_\"Japan\"                  0.000000            0.000000   \n",
       "Journal_\"United States\"          0.000000            0.000000   \n",
       "Medical_\"Canada\"                 0.133333            0.000000   \n",
       "Medical_\"China\"                  1.000000            0.000000   \n",
       "Medical_\"Djibouti\"               0.000000            1.000000   \n",
       "Medical_\"France\"                 0.141421            0.000000   \n",
       "Medical_\"Germany\"                0.000000            0.000000   \n",
       "Medical_\"Ghana\"                  0.000000            0.000000   \n",
       "Medical_\"Iran\"                   0.188562            0.000000   \n",
       "Medical_\"Iraq\"                   0.000000            0.000000   \n",
       "Medical_\"Ireland\"                0.000000            0.000000   \n",
       "Medical_\"Italy\"                  0.230940            0.000000   \n",
       "Medical_\"Portugal\"               0.000000            0.000000   \n",
       "Medical_\"Russia\"                 0.141421            0.000000   \n",
       "Medical_\"Saudi Arabia\"           0.089443            0.447214   \n",
       "Medical_\"South Korea\"            0.000000            0.000000   \n",
       "Medical_\"Spain\"                  0.070711            0.000000   \n",
       "Medical_\"Turkey\"                 0.200000            0.000000   \n",
       "Medical_\"Ukraine\"                0.141421            0.000000   \n",
       "Medical_\"United Kingdom\"         0.163299            0.000000   \n",
       "Medical_\"United States\"          0.160000            0.000000   \n",
       "Social_\"Argentina\"               0.000000            0.000000   \n",
       "Social_\"Australia\"               0.000000            0.000000   \n",
       "Social_\"Belgium\"                 0.047140            0.000000   \n",
       "Social_\"Canada\"                  0.160000            0.000000   \n",
       "Social_\"China\"                   0.160000            0.000000   \n",
       "Social_\"Ethiopia\"                0.000000            0.000000   \n",
       "Social_\"France\"                  0.057735            0.000000   \n",
       "Social_\"Germany\"                 0.000000            0.000000   \n",
       "Social_\"Greece\"                  0.000000            0.000000   \n",
       "Social_\"Guinea\"                  0.000000            0.000000   \n",
       "Social_\"Guyana\"                  0.045883            0.000000   \n",
       "Social_\"India\"                   0.000000            0.000000   \n",
       "Social_\"Indonesia\"               0.000000            0.000000   \n",
       "Social_\"Iran\"                    0.050000            0.000000   \n",
       "Social_\"Ireland\"                 0.000000            0.000000   \n",
       "Social_\"Italy\"                   0.200000            0.000000   \n",
       "Social_\"Japan\"                   0.100000            0.000000   \n",
       "Social_\"Malaysia\"                0.000000            0.000000   \n",
       "Social_\"Mexico\"                  0.000000            0.000000   \n",
       "Social_\"Netherlands\"             0.000000            0.000000   \n",
       "Social_\"New Zealand\"             0.000000            0.000000   \n",
       "Social_\"Nigeria\"                 0.000000            0.000000   \n",
       "Social_\"North Korea\"             0.000000            0.000000   \n",
       "Social_\"Norway\"                  0.000000            0.000000   \n",
       "Social_\"Pakistan\"                0.000000            0.000000   \n",
       "Social_\"Philippines\"             0.000000            0.000000   \n",
       "Social_\"Poland\"                  0.000000            0.000000   \n",
       "Social_\"Romania\"                 0.000000            0.000000   \n",
       "Social_\"Russia\"                  0.154919            0.000000   \n",
       "Social_\"South Korea\"             0.000000            0.000000   \n",
       "Social_\"Spain\"                   0.000000            0.000000   \n",
       "Social_\"Sweden\"                  0.000000            0.000000   \n",
       "Social_\"Switzerland\"             0.000000            0.000000   \n",
       "Social_\"Taiwan\"                  0.000000            0.000000   \n",
       "Social_\"Ukraine\"                 0.141421            0.000000   \n",
       "Social_\"United Kingdom\"          0.160000            0.000000   \n",
       "Social_\"United States\"           0.120000            0.000000   \n",
       "Social_\"Venezuela\"               0.000000            0.000000   \n",
       "Social_\"Vietnam\"                 0.268328            0.000000   \n",
       "\n",
       "                          Medical_\"France\"  Medical_\"Germany\"  \\\n",
       "Journal_\"China\"                   0.000000                0.0   \n",
       "Journal_\"India\"                   0.000000                0.0   \n",
       "Journal_\"Japan\"                   0.000000                0.0   \n",
       "Journal_\"United States\"           0.000000                0.0   \n",
       "Medical_\"Canada\"                  0.235702                0.0   \n",
       "Medical_\"China\"                   0.141421                0.0   \n",
       "Medical_\"Djibouti\"                0.000000                0.0   \n",
       "Medical_\"France\"                  1.000000                0.0   \n",
       "Medical_\"Germany\"                 0.000000                1.0   \n",
       "Medical_\"Ghana\"                   0.000000                0.0   \n",
       "Medical_\"Iran\"                    0.166667                0.0   \n",
       "Medical_\"Iraq\"                    0.000000                0.0   \n",
       "Medical_\"Ireland\"                 0.000000                0.0   \n",
       "Medical_\"Italy\"                   0.204124                0.0   \n",
       "Medical_\"Portugal\"                0.000000                0.0   \n",
       "Medical_\"Russia\"                  0.250000                0.0   \n",
       "Medical_\"Saudi Arabia\"            0.158114                0.0   \n",
       "Medical_\"South Korea\"             0.000000                0.0   \n",
       "Medical_\"Spain\"                   0.125000                0.0   \n",
       "Medical_\"Turkey\"                  0.353553                0.0   \n",
       "Medical_\"Ukraine\"                 0.250000                0.0   \n",
       "Medical_\"United Kingdom\"          0.144338                0.0   \n",
       "Medical_\"United States\"           0.141421                0.0   \n",
       "Social_\"Argentina\"                0.000000                0.0   \n",
       "Social_\"Australia\"                0.000000                0.0   \n",
       "Social_\"Belgium\"                  0.083333                0.0   \n",
       "Social_\"Canada\"                   0.141421                0.0   \n",
       "Social_\"China\"                    0.141421                0.0   \n",
       "Social_\"Ethiopia\"                 0.000000                0.0   \n",
       "Social_\"France\"                   0.102062                0.0   \n",
       "Social_\"Germany\"                  0.000000                0.0   \n",
       "Social_\"Greece\"                   0.000000                0.0   \n",
       "Social_\"Guinea\"                   0.000000                0.0   \n",
       "Social_\"Guyana\"                   0.000000                0.0   \n",
       "Social_\"India\"                    0.000000                0.0   \n",
       "Social_\"Indonesia\"                0.000000                0.0   \n",
       "Social_\"Iran\"                     0.088388                0.0   \n",
       "Social_\"Ireland\"                  0.000000                0.0   \n",
       "Social_\"Italy\"                    0.176777                0.0   \n",
       "Social_\"Japan\"                    0.000000                0.0   \n",
       "Social_\"Malaysia\"                 0.000000                0.0   \n",
       "Social_\"Mexico\"                   0.000000                0.0   \n",
       "Social_\"Netherlands\"              0.000000                0.0   \n",
       "Social_\"New Zealand\"              0.000000                0.0   \n",
       "Social_\"Nigeria\"                  0.000000                0.0   \n",
       "Social_\"North Korea\"              0.000000                0.0   \n",
       "Social_\"Norway\"                   0.000000                0.0   \n",
       "Social_\"Pakistan\"                 0.000000                0.0   \n",
       "Social_\"Philippines\"              0.000000                0.0   \n",
       "Social_\"Poland\"                   0.000000                0.0   \n",
       "Social_\"Romania\"                  0.000000                0.0   \n",
       "Social_\"Russia\"                   0.091287                0.0   \n",
       "Social_\"South Korea\"              0.000000                0.0   \n",
       "Social_\"Spain\"                    0.000000                0.0   \n",
       "Social_\"Sweden\"                   0.000000                0.0   \n",
       "Social_\"Switzerland\"              0.000000                0.0   \n",
       "Social_\"Taiwan\"                   0.000000                0.0   \n",
       "Social_\"Ukraine\"                  0.250000                0.0   \n",
       "Social_\"United Kingdom\"           0.141421                0.0   \n",
       "Social_\"United States\"            0.070711                0.0   \n",
       "Social_\"Venezuela\"                0.000000                0.0   \n",
       "Social_\"Vietnam\"                  0.158114                0.0   \n",
       "\n",
       "                          Medical_\"Ghana\"  ...  Social_\"South Korea\"  \\\n",
       "Journal_\"China\"                  0.000000  ...              0.068041   \n",
       "Journal_\"India\"                  0.000000  ...              0.000000   \n",
       "Journal_\"Japan\"                  0.000000  ...              0.000000   \n",
       "Journal_\"United States\"          0.000000  ...              0.000000   \n",
       "Medical_\"Canada\"                 0.000000  ...              0.000000   \n",
       "Medical_\"China\"                  0.000000  ...              0.000000   \n",
       "Medical_\"Djibouti\"               0.000000  ...              0.000000   \n",
       "Medical_\"France\"                 0.000000  ...              0.000000   \n",
       "Medical_\"Germany\"                0.000000  ...              0.000000   \n",
       "Medical_\"Ghana\"                  1.000000  ...              0.166667   \n",
       "Medical_\"Iran\"                   0.000000  ...              0.068041   \n",
       "Medical_\"Iraq\"                   0.000000  ...              0.000000   \n",
       "Medical_\"Ireland\"                0.000000  ...              0.000000   \n",
       "Medical_\"Italy\"                  0.000000  ...              0.000000   \n",
       "Medical_\"Portugal\"               0.000000  ...              0.000000   \n",
       "Medical_\"Russia\"                 0.000000  ...              0.000000   \n",
       "Medical_\"Saudi Arabia\"           0.000000  ...              0.000000   \n",
       "Medical_\"South Korea\"            0.000000  ...              0.288675   \n",
       "Medical_\"Spain\"                  0.000000  ...              0.102062   \n",
       "Medical_\"Turkey\"                 0.000000  ...              0.000000   \n",
       "Medical_\"Ukraine\"                0.000000  ...              0.000000   \n",
       "Medical_\"United Kingdom\"         0.000000  ...              0.117851   \n",
       "Medical_\"United States\"          0.000000  ...              0.057735   \n",
       "Social_\"Argentina\"               0.000000  ...              0.333333   \n",
       "Social_\"Australia\"               0.000000  ...              0.288675   \n",
       "Social_\"Belgium\"                 0.136083  ...              0.408248   \n",
       "Social_\"Canada\"                  0.000000  ...              0.173205   \n",
       "Social_\"China\"                   0.115470  ...              0.346410   \n",
       "Social_\"Ethiopia\"                0.000000  ...              0.000000   \n",
       "Social_\"France\"                  0.000000  ...              0.333333   \n",
       "Social_\"Germany\"                 0.000000  ...              0.288675   \n",
       "Social_\"Greece\"                  0.000000  ...              0.000000   \n",
       "Social_\"Guinea\"                  0.000000  ...              0.117851   \n",
       "Social_\"Guyana\"                  0.000000  ...              0.463586   \n",
       "Social_\"India\"                   0.000000  ...              0.408248   \n",
       "Social_\"Indonesia\"               0.000000  ...              0.288675   \n",
       "Social_\"Iran\"                    0.000000  ...              0.288675   \n",
       "Social_\"Ireland\"                 0.000000  ...              0.288675   \n",
       "Social_\"Italy\"                   0.000000  ...              0.433013   \n",
       "Social_\"Japan\"                   0.000000  ...              0.360844   \n",
       "Social_\"Malaysia\"                0.000000  ...              0.288675   \n",
       "Social_\"Mexico\"                  0.000000  ...              0.109109   \n",
       "Social_\"Netherlands\"             0.000000  ...              0.288675   \n",
       "Social_\"New Zealand\"             0.000000  ...              0.000000   \n",
       "Social_\"Nigeria\"                 0.000000  ...              0.288675   \n",
       "Social_\"North Korea\"             0.000000  ...              0.288675   \n",
       "Social_\"Norway\"                  0.000000  ...              0.288675   \n",
       "Social_\"Pakistan\"                0.000000  ...              0.288675   \n",
       "Social_\"Philippines\"             0.000000  ...              0.288675   \n",
       "Social_\"Poland\"                  0.000000  ...              0.288675   \n",
       "Social_\"Romania\"                 0.000000  ...              0.144338   \n",
       "Social_\"Russia\"                  0.149071  ...              0.447214   \n",
       "Social_\"South Korea\"             0.166667  ...              1.000000   \n",
       "Social_\"Spain\"                   0.000000  ...              0.204124   \n",
       "Social_\"Sweden\"                  0.000000  ...              0.204124   \n",
       "Social_\"Switzerland\"             0.000000  ...              0.408248   \n",
       "Social_\"Taiwan\"                  0.000000  ...              0.258199   \n",
       "Social_\"Ukraine\"                 0.000000  ...              0.204124   \n",
       "Social_\"United Kingdom\"          0.000000  ...              0.230940   \n",
       "Social_\"United States\"           0.000000  ...              0.115470   \n",
       "Social_\"Venezuela\"               0.000000  ...              0.117851   \n",
       "Social_\"Vietnam\"                 0.000000  ...              0.129099   \n",
       "\n",
       "                          Social_\"Spain\"  Social_\"Sweden\"  \\\n",
       "Journal_\"China\"                 0.000000         0.000000   \n",
       "Journal_\"India\"                 0.000000         0.000000   \n",
       "Journal_\"Japan\"                 0.000000         0.000000   \n",
       "Journal_\"United States\"         0.000000         0.000000   \n",
       "Medical_\"Canada\"                0.000000         0.000000   \n",
       "Medical_\"China\"                 0.000000         0.000000   \n",
       "Medical_\"Djibouti\"              0.000000         0.000000   \n",
       "Medical_\"France\"                0.000000         0.000000   \n",
       "Medical_\"Germany\"               0.000000         0.000000   \n",
       "Medical_\"Ghana\"                 0.000000         0.000000   \n",
       "Medical_\"Iran\"                  0.000000         0.000000   \n",
       "Medical_\"Iraq\"                  0.000000         0.000000   \n",
       "Medical_\"Ireland\"               0.000000         0.000000   \n",
       "Medical_\"Italy\"                 0.000000         0.000000   \n",
       "Medical_\"Portugal\"              0.000000         0.000000   \n",
       "Medical_\"Russia\"                0.000000         0.000000   \n",
       "Medical_\"Saudi Arabia\"          0.000000         0.000000   \n",
       "Medical_\"South Korea\"           0.000000         0.000000   \n",
       "Medical_\"Spain\"                 0.000000         0.000000   \n",
       "Medical_\"Turkey\"                0.000000         0.000000   \n",
       "Medical_\"Ukraine\"               0.000000         0.000000   \n",
       "Medical_\"United Kingdom\"        0.000000         0.000000   \n",
       "Medical_\"United States\"         0.000000         0.000000   \n",
       "Social_\"Argentina\"              0.816497         0.408248   \n",
       "Social_\"Australia\"              0.707107         0.707107   \n",
       "Social_\"Belgium\"                0.166667         0.166667   \n",
       "Social_\"Canada\"                 0.282843         0.141421   \n",
       "Social_\"China\"                  0.282843         0.141421   \n",
       "Social_\"Ethiopia\"               0.000000         0.000000   \n",
       "Social_\"France\"                 0.204124         0.204124   \n",
       "Social_\"Germany\"                0.353553         0.353553   \n",
       "Social_\"Greece\"                 0.000000         0.000000   \n",
       "Social_\"Guinea\"                 0.288675         0.288675   \n",
       "Social_\"Guyana\"                 0.162221         0.324443   \n",
       "Social_\"India\"                  0.500000         0.500000   \n",
       "Social_\"Indonesia\"              0.707107         0.707107   \n",
       "Social_\"Iran\"                   0.176777         0.176777   \n",
       "Social_\"Ireland\"                0.707107         0.707107   \n",
       "Social_\"Italy\"                  0.353553         0.176777   \n",
       "Social_\"Japan\"                  0.176777         0.176777   \n",
       "Social_\"Malaysia\"               0.707107         0.707107   \n",
       "Social_\"Mexico\"                 0.534522         0.267261   \n",
       "Social_\"Netherlands\"            0.707107         0.707107   \n",
       "Social_\"New Zealand\"            0.000000         0.000000   \n",
       "Social_\"Nigeria\"                0.707107         0.707107   \n",
       "Social_\"North Korea\"            0.000000         0.000000   \n",
       "Social_\"Norway\"                 0.707107         0.707107   \n",
       "Social_\"Pakistan\"               0.707107         0.707107   \n",
       "Social_\"Philippines\"            0.707107         0.707107   \n",
       "Social_\"Poland\"                 0.707107         0.707107   \n",
       "Social_\"Romania\"                0.353553         0.353553   \n",
       "Social_\"Russia\"                 0.365148         0.182574   \n",
       "Social_\"South Korea\"            0.204124         0.204124   \n",
       "Social_\"Spain\"                  1.000000         0.500000   \n",
       "Social_\"Sweden\"                 0.500000         1.000000   \n",
       "Social_\"Switzerland\"            0.500000         0.500000   \n",
       "Social_\"Taiwan\"                 0.316228         0.316228   \n",
       "Social_\"Ukraine\"                0.500000         0.500000   \n",
       "Social_\"United Kingdom\"         0.282843         0.141421   \n",
       "Social_\"United States\"          0.141421         0.000000   \n",
       "Social_\"Venezuela\"              0.288675         0.288675   \n",
       "Social_\"Vietnam\"                0.316228         0.316228   \n",
       "\n",
       "                          Social_\"Switzerland\"  Social_\"Taiwan\"  \\\n",
       "Journal_\"China\"                       0.000000         0.000000   \n",
       "Journal_\"India\"                       0.000000         0.000000   \n",
       "Journal_\"Japan\"                       0.000000         0.000000   \n",
       "Journal_\"United States\"               0.000000         0.000000   \n",
       "Medical_\"Canada\"                      0.000000         0.000000   \n",
       "Medical_\"China\"                       0.000000         0.000000   \n",
       "Medical_\"Djibouti\"                    0.000000         0.000000   \n",
       "Medical_\"France\"                      0.000000         0.000000   \n",
       "Medical_\"Germany\"                     0.000000         0.000000   \n",
       "Medical_\"Ghana\"                       0.000000         0.000000   \n",
       "Medical_\"Iran\"                        0.000000         0.000000   \n",
       "Medical_\"Iraq\"                        0.000000         0.000000   \n",
       "Medical_\"Ireland\"                     0.000000         0.000000   \n",
       "Medical_\"Italy\"                       0.000000         0.000000   \n",
       "Medical_\"Portugal\"                    0.000000         0.000000   \n",
       "Medical_\"Russia\"                      0.000000         0.000000   \n",
       "Medical_\"Saudi Arabia\"                0.000000         0.000000   \n",
       "Medical_\"South Korea\"                 0.000000         0.000000   \n",
       "Medical_\"Spain\"                       0.000000         0.000000   \n",
       "Medical_\"Turkey\"                      0.000000         0.000000   \n",
       "Medical_\"Ukraine\"                     0.000000         0.000000   \n",
       "Medical_\"United Kingdom\"              0.000000         0.000000   \n",
       "Medical_\"United States\"               0.000000         0.000000   \n",
       "Social_\"Argentina\"                    0.816497         0.258199   \n",
       "Social_\"Australia\"                    0.707107         0.447214   \n",
       "Social_\"Belgium\"                      0.333333         0.210819   \n",
       "Social_\"Canada\"                       0.282843         0.089443   \n",
       "Social_\"China\"                        0.282843         0.178885   \n",
       "Social_\"Ethiopia\"                     0.000000         0.000000   \n",
       "Social_\"France\"                       0.408248         0.258199   \n",
       "Social_\"Germany\"                      0.707107         0.223607   \n",
       "Social_\"Greece\"                       0.000000         0.000000   \n",
       "Social_\"Guinea\"                       0.288675         0.182574   \n",
       "Social_\"Guyana\"                       0.324443         0.307794   \n",
       "Social_\"India\"                        1.000000         0.316228   \n",
       "Social_\"Indonesia\"                    0.707107         0.447214   \n",
       "Social_\"Iran\"                         0.176777         0.223607   \n",
       "Social_\"Ireland\"                      0.707107         0.447214   \n",
       "Social_\"Italy\"                        0.353553         0.223607   \n",
       "Social_\"Japan\"                        0.353553         0.223607   \n",
       "Social_\"Malaysia\"                     0.707107         0.447214   \n",
       "Social_\"Mexico\"                       0.267261         0.169031   \n",
       "Social_\"Netherlands\"                  0.707107         0.447214   \n",
       "Social_\"New Zealand\"                  0.000000         0.000000   \n",
       "Social_\"Nigeria\"                      0.707107         0.447214   \n",
       "Social_\"North Korea\"                  0.000000         0.000000   \n",
       "Social_\"Norway\"                       0.707107         0.447214   \n",
       "Social_\"Pakistan\"                     0.707107         0.447214   \n",
       "Social_\"Philippines\"                  0.707107         0.447214   \n",
       "Social_\"Poland\"                       0.707107         0.447214   \n",
       "Social_\"Romania\"                      0.353553         0.223607   \n",
       "Social_\"Russia\"                       0.365148         0.115470   \n",
       "Social_\"South Korea\"                  0.408248         0.258199   \n",
       "Social_\"Spain\"                        0.500000         0.316228   \n",
       "Social_\"Sweden\"                       0.500000         0.316228   \n",
       "Social_\"Switzerland\"                  1.000000         0.316228   \n",
       "Social_\"Taiwan\"                       0.316228         1.000000   \n",
       "Social_\"Ukraine\"                      0.500000         0.316228   \n",
       "Social_\"United Kingdom\"               0.282843         0.089443   \n",
       "Social_\"United States\"                0.141421         0.000000   \n",
       "Social_\"Venezuela\"                    0.288675         0.182574   \n",
       "Social_\"Vietnam\"                      0.316228         0.200000   \n",
       "\n",
       "                          Social_\"Ukraine\"  Social_\"United Kingdom\"  \\\n",
       "Journal_\"China\"                   0.000000                 0.141421   \n",
       "Journal_\"India\"                   0.000000                 0.040000   \n",
       "Journal_\"Japan\"                   0.000000                 0.000000   \n",
       "Journal_\"United States\"           0.000000                 0.141421   \n",
       "Medical_\"Canada\"                  0.235702                 0.133333   \n",
       "Medical_\"China\"                   0.141421                 0.160000   \n",
       "Medical_\"Djibouti\"                0.000000                 0.000000   \n",
       "Medical_\"France\"                  0.250000                 0.141421   \n",
       "Medical_\"Germany\"                 0.000000                 0.000000   \n",
       "Medical_\"Ghana\"                   0.000000                 0.000000   \n",
       "Medical_\"Iran\"                    0.166667                 0.094281   \n",
       "Medical_\"Iraq\"                    0.000000                 0.000000   \n",
       "Medical_\"Ireland\"                 0.000000                 0.000000   \n",
       "Medical_\"Italy\"                   0.000000                 0.230940   \n",
       "Medical_\"Portugal\"                0.000000                 0.000000   \n",
       "Medical_\"Russia\"                  0.000000                 0.141421   \n",
       "Medical_\"Saudi Arabia\"            0.316228                 0.089443   \n",
       "Medical_\"South Korea\"             0.000000                 0.000000   \n",
       "Medical_\"Spain\"                   0.000000                 0.141421   \n",
       "Medical_\"Turkey\"                  0.000000                 0.200000   \n",
       "Medical_\"Ukraine\"                 0.000000                 0.141421   \n",
       "Medical_\"United Kingdom\"          0.000000                 0.081650   \n",
       "Medical_\"United States\"           0.141421                 0.200000   \n",
       "Social_\"Argentina\"                0.408248                 0.346410   \n",
       "Social_\"Australia\"                0.707107                 0.200000   \n",
       "Social_\"Belgium\"                  0.333333                 0.188562   \n",
       "Social_\"Canada\"                   0.282843                 0.520000   \n",
       "Social_\"China\"                    0.282843                 0.560000   \n",
       "Social_\"Ethiopia\"                 0.000000                 0.000000   \n",
       "Social_\"France\"                   0.408248                 0.288675   \n",
       "Social_\"Germany\"                  0.353553                 0.200000   \n",
       "Social_\"Greece\"                   0.000000                 0.000000   \n",
       "Social_\"Guinea\"                   0.288675                 0.081650   \n",
       "Social_\"Guyana\"                   0.162221                 0.275299   \n",
       "Social_\"India\"                    0.500000                 0.282843   \n",
       "Social_\"Indonesia\"                0.707107                 0.200000   \n",
       "Social_\"Iran\"                     0.353553                 0.150000   \n",
       "Social_\"Ireland\"                  0.707107                 0.200000   \n",
       "Social_\"Italy\"                    0.353553                 0.450000   \n",
       "Social_\"Japan\"                    0.176777                 0.350000   \n",
       "Social_\"Malaysia\"                 0.707107                 0.200000   \n",
       "Social_\"Mexico\"                   0.267261                 0.151186   \n",
       "Social_\"Netherlands\"              0.707107                 0.200000   \n",
       "Social_\"New Zealand\"              0.000000                 0.200000   \n",
       "Social_\"Nigeria\"                  0.707107                 0.200000   \n",
       "Social_\"North Korea\"              0.000000                 0.000000   \n",
       "Social_\"Norway\"                   0.707107                 0.200000   \n",
       "Social_\"Pakistan\"                 0.707107                 0.200000   \n",
       "Social_\"Philippines\"              0.707107                 0.200000   \n",
       "Social_\"Poland\"                   0.707107                 0.200000   \n",
       "Social_\"Romania\"                  0.353553                 0.100000   \n",
       "Social_\"Russia\"                   0.365148                 0.413118   \n",
       "Social_\"South Korea\"              0.204124                 0.230940   \n",
       "Social_\"Spain\"                    0.500000                 0.282843   \n",
       "Social_\"Sweden\"                   0.500000                 0.141421   \n",
       "Social_\"Switzerland\"              0.500000                 0.282843   \n",
       "Social_\"Taiwan\"                   0.316228                 0.089443   \n",
       "Social_\"Ukraine\"                  1.000000                 0.282843   \n",
       "Social_\"United Kingdom\"           0.282843                 1.000000   \n",
       "Social_\"United States\"            0.000000                 0.360000   \n",
       "Social_\"Venezuela\"                0.288675                 0.081650   \n",
       "Social_\"Vietnam\"                  0.632456                 0.357771   \n",
       "\n",
       "                          Social_\"United States\"  Social_\"Venezuela\"  \\\n",
       "Journal_\"China\"                         0.188562            0.000000   \n",
       "Journal_\"India\"                         0.040000            0.000000   \n",
       "Journal_\"Japan\"                         0.000000            0.000000   \n",
       "Journal_\"United States\"                 0.000000            0.000000   \n",
       "Medical_\"Canada\"                        0.066667            0.000000   \n",
       "Medical_\"China\"                         0.120000            0.000000   \n",
       "Medical_\"Djibouti\"                      0.000000            0.000000   \n",
       "Medical_\"France\"                        0.070711            0.000000   \n",
       "Medical_\"Germany\"                       0.000000            0.000000   \n",
       "Medical_\"Ghana\"                         0.000000            0.000000   \n",
       "Medical_\"Iran\"                          0.094281            0.000000   \n",
       "Medical_\"Iraq\"                          0.000000            0.000000   \n",
       "Medical_\"Ireland\"                       0.000000            0.000000   \n",
       "Medical_\"Italy\"                         0.230940            0.000000   \n",
       "Medical_\"Portugal\"                      0.000000            0.000000   \n",
       "Medical_\"Russia\"                        0.141421            0.288675   \n",
       "Medical_\"Saudi Arabia\"                  0.000000            0.000000   \n",
       "Medical_\"South Korea\"                   0.000000            0.000000   \n",
       "Medical_\"Spain\"                         0.070711            0.000000   \n",
       "Medical_\"Turkey\"                        0.200000            0.000000   \n",
       "Medical_\"Ukraine\"                       0.141421            0.000000   \n",
       "Medical_\"United Kingdom\"                0.163299            0.000000   \n",
       "Medical_\"United States\"                 0.240000            0.081650   \n",
       "Social_\"Argentina\"                      0.230940            0.235702   \n",
       "Social_\"Australia\"                      0.000000            0.408248   \n",
       "Social_\"Belgium\"                        0.188562            0.192450   \n",
       "Social_\"Canada\"                         0.360000            0.081650   \n",
       "Social_\"China\"                          0.400000            0.081650   \n",
       "Social_\"Ethiopia\"                       0.000000            0.000000   \n",
       "Social_\"France\"                         0.173205            0.235702   \n",
       "Social_\"Germany\"                        0.300000            0.204124   \n",
       "Social_\"Greece\"                         0.000000            0.000000   \n",
       "Social_\"Guinea\"                         0.000000            1.000000   \n",
       "Social_\"Guyana\"                         0.137649            0.093659   \n",
       "Social_\"India\"                          0.141421            0.288675   \n",
       "Social_\"Indonesia\"                      0.000000            0.408248   \n",
       "Social_\"Iran\"                           0.150000            0.204124   \n",
       "Social_\"Ireland\"                        0.000000            0.408248   \n",
       "Social_\"Italy\"                          0.350000            0.204124   \n",
       "Social_\"Japan\"                          0.300000            0.204124   \n",
       "Social_\"Malaysia\"                       0.000000            0.408248   \n",
       "Social_\"Mexico\"                         0.075593            0.925820   \n",
       "Social_\"Netherlands\"                    0.000000            0.408248   \n",
       "Social_\"New Zealand\"                    0.200000            0.000000   \n",
       "Social_\"Nigeria\"                        0.000000            0.408248   \n",
       "Social_\"North Korea\"                    0.000000            0.000000   \n",
       "Social_\"Norway\"                         0.000000            0.408248   \n",
       "Social_\"Pakistan\"                       0.000000            0.408248   \n",
       "Social_\"Philippines\"                    0.000000            0.408248   \n",
       "Social_\"Poland\"                         0.000000            0.408248   \n",
       "Social_\"Romania\"                        0.200000            0.204124   \n",
       "Social_\"Russia\"                         0.309839            0.105409   \n",
       "Social_\"South Korea\"                    0.115470            0.117851   \n",
       "Social_\"Spain\"                          0.141421            0.288675   \n",
       "Social_\"Sweden\"                         0.000000            0.288675   \n",
       "Social_\"Switzerland\"                    0.141421            0.288675   \n",
       "Social_\"Taiwan\"                         0.000000            0.182574   \n",
       "Social_\"Ukraine\"                        0.000000            0.288675   \n",
       "Social_\"United Kingdom\"                 0.360000            0.081650   \n",
       "Social_\"United States\"                  1.000000            0.000000   \n",
       "Social_\"Venezuela\"                      0.000000            1.000000   \n",
       "Social_\"Vietnam\"                        0.178885            0.182574   \n",
       "\n",
       "                          Social_\"Vietnam\"  \n",
       "Journal_\"China\"                   0.210819  \n",
       "Journal_\"India\"                   0.000000  \n",
       "Journal_\"Japan\"                   0.000000  \n",
       "Journal_\"United States\"           0.000000  \n",
       "Medical_\"Canada\"                  0.149071  \n",
       "Medical_\"China\"                   0.268328  \n",
       "Medical_\"Djibouti\"                0.000000  \n",
       "Medical_\"France\"                  0.158114  \n",
       "Medical_\"Germany\"                 0.000000  \n",
       "Medical_\"Ghana\"                   0.000000  \n",
       "Medical_\"Iran\"                    0.105409  \n",
       "Medical_\"Iraq\"                    0.000000  \n",
       "Medical_\"Ireland\"                 0.000000  \n",
       "Medical_\"Italy\"                   0.516398  \n",
       "Medical_\"Portugal\"                0.000000  \n",
       "Medical_\"Russia\"                  0.000000  \n",
       "Medical_\"Saudi Arabia\"            0.200000  \n",
       "Medical_\"South Korea\"             0.000000  \n",
       "Medical_\"Spain\"                   0.000000  \n",
       "Medical_\"Turkey\"                  0.000000  \n",
       "Medical_\"Ukraine\"                 0.000000  \n",
       "Medical_\"United Kingdom\"          0.000000  \n",
       "Medical_\"United States\"           0.268328  \n",
       "Social_\"Argentina\"                0.258199  \n",
       "Social_\"Australia\"                0.447214  \n",
       "Social_\"Belgium\"                  0.210819  \n",
       "Social_\"Canada\"                   0.357771  \n",
       "Social_\"China\"                    0.357771  \n",
       "Social_\"Ethiopia\"                 0.000000  \n",
       "Social_\"France\"                   0.258199  \n",
       "Social_\"Germany\"                  0.223607  \n",
       "Social_\"Greece\"                   0.000000  \n",
       "Social_\"Guinea\"                   0.182574  \n",
       "Social_\"Guyana\"                   0.102598  \n",
       "Social_\"India\"                    0.316228  \n",
       "Social_\"Indonesia\"                0.447214  \n",
       "Social_\"Iran\"                     0.223607  \n",
       "Social_\"Ireland\"                  0.447214  \n",
       "Social_\"Italy\"                    0.447214  \n",
       "Social_\"Japan\"                    0.335410  \n",
       "Social_\"Malaysia\"                 0.447214  \n",
       "Social_\"Mexico\"                   0.169031  \n",
       "Social_\"Netherlands\"              0.447214  \n",
       "Social_\"New Zealand\"              0.000000  \n",
       "Social_\"Nigeria\"                  0.447214  \n",
       "Social_\"North Korea\"              0.000000  \n",
       "Social_\"Norway\"                   0.447214  \n",
       "Social_\"Pakistan\"                 0.447214  \n",
       "Social_\"Philippines\"              0.447214  \n",
       "Social_\"Poland\"                   0.447214  \n",
       "Social_\"Romania\"                  0.223607  \n",
       "Social_\"Russia\"                   0.461880  \n",
       "Social_\"South Korea\"              0.129099  \n",
       "Social_\"Spain\"                    0.316228  \n",
       "Social_\"Sweden\"                   0.316228  \n",
       "Social_\"Switzerland\"              0.316228  \n",
       "Social_\"Taiwan\"                   0.200000  \n",
       "Social_\"Ukraine\"                  0.632456  \n",
       "Social_\"United Kingdom\"           0.357771  \n",
       "Social_\"United States\"            0.178885  \n",
       "Social_\"Venezuela\"                0.182574  \n",
       "Social_\"Vietnam\"                  1.000000  \n",
       "\n",
       "[62 rows x 62 columns]"
      ]
     },
     "execution_count": 37,
     "metadata": {},
     "output_type": "execute_result"
    }
   ],
   "source": [
    "df_cosinus_distance"
   ]
  },
  {
   "cell_type": "code",
   "execution_count": 66,
   "id": "5004a29a",
   "metadata": {},
   "outputs": [],
   "source": [
    "from scipy.spatial import distance\n",
    "\n",
    "distanceMatrix = np.zeros((len(list_indexes),len(list_indexes)))\n",
    "\n",
    "list_indexes = list(range(embeddingMatrix.shape[0]))\n",
    "\n",
    "for x in range(len(list_indexes)):\n",
    "    for y in range(len(list_indexes)):\n",
    "        distanceMatrix[x,y] = distance.euclidean(matrix[list_indexes[x],:]\n",
    "                                                ,matrix[list_indexes[y],:])"
   ]
  },
  {
   "cell_type": "code",
   "execution_count": 67,
   "id": "7e0b7f57",
   "metadata": {},
   "outputs": [],
   "source": [
    "df_euclidian_distance = pd.DataFrame(distanceMatrix, index=df_observations['System_Name'].to_numpy()[list_indexes],\n",
    "                                   columns=df_observations['System_Name'].to_numpy()[list_indexes])\n",
    "npchina = df_euclidian_distance[df_euclidian_distance.index == 'Journal_\"China\"'].to_numpy()"
   ]
  },
  {
   "cell_type": "code",
   "execution_count": 68,
   "id": "19cd11c1",
   "metadata": {},
   "outputs": [],
   "source": [
    "n = 62"
   ]
  },
  {
   "cell_type": "code",
   "execution_count": 69,
   "id": "639d822b",
   "metadata": {},
   "outputs": [
    {
     "name": "stdout",
     "output_type": "stream",
     "text": [
      "Journal_\"China\" : 0.0\n",
      "Medical_\"Saudi Arabia\" : 114.28895568847656\n",
      "Social_\"Iran\" : 126.44182586669922\n",
      "Medical_\"China\" : 140.1909942626953\n",
      "Social_\"United Kingdom\" : 147.58416748046875\n",
      "Medical_\"Iran\" : 171.58863830566406\n",
      "Social_\"Russia\" : 180.172119140625\n",
      "Social_\"Ukraine\" : 183.30386352539062\n",
      "Social_\"India\" : 212.54539489746094\n",
      "Social_\"Switzerland\" : 212.54539489746094\n",
      "Medical_\"Djibouti\" : 217.93701171875\n",
      "Social_\"Guinea\" : 240.33567810058594\n",
      "Social_\"Venezuela\" : 240.33567810058594\n",
      "Social_\"Argentina\" : 256.703857421875\n",
      "Social_\"Mexico\" : 277.60980224609375\n",
      "Medical_\"Iraq\" : 281.10101318359375\n",
      "Social_\"Italy\" : 291.2946472167969\n",
      "Social_\"China\" : 305.79998779296875\n",
      "Medical_\"South Korea\" : 309.76080322265625\n",
      "Social_\"North Korea\" : 309.76080322265625\n",
      "Social_\"Ireland\" : 312.9369201660156\n",
      "Social_\"Malaysia\" : 312.9369201660156\n",
      "Social_\"Australia\" : 312.9369201660156\n",
      "Social_\"Netherlands\" : 312.9369201660156\n",
      "Social_\"Nigeria\" : 312.9369201660156\n",
      "Social_\"Norway\" : 312.9369201660156\n",
      "Social_\"Indonesia\" : 312.9369201660156\n",
      "Social_\"Pakistan\" : 312.9369201660156\n",
      "Social_\"Philippines\" : 312.9369201660156\n",
      "Social_\"Poland\" : 312.9369201660156\n",
      "Social_\"Sweden\" : 312.97381591796875\n",
      "Medical_\"Germany\" : 353.479736328125\n",
      "Medical_\"Ireland\" : 381.28387451171875\n",
      "Social_\"Spain\" : 384.14996337890625\n",
      "Social_\"Greece\" : 391.57208251953125\n",
      "Social_\"Germany\" : 398.625732421875\n",
      "Social_\"Ethiopia\" : 399.63525390625\n",
      "Journal_\"Japan\" : 399.63525390625\n",
      "Medical_\"United Kingdom\" : 417.3009338378906\n",
      "Social_\"Canada\" : 425.0697937011719\n",
      "Medical_\"Portugal\" : 443.75006103515625\n",
      "Social_\"Vietnam\" : 460.017578125\n",
      "Journal_\"United States\" : 463.22265625\n",
      "Social_\"New Zealand\" : 465.6304016113281\n",
      "Social_\"Romania\" : 467.2408447265625\n",
      "Social_\"France\" : 476.8590393066406\n",
      "Medical_\"Turkey\" : 490.22479248046875\n",
      "Social_\"Japan\" : 509.2268981933594\n",
      "Medical_\"France\" : 527.4309692382812\n",
      "Medical_\"Ghana\" : 529.3046875\n",
      "Medical_\"Ukraine\" : 544.9052734375\n",
      "Medical_\"Italy\" : 550.695556640625\n",
      "Medical_\"Russia\" : 560.6795043945312\n",
      "Social_\"Taiwan\" : 566.5875244140625\n",
      "Social_\"Belgium\" : 591.2297973632812\n",
      "Social_\"United States\" : 607.2498168945312\n",
      "Medical_\"United States\" : 642.1412963867188\n",
      "Medical_\"Spain\" : 648.1770629882812\n",
      "Social_\"Guyana\" : 662.9212036132812\n",
      "Journal_\"India\" : 684.8268432617188\n",
      "Medical_\"Canada\" : 689.2139282226562\n",
      "Social_\"South Korea\" : 751.3400268554688\n"
     ]
    }
   ],
   "source": [
    "df_journal_china = df_euclidian_distance[df_euclidian_distance.index == 'Journal_\"China\"'\n",
    "                     ][ df_observations['System_Name'].to_numpy()[\n",
    "    list(npchina.argsort()[0,:n])]]\n",
    "for index, row in df_journal_china.iterrows():\n",
    "    for key in row.keys():\n",
    "        print(key + ' : '+ str(row[key]))"
   ]
  },
  {
   "cell_type": "markdown",
   "id": "f0ff966b",
   "metadata": {},
   "source": [
    "## Neo4j Theta Evaluation"
   ]
  },
  {
   "cell_type": "code",
   "execution_count": null,
   "id": "3e5e7a05",
   "metadata": {},
   "outputs": [],
   "source": [
    "import sys\n",
    "sys.path.append('../Detection/lib/')\n",
    "from lib.kgce.schema.semantic.neo4jclasses import Neo4jRelation\n",
    "from lib.kgce.neo4j.handler import Neo4jWrapper"
   ]
  },
  {
   "cell_type": "code",
   "execution_count": 38,
   "id": "8842318e",
   "metadata": {},
   "outputs": [],
   "source": [
    "from neo4j import GraphDatabase\n",
    "from tqdm import tqdm\n",
    "\n",
    "\n",
    "class Neo4jWrapper:\n",
    "\n",
    "    def __init__(self, uri, userName, password):\n",
    "        self.uri = uri\n",
    "        self.userName = userName\n",
    "        self.password = password\n",
    "        # Connect to the neo4j database server\n",
    "        self.graphDB_Driver  = GraphDatabase.driver(uri, auth=(userName, password)) \n",
    "        \n",
    "    def sendQuery(self, cql_commands):\n",
    "        result = []\n",
    "        done_queries = []\n",
    "        with self.graphDB_Driver.session() as graphDB_Session:\n",
    "            for cqlCreate in tqdm(cql_commands):\n",
    "                try:\n",
    "                    result += [graphDB_Session.run(cqlCreate).to_df()]\n",
    "                    done_queries.append(cqlCreate)\n",
    "                except Exception as e:\n",
    "                    tqdm.write(str(e))\n",
    "                    tqdm.write(cqlCreate)\n",
    "                    result += [str(e)]\n",
    "        return result\n",
    "    \n",
    "    def closeConnection(self):\n",
    "        self.graphDB_Driver.close()"
   ]
  },
  {
   "cell_type": "code",
   "execution_count": 39,
   "id": "e3ce2b77",
   "metadata": {},
   "outputs": [],
   "source": [
    "neowrapper = Neo4jWrapper(uri=\"bolt://localhost:7687\",userName=\"neo4j\",password=\"test\")"
   ]
  },
  {
   "cell_type": "code",
   "execution_count": 45,
   "id": "0455e087",
   "metadata": {},
   "outputs": [],
   "source": [
    "def OldTheta(nodeid1, nodeid2,dictPath,neowrapper):\n",
    "    # If calculated return\n",
    "    if (nodeid1, nodeid2) in dictPath:\n",
    "        return dictPath[(nodeid1, nodeid2)],dictPath\n",
    "    elif nodeid1 == nodeid2:\n",
    "        dictPath[(nodeid1, nodeid2)] = 0\n",
    "        return dictPath[(nodeid1, nodeid2)], dictPath\n",
    "    else:\n",
    "        querystr = \"\"\"MATCH (c1:UMLS|id:\"{0}\"\\),(c2:UMLS|id:\"{1}\"\\), \n",
    "            p = shortestPath((c1)-[*]-(c2))\n",
    "            RETURN length(p) as value\"\"\".format(\n",
    "            nodeid1,nodeid2).replace(\n",
    "            \"|\",\"{\").replace(\"\\\\\",\"}\")\n",
    "        result = neowrapper.sendQuery([\n",
    "            querystr\n",
    "        ])\n",
    "        value = const_max_path\n",
    "        if(not result[0].empty):\n",
    "            value = int(result[0]['value'].iloc[0])\n",
    "        dictPath[(nodeid1, nodeid2)] = value\n",
    "        return value, dictPath"
   ]
  },
  {
   "cell_type": "code",
   "execution_count": 46,
   "id": "79fed659",
   "metadata": {},
   "outputs": [],
   "source": [
    "const_max_path = 3263433+2 # All Node from CUI + 2 for the leaf AUI nodes\n",
    "def Theta(nodeid1, nodeid2,dictPath,neowrapper):\n",
    "    # If calculated return\n",
    "    if (nodeid1, nodeid2) in dictPath:\n",
    "        return dictPath[(nodeid1, nodeid2)],dictPath\n",
    "    elif nodeid1 == nodeid2:\n",
    "        dictPath[(nodeid1, nodeid2)] = 0\n",
    "        return dictPath[(nodeid1, nodeid2)], dictPath\n",
    "    else:\n",
    "        querystr = \"\"\"MATCH p=allShortestPaths((c1:UMLS|id:\"{0}\"\\)-[*]-(c2:UMLS|id:\"{1}\"\\))\n",
    "        WHERE NONE(n in nodes(p) where (\"SemanticType\" in labels(n)) or \n",
    "                       (NOT \"UMLS\" in labels(n)))\n",
    "        RETURN distinct length(p) as value\"\"\".format(\n",
    "            nodeid1,nodeid2).replace(\n",
    "            \"|\",\"{\").replace(\"\\\\\",\"}\")\n",
    "        result = neowrapper.sendQuery([\n",
    "            querystr\n",
    "        ])\n",
    "        value = const_max_path\n",
    "        if(not result[0].empty):\n",
    "            value = int(result[0]['value'].iloc[0])\n",
    "        dictPath[(nodeid1, nodeid2)] = value\n",
    "        return value, dictPath"
   ]
  },
  {
   "cell_type": "code",
   "execution_count": 47,
   "id": "8441f4ac",
   "metadata": {},
   "outputs": [],
   "source": [
    "df_result = df_observations[['System_Name','c.id']]"
   ]
  },
  {
   "cell_type": "code",
   "execution_count": 48,
   "id": "3916e284",
   "metadata": {},
   "outputs": [],
   "source": [
    "country_measure = []\n",
    "dictPath = {}"
   ]
  },
  {
   "cell_type": "code",
   "execution_count": 49,
   "id": "3296401c",
   "metadata": {
    "scrolled": true
   },
   "outputs": [
    {
     "name": "stdout",
     "output_type": "stream",
     "text": [
      "Journal_\"China\"\n"
     ]
    },
    {
     "name": "stderr",
     "output_type": "stream",
     "text": [
      "100%|█████████████████████████████████████████████████████████████████| 1/1 [00:13<00:00, 13.17s/it]\n"
     ]
    },
    {
     "name": "stdout",
     "output_type": "stream",
     "text": [
      "5\n"
     ]
    },
    {
     "name": "stderr",
     "output_type": "stream",
     "text": [
      "100%|█████████████████████████████████████████████████████████████████| 1/1 [00:14<00:00, 14.97s/it]\n"
     ]
    },
    {
     "name": "stdout",
     "output_type": "stream",
     "text": [
      "4\n"
     ]
    },
    {
     "name": "stderr",
     "output_type": "stream",
     "text": [
      "100%|█████████████████████████████████████████████████████████████████| 1/1 [00:12<00:00, 12.63s/it]\n"
     ]
    },
    {
     "name": "stdout",
     "output_type": "stream",
     "text": [
      "3\n"
     ]
    },
    {
     "name": "stderr",
     "output_type": "stream",
     "text": [
      "100%|█████████████████████████████████████████████████████████████████| 1/1 [00:12<00:00, 12.90s/it]\n"
     ]
    },
    {
     "name": "stdout",
     "output_type": "stream",
     "text": [
      "5\n"
     ]
    },
    {
     "name": "stderr",
     "output_type": "stream",
     "text": [
      "100%|█████████████████████████████████████████████████████████████████| 1/1 [00:12<00:00, 12.67s/it]\n"
     ]
    },
    {
     "name": "stdout",
     "output_type": "stream",
     "text": [
      "3\n"
     ]
    },
    {
     "name": "stderr",
     "output_type": "stream",
     "text": [
      "100%|█████████████████████████████████████████████████████████████████| 1/1 [00:12<00:00, 12.64s/it]\n"
     ]
    },
    {
     "name": "stdout",
     "output_type": "stream",
     "text": [
      "4\n"
     ]
    },
    {
     "name": "stderr",
     "output_type": "stream",
     "text": [
      "100%|█████████████████████████████████████████████████████████████████| 1/1 [00:12<00:00, 12.57s/it]\n"
     ]
    },
    {
     "name": "stdout",
     "output_type": "stream",
     "text": [
      "3263435\n"
     ]
    },
    {
     "name": "stderr",
     "output_type": "stream",
     "text": [
      "100%|█████████████████████████████████████████████████████████████████| 1/1 [00:12<00:00, 12.53s/it]\n"
     ]
    },
    {
     "name": "stdout",
     "output_type": "stream",
     "text": [
      "3\n"
     ]
    },
    {
     "name": "stderr",
     "output_type": "stream",
     "text": [
      "100%|█████████████████████████████████████████████████████████████████| 1/1 [00:12<00:00, 12.66s/it]\n"
     ]
    },
    {
     "name": "stdout",
     "output_type": "stream",
     "text": [
      "3263435\n"
     ]
    },
    {
     "name": "stderr",
     "output_type": "stream",
     "text": [
      "100%|█████████████████████████████████████████████████████████████████| 1/1 [00:15<00:00, 15.30s/it]\n"
     ]
    },
    {
     "name": "stdout",
     "output_type": "stream",
     "text": [
      "3263435\n"
     ]
    },
    {
     "name": "stderr",
     "output_type": "stream",
     "text": [
      "100%|█████████████████████████████████████████████████████████████████| 1/1 [00:12<00:00, 12.58s/it]\n"
     ]
    },
    {
     "name": "stdout",
     "output_type": "stream",
     "text": [
      "3\n"
     ]
    },
    {
     "name": "stderr",
     "output_type": "stream",
     "text": [
      "100%|█████████████████████████████████████████████████████████████████| 1/1 [00:14<00:00, 14.81s/it]\n"
     ]
    },
    {
     "name": "stdout",
     "output_type": "stream",
     "text": [
      "4\n"
     ]
    },
    {
     "name": "stderr",
     "output_type": "stream",
     "text": [
      "100%|█████████████████████████████████████████████████████████████████| 1/1 [00:12<00:00, 12.62s/it]\n"
     ]
    },
    {
     "name": "stdout",
     "output_type": "stream",
     "text": [
      "3\n"
     ]
    },
    {
     "name": "stderr",
     "output_type": "stream",
     "text": [
      "100%|█████████████████████████████████████████████████████████████████| 1/1 [00:13<00:00, 13.31s/it]\n"
     ]
    },
    {
     "name": "stdout",
     "output_type": "stream",
     "text": [
      "3\n"
     ]
    },
    {
     "name": "stderr",
     "output_type": "stream",
     "text": [
      "100%|█████████████████████████████████████████████████████████████████| 1/1 [00:12<00:00, 12.64s/it]\n"
     ]
    },
    {
     "name": "stdout",
     "output_type": "stream",
     "text": [
      "3\n"
     ]
    },
    {
     "name": "stderr",
     "output_type": "stream",
     "text": [
      "100%|█████████████████████████████████████████████████████████████████| 1/1 [00:15<00:00, 15.45s/it]\n"
     ]
    },
    {
     "name": "stdout",
     "output_type": "stream",
     "text": [
      "4\n"
     ]
    },
    {
     "name": "stderr",
     "output_type": "stream",
     "text": [
      "100%|█████████████████████████████████████████████████████████████████| 1/1 [00:12<00:00, 12.62s/it]\n"
     ]
    },
    {
     "name": "stdout",
     "output_type": "stream",
     "text": [
      "3\n"
     ]
    },
    {
     "name": "stderr",
     "output_type": "stream",
     "text": [
      "100%|█████████████████████████████████████████████████████████████████| 1/1 [00:13<00:00, 13.41s/it]\n"
     ]
    },
    {
     "name": "stdout",
     "output_type": "stream",
     "text": [
      "3\n",
      "Journal_\"India\"\n"
     ]
    },
    {
     "name": "stderr",
     "output_type": "stream",
     "text": [
      "100%|█████████████████████████████████████████████████████████████████| 1/1 [00:15<00:00, 15.31s/it]\n"
     ]
    },
    {
     "name": "stdout",
     "output_type": "stream",
     "text": [
      "3263435\n"
     ]
    },
    {
     "name": "stderr",
     "output_type": "stream",
     "text": [
      "100%|█████████████████████████████████████████████████████████████████| 1/1 [00:12<00:00, 12.79s/it]\n"
     ]
    },
    {
     "name": "stdout",
     "output_type": "stream",
     "text": [
      "3\n"
     ]
    },
    {
     "name": "stderr",
     "output_type": "stream",
     "text": [
      "100%|█████████████████████████████████████████████████████████████████| 1/1 [00:12<00:00, 12.60s/it]\n"
     ]
    },
    {
     "name": "stdout",
     "output_type": "stream",
     "text": [
      "3\n"
     ]
    },
    {
     "name": "stderr",
     "output_type": "stream",
     "text": [
      "100%|█████████████████████████████████████████████████████████████████| 1/1 [00:13<00:00, 13.15s/it]\n"
     ]
    },
    {
     "name": "stdout",
     "output_type": "stream",
     "text": [
      "3\n"
     ]
    },
    {
     "name": "stderr",
     "output_type": "stream",
     "text": [
      "100%|█████████████████████████████████████████████████████████████████| 1/1 [00:12<00:00, 12.63s/it]\n"
     ]
    },
    {
     "name": "stdout",
     "output_type": "stream",
     "text": [
      "3\n"
     ]
    },
    {
     "name": "stderr",
     "output_type": "stream",
     "text": [
      "100%|█████████████████████████████████████████████████████████████████| 1/1 [00:12<00:00, 12.62s/it]\n"
     ]
    },
    {
     "name": "stdout",
     "output_type": "stream",
     "text": [
      "3\n"
     ]
    },
    {
     "name": "stderr",
     "output_type": "stream",
     "text": [
      "100%|█████████████████████████████████████████████████████████████████| 1/1 [00:12<00:00, 12.77s/it]\n"
     ]
    },
    {
     "name": "stdout",
     "output_type": "stream",
     "text": [
      "6\n"
     ]
    },
    {
     "name": "stderr",
     "output_type": "stream",
     "text": [
      "100%|█████████████████████████████████████████████████████████████████| 1/1 [00:14<00:00, 14.90s/it]\n"
     ]
    },
    {
     "name": "stdout",
     "output_type": "stream",
     "text": [
      "5\n"
     ]
    },
    {
     "name": "stderr",
     "output_type": "stream",
     "text": [
      "100%|█████████████████████████████████████████████████████████████████| 1/1 [00:12<00:00, 12.63s/it]\n"
     ]
    },
    {
     "name": "stdout",
     "output_type": "stream",
     "text": [
      "3\n"
     ]
    },
    {
     "name": "stderr",
     "output_type": "stream",
     "text": [
      "100%|█████████████████████████████████████████████████████████████████| 1/1 [00:12<00:00, 12.75s/it]\n"
     ]
    },
    {
     "name": "stdout",
     "output_type": "stream",
     "text": [
      "3\n"
     ]
    },
    {
     "name": "stderr",
     "output_type": "stream",
     "text": [
      "100%|█████████████████████████████████████████████████████████████████| 1/1 [00:12<00:00, 12.55s/it]\n"
     ]
    },
    {
     "name": "stdout",
     "output_type": "stream",
     "text": [
      "4\n"
     ]
    },
    {
     "name": "stderr",
     "output_type": "stream",
     "text": [
      "100%|█████████████████████████████████████████████████████████████████| 1/1 [00:12<00:00, 12.67s/it]\n"
     ]
    },
    {
     "name": "stdout",
     "output_type": "stream",
     "text": [
      "4\n"
     ]
    },
    {
     "name": "stderr",
     "output_type": "stream",
     "text": [
      "100%|█████████████████████████████████████████████████████████████████| 1/1 [00:13<00:00, 13.26s/it]\n"
     ]
    },
    {
     "name": "stdout",
     "output_type": "stream",
     "text": [
      "4\n",
      "3\n"
     ]
    },
    {
     "name": "stderr",
     "output_type": "stream",
     "text": [
      "100%|█████████████████████████████████████████████████████████████████| 1/1 [00:14<00:00, 14.93s/it]\n"
     ]
    },
    {
     "name": "stdout",
     "output_type": "stream",
     "text": [
      "3263435\n"
     ]
    },
    {
     "name": "stderr",
     "output_type": "stream",
     "text": [
      "100%|█████████████████████████████████████████████████████████████████| 1/1 [00:12<00:00, 12.93s/it]\n"
     ]
    },
    {
     "name": "stdout",
     "output_type": "stream",
     "text": [
      "4\n"
     ]
    },
    {
     "name": "stderr",
     "output_type": "stream",
     "text": [
      "100%|█████████████████████████████████████████████████████████████████| 1/1 [00:15<00:00, 15.43s/it]\n"
     ]
    },
    {
     "name": "stdout",
     "output_type": "stream",
     "text": [
      "3263435\n"
     ]
    },
    {
     "name": "stderr",
     "output_type": "stream",
     "text": [
      "100%|█████████████████████████████████████████████████████████████████| 1/1 [00:12<00:00, 12.51s/it]\n"
     ]
    },
    {
     "name": "stdout",
     "output_type": "stream",
     "text": [
      "4\n"
     ]
    },
    {
     "name": "stderr",
     "output_type": "stream",
     "text": [
      "100%|█████████████████████████████████████████████████████████████████| 1/1 [00:13<00:00, 13.47s/it]\n"
     ]
    },
    {
     "name": "stdout",
     "output_type": "stream",
     "text": [
      "4\n"
     ]
    },
    {
     "name": "stderr",
     "output_type": "stream",
     "text": [
      "100%|█████████████████████████████████████████████████████████████████| 1/1 [00:15<00:00, 15.03s/it]\n"
     ]
    },
    {
     "name": "stdout",
     "output_type": "stream",
     "text": [
      "3263435\n"
     ]
    },
    {
     "name": "stderr",
     "output_type": "stream",
     "text": [
      "100%|█████████████████████████████████████████████████████████████████| 1/1 [00:12<00:00, 12.52s/it]\n"
     ]
    },
    {
     "name": "stdout",
     "output_type": "stream",
     "text": [
      "3\n"
     ]
    },
    {
     "name": "stderr",
     "output_type": "stream",
     "text": [
      "100%|█████████████████████████████████████████████████████████████████| 1/1 [00:12<00:00, 12.48s/it]\n"
     ]
    },
    {
     "name": "stdout",
     "output_type": "stream",
     "text": [
      "3\n"
     ]
    },
    {
     "name": "stderr",
     "output_type": "stream",
     "text": [
      "100%|█████████████████████████████████████████████████████████████████| 1/1 [00:12<00:00, 12.43s/it]\n"
     ]
    },
    {
     "name": "stdout",
     "output_type": "stream",
     "text": [
      "3\n"
     ]
    },
    {
     "name": "stderr",
     "output_type": "stream",
     "text": [
      "100%|█████████████████████████████████████████████████████████████████| 1/1 [00:12<00:00, 12.65s/it]\n"
     ]
    },
    {
     "name": "stdout",
     "output_type": "stream",
     "text": [
      "4\n"
     ]
    },
    {
     "name": "stderr",
     "output_type": "stream",
     "text": [
      "100%|█████████████████████████████████████████████████████████████████| 1/1 [00:12<00:00, 12.48s/it]\n"
     ]
    },
    {
     "name": "stdout",
     "output_type": "stream",
     "text": [
      "3\n",
      "Journal_\"Japan\"\n"
     ]
    },
    {
     "name": "stderr",
     "output_type": "stream",
     "text": [
      "100%|█████████████████████████████████████████████████████████████████| 1/1 [00:14<00:00, 14.81s/it]\n"
     ]
    },
    {
     "name": "stdout",
     "output_type": "stream",
     "text": [
      "3\n",
      "Journal_\"United States\"\n"
     ]
    },
    {
     "name": "stderr",
     "output_type": "stream",
     "text": [
      "100%|█████████████████████████████████████████████████████████████████| 1/1 [00:12<00:00, 12.61s/it]\n"
     ]
    },
    {
     "name": "stdout",
     "output_type": "stream",
     "text": [
      "5\n"
     ]
    },
    {
     "name": "stderr",
     "output_type": "stream",
     "text": [
      "100%|█████████████████████████████████████████████████████████████████| 1/1 [00:12<00:00, 12.52s/it]\n"
     ]
    },
    {
     "name": "stdout",
     "output_type": "stream",
     "text": [
      "3\n",
      "Medical_\"Canada\"\n"
     ]
    },
    {
     "name": "stderr",
     "output_type": "stream",
     "text": [
      "100%|█████████████████████████████████████████████████████████████████| 1/1 [00:12<00:00, 12.46s/it]\n"
     ]
    },
    {
     "name": "stdout",
     "output_type": "stream",
     "text": [
      "4\n"
     ]
    },
    {
     "name": "stderr",
     "output_type": "stream",
     "text": [
      "100%|█████████████████████████████████████████████████████████████████| 1/1 [00:13<00:00, 13.16s/it]\n"
     ]
    },
    {
     "name": "stdout",
     "output_type": "stream",
     "text": [
      "5\n"
     ]
    },
    {
     "name": "stderr",
     "output_type": "stream",
     "text": [
      "100%|█████████████████████████████████████████████████████████████████| 1/1 [00:12<00:00, 12.49s/it]\n"
     ]
    },
    {
     "name": "stdout",
     "output_type": "stream",
     "text": [
      "4\n"
     ]
    },
    {
     "name": "stderr",
     "output_type": "stream",
     "text": [
      "100%|█████████████████████████████████████████████████████████████████| 1/1 [00:12<00:00, 12.44s/it]\n"
     ]
    },
    {
     "name": "stdout",
     "output_type": "stream",
     "text": [
      "3\n"
     ]
    },
    {
     "name": "stderr",
     "output_type": "stream",
     "text": [
      "100%|█████████████████████████████████████████████████████████████████| 1/1 [00:12<00:00, 12.59s/it]\n"
     ]
    },
    {
     "name": "stdout",
     "output_type": "stream",
     "text": [
      "4\n"
     ]
    },
    {
     "name": "stderr",
     "output_type": "stream",
     "text": [
      "100%|█████████████████████████████████████████████████████████████████| 1/1 [00:12<00:00, 12.56s/it]\n"
     ]
    },
    {
     "name": "stdout",
     "output_type": "stream",
     "text": [
      "3\n"
     ]
    },
    {
     "name": "stderr",
     "output_type": "stream",
     "text": [
      "100%|█████████████████████████████████████████████████████████████████| 1/1 [00:12<00:00, 12.53s/it]\n"
     ]
    },
    {
     "name": "stdout",
     "output_type": "stream",
     "text": [
      "3\n"
     ]
    },
    {
     "name": "stderr",
     "output_type": "stream",
     "text": [
      "100%|█████████████████████████████████████████████████████████████████| 1/1 [00:14<00:00, 14.85s/it]\n"
     ]
    },
    {
     "name": "stdout",
     "output_type": "stream",
     "text": [
      "4\n"
     ]
    },
    {
     "name": "stderr",
     "output_type": "stream",
     "text": [
      "100%|█████████████████████████████████████████████████████████████████| 1/1 [00:14<00:00, 14.80s/it]\n"
     ]
    },
    {
     "name": "stdout",
     "output_type": "stream",
     "text": [
      "3\n",
      "Medical_\"China\"\n"
     ]
    },
    {
     "name": "stderr",
     "output_type": "stream",
     "text": [
      "100%|█████████████████████████████████████████████████████████████████| 1/1 [00:12<00:00, 12.57s/it]\n"
     ]
    },
    {
     "name": "stdout",
     "output_type": "stream",
     "text": [
      "3\n"
     ]
    },
    {
     "name": "stderr",
     "output_type": "stream",
     "text": [
      "100%|█████████████████████████████████████████████████████████████████| 1/1 [00:12<00:00, 12.56s/it]\n"
     ]
    },
    {
     "name": "stdout",
     "output_type": "stream",
     "text": [
      "4\n"
     ]
    },
    {
     "name": "stderr",
     "output_type": "stream",
     "text": [
      "100%|█████████████████████████████████████████████████████████████████| 1/1 [00:14<00:00, 14.77s/it]\n"
     ]
    },
    {
     "name": "stdout",
     "output_type": "stream",
     "text": [
      "3\n"
     ]
    },
    {
     "name": "stderr",
     "output_type": "stream",
     "text": [
      "100%|█████████████████████████████████████████████████████████████████| 1/1 [00:12<00:00, 12.42s/it]\n"
     ]
    },
    {
     "name": "stdout",
     "output_type": "stream",
     "text": [
      "3263435\n"
     ]
    },
    {
     "name": "stderr",
     "output_type": "stream",
     "text": [
      "100%|█████████████████████████████████████████████████████████████████| 1/1 [00:13<00:00, 13.24s/it]\n"
     ]
    },
    {
     "name": "stdout",
     "output_type": "stream",
     "text": [
      "4\n"
     ]
    },
    {
     "name": "stderr",
     "output_type": "stream",
     "text": [
      "100%|█████████████████████████████████████████████████████████████████| 1/1 [00:14<00:00, 14.97s/it]\n"
     ]
    },
    {
     "name": "stdout",
     "output_type": "stream",
     "text": [
      "3263435\n"
     ]
    },
    {
     "name": "stderr",
     "output_type": "stream",
     "text": [
      "100%|█████████████████████████████████████████████████████████████████| 1/1 [00:12<00:00, 12.44s/it]\n"
     ]
    },
    {
     "name": "stdout",
     "output_type": "stream",
     "text": [
      "3\n"
     ]
    },
    {
     "name": "stderr",
     "output_type": "stream",
     "text": [
      "100%|█████████████████████████████████████████████████████████████████| 1/1 [00:15<00:00, 15.44s/it]\n"
     ]
    },
    {
     "name": "stdout",
     "output_type": "stream",
     "text": [
      "3263435\n"
     ]
    },
    {
     "name": "stderr",
     "output_type": "stream",
     "text": [
      "100%|█████████████████████████████████████████████████████████████████| 1/1 [00:12<00:00, 12.58s/it]\n"
     ]
    },
    {
     "name": "stdout",
     "output_type": "stream",
     "text": [
      "4\n"
     ]
    },
    {
     "name": "stderr",
     "output_type": "stream",
     "text": [
      "100%|█████████████████████████████████████████████████████████████████| 1/1 [00:12<00:00, 12.43s/it]\n"
     ]
    },
    {
     "name": "stdout",
     "output_type": "stream",
     "text": [
      "3\n"
     ]
    },
    {
     "name": "stderr",
     "output_type": "stream",
     "text": [
      "100%|█████████████████████████████████████████████████████████████████| 1/1 [00:12<00:00, 12.48s/it]\n"
     ]
    },
    {
     "name": "stdout",
     "output_type": "stream",
     "text": [
      "5\n"
     ]
    },
    {
     "name": "stderr",
     "output_type": "stream",
     "text": [
      "100%|█████████████████████████████████████████████████████████████████| 1/1 [00:14<00:00, 14.89s/it]\n"
     ]
    },
    {
     "name": "stdout",
     "output_type": "stream",
     "text": [
      "5\n",
      "3\n"
     ]
    },
    {
     "name": "stderr",
     "output_type": "stream",
     "text": [
      "100%|█████████████████████████████████████████████████████████████████| 1/1 [00:12<00:00, 12.43s/it]\n"
     ]
    },
    {
     "name": "stdout",
     "output_type": "stream",
     "text": [
      "3263435\n"
     ]
    },
    {
     "name": "stderr",
     "output_type": "stream",
     "text": [
      "100%|█████████████████████████████████████████████████████████████████| 1/1 [00:13<00:00, 13.07s/it]\n"
     ]
    },
    {
     "name": "stdout",
     "output_type": "stream",
     "text": [
      "3\n",
      "3\n"
     ]
    },
    {
     "name": "stderr",
     "output_type": "stream",
     "text": [
      "100%|█████████████████████████████████████████████████████████████████| 1/1 [00:14<00:00, 14.93s/it]\n"
     ]
    },
    {
     "name": "stdout",
     "output_type": "stream",
     "text": [
      "4\n"
     ]
    },
    {
     "name": "stderr",
     "output_type": "stream",
     "text": [
      "100%|█████████████████████████████████████████████████████████████████| 1/1 [00:13<00:00, 13.02s/it]\n"
     ]
    },
    {
     "name": "stdout",
     "output_type": "stream",
     "text": [
      "3263435\n"
     ]
    },
    {
     "name": "stderr",
     "output_type": "stream",
     "text": [
      "100%|█████████████████████████████████████████████████████████████████| 1/1 [00:12<00:00, 12.59s/it]\n"
     ]
    },
    {
     "name": "stdout",
     "output_type": "stream",
     "text": [
      "4\n"
     ]
    },
    {
     "name": "stderr",
     "output_type": "stream",
     "text": [
      "100%|█████████████████████████████████████████████████████████████████| 1/1 [00:15<00:00, 15.42s/it]\n"
     ]
    },
    {
     "name": "stdout",
     "output_type": "stream",
     "text": [
      "3\n"
     ]
    },
    {
     "name": "stderr",
     "output_type": "stream",
     "text": [
      "100%|█████████████████████████████████████████████████████████████████| 1/1 [00:13<00:00, 13.72s/it]\n"
     ]
    },
    {
     "name": "stdout",
     "output_type": "stream",
     "text": [
      "4\n"
     ]
    },
    {
     "name": "stderr",
     "output_type": "stream",
     "text": [
      "100%|█████████████████████████████████████████████████████████████████| 1/1 [00:12<00:00, 12.46s/it]\n"
     ]
    },
    {
     "name": "stdout",
     "output_type": "stream",
     "text": [
      "3263435\n"
     ]
    },
    {
     "name": "stderr",
     "output_type": "stream",
     "text": [
      "100%|█████████████████████████████████████████████████████████████████| 1/1 [00:15<00:00, 15.46s/it]\n"
     ]
    },
    {
     "name": "stdout",
     "output_type": "stream",
     "text": [
      "3\n"
     ]
    },
    {
     "name": "stderr",
     "output_type": "stream",
     "text": [
      "100%|█████████████████████████████████████████████████████████████████| 1/1 [00:13<00:00, 13.64s/it]\n"
     ]
    },
    {
     "name": "stdout",
     "output_type": "stream",
     "text": [
      "3\n",
      "4\n",
      "Medical_\"Djibouti\"\n"
     ]
    },
    {
     "name": "stderr",
     "output_type": "stream",
     "text": [
      "100%|█████████████████████████████████████████████████████████████████| 1/1 [00:12<00:00, 12.44s/it]\n"
     ]
    },
    {
     "name": "stdout",
     "output_type": "stream",
     "text": [
      "3\n",
      "Medical_\"France\"\n"
     ]
    },
    {
     "name": "stderr",
     "output_type": "stream",
     "text": [
      "100%|█████████████████████████████████████████████████████████████████| 1/1 [00:13<00:00, 13.03s/it]\n"
     ]
    },
    {
     "name": "stdout",
     "output_type": "stream",
     "text": [
      "4\n"
     ]
    },
    {
     "name": "stderr",
     "output_type": "stream",
     "text": [
      "100%|█████████████████████████████████████████████████████████████████| 1/1 [00:15<00:00, 15.28s/it]\n"
     ]
    },
    {
     "name": "stdout",
     "output_type": "stream",
     "text": [
      "3263435\n"
     ]
    },
    {
     "name": "stderr",
     "output_type": "stream",
     "text": [
      "100%|█████████████████████████████████████████████████████████████████| 1/1 [00:15<00:00, 15.53s/it]\n"
     ]
    },
    {
     "name": "stdout",
     "output_type": "stream",
     "text": [
      "3263435\n",
      "4\n"
     ]
    },
    {
     "name": "stderr",
     "output_type": "stream",
     "text": [
      "100%|█████████████████████████████████████████████████████████████████| 1/1 [00:15<00:00, 15.27s/it]\n"
     ]
    },
    {
     "name": "stdout",
     "output_type": "stream",
     "text": [
      "3263435\n"
     ]
    },
    {
     "name": "stderr",
     "output_type": "stream",
     "text": [
      "100%|█████████████████████████████████████████████████████████████████| 1/1 [00:12<00:00, 12.46s/it]\n"
     ]
    },
    {
     "name": "stdout",
     "output_type": "stream",
     "text": [
      "6\n"
     ]
    },
    {
     "name": "stderr",
     "output_type": "stream",
     "text": [
      "100%|█████████████████████████████████████████████████████████████████| 1/1 [00:15<00:00, 15.78s/it]\n"
     ]
    },
    {
     "name": "stdout",
     "output_type": "stream",
     "text": [
      "4\n"
     ]
    },
    {
     "name": "stderr",
     "output_type": "stream",
     "text": [
      "100%|█████████████████████████████████████████████████████████████████| 1/1 [00:15<00:00, 15.24s/it]\n"
     ]
    },
    {
     "name": "stdout",
     "output_type": "stream",
     "text": [
      "4\n",
      "Medical_\"Germany\"\n"
     ]
    },
    {
     "name": "stderr",
     "output_type": "stream",
     "text": [
      "100%|█████████████████████████████████████████████████████████████████| 1/1 [00:12<00:00, 12.77s/it]\n"
     ]
    },
    {
     "name": "stdout",
     "output_type": "stream",
     "text": [
      "4\n"
     ]
    },
    {
     "name": "stderr",
     "output_type": "stream",
     "text": [
      "100%|█████████████████████████████████████████████████████████████████| 1/1 [00:12<00:00, 12.85s/it]\n"
     ]
    },
    {
     "name": "stdout",
     "output_type": "stream",
     "text": [
      "4\n"
     ]
    },
    {
     "name": "stderr",
     "output_type": "stream",
     "text": [
      "100%|█████████████████████████████████████████████████████████████████| 1/1 [00:13<00:00, 13.40s/it]\n"
     ]
    },
    {
     "name": "stdout",
     "output_type": "stream",
     "text": [
      "5\n",
      "Medical_\"Ghana\"\n",
      "3\n"
     ]
    },
    {
     "name": "stderr",
     "output_type": "stream",
     "text": [
      "100%|█████████████████████████████████████████████████████████████████| 1/1 [00:12<00:00, 12.60s/it]\n"
     ]
    },
    {
     "name": "stdout",
     "output_type": "stream",
     "text": [
      "3\n"
     ]
    },
    {
     "name": "stderr",
     "output_type": "stream",
     "text": [
      "100%|█████████████████████████████████████████████████████████████████| 1/1 [00:12<00:00, 12.62s/it]\n"
     ]
    },
    {
     "name": "stdout",
     "output_type": "stream",
     "text": [
      "4\n",
      "Medical_\"Iran\"\n"
     ]
    },
    {
     "name": "stderr",
     "output_type": "stream",
     "text": [
      "100%|█████████████████████████████████████████████████████████████████| 1/1 [00:12<00:00, 12.55s/it]\n"
     ]
    },
    {
     "name": "stdout",
     "output_type": "stream",
     "text": [
      "3\n"
     ]
    },
    {
     "name": "stderr",
     "output_type": "stream",
     "text": [
      "100%|█████████████████████████████████████████████████████████████████| 1/1 [00:13<00:00, 13.00s/it]\n"
     ]
    },
    {
     "name": "stdout",
     "output_type": "stream",
     "text": [
      "3263435\n"
     ]
    },
    {
     "name": "stderr",
     "output_type": "stream",
     "text": [
      "100%|█████████████████████████████████████████████████████████████████| 1/1 [00:13<00:00, 13.56s/it]\n"
     ]
    },
    {
     "name": "stdout",
     "output_type": "stream",
     "text": [
      "4\n",
      "3263435\n"
     ]
    },
    {
     "name": "stderr",
     "output_type": "stream",
     "text": [
      "100%|█████████████████████████████████████████████████████████████████| 1/1 [00:12<00:00, 12.48s/it]\n"
     ]
    },
    {
     "name": "stdout",
     "output_type": "stream",
     "text": [
      "3\n",
      "3\n",
      "3\n"
     ]
    },
    {
     "name": "stderr",
     "output_type": "stream",
     "text": [
      "100%|█████████████████████████████████████████████████████████████████| 1/1 [00:12<00:00, 12.91s/it]\n"
     ]
    },
    {
     "name": "stdout",
     "output_type": "stream",
     "text": [
      "3\n"
     ]
    },
    {
     "name": "stderr",
     "output_type": "stream",
     "text": [
      "100%|█████████████████████████████████████████████████████████████████| 1/1 [00:12<00:00, 12.86s/it]\n"
     ]
    },
    {
     "name": "stdout",
     "output_type": "stream",
     "text": [
      "5\n"
     ]
    },
    {
     "name": "stderr",
     "output_type": "stream",
     "text": [
      "100%|█████████████████████████████████████████████████████████████████| 1/1 [00:13<00:00, 13.12s/it]\n"
     ]
    },
    {
     "name": "stdout",
     "output_type": "stream",
     "text": [
      "4\n"
     ]
    },
    {
     "name": "stderr",
     "output_type": "stream",
     "text": [
      "100%|█████████████████████████████████████████████████████████████████| 1/1 [00:12<00:00, 12.95s/it]\n"
     ]
    },
    {
     "name": "stdout",
     "output_type": "stream",
     "text": [
      "4\n"
     ]
    },
    {
     "name": "stderr",
     "output_type": "stream",
     "text": [
      "100%|█████████████████████████████████████████████████████████████████| 1/1 [00:12<00:00, 12.63s/it]\n"
     ]
    },
    {
     "name": "stdout",
     "output_type": "stream",
     "text": [
      "4\n"
     ]
    },
    {
     "name": "stderr",
     "output_type": "stream",
     "text": [
      "100%|█████████████████████████████████████████████████████████████████| 1/1 [00:12<00:00, 12.80s/it]\n"
     ]
    },
    {
     "name": "stdout",
     "output_type": "stream",
     "text": [
      "3\n"
     ]
    },
    {
     "name": "stderr",
     "output_type": "stream",
     "text": [
      "100%|█████████████████████████████████████████████████████████████████| 1/1 [00:12<00:00, 12.54s/it]\n"
     ]
    },
    {
     "name": "stdout",
     "output_type": "stream",
     "text": [
      "3\n"
     ]
    },
    {
     "name": "stderr",
     "output_type": "stream",
     "text": [
      "100%|█████████████████████████████████████████████████████████████████| 1/1 [00:13<00:00, 13.15s/it]\n"
     ]
    },
    {
     "name": "stdout",
     "output_type": "stream",
     "text": [
      "3\n"
     ]
    },
    {
     "name": "stderr",
     "output_type": "stream",
     "text": [
      "100%|█████████████████████████████████████████████████████████████████| 1/1 [00:13<00:00, 13.11s/it]\n"
     ]
    },
    {
     "name": "stdout",
     "output_type": "stream",
     "text": [
      "4\n"
     ]
    },
    {
     "name": "stderr",
     "output_type": "stream",
     "text": [
      "100%|█████████████████████████████████████████████████████████████████| 1/1 [00:12<00:00, 12.54s/it]\n"
     ]
    },
    {
     "name": "stdout",
     "output_type": "stream",
     "text": [
      "3\n",
      "4\n",
      "Medical_\"Iraq\"\n"
     ]
    },
    {
     "name": "stderr",
     "output_type": "stream",
     "text": [
      "100%|█████████████████████████████████████████████████████████████████| 1/1 [00:13<00:00, 13.00s/it]\n"
     ]
    },
    {
     "name": "stdout",
     "output_type": "stream",
     "text": [
      "4\n"
     ]
    },
    {
     "name": "stderr",
     "output_type": "stream",
     "text": [
      "100%|█████████████████████████████████████████████████████████████████| 1/1 [00:14<00:00, 14.88s/it]\n"
     ]
    },
    {
     "name": "stdout",
     "output_type": "stream",
     "text": [
      "5\n",
      "Medical_\"Ireland\"\n"
     ]
    },
    {
     "name": "stderr",
     "output_type": "stream",
     "text": [
      "100%|█████████████████████████████████████████████████████████████████| 1/1 [00:14<00:00, 14.70s/it]\n"
     ]
    },
    {
     "name": "stdout",
     "output_type": "stream",
     "text": [
      "4\n"
     ]
    },
    {
     "name": "stderr",
     "output_type": "stream",
     "text": [
      "100%|█████████████████████████████████████████████████████████████████| 1/1 [00:12<00:00, 12.48s/it]\n"
     ]
    },
    {
     "name": "stdout",
     "output_type": "stream",
     "text": [
      "3263435\n"
     ]
    },
    {
     "name": "stderr",
     "output_type": "stream",
     "text": [
      "100%|█████████████████████████████████████████████████████████████████| 1/1 [00:13<00:00, 13.05s/it]\n"
     ]
    },
    {
     "name": "stdout",
     "output_type": "stream",
     "text": [
      "3\n",
      "Medical_\"Italy\"\n",
      "3263435\n"
     ]
    },
    {
     "name": "stderr",
     "output_type": "stream",
     "text": [
      "100%|█████████████████████████████████████████████████████████████████| 1/1 [00:15<00:00, 15.08s/it]\n"
     ]
    },
    {
     "name": "stdout",
     "output_type": "stream",
     "text": [
      "3263435\n"
     ]
    },
    {
     "name": "stderr",
     "output_type": "stream",
     "text": [
      "100%|█████████████████████████████████████████████████████████████████| 1/1 [00:13<00:00, 13.05s/it]\n"
     ]
    },
    {
     "name": "stdout",
     "output_type": "stream",
     "text": [
      "4\n",
      "Medical_\"Portugal\"\n"
     ]
    },
    {
     "name": "stderr",
     "output_type": "stream",
     "text": [
      "100%|█████████████████████████████████████████████████████████████████| 1/1 [00:14<00:00, 14.82s/it]\n"
     ]
    },
    {
     "name": "stdout",
     "output_type": "stream",
     "text": [
      "3263435\n",
      "Medical_\"Russia\"\n",
      "4\n"
     ]
    },
    {
     "name": "stderr",
     "output_type": "stream",
     "text": [
      "100%|█████████████████████████████████████████████████████████████████| 1/1 [00:14<00:00, 14.68s/it]\n"
     ]
    },
    {
     "name": "stdout",
     "output_type": "stream",
     "text": [
      "3\n",
      "Medical_\"Saudi Arabia\"\n"
     ]
    },
    {
     "name": "stderr",
     "output_type": "stream",
     "text": [
      "100%|█████████████████████████████████████████████████████████████████| 1/1 [00:14<00:00, 14.42s/it]\n"
     ]
    },
    {
     "name": "stdout",
     "output_type": "stream",
     "text": [
      "5\n",
      "4\n"
     ]
    },
    {
     "name": "stderr",
     "output_type": "stream",
     "text": [
      "100%|█████████████████████████████████████████████████████████████████| 1/1 [00:14<00:00, 14.80s/it]\n"
     ]
    },
    {
     "name": "stdout",
     "output_type": "stream",
     "text": [
      "4\n"
     ]
    },
    {
     "name": "stderr",
     "output_type": "stream",
     "text": [
      "100%|█████████████████████████████████████████████████████████████████| 1/1 [00:14<00:00, 14.82s/it]\n"
     ]
    },
    {
     "name": "stdout",
     "output_type": "stream",
     "text": [
      "3263435\n",
      "3\n",
      "Medical_\"South Korea\"\n"
     ]
    },
    {
     "name": "stderr",
     "output_type": "stream",
     "text": [
      "100%|█████████████████████████████████████████████████████████████████| 1/1 [00:12<00:00, 12.44s/it]\n"
     ]
    },
    {
     "name": "stdout",
     "output_type": "stream",
     "text": [
      "2\n",
      "Medical_\"Spain\"\n"
     ]
    },
    {
     "name": "stderr",
     "output_type": "stream",
     "text": [
      "100%|█████████████████████████████████████████████████████████████████| 1/1 [00:12<00:00, 12.41s/it]\n"
     ]
    },
    {
     "name": "stdout",
     "output_type": "stream",
     "text": [
      "3\n"
     ]
    },
    {
     "name": "stderr",
     "output_type": "stream",
     "text": [
      "100%|█████████████████████████████████████████████████████████████████| 1/1 [00:12<00:00, 12.53s/it]\n"
     ]
    },
    {
     "name": "stdout",
     "output_type": "stream",
     "text": [
      "3\n"
     ]
    },
    {
     "name": "stderr",
     "output_type": "stream",
     "text": [
      "100%|█████████████████████████████████████████████████████████████████| 1/1 [00:12<00:00, 12.47s/it]\n"
     ]
    },
    {
     "name": "stdout",
     "output_type": "stream",
     "text": [
      "4\n"
     ]
    },
    {
     "name": "stderr",
     "output_type": "stream",
     "text": [
      "100%|█████████████████████████████████████████████████████████████████| 1/1 [00:12<00:00, 12.55s/it]\n"
     ]
    },
    {
     "name": "stdout",
     "output_type": "stream",
     "text": [
      "4\n"
     ]
    },
    {
     "name": "stderr",
     "output_type": "stream",
     "text": [
      "100%|█████████████████████████████████████████████████████████████████| 1/1 [00:13<00:00, 13.73s/it]\n"
     ]
    },
    {
     "name": "stdout",
     "output_type": "stream",
     "text": [
      "2\n"
     ]
    },
    {
     "name": "stderr",
     "output_type": "stream",
     "text": [
      "100%|█████████████████████████████████████████████████████████████████| 1/1 [00:14<00:00, 14.90s/it]\n"
     ]
    },
    {
     "name": "stdout",
     "output_type": "stream",
     "text": [
      "4\n"
     ]
    },
    {
     "name": "stderr",
     "output_type": "stream",
     "text": [
      "100%|█████████████████████████████████████████████████████████████████| 1/1 [00:12<00:00, 12.40s/it]\n"
     ]
    },
    {
     "name": "stdout",
     "output_type": "stream",
     "text": [
      "2\n",
      "4\n",
      "Medical_\"Turkey\"\n",
      "4\n",
      "Medical_\"Ukraine\"\n"
     ]
    },
    {
     "name": "stderr",
     "output_type": "stream",
     "text": [
      "100%|█████████████████████████████████████████████████████████████████| 1/1 [00:14<00:00, 14.99s/it]\n"
     ]
    },
    {
     "name": "stdout",
     "output_type": "stream",
     "text": [
      "4\n",
      "4\n",
      "Medical_\"United Kingdom\"\n"
     ]
    },
    {
     "name": "stderr",
     "output_type": "stream",
     "text": [
      "100%|█████████████████████████████████████████████████████████████████| 1/1 [00:13<00:00, 13.60s/it]\n"
     ]
    },
    {
     "name": "stdout",
     "output_type": "stream",
     "text": [
      "4\n",
      "4\n"
     ]
    },
    {
     "name": "stderr",
     "output_type": "stream",
     "text": [
      "100%|█████████████████████████████████████████████████████████████████| 1/1 [00:12<00:00, 12.42s/it]\n"
     ]
    },
    {
     "name": "stdout",
     "output_type": "stream",
     "text": [
      "4\n",
      "3263435\n",
      "3\n",
      "3\n",
      "Medical_\"United States\"\n",
      "4\n"
     ]
    },
    {
     "name": "stderr",
     "output_type": "stream",
     "text": [
      "100%|█████████████████████████████████████████████████████████████████| 1/1 [00:14<00:00, 14.84s/it]\n"
     ]
    },
    {
     "name": "stdout",
     "output_type": "stream",
     "text": [
      "4\n"
     ]
    },
    {
     "name": "stderr",
     "output_type": "stream",
     "text": [
      "100%|█████████████████████████████████████████████████████████████████| 1/1 [00:14<00:00, 14.12s/it]\n"
     ]
    },
    {
     "name": "stdout",
     "output_type": "stream",
     "text": [
      "4\n"
     ]
    },
    {
     "name": "stderr",
     "output_type": "stream",
     "text": [
      "100%|█████████████████████████████████████████████████████████████████| 1/1 [00:15<00:00, 15.17s/it]\n"
     ]
    },
    {
     "name": "stdout",
     "output_type": "stream",
     "text": [
      "4\n",
      "4\n"
     ]
    },
    {
     "name": "stderr",
     "output_type": "stream",
     "text": [
      "100%|█████████████████████████████████████████████████████████████████| 1/1 [00:12<00:00, 12.65s/it]\n"
     ]
    },
    {
     "name": "stdout",
     "output_type": "stream",
     "text": [
      "3\n"
     ]
    },
    {
     "name": "stderr",
     "output_type": "stream",
     "text": [
      "100%|█████████████████████████████████████████████████████████████████| 1/1 [00:12<00:00, 12.42s/it]\n"
     ]
    },
    {
     "name": "stdout",
     "output_type": "stream",
     "text": [
      "4\n",
      "3263435\n"
     ]
    },
    {
     "name": "stderr",
     "output_type": "stream",
     "text": [
      "100%|█████████████████████████████████████████████████████████████████| 1/1 [00:12<00:00, 12.70s/it]\n"
     ]
    },
    {
     "name": "stdout",
     "output_type": "stream",
     "text": [
      "4\n"
     ]
    },
    {
     "name": "stderr",
     "output_type": "stream",
     "text": [
      "100%|█████████████████████████████████████████████████████████████████| 1/1 [00:12<00:00, 12.68s/it]\n"
     ]
    },
    {
     "name": "stdout",
     "output_type": "stream",
     "text": [
      "3\n"
     ]
    },
    {
     "name": "stderr",
     "output_type": "stream",
     "text": [
      "100%|█████████████████████████████████████████████████████████████████| 1/1 [00:14<00:00, 14.74s/it]\n"
     ]
    },
    {
     "name": "stdout",
     "output_type": "stream",
     "text": [
      "4\n"
     ]
    },
    {
     "name": "stderr",
     "output_type": "stream",
     "text": [
      "100%|█████████████████████████████████████████████████████████████████| 1/1 [00:15<00:00, 15.03s/it]\n"
     ]
    },
    {
     "name": "stdout",
     "output_type": "stream",
     "text": [
      "5\n"
     ]
    },
    {
     "name": "stderr",
     "output_type": "stream",
     "text": [
      "100%|█████████████████████████████████████████████████████████████████| 1/1 [00:13<00:00, 13.24s/it]\n"
     ]
    },
    {
     "name": "stdout",
     "output_type": "stream",
     "text": [
      "4\n"
     ]
    },
    {
     "name": "stderr",
     "output_type": "stream",
     "text": [
      "100%|█████████████████████████████████████████████████████████████████| 1/1 [00:12<00:00, 12.53s/it]\n"
     ]
    },
    {
     "name": "stdout",
     "output_type": "stream",
     "text": [
      "3\n"
     ]
    },
    {
     "name": "stderr",
     "output_type": "stream",
     "text": [
      "100%|█████████████████████████████████████████████████████████████████| 1/1 [00:12<00:00, 12.49s/it]\n"
     ]
    },
    {
     "name": "stdout",
     "output_type": "stream",
     "text": [
      "3263435\n"
     ]
    },
    {
     "name": "stderr",
     "output_type": "stream",
     "text": [
      "100%|█████████████████████████████████████████████████████████████████| 1/1 [00:12<00:00, 12.49s/it]\n"
     ]
    },
    {
     "name": "stdout",
     "output_type": "stream",
     "text": [
      "3\n"
     ]
    },
    {
     "name": "stderr",
     "output_type": "stream",
     "text": [
      "100%|█████████████████████████████████████████████████████████████████| 1/1 [00:12<00:00, 12.56s/it]\n"
     ]
    },
    {
     "name": "stdout",
     "output_type": "stream",
     "text": [
      "3263435\n"
     ]
    },
    {
     "name": "stderr",
     "output_type": "stream",
     "text": [
      "100%|█████████████████████████████████████████████████████████████████| 1/1 [00:14<00:00, 14.76s/it]\n"
     ]
    },
    {
     "name": "stdout",
     "output_type": "stream",
     "text": [
      "3\n"
     ]
    },
    {
     "name": "stderr",
     "output_type": "stream",
     "text": [
      "100%|█████████████████████████████████████████████████████████████████| 1/1 [00:24<00:00, 24.38s/it]\n"
     ]
    },
    {
     "name": "stdout",
     "output_type": "stream",
     "text": [
      "4\n"
     ]
    },
    {
     "name": "stderr",
     "output_type": "stream",
     "text": [
      "100%|█████████████████████████████████████████████████████████████████| 1/1 [00:14<00:00, 14.91s/it]\n"
     ]
    },
    {
     "name": "stdout",
     "output_type": "stream",
     "text": [
      "3\n",
      "3\n",
      "3\n",
      "4\n",
      "3\n",
      "3\n",
      "Social_\"Argentina\"\n"
     ]
    },
    {
     "name": "stderr",
     "output_type": "stream",
     "text": [
      "100%|█████████████████████████████████████████████████████████████████| 1/1 [00:12<00:00, 12.63s/it]\n"
     ]
    },
    {
     "name": "stdout",
     "output_type": "stream",
     "text": [
      "4\n"
     ]
    },
    {
     "name": "stderr",
     "output_type": "stream",
     "text": [
      "100%|█████████████████████████████████████████████████████████████████| 1/1 [00:12<00:00, 12.72s/it]\n"
     ]
    },
    {
     "name": "stdout",
     "output_type": "stream",
     "text": [
      "3263435\n"
     ]
    },
    {
     "name": "stderr",
     "output_type": "stream",
     "text": [
      "100%|█████████████████████████████████████████████████████████████████| 1/1 [00:14<00:00, 14.72s/it]\n"
     ]
    },
    {
     "name": "stdout",
     "output_type": "stream",
     "text": [
      "4\n",
      "Social_\"Australia\"\n",
      "4\n",
      "Social_\"Belgium\"\n"
     ]
    },
    {
     "name": "stderr",
     "output_type": "stream",
     "text": [
      "100%|█████████████████████████████████████████████████████████████████| 1/1 [00:14<00:00, 14.80s/it]\n"
     ]
    },
    {
     "name": "stdout",
     "output_type": "stream",
     "text": [
      "4\n",
      "3\n",
      "3\n",
      "3\n"
     ]
    },
    {
     "name": "stderr",
     "output_type": "stream",
     "text": [
      "100%|█████████████████████████████████████████████████████████████████| 1/1 [00:13<00:00, 13.27s/it]\n"
     ]
    },
    {
     "name": "stdout",
     "output_type": "stream",
     "text": [
      "3\n"
     ]
    },
    {
     "name": "stderr",
     "output_type": "stream",
     "text": [
      "100%|█████████████████████████████████████████████████████████████████| 1/1 [00:12<00:00, 12.83s/it]\n"
     ]
    },
    {
     "name": "stdout",
     "output_type": "stream",
     "text": [
      "2\n"
     ]
    },
    {
     "name": "stderr",
     "output_type": "stream",
     "text": [
      "100%|█████████████████████████████████████████████████████████████████| 1/1 [00:12<00:00, 12.59s/it]\n"
     ]
    },
    {
     "name": "stdout",
     "output_type": "stream",
     "text": [
      "4\n"
     ]
    },
    {
     "name": "stderr",
     "output_type": "stream",
     "text": [
      "100%|█████████████████████████████████████████████████████████████████| 1/1 [00:12<00:00, 12.58s/it]\n"
     ]
    },
    {
     "name": "stdout",
     "output_type": "stream",
     "text": [
      "3\n"
     ]
    },
    {
     "name": "stderr",
     "output_type": "stream",
     "text": [
      "100%|█████████████████████████████████████████████████████████████████| 1/1 [00:12<00:00, 12.52s/it]\n"
     ]
    },
    {
     "name": "stdout",
     "output_type": "stream",
     "text": [
      "3\n",
      "3\n",
      "3\n"
     ]
    },
    {
     "name": "stderr",
     "output_type": "stream",
     "text": [
      "100%|█████████████████████████████████████████████████████████████████| 1/1 [00:12<00:00, 12.72s/it]\n"
     ]
    },
    {
     "name": "stdout",
     "output_type": "stream",
     "text": [
      "4\n"
     ]
    },
    {
     "name": "stderr",
     "output_type": "stream",
     "text": [
      "100%|█████████████████████████████████████████████████████████████████| 1/1 [00:14<00:00, 14.78s/it]\n"
     ]
    },
    {
     "name": "stdout",
     "output_type": "stream",
     "text": [
      "3\n"
     ]
    },
    {
     "name": "stderr",
     "output_type": "stream",
     "text": [
      "100%|█████████████████████████████████████████████████████████████████| 1/1 [00:12<00:00, 12.50s/it]\n"
     ]
    },
    {
     "name": "stdout",
     "output_type": "stream",
     "text": [
      "3\n"
     ]
    },
    {
     "name": "stderr",
     "output_type": "stream",
     "text": [
      "100%|█████████████████████████████████████████████████████████████████| 1/1 [00:12<00:00, 12.71s/it]\n"
     ]
    },
    {
     "name": "stdout",
     "output_type": "stream",
     "text": [
      "2\n",
      "4\n"
     ]
    },
    {
     "name": "stderr",
     "output_type": "stream",
     "text": [
      "100%|█████████████████████████████████████████████████████████████████| 1/1 [00:12<00:00, 12.44s/it]\n"
     ]
    },
    {
     "name": "stdout",
     "output_type": "stream",
     "text": [
      "4\n"
     ]
    },
    {
     "name": "stderr",
     "output_type": "stream",
     "text": [
      "100%|████████████████████████████████████████████████████████████████| 1/1 [02:04<00:00, 124.09s/it]\n"
     ]
    },
    {
     "name": "stdout",
     "output_type": "stream",
     "text": [
      "5\n",
      "Social_\"Canada\"\n"
     ]
    },
    {
     "name": "stderr",
     "output_type": "stream",
     "text": [
      "100%|█████████████████████████████████████████████████████████████████| 1/1 [00:12<00:00, 12.49s/it]\n"
     ]
    },
    {
     "name": "stdout",
     "output_type": "stream",
     "text": [
      "3263435\n"
     ]
    },
    {
     "name": "stderr",
     "output_type": "stream",
     "text": [
      "100%|█████████████████████████████████████████████████████████████████| 1/1 [00:12<00:00, 12.58s/it]\n"
     ]
    },
    {
     "name": "stdout",
     "output_type": "stream",
     "text": [
      "3\n",
      "4\n"
     ]
    },
    {
     "name": "stderr",
     "output_type": "stream",
     "text": [
      "100%|█████████████████████████████████████████████████████████████████| 1/1 [00:13<00:00, 13.43s/it]\n"
     ]
    },
    {
     "name": "stdout",
     "output_type": "stream",
     "text": [
      "4\n"
     ]
    },
    {
     "name": "stderr",
     "output_type": "stream",
     "text": [
      "100%|█████████████████████████████████████████████████████████████████| 1/1 [00:12<00:00, 12.48s/it]\n"
     ]
    },
    {
     "name": "stdout",
     "output_type": "stream",
     "text": [
      "3\n"
     ]
    },
    {
     "name": "stderr",
     "output_type": "stream",
     "text": [
      "100%|█████████████████████████████████████████████████████████████████| 1/1 [00:13<00:00, 13.02s/it]\n"
     ]
    },
    {
     "name": "stdout",
     "output_type": "stream",
     "text": [
      "4\n"
     ]
    },
    {
     "name": "stderr",
     "output_type": "stream",
     "text": [
      "100%|█████████████████████████████████████████████████████████████████| 1/1 [00:13<00:00, 13.25s/it]\n"
     ]
    },
    {
     "name": "stdout",
     "output_type": "stream",
     "text": [
      "6\n",
      "3\n"
     ]
    },
    {
     "name": "stderr",
     "output_type": "stream",
     "text": [
      "100%|█████████████████████████████████████████████████████████████████| 1/1 [00:12<00:00, 12.49s/it]\n"
     ]
    },
    {
     "name": "stdout",
     "output_type": "stream",
     "text": [
      "3\n"
     ]
    },
    {
     "name": "stderr",
     "output_type": "stream",
     "text": [
      "100%|█████████████████████████████████████████████████████████████████| 1/1 [00:12<00:00, 12.52s/it]\n"
     ]
    },
    {
     "name": "stdout",
     "output_type": "stream",
     "text": [
      "3\n"
     ]
    },
    {
     "name": "stderr",
     "output_type": "stream",
     "text": [
      "100%|█████████████████████████████████████████████████████████████████| 1/1 [00:12<00:00, 12.40s/it]\n"
     ]
    },
    {
     "name": "stdout",
     "output_type": "stream",
     "text": [
      "3\n",
      "3263435\n"
     ]
    },
    {
     "name": "stderr",
     "output_type": "stream",
     "text": [
      "100%|█████████████████████████████████████████████████████████████████| 1/1 [00:30<00:00, 30.45s/it]\n"
     ]
    },
    {
     "name": "stdout",
     "output_type": "stream",
     "text": [
      "4\n",
      "3\n"
     ]
    },
    {
     "name": "stderr",
     "output_type": "stream",
     "text": [
      "100%|█████████████████████████████████████████████████████████████████| 1/1 [00:30<00:00, 30.70s/it]\n"
     ]
    },
    {
     "name": "stdout",
     "output_type": "stream",
     "text": [
      "4\n"
     ]
    },
    {
     "name": "stderr",
     "output_type": "stream",
     "text": [
      "100%|█████████████████████████████████████████████████████████████████| 1/1 [00:13<00:00, 13.26s/it]\n"
     ]
    },
    {
     "name": "stdout",
     "output_type": "stream",
     "text": [
      "4\n"
     ]
    },
    {
     "name": "stderr",
     "output_type": "stream",
     "text": [
      "100%|█████████████████████████████████████████████████████████████████| 1/1 [00:14<00:00, 14.87s/it]\n"
     ]
    },
    {
     "name": "stdout",
     "output_type": "stream",
     "text": [
      "5\n"
     ]
    },
    {
     "name": "stderr",
     "output_type": "stream",
     "text": [
      "100%|█████████████████████████████████████████████████████████████████| 1/1 [00:12<00:00, 12.48s/it]\n"
     ]
    },
    {
     "name": "stdout",
     "output_type": "stream",
     "text": [
      "3\n"
     ]
    },
    {
     "name": "stderr",
     "output_type": "stream",
     "text": [
      "100%|█████████████████████████████████████████████████████████████████| 1/1 [00:14<00:00, 14.68s/it]\n"
     ]
    },
    {
     "name": "stdout",
     "output_type": "stream",
     "text": [
      "3\n"
     ]
    },
    {
     "name": "stderr",
     "output_type": "stream",
     "text": [
      "100%|█████████████████████████████████████████████████████████████████| 1/1 [00:12<00:00, 12.45s/it]\n"
     ]
    },
    {
     "name": "stdout",
     "output_type": "stream",
     "text": [
      "3\n"
     ]
    },
    {
     "name": "stderr",
     "output_type": "stream",
     "text": [
      "100%|█████████████████████████████████████████████████████████████████| 1/1 [00:12<00:00, 12.49s/it]\n"
     ]
    },
    {
     "name": "stdout",
     "output_type": "stream",
     "text": [
      "3\n",
      "3263435\n"
     ]
    },
    {
     "name": "stderr",
     "output_type": "stream",
     "text": [
      "100%|█████████████████████████████████████████████████████████████████| 1/1 [00:14<00:00, 14.79s/it]\n"
     ]
    },
    {
     "name": "stdout",
     "output_type": "stream",
     "text": [
      "5\n",
      "3\n",
      "4\n",
      "Social_\"China\"\n",
      "4\n"
     ]
    },
    {
     "name": "stderr",
     "output_type": "stream",
     "text": [
      "100%|█████████████████████████████████████████████████████████████████| 1/1 [00:14<00:00, 14.69s/it]\n"
     ]
    },
    {
     "name": "stdout",
     "output_type": "stream",
     "text": [
      "3\n",
      "3\n",
      "3\n",
      "3\n",
      "3\n"
     ]
    },
    {
     "name": "stderr",
     "output_type": "stream",
     "text": [
      "100%|█████████████████████████████████████████████████████████████████| 1/1 [00:14<00:00, 14.76s/it]\n"
     ]
    },
    {
     "name": "stdout",
     "output_type": "stream",
     "text": [
      "4\n",
      "3\n",
      "3\n",
      "3\n",
      "3\n",
      "3\n"
     ]
    },
    {
     "name": "stderr",
     "output_type": "stream",
     "text": [
      "100%|█████████████████████████████████████████████████████████████████| 1/1 [00:15<00:00, 15.23s/it]\n"
     ]
    },
    {
     "name": "stdout",
     "output_type": "stream",
     "text": [
      "3263435\n"
     ]
    },
    {
     "name": "stderr",
     "output_type": "stream",
     "text": [
      "100%|█████████████████████████████████████████████████████████████████| 1/1 [00:15<00:00, 15.07s/it]\n"
     ]
    },
    {
     "name": "stdout",
     "output_type": "stream",
     "text": [
      "4\n"
     ]
    },
    {
     "name": "stderr",
     "output_type": "stream",
     "text": [
      "100%|█████████████████████████████████████████████████████████████████| 1/1 [00:13<00:00, 13.01s/it]\n"
     ]
    },
    {
     "name": "stdout",
     "output_type": "stream",
     "text": [
      "3\n",
      "4\n",
      "4\n",
      "4\n",
      "4\n",
      "4\n",
      "3\n",
      "3263435\n"
     ]
    },
    {
     "name": "stderr",
     "output_type": "stream",
     "text": [
      "100%|█████████████████████████████████████████████████████████████████| 1/1 [00:12<00:00, 12.61s/it]\n"
     ]
    },
    {
     "name": "stdout",
     "output_type": "stream",
     "text": [
      "4\n",
      "3\n",
      "4\n",
      "Social_\"Ethiopia\"\n"
     ]
    },
    {
     "name": "stderr",
     "output_type": "stream",
     "text": [
      "100%|█████████████████████████████████████████████████████████████████| 1/1 [00:15<00:00, 15.61s/it]\n"
     ]
    },
    {
     "name": "stdout",
     "output_type": "stream",
     "text": [
      "4\n",
      "Social_\"France\"\n",
      "5\n",
      "3\n",
      "3\n",
      "3\n"
     ]
    },
    {
     "name": "stderr",
     "output_type": "stream",
     "text": [
      "100%|█████████████████████████████████████████████████████████████████| 1/1 [00:12<00:00, 12.67s/it]\n"
     ]
    },
    {
     "name": "stdout",
     "output_type": "stream",
     "text": [
      "2\n"
     ]
    },
    {
     "name": "stderr",
     "output_type": "stream",
     "text": [
      "100%|█████████████████████████████████████████████████████████████████| 1/1 [00:15<00:00, 15.20s/it]\n"
     ]
    },
    {
     "name": "stdout",
     "output_type": "stream",
     "text": [
      "3\n"
     ]
    },
    {
     "name": "stderr",
     "output_type": "stream",
     "text": [
      "100%|█████████████████████████████████████████████████████████████████| 1/1 [00:12<00:00, 12.58s/it]\n"
     ]
    },
    {
     "name": "stdout",
     "output_type": "stream",
     "text": [
      "2\n",
      "3\n",
      "3263435\n"
     ]
    },
    {
     "name": "stderr",
     "output_type": "stream",
     "text": [
      "100%|█████████████████████████████████████████████████████████████████| 1/1 [00:12<00:00, 12.64s/it]\n"
     ]
    },
    {
     "name": "stdout",
     "output_type": "stream",
     "text": [
      "3263435\n",
      "3\n",
      "4\n",
      "Social_\"Germany\"\n",
      "3\n",
      "3\n",
      "3263435\n",
      "4\n",
      "Social_\"Greece\"\n"
     ]
    },
    {
     "name": "stderr",
     "output_type": "stream",
     "text": [
      "100%|█████████████████████████████████████████████████████████████████| 1/1 [00:15<00:00, 15.78s/it]\n"
     ]
    },
    {
     "name": "stdout",
     "output_type": "stream",
     "text": [
      "5\n",
      "Social_\"Guinea\"\n"
     ]
    },
    {
     "name": "stderr",
     "output_type": "stream",
     "text": [
      "100%|█████████████████████████████████████████████████████████████████| 1/1 [00:14<00:00, 14.76s/it]\n"
     ]
    },
    {
     "name": "stdout",
     "output_type": "stream",
     "text": [
      "4\n"
     ]
    },
    {
     "name": "stderr",
     "output_type": "stream",
     "text": [
      "100%|█████████████████████████████████████████████████████████████████| 1/1 [00:13<00:00, 13.10s/it]\n"
     ]
    },
    {
     "name": "stdout",
     "output_type": "stream",
     "text": [
      "5\n",
      "4\n"
     ]
    },
    {
     "name": "stderr",
     "output_type": "stream",
     "text": [
      "100%|█████████████████████████████████████████████████████████████████| 1/1 [00:15<00:00, 15.02s/it]\n"
     ]
    },
    {
     "name": "stdout",
     "output_type": "stream",
     "text": [
      "5\n",
      "4\n"
     ]
    },
    {
     "name": "stderr",
     "output_type": "stream",
     "text": [
      "100%|█████████████████████████████████████████████████████████████████| 1/1 [00:12<00:00, 12.45s/it]\n"
     ]
    },
    {
     "name": "stdout",
     "output_type": "stream",
     "text": [
      "3\n",
      "Social_\"Guyana\"\n"
     ]
    },
    {
     "name": "stderr",
     "output_type": "stream",
     "text": [
      "100%|█████████████████████████████████████████████████████████████████| 1/1 [00:14<00:00, 14.86s/it]\n"
     ]
    },
    {
     "name": "stdout",
     "output_type": "stream",
     "text": [
      "4\n"
     ]
    },
    {
     "name": "stderr",
     "output_type": "stream",
     "text": [
      "100%|█████████████████████████████████████████████████████████████████| 1/1 [00:15<00:00, 15.05s/it]\n"
     ]
    },
    {
     "name": "stdout",
     "output_type": "stream",
     "text": [
      "3263435\n"
     ]
    },
    {
     "name": "stderr",
     "output_type": "stream",
     "text": [
      "100%|█████████████████████████████████████████████████████████████████| 1/1 [00:14<00:00, 14.74s/it]\n"
     ]
    },
    {
     "name": "stdout",
     "output_type": "stream",
     "text": [
      "4\n",
      "3\n"
     ]
    },
    {
     "name": "stderr",
     "output_type": "stream",
     "text": [
      "100%|█████████████████████████████████████████████████████████████████| 1/1 [00:12<00:00, 12.46s/it]\n"
     ]
    },
    {
     "name": "stdout",
     "output_type": "stream",
     "text": [
      "4\n"
     ]
    },
    {
     "name": "stderr",
     "output_type": "stream",
     "text": [
      "100%|█████████████████████████████████████████████████████████████████| 1/1 [00:14<00:00, 14.60s/it]\n"
     ]
    },
    {
     "name": "stdout",
     "output_type": "stream",
     "text": [
      "4\n",
      "4\n",
      "3\n"
     ]
    },
    {
     "name": "stderr",
     "output_type": "stream",
     "text": [
      "100%|█████████████████████████████████████████████████████████████████| 1/1 [00:14<00:00, 14.65s/it]\n"
     ]
    },
    {
     "name": "stdout",
     "output_type": "stream",
     "text": [
      "4\n",
      "3\n"
     ]
    },
    {
     "name": "stderr",
     "output_type": "stream",
     "text": [
      "100%|█████████████████████████████████████████████████████████████████| 1/1 [00:12<00:00, 12.46s/it]\n"
     ]
    },
    {
     "name": "stdout",
     "output_type": "stream",
     "text": [
      "3\n",
      "3\n"
     ]
    },
    {
     "name": "stderr",
     "output_type": "stream",
     "text": [
      "100%|█████████████████████████████████████████████████████████████████| 1/1 [00:12<00:00, 12.44s/it]\n"
     ]
    },
    {
     "name": "stdout",
     "output_type": "stream",
     "text": [
      "3263435\n",
      "3\n"
     ]
    },
    {
     "name": "stderr",
     "output_type": "stream",
     "text": [
      "100%|█████████████████████████████████████████████████████████████████| 1/1 [00:12<00:00, 12.51s/it]\n"
     ]
    },
    {
     "name": "stdout",
     "output_type": "stream",
     "text": [
      "3\n",
      "3\n",
      "3263435\n"
     ]
    },
    {
     "name": "stderr",
     "output_type": "stream",
     "text": [
      "100%|█████████████████████████████████████████████████████████████████| 1/1 [00:14<00:00, 14.78s/it]\n"
     ]
    },
    {
     "name": "stdout",
     "output_type": "stream",
     "text": [
      "3263435\n",
      "4\n",
      "Social_\"India\"\n",
      "3263435\n",
      "4\n",
      "Social_\"Indonesia\"\n",
      "4\n",
      "Social_\"Iran\"\n",
      "4\n"
     ]
    },
    {
     "name": "stderr",
     "output_type": "stream",
     "text": [
      "100%|█████████████████████████████████████████████████████████████████| 1/1 [00:12<00:00, 12.37s/it]\n"
     ]
    },
    {
     "name": "stdout",
     "output_type": "stream",
     "text": [
      "3263435\n",
      "2\n",
      "3263435\n",
      "3\n",
      "3\n",
      "4\n",
      "3\n",
      "4\n",
      "3\n"
     ]
    },
    {
     "name": "stderr",
     "output_type": "stream",
     "text": [
      "100%|█████████████████████████████████████████████████████████████████| 1/1 [00:14<00:00, 14.68s/it]\n"
     ]
    },
    {
     "name": "stdout",
     "output_type": "stream",
     "text": [
      "4\n",
      "4\n",
      "2\n",
      "4\n",
      "4\n",
      "4\n",
      "Social_\"Ireland\"\n",
      "4\n",
      "Social_\"Italy\"\n"
     ]
    },
    {
     "name": "stderr",
     "output_type": "stream",
     "text": [
      "100%|█████████████████████████████████████████████████████████████████| 1/1 [00:12<00:00, 12.40s/it]\n"
     ]
    },
    {
     "name": "stdout",
     "output_type": "stream",
     "text": [
      "3\n",
      "3263435\n"
     ]
    },
    {
     "name": "stderr",
     "output_type": "stream",
     "text": [
      "100%|█████████████████████████████████████████████████████████████████| 1/1 [00:12<00:00, 12.50s/it]\n"
     ]
    },
    {
     "name": "stdout",
     "output_type": "stream",
     "text": [
      "3263435\n",
      "3\n",
      "3\n",
      "3\n"
     ]
    },
    {
     "name": "stderr",
     "output_type": "stream",
     "text": [
      "100%|█████████████████████████████████████████████████████████████████| 1/1 [00:14<00:00, 14.79s/it]\n"
     ]
    },
    {
     "name": "stdout",
     "output_type": "stream",
     "text": [
      "3263435\n",
      "4\n",
      "3\n",
      "3\n",
      "2\n",
      "4\n",
      "4\n",
      "4\n",
      "5\n",
      "4\n",
      "Social_\"Japan\"\n"
     ]
    },
    {
     "name": "stderr",
     "output_type": "stream",
     "text": [
      "100%|█████████████████████████████████████████████████████████████████| 1/1 [00:14<00:00, 14.76s/it]\n"
     ]
    },
    {
     "name": "stdout",
     "output_type": "stream",
     "text": [
      "3263435\n"
     ]
    },
    {
     "name": "stderr",
     "output_type": "stream",
     "text": [
      "100%|█████████████████████████████████████████████████████████████████| 1/1 [00:15<00:00, 15.09s/it]\n"
     ]
    },
    {
     "name": "stdout",
     "output_type": "stream",
     "text": [
      "3263435\n",
      "4\n",
      "4\n"
     ]
    },
    {
     "name": "stderr",
     "output_type": "stream",
     "text": [
      "100%|█████████████████████████████████████████████████████████████████| 1/1 [00:12<00:00, 12.63s/it]\n"
     ]
    },
    {
     "name": "stdout",
     "output_type": "stream",
     "text": [
      "4\n",
      "3\n"
     ]
    },
    {
     "name": "stderr",
     "output_type": "stream",
     "text": [
      "100%|█████████████████████████████████████████████████████████████████| 1/1 [00:13<00:00, 13.13s/it]\n"
     ]
    },
    {
     "name": "stdout",
     "output_type": "stream",
     "text": [
      "3\n"
     ]
    },
    {
     "name": "stderr",
     "output_type": "stream",
     "text": [
      "100%|█████████████████████████████████████████████████████████████████| 1/1 [00:17<00:00, 17.34s/it]\n"
     ]
    },
    {
     "name": "stdout",
     "output_type": "stream",
     "text": [
      "3\n",
      "3\n"
     ]
    },
    {
     "name": "stderr",
     "output_type": "stream",
     "text": [
      "100%|█████████████████████████████████████████████████████████████████| 1/1 [00:13<00:00, 13.43s/it]\n"
     ]
    },
    {
     "name": "stdout",
     "output_type": "stream",
     "text": [
      "3\n",
      "3\n",
      "3\n",
      "3263435\n"
     ]
    },
    {
     "name": "stderr",
     "output_type": "stream",
     "text": [
      "100%|█████████████████████████████████████████████████████████████████| 1/1 [00:16<00:00, 16.91s/it]\n"
     ]
    },
    {
     "name": "stdout",
     "output_type": "stream",
     "text": [
      "3263435\n",
      "4\n",
      "4\n",
      "Social_\"Malaysia\"\n",
      "4\n",
      "Social_\"Mexico\"\n",
      "5\n"
     ]
    },
    {
     "name": "stderr",
     "output_type": "stream",
     "text": [
      "100%|█████████████████████████████████████████████████████████████████| 1/1 [00:16<00:00, 16.31s/it]\n"
     ]
    },
    {
     "name": "stdout",
     "output_type": "stream",
     "text": [
      "4\n"
     ]
    },
    {
     "name": "stderr",
     "output_type": "stream",
     "text": [
      "100%|█████████████████████████████████████████████████████████████████| 1/1 [00:16<00:00, 16.14s/it]\n"
     ]
    },
    {
     "name": "stdout",
     "output_type": "stream",
     "text": [
      "5\n",
      "4\n"
     ]
    },
    {
     "name": "stderr",
     "output_type": "stream",
     "text": [
      "100%|█████████████████████████████████████████████████████████████████| 1/1 [00:17<00:00, 17.67s/it]\n"
     ]
    },
    {
     "name": "stdout",
     "output_type": "stream",
     "text": [
      "3263435\n",
      "4\n",
      "4\n",
      "Social_\"Netherlands\"\n",
      "4\n",
      "Social_\"New Zealand\"\n"
     ]
    },
    {
     "name": "stderr",
     "output_type": "stream",
     "text": [
      "100%|█████████████████████████████████████████████████████████████████| 1/1 [00:15<00:00, 15.95s/it]\n"
     ]
    },
    {
     "name": "stdout",
     "output_type": "stream",
     "text": [
      "5\n",
      "Social_\"Nigeria\"\n",
      "4\n",
      "Social_\"North Korea\"\n",
      "2\n",
      "Social_\"Norway\"\n",
      "4\n",
      "Social_\"Pakistan\"\n",
      "4\n",
      "Social_\"Philippines\"\n",
      "4\n",
      "Social_\"Poland\"\n",
      "4\n",
      "Social_\"Romania\"\n",
      "5\n",
      "3\n"
     ]
    },
    {
     "name": "stderr",
     "output_type": "stream",
     "text": [
      "100%|█████████████████████████████████████████████████████████████████| 1/1 [00:14<00:00, 14.25s/it]\n"
     ]
    },
    {
     "name": "stdout",
     "output_type": "stream",
     "text": [
      "2\n",
      "4\n",
      "Social_\"Russia\"\n"
     ]
    },
    {
     "name": "stderr",
     "output_type": "stream",
     "text": [
      "100%|█████████████████████████████████████████████████████████████████| 1/1 [00:13<00:00, 13.59s/it]\n"
     ]
    },
    {
     "name": "stdout",
     "output_type": "stream",
     "text": [
      "4\n",
      "4\n",
      "4\n",
      "3263435\n",
      "3263435\n",
      "3\n",
      "4\n",
      "4\n",
      "3\n"
     ]
    },
    {
     "name": "stderr",
     "output_type": "stream",
     "text": [
      "100%|█████████████████████████████████████████████████████████████████| 1/1 [00:14<00:00, 14.83s/it]\n"
     ]
    },
    {
     "name": "stdout",
     "output_type": "stream",
     "text": [
      "4\n"
     ]
    },
    {
     "name": "stderr",
     "output_type": "stream",
     "text": [
      "100%|█████████████████████████████████████████████████████████████████| 1/1 [00:22<00:00, 22.56s/it]\n"
     ]
    },
    {
     "name": "stdout",
     "output_type": "stream",
     "text": [
      "5\n",
      "4\n",
      "2\n",
      "5\n",
      "4\n",
      "Social_\"South Korea\"\n",
      "4\n",
      "3263435\n",
      "4\n",
      "3\n",
      "4\n",
      "4\n"
     ]
    },
    {
     "name": "stderr",
     "output_type": "stream",
     "text": [
      "100%|█████████████████████████████████████████████████████████████████| 1/1 [00:12<00:00, 12.84s/it]\n"
     ]
    },
    {
     "name": "stdout",
     "output_type": "stream",
     "text": [
      "4\n"
     ]
    },
    {
     "name": "stderr",
     "output_type": "stream",
     "text": [
      "100%|█████████████████████████████████████████████████████████████████| 1/1 [00:12<00:00, 12.46s/it]\n"
     ]
    },
    {
     "name": "stdout",
     "output_type": "stream",
     "text": [
      "3\n",
      "4\n",
      "3\n",
      "4\n",
      "2\n",
      "Social_\"Spain\"\n",
      "3\n",
      "4\n",
      "Social_\"Sweden\"\n"
     ]
    },
    {
     "name": "stderr",
     "output_type": "stream",
     "text": [
      "100%|█████████████████████████████████████████████████████████████████| 1/1 [00:12<00:00, 12.79s/it]\n"
     ]
    },
    {
     "name": "stdout",
     "output_type": "stream",
     "text": [
      "3\n",
      "4\n",
      "Social_\"Switzerland\"\n",
      "3263435\n",
      "4\n",
      "Social_\"Taiwan\"\n"
     ]
    },
    {
     "name": "stderr",
     "output_type": "stream",
     "text": [
      "100%|█████████████████████████████████████████████████████████████████| 1/1 [00:16<00:00, 16.79s/it]\n"
     ]
    },
    {
     "name": "stdout",
     "output_type": "stream",
     "text": [
      "4\n"
     ]
    },
    {
     "name": "stderr",
     "output_type": "stream",
     "text": [
      "100%|█████████████████████████████████████████████████████████████████| 1/1 [00:25<00:00, 25.17s/it]\n"
     ]
    },
    {
     "name": "stdout",
     "output_type": "stream",
     "text": [
      "4\n",
      "3\n",
      "3\n",
      "4\n",
      "Social_\"Ukraine\"\n",
      "4\n",
      "4\n",
      "Social_\"United Kingdom\"\n"
     ]
    },
    {
     "name": "stderr",
     "output_type": "stream",
     "text": [
      "100%|█████████████████████████████████████████████████████████████████| 1/1 [00:14<00:00, 14.89s/it]\n"
     ]
    },
    {
     "name": "stdout",
     "output_type": "stream",
     "text": [
      "4\n"
     ]
    },
    {
     "name": "stderr",
     "output_type": "stream",
     "text": [
      "100%|█████████████████████████████████████████████████████████████████| 1/1 [00:15<00:00, 15.80s/it]\n"
     ]
    },
    {
     "name": "stdout",
     "output_type": "stream",
     "text": [
      "5\n",
      "4\n"
     ]
    },
    {
     "name": "stderr",
     "output_type": "stream",
     "text": [
      "100%|█████████████████████████████████████████████████████████████████| 1/1 [00:12<00:00, 12.42s/it]\n"
     ]
    },
    {
     "name": "stdout",
     "output_type": "stream",
     "text": [
      "3263435\n",
      "3263435\n",
      "3\n"
     ]
    },
    {
     "name": "stderr",
     "output_type": "stream",
     "text": [
      "100%|█████████████████████████████████████████████████████████████████| 1/1 [00:12<00:00, 12.66s/it]\n"
     ]
    },
    {
     "name": "stdout",
     "output_type": "stream",
     "text": [
      "4\n"
     ]
    },
    {
     "name": "stderr",
     "output_type": "stream",
     "text": [
      "100%|█████████████████████████████████████████████████████████████████| 1/1 [00:15<00:00, 15.86s/it]\n"
     ]
    },
    {
     "name": "stdout",
     "output_type": "stream",
     "text": [
      "4\n"
     ]
    },
    {
     "name": "stderr",
     "output_type": "stream",
     "text": [
      "100%|█████████████████████████████████████████████████████████████████| 1/1 [00:12<00:00, 12.75s/it]\n"
     ]
    },
    {
     "name": "stdout",
     "output_type": "stream",
     "text": [
      "3263435\n"
     ]
    },
    {
     "name": "stderr",
     "output_type": "stream",
     "text": [
      "100%|█████████████████████████████████████████████████████████████████| 1/1 [00:12<00:00, 12.85s/it]\n"
     ]
    },
    {
     "name": "stdout",
     "output_type": "stream",
     "text": [
      "3263435\n",
      "3\n",
      "5\n"
     ]
    },
    {
     "name": "stderr",
     "output_type": "stream",
     "text": [
      "100%|█████████████████████████████████████████████████████████████████| 1/1 [00:13<00:00, 13.99s/it]\n"
     ]
    },
    {
     "name": "stdout",
     "output_type": "stream",
     "text": [
      "3263435\n",
      "4\n",
      "3\n",
      "4\n",
      "4\n",
      "3\n",
      "3\n"
     ]
    },
    {
     "name": "stderr",
     "output_type": "stream",
     "text": [
      "100%|█████████████████████████████████████████████████████████████████| 1/1 [00:12<00:00, 12.87s/it]\n"
     ]
    },
    {
     "name": "stdout",
     "output_type": "stream",
     "text": [
      "5\n",
      "3\n",
      "5\n",
      "3263435\n"
     ]
    },
    {
     "name": "stderr",
     "output_type": "stream",
     "text": [
      "100%|█████████████████████████████████████████████████████████████████| 1/1 [00:15<00:00, 15.35s/it]\n"
     ]
    },
    {
     "name": "stdout",
     "output_type": "stream",
     "text": [
      "5\n",
      "4\n",
      "Social_\"United States\"\n"
     ]
    },
    {
     "name": "stderr",
     "output_type": "stream",
     "text": [
      "100%|█████████████████████████████████████████████████████████████████| 1/1 [00:12<00:00, 12.58s/it]\n"
     ]
    },
    {
     "name": "stdout",
     "output_type": "stream",
     "text": [
      "3263435\n",
      "3263435\n"
     ]
    },
    {
     "name": "stderr",
     "output_type": "stream",
     "text": [
      "100%|█████████████████████████████████████████████████████████████████| 1/1 [00:16<00:00, 16.41s/it]\n"
     ]
    },
    {
     "name": "stdout",
     "output_type": "stream",
     "text": [
      "5\n",
      "3263435\n",
      "3\n",
      "3\n",
      "5\n",
      "3\n",
      "4\n"
     ]
    },
    {
     "name": "stderr",
     "output_type": "stream",
     "text": [
      "100%|█████████████████████████████████████████████████████████████████| 1/1 [00:13<00:00, 13.79s/it]\n"
     ]
    },
    {
     "name": "stdout",
     "output_type": "stream",
     "text": [
      "3\n"
     ]
    },
    {
     "name": "stderr",
     "output_type": "stream",
     "text": [
      "100%|█████████████████████████████████████████████████████████████████| 1/1 [00:13<00:00, 13.12s/it]\n"
     ]
    },
    {
     "name": "stdout",
     "output_type": "stream",
     "text": [
      "3\n",
      "3\n",
      "4\n",
      "4\n",
      "3263435\n",
      "3\n",
      "3263435\n",
      "3\n",
      "3\n",
      "5\n",
      "4\n",
      "3\n",
      "5\n"
     ]
    },
    {
     "name": "stderr",
     "output_type": "stream",
     "text": [
      "100%|█████████████████████████████████████████████████████████████████| 1/1 [00:15<00:00, 15.31s/it]\n"
     ]
    },
    {
     "name": "stdout",
     "output_type": "stream",
     "text": [
      "5\n",
      "3263435\n",
      "Social_\"Venezuela\"\n",
      "4\n",
      "5\n",
      "4\n"
     ]
    },
    {
     "name": "stderr",
     "output_type": "stream",
     "text": [
      "100%|█████████████████████████████████████████████████████████████████| 1/1 [00:15<00:00, 15.14s/it]\n"
     ]
    },
    {
     "name": "stdout",
     "output_type": "stream",
     "text": [
      "3263435\n",
      "3263435\n",
      "4\n",
      "Social_\"Vietnam\"\n",
      "4\n",
      "4\n",
      "3\n"
     ]
    },
    {
     "name": "stderr",
     "output_type": "stream",
     "text": [
      "100%|█████████████████████████████████████████████████████████████████| 1/1 [00:13<00:00, 13.06s/it]"
     ]
    },
    {
     "name": "stdout",
     "output_type": "stream",
     "text": [
      "3263435\n",
      "4\n"
     ]
    },
    {
     "name": "stderr",
     "output_type": "stream",
     "text": [
      "\n"
     ]
    }
   ],
   "source": [
    "count = 0\n",
    "for index, row in df_result.iterrows():\n",
    "    print(row['System_Name'])\n",
    "    # For each country\n",
    "    for umlsel in obsToList(row['c.id']):\n",
    "        # For each umls entity\n",
    "        count += 1\n",
    "        theta,dictPath = Theta(umlsel,'C5203670',dictPath,neowrapper)\n",
    "        print(theta)"
   ]
  },
  {
   "cell_type": "code",
   "execution_count": 50,
   "id": "67b7225c",
   "metadata": {},
   "outputs": [
    {
     "data": {
      "text/plain": [
       "{('A18644523', 'C5203670'): 5,\n",
       " ('A7183861', 'C5203670'): 4,\n",
       " ('A18572345', 'C5203670'): 3,\n",
       " ('A18585838', 'C5203670'): 5,\n",
       " ('A18668123', 'C5203670'): 3,\n",
       " ('A18671460', 'C5203670'): 4,\n",
       " ('A20746006', 'C5203670'): 3263435,\n",
       " ('A23448874', 'C5203670'): 3,\n",
       " ('A34759150', 'C5203670'): 3263435,\n",
       " ('A4366749', 'C5203670'): 3263435,\n",
       " ('A7567993', 'C5203670'): 3,\n",
       " ('A7659903', 'C5203670'): 4,\n",
       " ('A8396272', 'C5203670'): 3,\n",
       " ('A18588939', 'C5203670'): 3,\n",
       " ('A18652221', 'C5203670'): 3,\n",
       " ('A18591976', 'C5203670'): 4,\n",
       " ('A4387104', 'C5203670'): 3,\n",
       " ('C0427957', 'C5203670'): 3,\n",
       " ('A7561222', 'C5203670'): 3263435,\n",
       " ('C0205332', 'C5203670'): 3,\n",
       " ('C1551397', 'C5203670'): 3,\n",
       " ('A18608831', 'C5203670'): 3,\n",
       " ('A18621049', 'C5203670'): 3,\n",
       " ('A18627674', 'C5203670'): 3,\n",
       " ('A18639652', 'C5203670'): 6,\n",
       " ('A18641424', 'C5203670'): 5,\n",
       " ('A18646791', 'C5203670'): 3,\n",
       " ('A18674389', 'C5203670'): 3,\n",
       " ('A18692764', 'C5203670'): 4,\n",
       " ('A18692772', 'C5203670'): 4,\n",
       " ('A33202448', 'C5203670'): 4,\n",
       " ('A10133330', 'C5203670'): 3263435,\n",
       " ('A18630968', 'C5203670'): 4,\n",
       " ('A1203214', 'C5203670'): 3263435,\n",
       " ('A18639292', 'C5203670'): 4,\n",
       " ('A22996815', 'C5203670'): 4,\n",
       " ('A8317021', 'C5203670'): 3263435,\n",
       " ('A18590538', 'C5203670'): 3,\n",
       " ('A18611511', 'C5203670'): 3,\n",
       " ('A24183308', 'C5203670'): 3,\n",
       " ('A18569647', 'C5203670'): 4,\n",
       " ('A18631884', 'C5203670'): 3,\n",
       " ('C3639227', 'C5203670'): 3,\n",
       " ('A18580982', 'C5203670'): 5,\n",
       " ('A2887795', 'C5203670'): 3,\n",
       " ('A18553770', 'C5203670'): 4,\n",
       " ('A23952044', 'C5203670'): 5,\n",
       " ('A32944127', 'C5203670'): 4,\n",
       " ('C0516959', 'C5203670'): 3,\n",
       " ('A18600024', 'C5203670'): 4,\n",
       " ('A26673288', 'C5203670'): 3,\n",
       " ('C0332281', 'C5203670'): 3,\n",
       " ('A21402131', 'C5203670'): 4,\n",
       " ('C3639179', 'C5203670'): 3,\n",
       " ('A18665538', 'C5203670'): 3,\n",
       " ('A21112579', 'C5203670'): 4,\n",
       " ('C3639182', 'C5203670'): 3,\n",
       " ('A1396219', 'C5203670'): 3263435,\n",
       " ('A23043993', 'C5203670'): 4,\n",
       " ('A8323109', 'C5203670'): 3263435,\n",
       " ('A8396339', 'C5203670'): 3,\n",
       " ('A9332161', 'C5203670'): 3263435,\n",
       " ('A18586012', 'C5203670'): 4,\n",
       " ('A18647936', 'C5203670'): 3,\n",
       " ('A18697065', 'C5203670'): 5,\n",
       " ('A32476065', 'C5203670'): 5,\n",
       " ('A33314777', 'C5203670'): 3263435,\n",
       " ('A25770304', 'C5203670'): 3,\n",
       " ('A21428018', 'C5203670'): 4,\n",
       " ('C3470054', 'C5203670'): 3263435,\n",
       " ('A18564989', 'C5203670'): 4,\n",
       " ('C3639180', 'C5203670'): 3,\n",
       " ('A22841615', 'C5203670'): 4,\n",
       " ('A9333675', 'C5203670'): 3263435,\n",
       " ('C1514578', 'C5203670'): 3,\n",
       " ('A14148709', 'C5203670'): 3,\n",
       " ('A18683138', 'C5203670'): 3,\n",
       " ('A18655827', 'C5203670'): 4,\n",
       " ('A4366754', 'C5203670'): 3263435,\n",
       " ('A0487472', 'C5203670'): 3263435,\n",
       " ('A1309471', 'C5203670'): 3263435,\n",
       " ('A14071358', 'C5203670'): 6,\n",
       " ('A7850370', 'C5203670'): 4,\n",
       " ('A21400128', 'C5203670'): 4,\n",
       " ('A18557058', 'C5203670'): 4,\n",
       " ('A18622646', 'C5203670'): 4,\n",
       " ('A18606464', 'C5203670'): 5,\n",
       " ('A18590281', 'C5203670'): 3,\n",
       " ('A18695345', 'C5203670'): 4,\n",
       " ('A18683084', 'C5203670'): 3,\n",
       " ('A20943935', 'C5203670'): 3263435,\n",
       " ('A3137951', 'C5203670'): 4,\n",
       " ('C2974345', 'C5203670'): 3,\n",
       " ('A13644693', 'C5203670'): 3,\n",
       " ('A14149996', 'C5203670'): 5,\n",
       " ('A18573001', 'C5203670'): 4,\n",
       " ('A18597035', 'C5203670'): 4,\n",
       " ('A18623549', 'C5203670'): 4,\n",
       " ('A18646703', 'C5203670'): 3,\n",
       " ('A18650605', 'C5203670'): 3,\n",
       " ('A32453499', 'C5203670'): 3,\n",
       " ('A33209936', 'C5203670'): 4,\n",
       " ('C2237113', 'C5203670'): 3,\n",
       " ('C4553336', 'C5203670'): 4,\n",
       " ('A28414943', 'C5203670'): 5,\n",
       " ('A18630928', 'C5203670'): 4,\n",
       " ('A12085075', 'C5203670'): 3263435,\n",
       " ('A18556155', 'C5203670'): 3,\n",
       " ('A0491592', 'C5203670'): 3263435,\n",
       " ('A4808548', 'C5203670'): 4,\n",
       " ('A24155694', 'C5203670'): 3263435,\n",
       " ('C3639181', 'C5203670'): 3,\n",
       " ('A18641766', 'C5203670'): 5,\n",
       " ('A18560086', 'C5203670'): 4,\n",
       " ('A8312523', 'C5203670'): 3263435,\n",
       " ('C0022771', 'C5203670'): 2,\n",
       " ('A12802336', 'C5203670'): 3,\n",
       " ('A21143477', 'C5203670'): 3,\n",
       " ('A22810021', 'C5203670'): 4,\n",
       " ('A22829879', 'C5203670'): 4,\n",
       " ('C0022877', 'C5203670'): 2,\n",
       " ('C0868928', 'C5203670'): 4,\n",
       " ('C5445154', 'C5203670'): 2,\n",
       " ('A18652837', 'C5203670'): 4,\n",
       " ('A10935597', 'C5203670'): 4,\n",
       " ('A18900224', 'C5203670'): 4,\n",
       " ('A18689899', 'C5203670'): 4,\n",
       " ('C2121182', 'C5203670'): 4,\n",
       " ('A21419034', 'C5203670'): 4,\n",
       " ('A23862044', 'C5203670'): 3,\n",
       " ('A18699470', 'C5203670'): 4,\n",
       " ('A18637092', 'C5203670'): 4,\n",
       " ('A24102226', 'C5203670'): 3,\n",
       " ('A28582507', 'C5203670'): 4,\n",
       " ('A3087865', 'C5203670'): 5,\n",
       " ('A3095865', 'C5203670'): 4,\n",
       " ('C0319157', 'C5203670'): 3,\n",
       " ('A18451462', 'C5203670'): 3263435,\n",
       " ('C1881977', 'C5203670'): 3,\n",
       " ('A20934138', 'C5203670'): 3263435,\n",
       " ('C3639184', 'C5203670'): 3,\n",
       " ('C5399941', 'C5203670'): 4,\n",
       " ('C3639183', 'C5203670'): 3,\n",
       " ('A7883147', 'C5203670'): 4,\n",
       " ('A34454909', 'C5203670'): 3263435,\n",
       " ('A10795748', 'C5203670'): 4,\n",
       " ('A21403112', 'C5203670'): 4,\n",
       " ('A2875695', 'C5203670'): 3,\n",
       " ('C0021400', 'C5203670'): 2,\n",
       " ('A7883163', 'C5203670'): 4,\n",
       " ('A0950635', 'C5203670'): 3,\n",
       " ('A22948633', 'C5203670'): 3,\n",
       " ('A7883165', 'C5203670'): 4,\n",
       " ('C3639187', 'C5203670'): 3,\n",
       " ('A18690044', 'C5203670'): 3,\n",
       " ('A21014934', 'C5203670'): 2,\n",
       " ('A30274502', 'C5203670'): 4,\n",
       " ('A18580979', 'C5203670'): 5,\n",
       " ('C1578513', 'C5203670'): 3263435,\n",
       " ('C2610507', 'C5203670'): 3,\n",
       " ('A13826764', 'C5203670'): 4,\n",
       " ('A18687573', 'C5203670'): 3,\n",
       " ('A32804218', 'C5203670'): 4,\n",
       " ('C2164185', 'C5203670'): 6,\n",
       " ('A18580952', 'C5203670'): 3,\n",
       " ('A18647538', 'C5203670'): 3,\n",
       " ('A18576140', 'C5203670'): 3,\n",
       " ('A18578470', 'C5203670'): 4,\n",
       " ('A18689889', 'C5203670'): 4,\n",
       " ('A4843642', 'C5203670'): 4,\n",
       " ('A18587731', 'C5203670'): 5,\n",
       " ('A23868380', 'C5203670'): 3,\n",
       " ('C4526285', 'C5203670'): 3,\n",
       " ('A18613966', 'C5203670'): 3,\n",
       " ('A18571001', 'C5203670'): 3,\n",
       " ('A18606320', 'C5203670'): 5,\n",
       " ('C3639186', 'C5203670'): 3,\n",
       " ('A21421993', 'C5203670'): 4,\n",
       " ('A8323290', 'C5203670'): 3263435,\n",
       " ('A24109396', 'C5203670'): 4,\n",
       " ('C0425366', 'C5203670'): 3,\n",
       " ('A18699550', 'C5203670'): 4,\n",
       " ('C2228738', 'C5203670'): 4,\n",
       " ('A31610229', 'C5203670'): 2,\n",
       " ('C4726073', 'C5203670'): 3,\n",
       " ('A31614059', 'C5203670'): 2,\n",
       " ('A0002206', 'C5203670'): 3263435,\n",
       " ('A32912845', 'C5203670'): 5,\n",
       " ('A10867549', 'C5203670'): 4,\n",
       " ('A15214950', 'C5203670'): 5,\n",
       " ('A24098405', 'C5203670'): 5,\n",
       " ('A18575988', 'C5203670'): 3,\n",
       " ('A22837947', 'C5203670'): 4,\n",
       " ('A8316891', 'C5203670'): 3263435,\n",
       " ('A22909613', 'C5203670'): 4,\n",
       " ('A18699053', 'C5203670'): 4,\n",
       " ('A10784304', 'C5203670'): 4,\n",
       " ('A18591164', 'C5203670'): 4,\n",
       " ('A26604493', 'C5203670'): 3,\n",
       " ('A9333736', 'C5203670'): 3263435,\n",
       " ('A23457648', 'C5203670'): 3,\n",
       " ('A24155724', 'C5203670'): 3263435,\n",
       " ('A0009221', 'C5203670'): 3263435,\n",
       " ('A21401148', 'C5203670'): 4,\n",
       " ('A18609472', 'C5203670'): 3,\n",
       " ('A20943470', 'C5203670'): 3263435,\n",
       " ('A8323340', 'C5203670'): 3263435,\n",
       " ('A8323289', 'C5203670'): 3263435,\n",
       " ('A0481067', 'C5203670'): 3263435,\n",
       " ('A28753931', 'C5203670'): 4,\n",
       " ('A18631112', 'C5203670'): 3,\n",
       " ('C3639216', 'C5203670'): 3,\n",
       " ('A18685390', 'C5203670'): 3,\n",
       " ('A19722358', 'C5203670'): 3263435,\n",
       " ('A18620226', 'C5203670'): 4,\n",
       " ('A32810733', 'C5203670'): 5,\n",
       " ('A0320232', 'C5203670'): 3263435,\n",
       " ('A8572376', 'C5203670'): 5,\n",
       " ('C0206419', 'C5203670'): 2,\n",
       " ('A18620772', 'C5203670'): 4,\n",
       " ('A21412064', 'C5203670'): 4,\n",
       " ('A28420970', 'C5203670'): 5,\n",
       " ('A29171197', 'C5203670'): 4,\n",
       " ('A18613153', 'C5203670'): 3,\n",
       " ('A18683747', 'C5203670'): 3,\n",
       " ('A18667265', 'C5203670'): 4,\n",
       " ('A18693642', 'C5203670'): 4,\n",
       " ('A21402132', 'C5203670'): 4,\n",
       " ('A33285765', 'C5203670'): 5,\n",
       " ('A27121847', 'C5203670'): 3263435,\n",
       " ('A22865794', 'C5203670'): 4,\n",
       " ('A4711248', 'C5203670'): 4,\n",
       " ('C1550513', 'C5203670'): 3263435,\n",
       " ('A30990038', 'C5203670'): 3263435,\n",
       " ('A0130305', 'C5203670'): 3263435,\n",
       " ('A23901825', 'C5203670'): 5,\n",
       " ('A22907739', 'C5203670'): 5,\n",
       " ('C1553390', 'C5203670'): 3263435,\n",
       " ('A18671467', 'C5203670'): 5,\n",
       " ('A2882198', 'C5203670'): 3,\n",
       " ('A7570955', 'C5203670'): 3,\n",
       " ('A24099414', 'C5203670'): 5,\n",
       " ('A8312915', 'C5203670'): 3263435,\n",
       " ('A32070013', 'C5203670'): 3263435}"
      ]
     },
     "execution_count": 50,
     "metadata": {},
     "output_type": "execute_result"
    }
   ],
   "source": [
    "dictPath"
   ]
  },
  {
   "cell_type": "code",
   "execution_count": 64,
   "id": "1395ac74",
   "metadata": {},
   "outputs": [],
   "source": [
    "dictPresence = {}\n",
    "for index, row in df_result.iterrows():\n",
    "    presenceValue = 0\n",
    "    thetaSum = 1\n",
    "    # For each country\n",
    "    dictPresence[row['System_Name']] = 0\n",
    "    for umlsel in obsToList(row['c.id']):\n",
    "        # For each umls entity\n",
    "        if dictPath[umlsel,'C5203670'] <const_max_path:\n",
    "            dictPresence[row['System_Name']] = dictPresence[row['System_Name']] +1\n",
    "        dictPresence[row['System_Name']] = dictPresence[row['System_Name']]/len(obsToList(row['c.id']))"
   ]
  },
  {
   "cell_type": "code",
   "execution_count": 65,
   "id": "a4ab431c",
   "metadata": {},
   "outputs": [
    {
     "data": {
      "text/plain": [
       "{'Journal_\"China\"': 0.05882352940644241,\n",
       " 'Journal_\"India\"': 0.041666662570404106,\n",
       " 'Journal_\"Japan\"': 1.0,\n",
       " 'Journal_\"United States\"': 0.75,\n",
       " 'Medical_\"Canada\"': 0.12499999967735315,\n",
       " 'Medical_\"China\"': 0.04166410666011305,\n",
       " 'Medical_\"Djibouti\"': 1.0,\n",
       " 'Medical_\"France\"': 0.14260870218276978,\n",
       " 'Medical_\"Germany\"': 0.48148148148148145,\n",
       " 'Medical_\"Ghana\"': 0.48148148148148145,\n",
       " 'Medical_\"Iran\"': 0.058823529411764705,\n",
       " 'Medical_\"Iraq\"': 0.75,\n",
       " 'Medical_\"Ireland\"': 0.3703703703703704,\n",
       " 'Medical_\"Italy\"': 0.3333333333333333,\n",
       " 'Medical_\"Portugal\"': 0.0,\n",
       " 'Medical_\"Russia\"': 0.75,\n",
       " 'Medical_\"Saudi Arabia\"': 0.20992000000000002,\n",
       " 'Medical_\"South Korea\"': 1.0,\n",
       " 'Medical_\"Spain\"': 0.1428571343421936,\n",
       " 'Medical_\"Turkey\"': 1.0,\n",
       " 'Medical_\"Ukraine\"': 0.75,\n",
       " 'Medical_\"United Kingdom\"': 0.19536608367626887,\n",
       " 'Medical_\"United States\"': 0.041666666666404104,\n",
       " 'Social_\"Argentina\"': 0.3703703703703704,\n",
       " 'Social_\"Australia\"': 1.0,\n",
       " 'Social_\"Belgium\"': 0.058823529411764705,\n",
       " 'Social_\"Canada\"': 0.041664106666666666,\n",
       " 'Social_\"China\"': 0.041664106666666666,\n",
       " 'Social_\"Ethiopia\"': 1.0,\n",
       " 'Social_\"France\"': 0.09028216189673503,\n",
       " 'Social_\"Germany\"': 0.26953125,\n",
       " 'Social_\"Greece\"': 1.0,\n",
       " 'Social_\"Guinea\"': 0.1999957133058985,\n",
       " 'Social_\"Guyana\"': 0.05263967748683412,\n",
       " 'Social_\"India\"': 0.5,\n",
       " 'Social_\"Indonesia\"': 1.0,\n",
       " 'Social_\"Iran\"': 0.06666666666666644,\n",
       " 'Social_\"Ireland\"': 1.0,\n",
       " 'Social_\"Italy\"': 0.06666666666575716,\n",
       " 'Social_\"Japan\"': 0.06640726725260417,\n",
       " 'Social_\"Malaysia\"': 1.0,\n",
       " 'Social_\"Mexico\"': 0.1637510123940098,\n",
       " 'Social_\"Netherlands\"': 1.0,\n",
       " 'Social_\"New Zealand\"': 1.0,\n",
       " 'Social_\"Nigeria\"': 1.0,\n",
       " 'Social_\"North Korea\"': 1.0,\n",
       " 'Social_\"Norway\"': 1.0,\n",
       " 'Social_\"Pakistan\"': 1.0,\n",
       " 'Social_\"Philippines\"': 1.0,\n",
       " 'Social_\"Poland\"': 1.0,\n",
       " 'Social_\"Romania\"': 0.33203125,\n",
       " 'Social_\"Russia\"': 0.07142857142844812,\n",
       " 'Social_\"South Korea\"': 0.09090909090773484,\n",
       " 'Social_\"Spain\"': 0.75,\n",
       " 'Social_\"Sweden\"': 0.75,\n",
       " 'Social_\"Switzerland\"': 0.5,\n",
       " 'Social_\"Taiwan\"': 0.24992,\n",
       " 'Social_\"Ukraine\"': 0.75,\n",
       " 'Social_\"United Kingdom\"': 0.04160266666666667,\n",
       " 'Social_\"United States\"': 0.001666666666404103,\n",
       " 'Social_\"Venezuela\"': 0.16758830589849108,\n",
       " 'Social_\"Vietnam\"': 0.20992000000000002}"
      ]
     },
     "execution_count": 65,
     "metadata": {},
     "output_type": "execute_result"
    }
   ],
   "source": [
    "dictPresence"
   ]
  }
 ],
 "metadata": {
  "kernelspec": {
   "display_name": "prvenv",
   "language": "python",
   "name": "prvenv"
  },
  "language_info": {
   "codemirror_mode": {
    "name": "ipython",
    "version": 3
   },
   "file_extension": ".py",
   "mimetype": "text/x-python",
   "name": "python",
   "nbconvert_exporter": "python",
   "pygments_lexer": "ipython3",
   "version": "3.8.10"
  }
 },
 "nbformat": 4,
 "nbformat_minor": 5
}
