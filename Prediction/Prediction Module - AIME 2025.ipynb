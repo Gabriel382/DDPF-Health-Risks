{
 "cells": [
  {
   "cell_type": "markdown",
   "id": "f6d84d91",
   "metadata": {},
   "source": [
    "# Prediction Module\n",
    "\n",
    "    The main goal of the prediction module is to use the PropaPhenKG+ and the observations found in the detection module to cluster the observations into similar phenomenon clusters"
   ]
  },
  {
   "cell_type": "code",
   "execution_count": 1,
   "id": "110efc56",
   "metadata": {},
   "outputs": [],
   "source": [
    "%load_ext autoreload\n",
    "%autoreload 2"
   ]
  },
  {
   "cell_type": "markdown",
   "id": "aa0ceac9",
   "metadata": {},
   "source": [
    "## Libraries"
   ]
  },
  {
   "cell_type": "markdown",
   "id": "50975ef2",
   "metadata": {},
   "source": [
    "### Installing"
   ]
  },
  {
   "cell_type": "code",
   "execution_count": 2,
   "id": "c1d1a692",
   "metadata": {},
   "outputs": [],
   "source": [
    "#!pip install pandas\n",
    "#!pip install tqdm\n",
    "#!pip install -U scikit-learn\n",
    "#!pip install matplotlib"
   ]
  },
  {
   "cell_type": "markdown",
   "id": "65d43728",
   "metadata": {},
   "source": [
    "### Standard"
   ]
  },
  {
   "cell_type": "code",
   "execution_count": 3,
   "id": "3dc96c6b",
   "metadata": {},
   "outputs": [],
   "source": [
    "import pandas as pd\n",
    "import numpy as np\n",
    "from functools import partial"
   ]
  },
  {
   "cell_type": "markdown",
   "id": "7438eb90",
   "metadata": {},
   "source": [
    "### Custom libraries"
   ]
  },
  {
   "cell_type": "code",
   "execution_count": 4,
   "id": "318a8a99-2e39-4b52-bd20-3207c543654f",
   "metadata": {},
   "outputs": [],
   "source": [
    "sys.path.append('../lib/')\n",
    "from prediction.predictionmodule import PredictionModule,BenchMark\n",
    "from prediction.embedding.bow import ObservationBoWEmbedding\n",
    "from prediction.embedding.kgembedding import ObservationHomogeneousEmbedding, ObservationHeterogeneousEmbedding\n",
    "from prediction.embedding.semantic import ObservationLCEmbedding,ObservationHSEmbedding, ObservationRelTopicEmbedding\n",
    "from prediction.clustering import KMeansClustering"
   ]
  },
  {
   "cell_type": "markdown",
   "id": "6aaa39dd",
   "metadata": {},
   "source": [
    "## Globals"
   ]
  },
  {
   "cell_type": "code",
   "execution_count": 5,
   "id": "55a0d020",
   "metadata": {},
   "outputs": [],
   "source": [
    "path_to_kb_gazetteer = \"../data/detection/gazetteers/kbgazetteer.csv\"\n",
    "path_to_netwoork_gazetteer = \"../data/detection/gazetteers/world_gazetteer.csv\"\n",
    "path_to_observationcsv = \"../Detection/data/csv/observations_phrase.csv\"\n",
    "path_to_worldkg_nodes = \"../Description/data/worldkg_nodes.csv\""
   ]
  },
  {
   "cell_type": "code",
   "execution_count": 6,
   "id": "a0828414",
   "metadata": {},
   "outputs": [],
   "source": [
    "path_to_observations = \"../data/detection/outputs/observations/\""
   ]
  },
  {
   "cell_type": "code",
   "execution_count": 7,
   "id": "a0a9a81b-a823-4a6f-aef1-0348dacc9134",
   "metadata": {},
   "outputs": [],
   "source": [
    "# Homogeneous embeddings\n",
    "kb_fastrp_embedding_path=\"../data/prediction/embeddings/fastrp/umls-fastrp_embedding.csv\"\n",
    "net_fastrp_embedding_path=\"../data/prediction/embeddings/fastrp/worldkg-fastrp_embedding.csv\"\n",
    "kb_node2vec_embedding_path=\"../data/prediction/embeddings/node2vec/umls-node2vec.csv\"\n",
    "net_node2vec_embedding_path=\"../data/prediction/embeddings/node2vec/worldkg-node2vec.csv\""
   ]
  },
  {
   "cell_type": "code",
   "execution_count": 8,
   "id": "2d0b23de-2f91-48da-a94b-7cc01d2b47cc",
   "metadata": {},
   "outputs": [],
   "source": [
    "# Heterogeneous embeddings\n",
    "kb_hashgnn_embedding_path=\"../data/prediction/embeddings/hashgnn/umls-hashgnn.csv\"\n",
    "net_hashgnn_embedding_path=\"../data/prediction/embeddings/hashgnn/worldkg-hashgnn.csv\"\n",
    "kb_graphsage_embedding_path=\"../data/prediction/embeddings/graphsage/umls_graphsage.csv\"\n",
    "net_graphsage_embedding_path=\"../data/prediction/embeddings/graphsage/worldkg_graphsage.csv\""
   ]
  },
  {
   "cell_type": "code",
   "execution_count": 9,
   "id": "cca6ab28-c957-4f9f-9e18-8d43a1171c4c",
   "metadata": {},
   "outputs": [],
   "source": [
    "# Semantic embeddings\n",
    "kb_concept_path=\"../data/prediction/embeddings/semantic/semantic_types_export.csv\"\n",
    "net_concept_path=\"../data/prediction/embeddings/semantic/world_semantic_type.csv\"\n",
    "## Distance\n",
    "kb_distance_path=\"../data/prediction/embeddings/semantic/shortestpath.csv\"\n",
    "net_distance_path=\"../data/prediction/embeddings/semantic/world_shortestdistance.csv\"\n",
    "# Turns\n",
    "kb_turns_path = \"../data/prediction/embeddings/semantic/turns.csv\"\n",
    "net_turns_path = \"../data/prediction/embeddings/semantic/world_turns.csv\"\n",
    "# RelTopic\n",
    "kb_dijkstra_path = \"../data/prediction/embeddings/semantic/dijkstra.csv\"\n",
    "net_dijkstra_path = \"../data/prediction/embeddings/semantic/world_dijkstra.csv\"\n",
    "kb_neighborhood_path = \"../data/prediction/embeddings/semantic/neighborhood.csv\"\n",
    "net_neighborhood_path = \"../data/prediction/embeddings/semantic/world_neighborhood.csv\"\n",
    "kb_specialdegree_path = \"../data/prediction/embeddings/semantic/specialdegree.csv\"\n",
    "net_specialdegree_path = \"../data/prediction/embeddings/semantic/world_special_degree.csv\"\n",
    "# Wang\n",
    "kb_sa_path = \"../data/prediction/embeddings/semantic/umls_sa.csv\"\n",
    "net_sa_path = \"../data/prediction/embeddings/semantic/world_sa.csv\"\n",
    "kb_sva_path = \"../data/prediction/embeddings/semantic/umls_sva.csv\"\n",
    "net_sva_path = \"../data/prediction/embeddings/semantic/world_sva.csv\""
   ]
  },
  {
   "cell_type": "markdown",
   "id": "827b7794",
   "metadata": {},
   "source": [
    "## Observation Embedding\n",
    "\n",
    "    It should get the observations and the PropaPhenKG+ to transform the observations into observation vectors"
   ]
  },
  {
   "cell_type": "code",
   "execution_count": 10,
   "id": "dd492dd9-4631-4c16-8d57-cfd4e6b47872",
   "metadata": {},
   "outputs": [],
   "source": [
    "predictionModule = PredictionModule(path_to_kb_gazetteer,\n",
    "                path_to_netwoork_gazetteer,\n",
    "                path_to_observations)"
   ]
  },
  {
   "cell_type": "code",
   "execution_count": 16,
   "id": "e684e485-6333-4ad0-b619-a9296f3c7ddd",
   "metadata": {},
   "outputs": [],
   "source": [
    "from prediction.utils import obsToList\n",
    "import os\n",
    "from tqdm import tqdm\n",
    "\n",
    "def obs_to_folder(df_obs,folder_name):\n",
    "    # Populate the observation matrix\n",
    "    chemin = \"../data/prediction/observation_txt/\"\n",
    "    # Check whether the specified path exists or not\n",
    "    isExist = os.path.exists(chemin+folder_name)\n",
    "    if not isExist:\n",
    "       # Create a new directory because it does not exist\n",
    "       os.makedirs(chemin+folder_name)\n",
    "    for _, row in tqdm(df_obs.iterrows()):\n",
    "        system_kb_items = obsToList(row['KB_Components'])\n",
    "        fichier = \"\"\n",
    "        for kb_item in system_kb_items:\n",
    "            fichier += kb_item + \"\\n\"\n",
    "        file_name = row['Observation_Name'] + \"_\"+ str(row['average_date'])\n",
    "        with open(chemin+folder_name+\"/\"+file_name+\".txt\", \"w\") as text_file:\n",
    "            text_file.write(fichier)\n",
    "\n",
    "def obs_concept_to_folder(df_obs,folder_name):\n",
    "    # Populate the observation matrix\n",
    "    chemin = \"../data/prediction/observation_txt/\"\n",
    "    # Check whether the specified path exists or not\n",
    "    isExist = os.path.exists(chemin+folder_name)\n",
    "    if not isExist:\n",
    "       # Create a new directory because it does not exist\n",
    "       os.makedirs(chemin+folder_name)\n",
    "    for _, row in tqdm(df_obs.iterrows()):\n",
    "        system_kb_items = obsToList(row['KB_Components'])\n",
    "        fichier = \"\"\n",
    "        for kb_item in system_kb_items:\n",
    "            fichier += kb_item + \"\\n\"\n",
    "        file_name = row['Observation_Name'] + \"_\"+ str(row['average_date'])\n",
    "        with open(chemin+folder_name+\"/\"+file_name+\".txt\", \"w\") as text_file:\n",
    "            text_file.write(fichier)"
   ]
  },
  {
   "cell_type": "code",
   "execution_count": 17,
   "id": "0d98a9a7-01a0-47ae-9e1f-6eda6cbde78e",
   "metadata": {},
   "outputs": [
    {
     "data": {
      "text/plain": [
       "dict_keys(['DocumentMatching', 'ParagraphMatching', 'SentenceMatching'])"
      ]
     },
     "execution_count": 17,
     "metadata": {},
     "output_type": "execute_result"
    }
   ],
   "source": [
    "predictionModule.re_dict.keys()"
   ]
  },
  {
   "cell_type": "code",
   "execution_count": 18,
   "id": "4478f7ce-1106-453c-9537-242ba657ed75",
   "metadata": {},
   "outputs": [
    {
     "name": "stderr",
     "output_type": "stream",
     "text": [
      "339it [00:00, 5379.47it/s]\n",
      "71it [00:00, 6094.00it/s]\n",
      "126it [00:00, 5943.41it/s]\n"
     ]
    }
   ],
   "source": [
    "for key in predictionModule.re_dict.keys():\n",
    "    obs_to_folder(predictionModule.re_dict[key],key)"
   ]
  },
  {
   "cell_type": "code",
   "execution_count": 19,
   "id": "ab7b7838-5664-46b6-9b1b-2229c93a4950",
   "metadata": {
    "scrolled": true
   },
   "outputs": [
    {
     "data": {
      "text/html": [
       "<div>\n",
       "<style scoped>\n",
       "    .dataframe tbody tr th:only-of-type {\n",
       "        vertical-align: middle;\n",
       "    }\n",
       "\n",
       "    .dataframe tbody tr th {\n",
       "        vertical-align: top;\n",
       "    }\n",
       "\n",
       "    .dataframe thead th {\n",
       "        text-align: right;\n",
       "    }\n",
       "</style>\n",
       "<table border=\"1\" class=\"dataframe\">\n",
       "  <thead>\n",
       "    <tr style=\"text-align: right;\">\n",
       "      <th></th>\n",
       "      <th>Unnamed: 0</th>\n",
       "      <th>System_Name</th>\n",
       "      <th>System_ID</th>\n",
       "      <th>average_date</th>\n",
       "      <th>KB_Components</th>\n",
       "      <th>KB_IDs</th>\n",
       "      <th>intensity</th>\n",
       "      <th>Observation_Name</th>\n",
       "    </tr>\n",
       "  </thead>\n",
       "  <tbody>\n",
       "    <tr>\n",
       "      <th>0</th>\n",
       "      <td>0</td>\n",
       "      <td>\"Australia\"</td>\n",
       "      <td>wkg:424315584</td>\n",
       "      <td>19.916667</td>\n",
       "      <td>['aluminum hexafluorosilicate(2-) (3:2)', 'www...</td>\n",
       "      <td>['A1327850', 'A18580952', 'A34748310', 'A83231...</td>\n",
       "      <td>[62, 64, 68, 68, 76, 80, 80, 80, 80, 84, 86, 8...</td>\n",
       "      <td>Journal_COVID_Australia</td>\n",
       "    </tr>\n",
       "    <tr>\n",
       "      <th>1</th>\n",
       "      <td>1</td>\n",
       "      <td>\"Belgium\"</td>\n",
       "      <td>wkg:1684793666</td>\n",
       "      <td>19.916667</td>\n",
       "      <td>['https://github.com/geneontology/go-ontology/...</td>\n",
       "      <td>['A34454909', 'A18580952', 'A34748310', 'C3639...</td>\n",
       "      <td>[124, 128, 136, 152, 160, 160, 160, 160, 168, ...</td>\n",
       "      <td>Journal_COVID_Belgium</td>\n",
       "    </tr>\n",
       "    <tr>\n",
       "      <th>2</th>\n",
       "      <td>2</td>\n",
       "      <td>\"Bulgaria\"</td>\n",
       "      <td>wkg:424315709</td>\n",
       "      <td>19.916667</td>\n",
       "      <td>['aluminum hexafluorosilicate(2-) (3:2)', 'www...</td>\n",
       "      <td>['C0608509', 'A18580952', 'A34748310', 'C08707...</td>\n",
       "      <td>[434, 448, 476, 476, 532, 560, 560, 560, 560, ...</td>\n",
       "      <td>Journal_COVID_Bulgaria</td>\n",
       "    </tr>\n",
       "    <tr>\n",
       "      <th>3</th>\n",
       "      <td>3</td>\n",
       "      <td>\"Canada\"</td>\n",
       "      <td>wkg:424313760</td>\n",
       "      <td>19.916667</td>\n",
       "      <td>['aluminum hexafluorosilicate(2-) (3:2)', 'IV:...</td>\n",
       "      <td>['C0608509', 'A18580952', 'A34748310', 'A21421...</td>\n",
       "      <td>[62, 68, 68, 76, 76, 80, 80, 80, 80, 84, 86, 8...</td>\n",
       "      <td>Journal_COVID_Canada</td>\n",
       "    </tr>\n",
       "    <tr>\n",
       "      <th>4</th>\n",
       "      <td>4</td>\n",
       "      <td>\"China\"</td>\n",
       "      <td>wkg:424313582</td>\n",
       "      <td>19.916667</td>\n",
       "      <td>['researchers', 'caused by', 'said', 'bat', 'R...</td>\n",
       "      <td>['A18668123', 'A18613966', 'A18647070', 'A1862...</td>\n",
       "      <td>[252, 264, 264, 270, 272, 278, 288, 288, 348, ...</td>\n",
       "      <td>Journal_COVID_China</td>\n",
       "    </tr>\n",
       "    <tr>\n",
       "      <th>...</th>\n",
       "      <td>...</td>\n",
       "      <td>...</td>\n",
       "      <td>...</td>\n",
       "      <td>...</td>\n",
       "      <td>...</td>\n",
       "      <td>...</td>\n",
       "      <td>...</td>\n",
       "      <td>...</td>\n",
       "    </tr>\n",
       "    <tr>\n",
       "      <th>334</th>\n",
       "      <td>33</td>\n",
       "      <td>\"Ukraine\"</td>\n",
       "      <td>wkg:1648342273</td>\n",
       "      <td>22.416667</td>\n",
       "      <td>['Health', 'PODCI Pediatric Parent-Reported Ve...</td>\n",
       "      <td>['A12925389', 'A13987869', 'A18597116', 'A1860...</td>\n",
       "      <td>[5, 5, 5, 5, 5, 5, 5, 5, 6, 6, 6, 6, 6, 7, 8, ...</td>\n",
       "      <td>Journal_Monkeypox_Ukraine</td>\n",
       "    </tr>\n",
       "    <tr>\n",
       "      <th>335</th>\n",
       "      <td>34</td>\n",
       "      <td>\"United Arab Emirates\"</td>\n",
       "      <td>wkg:424310703</td>\n",
       "      <td>22.416667</td>\n",
       "      <td>['rash', 'O/E: E.M. micr.: virus', 'cases', 'v...</td>\n",
       "      <td>['A18674382', 'A18587731', 'A18650525', 'A4831...</td>\n",
       "      <td>[5, 6, 6, 6, 10]</td>\n",
       "      <td>Journal_Monkeypox_United Arab Emirates</td>\n",
       "    </tr>\n",
       "    <tr>\n",
       "      <th>336</th>\n",
       "      <td>35</td>\n",
       "      <td>\"United Kingdom\"</td>\n",
       "      <td>wkg:838090640</td>\n",
       "      <td>22.416667</td>\n",
       "      <td>['disease', 'cardiac catheterization post-proc...</td>\n",
       "      <td>['A18683747', 'A13987869', 'A18647936', 'A3356...</td>\n",
       "      <td>[100, 102, 102, 109, 114, 122, 122, 122, 127, ...</td>\n",
       "      <td>Journal_Monkeypox_United Kingdom</td>\n",
       "    </tr>\n",
       "    <tr>\n",
       "      <th>337</th>\n",
       "      <td>36</td>\n",
       "      <td>\"United States\"</td>\n",
       "      <td>wkg:424317935</td>\n",
       "      <td>22.416667</td>\n",
       "      <td>['hospital', 'contact with', 'fever', 'disease...</td>\n",
       "      <td>['A28753931', 'A12925770', 'A18563007', 'A1868...</td>\n",
       "      <td>[287, 302, 302, 329, 331, 343, 344, 362, 362, ...</td>\n",
       "      <td>Journal_Monkeypox_United States</td>\n",
       "    </tr>\n",
       "    <tr>\n",
       "      <th>338</th>\n",
       "      <td>37</td>\n",
       "      <td>\"Uruguay\"</td>\n",
       "      <td>wkg:432425116</td>\n",
       "      <td>22.416667</td>\n",
       "      <td>['Health', 'PODCI Pediatric Parent-Reported Ve...</td>\n",
       "      <td>['A13987869', 'A18606320', 'A28582507', 'A7560...</td>\n",
       "      <td>[5, 5, 5, 5, 5, 6, 6, 6, 7, 7, 7, 8, 10, 13, 16]</td>\n",
       "      <td>Journal_Monkeypox_Uruguay</td>\n",
       "    </tr>\n",
       "  </tbody>\n",
       "</table>\n",
       "<p>339 rows × 8 columns</p>\n",
       "</div>"
      ],
      "text/plain": [
       "     Unnamed: 0             System_Name       System_ID  average_date  \\\n",
       "0             0             \"Australia\"   wkg:424315584     19.916667   \n",
       "1             1               \"Belgium\"  wkg:1684793666     19.916667   \n",
       "2             2              \"Bulgaria\"   wkg:424315709     19.916667   \n",
       "3             3                \"Canada\"   wkg:424313760     19.916667   \n",
       "4             4                 \"China\"   wkg:424313582     19.916667   \n",
       "..          ...                     ...             ...           ...   \n",
       "334          33               \"Ukraine\"  wkg:1648342273     22.416667   \n",
       "335          34  \"United Arab Emirates\"   wkg:424310703     22.416667   \n",
       "336          35        \"United Kingdom\"   wkg:838090640     22.416667   \n",
       "337          36         \"United States\"   wkg:424317935     22.416667   \n",
       "338          37               \"Uruguay\"   wkg:432425116     22.416667   \n",
       "\n",
       "                                         KB_Components  \\\n",
       "0    ['aluminum hexafluorosilicate(2-) (3:2)', 'www...   \n",
       "1    ['https://github.com/geneontology/go-ontology/...   \n",
       "2    ['aluminum hexafluorosilicate(2-) (3:2)', 'www...   \n",
       "3    ['aluminum hexafluorosilicate(2-) (3:2)', 'IV:...   \n",
       "4    ['researchers', 'caused by', 'said', 'bat', 'R...   \n",
       "..                                                 ...   \n",
       "334  ['Health', 'PODCI Pediatric Parent-Reported Ve...   \n",
       "335  ['rash', 'O/E: E.M. micr.: virus', 'cases', 'v...   \n",
       "336  ['disease', 'cardiac catheterization post-proc...   \n",
       "337  ['hospital', 'contact with', 'fever', 'disease...   \n",
       "338  ['Health', 'PODCI Pediatric Parent-Reported Ve...   \n",
       "\n",
       "                                                KB_IDs  \\\n",
       "0    ['A1327850', 'A18580952', 'A34748310', 'A83231...   \n",
       "1    ['A34454909', 'A18580952', 'A34748310', 'C3639...   \n",
       "2    ['C0608509', 'A18580952', 'A34748310', 'C08707...   \n",
       "3    ['C0608509', 'A18580952', 'A34748310', 'A21421...   \n",
       "4    ['A18668123', 'A18613966', 'A18647070', 'A1862...   \n",
       "..                                                 ...   \n",
       "334  ['A12925389', 'A13987869', 'A18597116', 'A1860...   \n",
       "335  ['A18674382', 'A18587731', 'A18650525', 'A4831...   \n",
       "336  ['A18683747', 'A13987869', 'A18647936', 'A3356...   \n",
       "337  ['A28753931', 'A12925770', 'A18563007', 'A1868...   \n",
       "338  ['A13987869', 'A18606320', 'A28582507', 'A7560...   \n",
       "\n",
       "                                             intensity  \\\n",
       "0    [62, 64, 68, 68, 76, 80, 80, 80, 80, 84, 86, 8...   \n",
       "1    [124, 128, 136, 152, 160, 160, 160, 160, 168, ...   \n",
       "2    [434, 448, 476, 476, 532, 560, 560, 560, 560, ...   \n",
       "3    [62, 68, 68, 76, 76, 80, 80, 80, 80, 84, 86, 8...   \n",
       "4    [252, 264, 264, 270, 272, 278, 288, 288, 348, ...   \n",
       "..                                                 ...   \n",
       "334  [5, 5, 5, 5, 5, 5, 5, 5, 6, 6, 6, 6, 6, 7, 8, ...   \n",
       "335                                   [5, 6, 6, 6, 10]   \n",
       "336  [100, 102, 102, 109, 114, 122, 122, 122, 127, ...   \n",
       "337  [287, 302, 302, 329, 331, 343, 344, 362, 362, ...   \n",
       "338   [5, 5, 5, 5, 5, 6, 6, 6, 7, 7, 7, 8, 10, 13, 16]   \n",
       "\n",
       "                           Observation_Name  \n",
       "0                   Journal_COVID_Australia  \n",
       "1                     Journal_COVID_Belgium  \n",
       "2                    Journal_COVID_Bulgaria  \n",
       "3                      Journal_COVID_Canada  \n",
       "4                       Journal_COVID_China  \n",
       "..                                      ...  \n",
       "334               Journal_Monkeypox_Ukraine  \n",
       "335  Journal_Monkeypox_United Arab Emirates  \n",
       "336        Journal_Monkeypox_United Kingdom  \n",
       "337         Journal_Monkeypox_United States  \n",
       "338               Journal_Monkeypox_Uruguay  \n",
       "\n",
       "[339 rows x 8 columns]"
      ]
     },
     "execution_count": 19,
     "metadata": {},
     "output_type": "execute_result"
    }
   ],
   "source": [
    "predictionModule.re_dict['DocumentMatching']"
   ]
  },
  {
   "cell_type": "code",
   "execution_count": 20,
   "id": "12adb8b8-ec25-45c6-b82b-bd1784cbfca0",
   "metadata": {},
   "outputs": [],
   "source": [
    "from prediction.utils import obsToList\n",
    "import ast\n",
    "from sklearn_extra.cluster import KMedoids\n",
    "from sklearn.metrics import classification_report\n",
    "import numpy as np\n",
    "from sklearn_extra.cluster import KMedoids\n",
    "from sklearn.metrics import classification_report\n",
    "import numpy as np\n",
    "import pandas as pd\n",
    "import ast\n",
    "from tqdm import tqdm"
   ]
  },
  {
   "cell_type": "code",
   "execution_count": 21,
   "id": "7e02180f-ea85-4a97-af3b-d3a8e2f63c31",
   "metadata": {},
   "outputs": [],
   "source": [
    "def clusterObservations(embedding_df, k=2, random_seed=42, include_spatial=True, include_temporal=True):\n",
    "    \"\"\"\n",
    "    Cluster observations using k-medoids and evaluate the clusters.\n",
    "    \n",
    "    :param embedding_matrix: The matrix of embeddings for observations.\n",
    "    :param df_obs: DataFrame containing observation data.\n",
    "    :param k: Number of clusters for k-medoids.\n",
    "    :param random_seed: Random seed for reproducibility.\n",
    "    :param include_temporal: If True, includes date in the distance calculation.\n",
    "    :return: Cluster labels, the best type list, and the best F1 score.\n",
    "    \"\"\"\n",
    "\n",
    "    distance_matrix = 1-embedding_df.drop(embedding_df.columns[0],axis=1).to_numpy(dtype=float)\n",
    "    # Rescale the entire distance matrix to the range [0, 1]\n",
    "    max_distance = np.max(distance_matrix)\n",
    "    min_distance = np.min(distance_matrix)\n",
    "    if max_distance > min_distance:  # Avoid division by zero\n",
    "        distance_matrix = (distance_matrix - min_distance) / (max_distance - min_distance)\n",
    "    \n",
    "    print(\"Clustering observations with k-medoids...\")\n",
    "    kmedoids = KMedoids(n_clusters=k, metric=\"precomputed\", random_state=random_seed)\n",
    "    kmedoids_labels = kmedoids.fit_predict(distance_matrix)\n",
    "    \n",
    "    print(\"Evaluating clustering...\")\n",
    "    list_type_0 = []\n",
    "    list_type_1 = []\n",
    "    for _, row in embedding_df.iterrows():\n",
    "        if \"COVID\" in row[\"Unnamed: 0\"]:\n",
    "            list_type_1.append(0)\n",
    "            list_type_0.append(1)\n",
    "        else:\n",
    "            list_type_1.append(1)\n",
    "            list_type_0.append(0)\n",
    "    \n",
    "    report_1 = classification_report(list_type_1, kmedoids_labels, output_dict=True)\n",
    "    score_1 = report_1['weighted avg']['f1-score']\n",
    "    report_0 = classification_report(list_type_0, kmedoids_labels, output_dict=True)\n",
    "    score_0 = report_0['weighted avg']['f1-score']\n",
    "    \n",
    "    if score_1 >= score_0:\n",
    "        best_score = score_1\n",
    "        best_type = list_type_1\n",
    "    else:\n",
    "        best_score = score_0\n",
    "        best_type = list_type_0\n",
    "    \n",
    "    print(f\"Clustering completed. Best F1 Score: {best_score:.4f}\")\n",
    "    return kmedoids_labels, best_type, best_score"
   ]
  },
  {
   "cell_type": "code",
   "execution_count": 22,
   "id": "771b2bb2-bca5-4334-b890-016f3722eeb5",
   "metadata": {},
   "outputs": [],
   "source": [
    "import os\n",
    "\n",
    "path_to_distance_matrixes = \"../data/prediction/AIME/Modeles/\"\n",
    "\n",
    "# List all CSV files in the folder and its subfolders\n",
    "df_matrix_list = []\n",
    "for root, dirs, files in os.walk(path_to_distance_matrixes):\n",
    "    for file in files:\n",
    "        if file.endswith('.csv'):\n",
    "            df_matrix_list.append(os.path.join(root, file))"
   ]
  },
  {
   "cell_type": "code",
   "execution_count": 23,
   "id": "276efa64-f919-4b59-8a35-7c80ff539ab1",
   "metadata": {},
   "outputs": [],
   "source": [
    "df_matrix_dict = {}\n",
    "for path in df_matrix_list:\n",
    "    df_matrix_dict[path.split('/')[-1].replace('.csv',\"\")] = pd.read_csv(path)"
   ]
  },
  {
   "cell_type": "code",
   "execution_count": 24,
   "id": "7174ec34-625f-4b2d-a1dc-11c875f5c174",
   "metadata": {
    "scrolled": true
   },
   "outputs": [
    {
     "name": "stdout",
     "output_type": "stream",
     "text": [
      "Method: PubMedBERT_similarity_matrix-paragraphMatching\n",
      "Clustering observations with k-medoids...\n",
      "Evaluating clustering...\n",
      "Clustering completed. Best F1 Score: 0.7652\n",
      "Method: PubMedBERT_similarity_matrix-sentenceMatching\n",
      "Clustering observations with k-medoids...\n",
      "Evaluating clustering...\n",
      "Clustering completed. Best F1 Score: 0.6499\n",
      "Method: PubMedBERT_similarity_matrix-documentMatching\n",
      "Clustering observations with k-medoids...\n",
      "Evaluating clustering...\n",
      "Clustering completed. Best F1 Score: 0.7134\n",
      "Method: All-mini-lm_similarity_matrix-documentMatching\n",
      "Clustering observations with k-medoids...\n",
      "Evaluating clustering...\n",
      "Clustering completed. Best F1 Score: 0.7618\n",
      "Method: All-mini-lm_similarity_matrix-paragraphMatching\n",
      "Clustering observations with k-medoids...\n",
      "Evaluating clustering...\n",
      "Clustering completed. Best F1 Score: 0.7091\n",
      "Method: All-mini-lm_similarity_matrix-sentenceMatching\n",
      "Clustering observations with k-medoids...\n",
      "Evaluating clustering...\n",
      "Clustering completed. Best F1 Score: 0.7931\n",
      "Method: mini-similarity_matrix-paragraphMatching\n",
      "Clustering observations with k-medoids...\n",
      "Evaluating clustering...\n",
      "Clustering completed. Best F1 Score: 0.7091\n",
      "Method: mini-similarity_matrix-documentMatching\n",
      "Clustering observations with k-medoids...\n",
      "Evaluating clustering...\n",
      "Clustering completed. Best F1 Score: 0.7618\n",
      "Method: mini-similarity_matrix-sentenceMatching\n",
      "Clustering observations with k-medoids...\n",
      "Evaluating clustering...\n"
     ]
    },
    {
     "name": "stderr",
     "output_type": "stream",
     "text": [
      "/data/dataRapide/gabriel/git/DDPF/Prediction/prvenv/lib/python3.8/site-packages/sklearn/metrics/_classification.py:1471: UndefinedMetricWarning: Recall and F-score are ill-defined and being set to 0.0 in labels with no true samples. Use `zero_division` parameter to control this behavior.\n",
      "  _warn_prf(average, modifier, msg_start, len(result))\n",
      "/data/dataRapide/gabriel/git/DDPF/Prediction/prvenv/lib/python3.8/site-packages/sklearn/metrics/_classification.py:1471: UndefinedMetricWarning: Recall and F-score are ill-defined and being set to 0.0 in labels with no true samples. Use `zero_division` parameter to control this behavior.\n",
      "  _warn_prf(average, modifier, msg_start, len(result))\n",
      "/data/dataRapide/gabriel/git/DDPF/Prediction/prvenv/lib/python3.8/site-packages/sklearn/metrics/_classification.py:1471: UndefinedMetricWarning: Recall and F-score are ill-defined and being set to 0.0 in labels with no true samples. Use `zero_division` parameter to control this behavior.\n",
      "  _warn_prf(average, modifier, msg_start, len(result))\n",
      "/data/dataRapide/gabriel/git/DDPF/Prediction/prvenv/lib/python3.8/site-packages/sklearn/metrics/_classification.py:1471: UndefinedMetricWarning: Recall and F-score are ill-defined and being set to 0.0 in labels with no true samples. Use `zero_division` parameter to control this behavior.\n",
      "  _warn_prf(average, modifier, msg_start, len(result))\n",
      "/data/dataRapide/gabriel/git/DDPF/Prediction/prvenv/lib/python3.8/site-packages/sklearn/metrics/_classification.py:1471: UndefinedMetricWarning: Recall and F-score are ill-defined and being set to 0.0 in labels with no true samples. Use `zero_division` parameter to control this behavior.\n",
      "  _warn_prf(average, modifier, msg_start, len(result))\n",
      "/data/dataRapide/gabriel/git/DDPF/Prediction/prvenv/lib/python3.8/site-packages/sklearn/metrics/_classification.py:1471: UndefinedMetricWarning: Recall and F-score are ill-defined and being set to 0.0 in labels with no true samples. Use `zero_division` parameter to control this behavior.\n",
      "  _warn_prf(average, modifier, msg_start, len(result))\n",
      "/data/dataRapide/gabriel/git/DDPF/Prediction/prvenv/lib/python3.8/site-packages/sklearn/metrics/_classification.py:1471: UndefinedMetricWarning: Recall and F-score are ill-defined and being set to 0.0 in labels with no true samples. Use `zero_division` parameter to control this behavior.\n",
      "  _warn_prf(average, modifier, msg_start, len(result))\n",
      "/data/dataRapide/gabriel/git/DDPF/Prediction/prvenv/lib/python3.8/site-packages/sklearn/metrics/_classification.py:1471: UndefinedMetricWarning: Recall and F-score are ill-defined and being set to 0.0 in labels with no true samples. Use `zero_division` parameter to control this behavior.\n",
      "  _warn_prf(average, modifier, msg_start, len(result))\n",
      "/data/dataRapide/gabriel/git/DDPF/Prediction/prvenv/lib/python3.8/site-packages/sklearn/metrics/_classification.py:1471: UndefinedMetricWarning: Recall and F-score are ill-defined and being set to 0.0 in labels with no true samples. Use `zero_division` parameter to control this behavior.\n",
      "  _warn_prf(average, modifier, msg_start, len(result))\n",
      "/data/dataRapide/gabriel/git/DDPF/Prediction/prvenv/lib/python3.8/site-packages/sklearn/metrics/_classification.py:1471: UndefinedMetricWarning: Recall and F-score are ill-defined and being set to 0.0 in labels with no true samples. Use `zero_division` parameter to control this behavior.\n",
      "  _warn_prf(average, modifier, msg_start, len(result))\n",
      "/data/dataRapide/gabriel/git/DDPF/Prediction/prvenv/lib/python3.8/site-packages/sklearn/metrics/_classification.py:1471: UndefinedMetricWarning: Recall and F-score are ill-defined and being set to 0.0 in labels with no true samples. Use `zero_division` parameter to control this behavior.\n",
      "  _warn_prf(average, modifier, msg_start, len(result))\n",
      "/data/dataRapide/gabriel/git/DDPF/Prediction/prvenv/lib/python3.8/site-packages/sklearn/metrics/_classification.py:1471: UndefinedMetricWarning: Recall and F-score are ill-defined and being set to 0.0 in labels with no true samples. Use `zero_division` parameter to control this behavior.\n",
      "  _warn_prf(average, modifier, msg_start, len(result))\n",
      "/data/dataRapide/gabriel/git/DDPF/Prediction/prvenv/lib/python3.8/site-packages/sklearn/metrics/_classification.py:1471: UndefinedMetricWarning: Recall and F-score are ill-defined and being set to 0.0 in labels with no true samples. Use `zero_division` parameter to control this behavior.\n",
      "  _warn_prf(average, modifier, msg_start, len(result))\n",
      "/data/dataRapide/gabriel/git/DDPF/Prediction/prvenv/lib/python3.8/site-packages/sklearn/metrics/_classification.py:1471: UndefinedMetricWarning: Recall and F-score are ill-defined and being set to 0.0 in labels with no true samples. Use `zero_division` parameter to control this behavior.\n",
      "  _warn_prf(average, modifier, msg_start, len(result))\n",
      "/data/dataRapide/gabriel/git/DDPF/Prediction/prvenv/lib/python3.8/site-packages/sklearn/metrics/_classification.py:1471: UndefinedMetricWarning: Recall and F-score are ill-defined and being set to 0.0 in labels with no true samples. Use `zero_division` parameter to control this behavior.\n",
      "  _warn_prf(average, modifier, msg_start, len(result))\n",
      "/data/dataRapide/gabriel/git/DDPF/Prediction/prvenv/lib/python3.8/site-packages/sklearn/metrics/_classification.py:1471: UndefinedMetricWarning: Recall and F-score are ill-defined and being set to 0.0 in labels with no true samples. Use `zero_division` parameter to control this behavior.\n",
      "  _warn_prf(average, modifier, msg_start, len(result))\n",
      "/data/dataRapide/gabriel/git/DDPF/Prediction/prvenv/lib/python3.8/site-packages/sklearn/metrics/_classification.py:1471: UndefinedMetricWarning: Recall and F-score are ill-defined and being set to 0.0 in labels with no true samples. Use `zero_division` parameter to control this behavior.\n",
      "  _warn_prf(average, modifier, msg_start, len(result))\n",
      "/data/dataRapide/gabriel/git/DDPF/Prediction/prvenv/lib/python3.8/site-packages/sklearn/metrics/_classification.py:1471: UndefinedMetricWarning: Recall and F-score are ill-defined and being set to 0.0 in labels with no true samples. Use `zero_division` parameter to control this behavior.\n",
      "  _warn_prf(average, modifier, msg_start, len(result))\n"
     ]
    },
    {
     "name": "stdout",
     "output_type": "stream",
     "text": [
      "Clustering completed. Best F1 Score: 0.7931\n",
      "Method: bioelectra_similarity_matrix-documentMatching\n",
      "Clustering observations with k-medoids...\n",
      "Evaluating clustering...\n",
      "Clustering completed. Best F1 Score: 0.8604\n",
      "Method: bioelectra_similarity_matrix-sentenceMatching\n",
      "Clustering observations with k-medoids...\n",
      "Evaluating clustering...\n",
      "Clustering completed. Best F1 Score: 0.8651\n",
      "Method: bioelectra_similarity_matrix-paragraphMatching\n",
      "Clustering observations with k-medoids...\n",
      "Evaluating clustering...\n",
      "Clustering completed. Best F1 Score: 0.6972\n",
      "Method: similarity_matrix-documentMatching\n",
      "Clustering observations with k-medoids...\n",
      "Evaluating clustering...\n",
      "Clustering completed. Best F1 Score: 0.8983\n",
      "Method: similarity_matrix-sentenceMatching\n",
      "Clustering observations with k-medoids...\n",
      "Evaluating clustering...\n",
      "Clustering completed. Best F1 Score: 0.7938\n",
      "Method: similarity_matrix-paragraphMatching\n",
      "Clustering observations with k-medoids...\n",
      "Evaluating clustering...\n",
      "Clustering completed. Best F1 Score: 0.7091\n",
      "Method: bluebert_similarity_matrix-documentMatching\n",
      "Clustering observations with k-medoids...\n",
      "Evaluating clustering...\n",
      "Clustering completed. Best F1 Score: 0.8627\n",
      "Method: bluebert_similarity_matrix-sentenceMatching\n",
      "Clustering observations with k-medoids...\n",
      "Evaluating clustering...\n",
      "Clustering completed. Best F1 Score: 0.6907\n",
      "Method: bluebert_similarity_matrix-paragraphMatching\n",
      "Clustering observations with k-medoids...\n",
      "Evaluating clustering...\n",
      "Clustering completed. Best F1 Score: 0.7544\n"
     ]
    },
    {
     "name": "stderr",
     "output_type": "stream",
     "text": [
      "/data/dataRapide/gabriel/git/DDPF/Prediction/prvenv/lib/python3.8/site-packages/sklearn/metrics/_classification.py:1471: UndefinedMetricWarning: Recall and F-score are ill-defined and being set to 0.0 in labels with no true samples. Use `zero_division` parameter to control this behavior.\n",
      "  _warn_prf(average, modifier, msg_start, len(result))\n",
      "/data/dataRapide/gabriel/git/DDPF/Prediction/prvenv/lib/python3.8/site-packages/sklearn/metrics/_classification.py:1471: UndefinedMetricWarning: Recall and F-score are ill-defined and being set to 0.0 in labels with no true samples. Use `zero_division` parameter to control this behavior.\n",
      "  _warn_prf(average, modifier, msg_start, len(result))\n",
      "/data/dataRapide/gabriel/git/DDPF/Prediction/prvenv/lib/python3.8/site-packages/sklearn/metrics/_classification.py:1471: UndefinedMetricWarning: Recall and F-score are ill-defined and being set to 0.0 in labels with no true samples. Use `zero_division` parameter to control this behavior.\n",
      "  _warn_prf(average, modifier, msg_start, len(result))\n",
      "/data/dataRapide/gabriel/git/DDPF/Prediction/prvenv/lib/python3.8/site-packages/sklearn/metrics/_classification.py:1471: UndefinedMetricWarning: Recall and F-score are ill-defined and being set to 0.0 in labels with no true samples. Use `zero_division` parameter to control this behavior.\n",
      "  _warn_prf(average, modifier, msg_start, len(result))\n",
      "/data/dataRapide/gabriel/git/DDPF/Prediction/prvenv/lib/python3.8/site-packages/sklearn/metrics/_classification.py:1471: UndefinedMetricWarning: Recall and F-score are ill-defined and being set to 0.0 in labels with no true samples. Use `zero_division` parameter to control this behavior.\n",
      "  _warn_prf(average, modifier, msg_start, len(result))\n",
      "/data/dataRapide/gabriel/git/DDPF/Prediction/prvenv/lib/python3.8/site-packages/sklearn/metrics/_classification.py:1471: UndefinedMetricWarning: Recall and F-score are ill-defined and being set to 0.0 in labels with no true samples. Use `zero_division` parameter to control this behavior.\n",
      "  _warn_prf(average, modifier, msg_start, len(result))\n",
      "/data/dataRapide/gabriel/git/DDPF/Prediction/prvenv/lib/python3.8/site-packages/sklearn/metrics/_classification.py:1471: UndefinedMetricWarning: Recall and F-score are ill-defined and being set to 0.0 in labels with no true samples. Use `zero_division` parameter to control this behavior.\n",
      "  _warn_prf(average, modifier, msg_start, len(result))\n",
      "/data/dataRapide/gabriel/git/DDPF/Prediction/prvenv/lib/python3.8/site-packages/sklearn/metrics/_classification.py:1471: UndefinedMetricWarning: Recall and F-score are ill-defined and being set to 0.0 in labels with no true samples. Use `zero_division` parameter to control this behavior.\n",
      "  _warn_prf(average, modifier, msg_start, len(result))\n",
      "/data/dataRapide/gabriel/git/DDPF/Prediction/prvenv/lib/python3.8/site-packages/sklearn/metrics/_classification.py:1471: UndefinedMetricWarning: Recall and F-score are ill-defined and being set to 0.0 in labels with no true samples. Use `zero_division` parameter to control this behavior.\n",
      "  _warn_prf(average, modifier, msg_start, len(result))\n",
      "/data/dataRapide/gabriel/git/DDPF/Prediction/prvenv/lib/python3.8/site-packages/sklearn/metrics/_classification.py:1471: UndefinedMetricWarning: Recall and F-score are ill-defined and being set to 0.0 in labels with no true samples. Use `zero_division` parameter to control this behavior.\n",
      "  _warn_prf(average, modifier, msg_start, len(result))\n",
      "/data/dataRapide/gabriel/git/DDPF/Prediction/prvenv/lib/python3.8/site-packages/sklearn/metrics/_classification.py:1471: UndefinedMetricWarning: Recall and F-score are ill-defined and being set to 0.0 in labels with no true samples. Use `zero_division` parameter to control this behavior.\n",
      "  _warn_prf(average, modifier, msg_start, len(result))\n",
      "/data/dataRapide/gabriel/git/DDPF/Prediction/prvenv/lib/python3.8/site-packages/sklearn/metrics/_classification.py:1471: UndefinedMetricWarning: Recall and F-score are ill-defined and being set to 0.0 in labels with no true samples. Use `zero_division` parameter to control this behavior.\n",
      "  _warn_prf(average, modifier, msg_start, len(result))\n",
      "/data/dataRapide/gabriel/git/DDPF/Prediction/prvenv/lib/python3.8/site-packages/sklearn/metrics/_classification.py:1471: UndefinedMetricWarning: Recall and F-score are ill-defined and being set to 0.0 in labels with no true samples. Use `zero_division` parameter to control this behavior.\n",
      "  _warn_prf(average, modifier, msg_start, len(result))\n",
      "/data/dataRapide/gabriel/git/DDPF/Prediction/prvenv/lib/python3.8/site-packages/sklearn/metrics/_classification.py:1471: UndefinedMetricWarning: Recall and F-score are ill-defined and being set to 0.0 in labels with no true samples. Use `zero_division` parameter to control this behavior.\n",
      "  _warn_prf(average, modifier, msg_start, len(result))\n",
      "/data/dataRapide/gabriel/git/DDPF/Prediction/prvenv/lib/python3.8/site-packages/sklearn/metrics/_classification.py:1471: UndefinedMetricWarning: Recall and F-score are ill-defined and being set to 0.0 in labels with no true samples. Use `zero_division` parameter to control this behavior.\n",
      "  _warn_prf(average, modifier, msg_start, len(result))\n",
      "/data/dataRapide/gabriel/git/DDPF/Prediction/prvenv/lib/python3.8/site-packages/sklearn/metrics/_classification.py:1471: UndefinedMetricWarning: Recall and F-score are ill-defined and being set to 0.0 in labels with no true samples. Use `zero_division` parameter to control this behavior.\n",
      "  _warn_prf(average, modifier, msg_start, len(result))\n",
      "/data/dataRapide/gabriel/git/DDPF/Prediction/prvenv/lib/python3.8/site-packages/sklearn/metrics/_classification.py:1471: UndefinedMetricWarning: Recall and F-score are ill-defined and being set to 0.0 in labels with no true samples. Use `zero_division` parameter to control this behavior.\n",
      "  _warn_prf(average, modifier, msg_start, len(result))\n",
      "/data/dataRapide/gabriel/git/DDPF/Prediction/prvenv/lib/python3.8/site-packages/sklearn/metrics/_classification.py:1471: UndefinedMetricWarning: Recall and F-score are ill-defined and being set to 0.0 in labels with no true samples. Use `zero_division` parameter to control this behavior.\n",
      "  _warn_prf(average, modifier, msg_start, len(result))\n"
     ]
    }
   ],
   "source": [
    "predictionModule.bench.dict_bench={}\n",
    "for method in df_matrix_dict:\n",
    "    print(\"Method: \"+ method)\n",
    "    R = clusterObservations(df_matrix_dict[method])\n",
    "    predictionModule.bench.dict_bench[method] = R[-1]"
   ]
  },
  {
   "cell_type": "code",
   "execution_count": 32,
   "id": "961909b0-3722-47c8-ab15-a7f7a6a4c135",
   "metadata": {},
   "outputs": [
    {
     "name": "stdout",
     "output_type": "stream",
     "text": [
      "Clustering observations with k-medoids...\n",
      "Evaluating clustering...\n",
      "Clustering completed. Best F1 Score: 0.8983\n"
     ]
    }
   ],
   "source": [
    "best_sim = \"similarity_matrix-documentMatching\"\n",
    "matrix = df_matrix_dict[best_sim]\n",
    "R = clusterObservations(matrix)"
   ]
  },
  {
   "cell_type": "code",
   "execution_count": 64,
   "id": "d9598488-553f-4e72-b543-08557cda7fa2",
   "metadata": {},
   "outputs": [],
   "source": [
    "predictionModule.dict_embedders =   {\n",
    "            # Homogeneous\n",
    "            'Node2Vec-sum' : ObservationHomogeneousEmbedding(predictionModule,kb_node2vec_embedding_path,net_node2vec_embedding_path,aggregation_method='sum') ,\n",
    "            'Node2Vec-average' : ObservationHomogeneousEmbedding(predictionModule,kb_node2vec_embedding_path,net_node2vec_embedding_path,aggregation_method='average'),\n",
    "}"
   ]
  },
  {
   "cell_type": "code",
   "execution_count": 65,
   "id": "46335b8d-ed83-4451-bb73-8c32667b453a",
   "metadata": {},
   "outputs": [],
   "source": [
    "predictionModule.dict_clusteres = {\n",
    "           'K-Means' : KMeansClustering(predictionModule,tsne_random_state=99)\n",
    "}"
   ]
  },
  {
   "cell_type": "code",
   "execution_count": null,
   "id": "57163cae-581f-4410-8868-b133c466da43",
   "metadata": {},
   "outputs": [
    {
     "name": "stdout",
     "output_type": "stream",
     "text": [
      "Loading concept mappings from ../data/prediction/embeddings/semantic/semantic_types_export.csv and ../data/prediction/embeddings/semantic/world_semantic_type.csv...\n",
      "Loading semantic annotations (SA) and semantic value annotations (SVA)...\n",
      "DataFrames loaded successfully.\n",
      "Benchmark for ('DocumentMatching', 'Wang', 'K-Medoids')\n",
      "Processing KB concepts...\n"
     ]
    }
   ],
   "source": [
    "predictionModule.RunWangBenchMark(kb_concept_path,net_concept_path,\n",
    "                        kb_sa_path, net_sa_path,\n",
    "                        kb_sva_path, net_sva_path,include_spatial=False,\n",
    "                                  include_temporal=False)\n",
    "predictionModule.RunBenchMark(include_spatial=False,\n",
    "                                  include_temporal=False)"
   ]
  },
  {
   "cell_type": "code",
   "execution_count": 62,
   "id": "6da0234d-18d1-4487-afb5-99d60a3ac6f5",
   "metadata": {},
   "outputs": [],
   "source": [
    "import matplotlib.pyplot as plt\n",
    "from sklearn.manifold import TSNE\n",
    "def plot(embedding_df,legend_list, labels,random_state=0):\n",
    "        distance_matrix = 1-embedding_df.drop(embedding_df.columns[0],axis=1).to_numpy(dtype=float)\n",
    "        # Rescale the entire distance matrix to the range [0, 1]\n",
    "        max_distance = np.max(distance_matrix)\n",
    "        min_distance = np.min(distance_matrix)\n",
    "        if max_distance > min_distance:  # Avoid division by zero\n",
    "            distance_matrix = (distance_matrix - min_distance) / (max_distance - min_distance)\n",
    "        u_labels = np.unique(labels)\n",
    "        tsne = TSNE(n_components=2, random_state=random_state)\n",
    "        matrix = tsne.fit_transform(distance_matrix)\n",
    "        for i in u_labels:\n",
    "            plt.scatter(matrix[labels == i , 0] , matrix[labels == i , 1] , label = i)\n",
    "        # Label points\n",
    "        for (i,j, legend) in zip(matrix[:,0], matrix[:,1],legend_list):\n",
    "            tl = \"C\"\n",
    "            if legend == 1:\n",
    "                tl = \"M\"\n",
    "            plt.text(i, j, tl)\n",
    "        plt.legend()\n",
    "        plt.show()"
   ]
  },
  {
   "cell_type": "code",
   "execution_count": 63,
   "id": "94674549-8cdd-483f-81ad-ffe46a66f9ec",
   "metadata": {},
   "outputs": [
    {
     "data": {
      "image/png": "[encoded data removed]",
      "text/plain": [
       "<Figure size 640x480 with 1 Axes>"
      ]
     },
     "metadata": {},
     "output_type": "display_data"
    }
   ],
   "source": [
    "plot(matrix, R[1], R[0],19)"
   ]
  }
 ],
 "metadata": {
  "kernelspec": {
   "display_name": "prvenv",
   "language": "python",
   "name": "prvenv"
  },
  "language_info": {
   "codemirror_mode": {
    "name": "ipython",
    "version": 3
   },
   "file_extension": ".py",
   "mimetype": "text/x-python",
   "name": "python",
   "nbconvert_exporter": "python",
   "pygments_lexer": "ipython3",
   "version": "3.8.10"
  }
 },
 "nbformat": 4,
 "nbformat_minor": 5
}
