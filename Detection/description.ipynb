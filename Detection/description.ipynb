{
 "cells": [
  {
   "cell_type": "markdown",
   "metadata": {},
   "source": [
    "# Description"
   ]
  },
  {
   "cell_type": "markdown",
   "metadata": {},
   "source": [
    "## Introduction\n",
    "\n",
    "    The main goal of the **Description** module is to introduce means to enrich the PropaPhen Ontology in order to acquire a domain-specific ontology for a specific phenomenon"
   ]
  },
  {
   "cell_type": "code",
   "execution_count": 1,
   "metadata": {},
   "outputs": [],
   "source": [
    "%load_ext autoreload\n",
    "%autoreload 2"
   ]
  },
  {
   "cell_type": "markdown",
   "metadata": {},
   "source": [
    "## Libraries"
   ]
  },
  {
   "cell_type": "markdown",
   "metadata": {},
   "source": [
    "### Installation"
   ]
  },
  {
   "cell_type": "code",
   "execution_count": 2,
   "metadata": {
    "scrolled": true
   },
   "outputs": [
    {
     "name": "stdout",
     "output_type": "stream",
     "text": [
      "Defaulting to user installation because normal site-packages is not writeable\n",
      "Requirement already satisfied: pkt_kg in /home/gabriel/.local/lib/python3.8/site-packages (3.1.2)\n",
      "Collecting argparse (from pkt_kg)\n",
      "  Using cached argparse-1.4.0-py2.py3-none-any.whl (23 kB)\n",
      "Requirement already satisfied: click in /usr/local/lib/python3.8/dist-packages (from pkt_kg) (8.1.7)\n",
      "Requirement already satisfied: Cython>=0.29.14 in /home/gabriel/.local/lib/python3.8/site-packages (from pkt_kg) (3.0.7)\n",
      "Requirement already satisfied: more-itertools in /usr/lib/python3/dist-packages (from pkt_kg) (4.2.0)\n",
      "Requirement already satisfied: networkx in /home/gabriel/.local/lib/python3.8/site-packages (from pkt_kg) (3.1)\n",
      "Requirement already satisfied: numpy>=1.18.1 in /usr/lib/python3.8/site-packages (from pkt_kg) (1.22.2)\n",
      "Requirement already satisfied: openpyxl>=3.0.3 in /home/gabriel/.local/lib/python3.8/site-packages (from pkt_kg) (3.1.2)\n",
      "Requirement already satisfied: pandas>=1.0.5 in /usr/lib/python3.8/site-packages (from pkt_kg) (1.4.1)\n",
      "Requirement already satisfied: psutil in /home/gabriel/.local/lib/python3.8/site-packages (from pkt_kg) (5.9.5)\n",
      "Requirement already satisfied: python-json-logger in /home/gabriel/.local/lib/python3.8/site-packages (from pkt_kg) (2.0.7)\n",
      "Requirement already satisfied: ray in /home/gabriel/.local/lib/python3.8/site-packages (from pkt_kg) (2.9.0)\n",
      "Requirement already satisfied: rdflib in /home/gabriel/.local/lib/python3.8/site-packages (from pkt_kg) (7.0.0)\n",
      "Requirement already satisfied: reactome2py in /home/gabriel/.local/lib/python3.8/site-packages (from pkt_kg) (3.0.0)\n",
      "Requirement already satisfied: requests in /home/gabriel/.local/lib/python3.8/site-packages (from pkt_kg) (2.31.0)\n",
      "Requirement already satisfied: types-requests in /home/gabriel/.local/lib/python3.8/site-packages (from pkt_kg) (2.31.0.20240106)\n",
      "Requirement already satisfied: responses==0.10.12 in /home/gabriel/.local/lib/python3.8/site-packages (from pkt_kg) (0.10.12)\n",
      "Requirement already satisfied: tqdm in /usr/local/lib/python3.8/dist-packages (from pkt_kg) (4.62.3)\n",
      "Requirement already satisfied: urllib3 in /home/gabriel/.local/lib/python3.8/site-packages (from pkt_kg) (2.1.0)\n",
      "Requirement already satisfied: six in /usr/lib/python3/dist-packages (from responses==0.10.12->pkt_kg) (1.14.0)\n",
      "Requirement already satisfied: et-xmlfile in /home/gabriel/.local/lib/python3.8/site-packages (from openpyxl>=3.0.3->pkt_kg) (1.1.0)\n",
      "Requirement already satisfied: python-dateutil>=2.8.1 in /home/gabriel/.local/lib/python3.8/site-packages (from pandas>=1.0.5->pkt_kg) (2.8.2)\n",
      "Requirement already satisfied: pytz>=2020.1 in /usr/lib/python3.8/site-packages (from pandas>=1.0.5->pkt_kg) (2021.3)\n",
      "Requirement already satisfied: charset-normalizer<4,>=2 in /home/gabriel/.local/lib/python3.8/site-packages (from requests->pkt_kg) (3.2.0)\n",
      "Requirement already satisfied: idna<4,>=2.5 in /usr/lib/python3/dist-packages (from requests->pkt_kg) (2.8)\n",
      "Requirement already satisfied: certifi>=2017.4.17 in /usr/lib/python3/dist-packages (from requests->pkt_kg) (2019.11.28)\n",
      "Requirement already satisfied: filelock in /home/gabriel/.local/lib/python3.8/site-packages (from ray->pkt_kg) (3.13.1)\n",
      "Requirement already satisfied: jsonschema in /usr/local/lib/python3.8/dist-packages (from ray->pkt_kg) (4.19.0)\n",
      "Requirement already satisfied: msgpack<2.0.0,>=1.0.0 in /home/gabriel/.local/lib/python3.8/site-packages (from ray->pkt_kg) (1.0.7)\n",
      "Requirement already satisfied: packaging in /home/gabriel/.local/lib/python3.8/site-packages (from ray->pkt_kg) (23.1)\n",
      "Requirement already satisfied: protobuf!=3.19.5,>=3.15.3 in /home/gabriel/.local/lib/python3.8/site-packages (from ray->pkt_kg) (4.25.1)\n",
      "Requirement already satisfied: pyyaml in /usr/lib/python3/dist-packages (from ray->pkt_kg) (5.3.1)\n",
      "Requirement already satisfied: aiosignal in /home/gabriel/.local/lib/python3.8/site-packages (from ray->pkt_kg) (1.3.1)\n",
      "Requirement already satisfied: frozenlist in /home/gabriel/.local/lib/python3.8/site-packages (from ray->pkt_kg) (1.4.1)\n",
      "Requirement already satisfied: isodate<0.7.0,>=0.6.0 in /home/gabriel/.local/lib/python3.8/site-packages (from rdflib->pkt_kg) (0.6.1)\n",
      "Requirement already satisfied: pyparsing<4,>=2.1.0 in /usr/lib/python3.8/site-packages (from rdflib->pkt_kg) (3.0.7)\n",
      "Requirement already satisfied: json5>=0.8.4 in /home/gabriel/.local/lib/python3.8/site-packages (from reactome2py->pkt_kg) (0.9.14)\n",
      "Requirement already satisfied: attrs>=22.2.0 in /home/gabriel/.local/lib/python3.8/site-packages (from jsonschema->ray->pkt_kg) (23.1.0)\n",
      "Requirement already satisfied: importlib-resources>=1.4.0 in /home/gabriel/.local/lib/python3.8/site-packages (from jsonschema->ray->pkt_kg) (6.0.1)\n",
      "Requirement already satisfied: jsonschema-specifications>=2023.03.6 in /usr/local/lib/python3.8/dist-packages (from jsonschema->ray->pkt_kg) (2023.7.1)\n",
      "Requirement already satisfied: pkgutil-resolve-name>=1.3.10 in /usr/local/lib/python3.8/dist-packages (from jsonschema->ray->pkt_kg) (1.3.10)\n",
      "Requirement already satisfied: referencing>=0.28.4 in /home/gabriel/.local/lib/python3.8/site-packages (from jsonschema->ray->pkt_kg) (0.30.2)\n",
      "Requirement already satisfied: rpds-py>=0.7.1 in /home/gabriel/.local/lib/python3.8/site-packages (from jsonschema->ray->pkt_kg) (0.10.2)\n",
      "Requirement already satisfied: zipp>=3.1.0 in /usr/local/lib/python3.8/dist-packages (from importlib-resources>=1.4.0->jsonschema->ray->pkt_kg) (3.16.2)\n",
      "Installing collected packages: argparse\n",
      "Successfully installed argparse-1.4.0\n",
      "\n",
      "\u001b[1m[\u001b[0m\u001b[34;49mnotice\u001b[0m\u001b[1;39;49m]\u001b[0m\u001b[39;49m A new release of pip is available: \u001b[0m\u001b[31;49m23.2.1\u001b[0m\u001b[39;49m -> \u001b[0m\u001b[32;49m23.3.2\u001b[0m\n",
      "\u001b[1m[\u001b[0m\u001b[34;49mnotice\u001b[0m\u001b[1;39;49m]\u001b[0m\u001b[39;49m To update, run: \u001b[0m\u001b[32;49mpython3 -m pip install --upgrade pip\u001b[0m\n"
     ]
    }
   ],
   "source": [
    "#!pip install owlready2\n",
    "#!pip install tqdm\n",
    "#!pip install pkt_kg"
   ]
  },
  {
   "cell_type": "markdown",
   "metadata": {},
   "source": [
    "### Standard"
   ]
  },
  {
   "cell_type": "code",
   "execution_count": 3,
   "metadata": {},
   "outputs": [],
   "source": [
    "from owlready2 import *\n",
    "import pandas as pd\n",
    "from tqdm import tqdm"
   ]
  },
  {
   "cell_type": "markdown",
   "metadata": {},
   "source": [
    "### Custom"
   ]
  },
  {
   "cell_type": "markdown",
   "metadata": {},
   "source": []
  },
  {
   "cell_type": "markdown",
   "metadata": {},
   "source": [
    "## Globals"
   ]
  },
  {
   "cell_type": "code",
   "execution_count": 4,
   "metadata": {},
   "outputs": [],
   "source": [
    "path_propaphen = \"../PropaPhen/PropaPhen.owl\"\n",
    "path_to_mrrel = \"data/MRREL.RRF\"\n",
    "path_to_srdef = \"data/SRDEF\"\n",
    "path_to_worldkg_ontology = \"data/WorldKG_Ontolgy.owl\"\n",
    "path_to_worldkg_nodes = \"data/worldkg_nodes.csv\"\n",
    "path_to_worldkg_edges = \"data/worldkg_edges.csv\""
   ]
  },
  {
   "cell_type": "code",
   "execution_count": 73,
   "metadata": {},
   "outputs": [],
   "source": [
    "path_save_umlsonto = \"data/saved/umlsonto.owl\"\n",
    "path_save_worldkg = \"data/saved/worldkg.owl\""
   ]
  },
  {
   "cell_type": "markdown",
   "metadata": {},
   "source": [
    "## Ontologies"
   ]
  },
  {
   "cell_type": "markdown",
   "metadata": {},
   "source": [
    "### PropaPhen"
   ]
  },
  {
   "cell_type": "code",
   "execution_count": 6,
   "metadata": {},
   "outputs": [],
   "source": [
    "propaphen = get_ontology(\"file://\" + path_propaphen)"
   ]
  },
  {
   "cell_type": "code",
   "execution_count": 8,
   "metadata": {},
   "outputs": [],
   "source": [
    "propaphen = propaphen.load()   "
   ]
  },
  {
   "cell_type": "code",
   "execution_count": 9,
   "metadata": {},
   "outputs": [],
   "source": [
    "propaphen_classes = list(propaphen.classes())\n",
    "propaphen_dict_classes = dict(zip([x.__name__ for x in propaphen_classes],propaphen_classes))"
   ]
  },
  {
   "cell_type": "markdown",
   "metadata": {},
   "source": [
    "# UMLS"
   ]
  },
  {
   "cell_type": "markdown",
   "metadata": {},
   "source": [
    "\n",
    "---\n",
    "\n",
    "UMLS has as main concepts ([ref](https://www.nlm.nih.gov/research/umls/new_users/online_learning/Meta_005.html)):\n",
    " - Concept Unique Identifier (CUI):\n",
    " - Lexical (term) Unique Identifiers (LUI)\n",
    " - String Unique Identifiers (SUI)\n",
    " - Atom Unique Identifier (AUI):\n",
    "\n",
    "Other than those concepts, UMLS also counts with a Semantic Network that consists of (1) a set of broad subject categories, or **Semantic Types**, that provide a consistent categorization of all concepts represented in the UMLS Metathesaurus, and (2) a set of useful and important relationships, or Semantic Relations, that exist between Semantic Types.\n",
    "\n",
    "---\n",
    "This subsection describes the aforementioned concepts and retrieves all properties found in the UMLS 2023AB repository"
   ]
  },
  {
   "cell_type": "code",
   "execution_count": 69,
   "metadata": {},
   "outputs": [],
   "source": [
    "umlsonto = get_ontology(\"https://w3id.org/def/umls\")\n",
    "# Adding concepts/classes\n",
    "with umlsonto:\n",
    "    class UMLSEntity(Thing):\n",
    "        pass\n",
    "    class CUI(UMLSEntity):\n",
    "        pass\n",
    "    class LUI(UMLSEntity):\n",
    "        pass\n",
    "    class SUI(UMLSEntity):\n",
    "        pass\n",
    "    class AUI(UMLSEntity):\n",
    "        pass\n",
    "    class SemanticType(UMLSEntity):\n",
    "        pass\n",
    "    AllDisjoint([CUI, LUI, SUI, AUI, SemanticType])\n",
    "    UMLSEntity.equivalent_to = [CUI | LUI | SUI | AUI | SemanticType]"
   ]
  },
  {
   "cell_type": "markdown",
   "metadata": {},
   "source": [
    "#### Adding CUI/AUI relationships"
   ]
  },
  {
   "cell_type": "code",
   "execution_count": 12,
   "metadata": {},
   "outputs": [],
   "source": [
    "aui_rel = set()\n",
    "cui_rel = set()\n",
    "aui_cui_rel = set()\n",
    "cui_aui_rel = set()"
   ]
  },
  {
   "cell_type": "code",
   "execution_count": 13,
   "metadata": {},
   "outputs": [
    {
     "name": "stderr",
     "output_type": "stream",
     "text": [
      "55685992it [01:03, 882529.73it/s]\n"
     ]
    }
   ],
   "source": [
    "with open(path_to_mrrel, mode= 'r', encoding= 'utf-8') as mrrel: \n",
    "    for line in tqdm(mrrel):\n",
    "        line = line.split(\"|\")\n",
    "        start_node= line[4]\n",
    "        end_node= line[0]\n",
    "        # aui and aui\n",
    "        if line[6]== 'AUI' and line[2]== 'AUI': # style 2\n",
    "            aui_rel.add(line[3])  \n",
    "        elif line[6]== 'AUI': # style 2\n",
    "            cui_aui_rel.add(line[3])\n",
    "        if line[2]== 'AUI': # syle 1\n",
    "            aui_cui_rel.add(line[3])\n",
    "        else:\n",
    "            cui_rel.add(line[3])"
   ]
  },
  {
   "cell_type": "code",
   "execution_count": 14,
   "metadata": {},
   "outputs": [],
   "source": [
    "cui_domain=cui_rel | cui_aui_rel\n",
    "aui_domain= aui_cui_rel | aui_rel\n",
    "cui_range = cui_rel | aui_cui_rel\n",
    "aui_range = aui_rel | cui_aui_rel"
   ]
  },
  {
   "cell_type": "code",
   "execution_count": 15,
   "metadata": {},
   "outputs": [],
   "source": [
    "all_rel = list((cui_rel | cui_aui_rel | aui_cui_rel | aui_rel) -  set([str(x) for x in range(10)]))"
   ]
  },
  {
   "cell_type": "code",
   "execution_count": 16,
   "metadata": {},
   "outputs": [],
   "source": [
    "with umlsonto:\n",
    "    for rel in all_rel:\n",
    "        opdomain = []\n",
    "        oprange = []\n",
    "        if rel in cui_domain:\n",
    "            opdomain.append(CUI)\n",
    "        if rel in aui_domain:\n",
    "            opdomain.append(AUI)\n",
    "        if rel in cui_range:\n",
    "            oprange.append(CUI)\n",
    "        if rel in aui_range:\n",
    "            oprange.append(AUI)\n",
    "        addRelation = type(rel,(ObjectProperty,),  {\n",
    "            'domain' : opdomain,\n",
    "            'range' : oprange\n",
    "        })"
   ]
  },
  {
   "cell_type": "markdown",
   "metadata": {},
   "source": [
    "#### Adding Semantic Network relationships"
   ]
  },
  {
   "cell_type": "code",
   "execution_count": 17,
   "metadata": {},
   "outputs": [],
   "source": [
    "semanticrels = pd.read_csv(path_to_srdef,sep='|', header=None, usecols=[0,1])"
   ]
  },
  {
   "cell_type": "code",
   "execution_count": 18,
   "metadata": {},
   "outputs": [],
   "source": [
    "semanticrelslist = semanticrels[semanticrels[0]=='RL'][1].tolist()"
   ]
  },
  {
   "cell_type": "code",
   "execution_count": 19,
   "metadata": {},
   "outputs": [],
   "source": [
    "# For each relation\n",
    "with umlsonto:\n",
    "    for rel in semanticrelslist:\n",
    "        addRelation = type(rel,(ObjectProperty,),  {\n",
    "            'domain' : [SemanticType],\n",
    "            'range' : [SemanticType]\n",
    "        })"
   ]
  },
  {
   "cell_type": "markdown",
   "metadata": {},
   "source": [
    "#### isa type"
   ]
  },
  {
   "cell_type": "code",
   "execution_count": 20,
   "metadata": {},
   "outputs": [],
   "source": [
    "with umlsonto:\n",
    "    addRelation = type(\"isa\",(ObjectProperty,),  {\n",
    "            'domain' : [SemanticType],\n",
    "            'range' : [SemanticType]\n",
    "        })"
   ]
  },
  {
   "cell_type": "markdown",
   "metadata": {},
   "source": [
    "#### CUI and Semantic Network"
   ]
  },
  {
   "cell_type": "code",
   "execution_count": 21,
   "metadata": {},
   "outputs": [],
   "source": [
    "# For each relation\n",
    "with umlsonto:\n",
    "    addRelation = type(\"STY\",(ObjectProperty,),  {\n",
    "        'domain' : [CUI],\n",
    "        'range' : [SemanticType]\n",
    "    })"
   ]
  },
  {
   "cell_type": "code",
   "execution_count": 61,
   "metadata": {},
   "outputs": [],
   "source": [
    "umlsonto.save(file=path_save_umlsonto,format=\"rdfxml\")"
   ]
  },
  {
   "cell_type": "markdown",
   "metadata": {},
   "source": [
    "### World-KG"
   ]
  },
  {
   "cell_type": "code",
   "execution_count": 23,
   "metadata": {},
   "outputs": [],
   "source": [
    "worldkg = get_ontology(\"file://\" + path_to_worldkg_ontology)"
   ]
  },
  {
   "cell_type": "code",
   "execution_count": 25,
   "metadata": {},
   "outputs": [],
   "source": [
    "worldkg = worldkg.load()"
   ]
  },
  {
   "cell_type": "code",
   "execution_count": 26,
   "metadata": {},
   "outputs": [],
   "source": [
    "worldkg_dict_classes = dict(zip([x.__name__ for x in \n",
    "                                worldkg.classes()],\n",
    "                               worldkg.classes()))"
   ]
  },
  {
   "cell_type": "code",
   "execution_count": 27,
   "metadata": {
    "scrolled": false
   },
   "outputs": [
    {
     "name": "stderr",
     "output_type": "stream",
     "text": [
      "/tmp/ipykernel_68447/1074395577.py:1: DtypeWarning: Columns (2,3,4,5,6,7,8,9,10,11,12,13,14,15,17,18,19,20,21,22,23,24,25,26,27,28,29,30,31,32,33,34,35,36,37,38,39,40,41,42,43,44,45,46,47,48,50,51,52,53,54,55,56,57,58,59,60,61,62,63,64,65,66,67,68,69,70,71,72,73,74,75,76,77,78,79,80,81,82,83,84,85,86,87,88,89,90,91,92,93,94,95,96,97,98,99,100,101,102,103,104,105,106,107,108,109,110,111,112,113,114,115,116,117,118,119,120,121,122,123,124,125,126,127,128,129,130,131,132,133,134,135,136,137,138,139,140,141,142,143,144,145,146,147,148,149,150,151,152,153,154,155,156,157,158,159,160,161,162,163,164,165,166,167,168,169,170,171,172,174,175,176,177,178,179,180,181,182,183,184,185,186,187,188,189,190,191,192,193,194,195,196,197,198,199,200,201,202,203,204,205,206,207,208,209,210,211,212,213,214,215,216,217,218,219,220,221,222,223,224,225,226,227,228,229,230,231,232,233,234,235,236,237,238,239,240,241,242,243,244,245,246,247,248,249,250,251,252,253,254,255,256,257,258,259,260,261,262,263,264,265,266,267,268,269,271,272,273,274,275,276,277,278,279,280,281,282,283,284,285,286,287,288,289,290,291,292,293,294) have mixed types. Specify dtype option on import or set low_memory=False.\n",
      "  kgnodes = pd.read_csv(path_to_worldkg_nodes)\n"
     ]
    }
   ],
   "source": [
    "kgnodes = pd.read_csv(path_to_worldkg_nodes)"
   ]
  },
  {
   "cell_type": "code",
   "execution_count": 28,
   "metadata": {},
   "outputs": [],
   "source": [
    "dict_label = dict(zip(kgnodes.loc[:,\"id:ID\"],kgnodes.loc[:,\":LABEL\"]))"
   ]
  },
  {
   "cell_type": "code",
   "execution_count": 29,
   "metadata": {},
   "outputs": [],
   "source": [
    "dict_str_to_class = {}\n",
    "for value in set(dict_label.values()):\n",
    "    dict_str_to_class[value] = worldkg_dict_classes[value.split(\":\")[-1]]"
   ]
  },
  {
   "cell_type": "code",
   "execution_count": 30,
   "metadata": {},
   "outputs": [],
   "source": [
    "kgedges = pd.read_csv(path_to_worldkg_edges)"
   ]
  },
  {
   "cell_type": "code",
   "execution_count": 31,
   "metadata": {},
   "outputs": [],
   "source": [
    "wkgdomain = {}\n",
    "wkgrange = {}\n",
    "for worldtype in set(dict_label.values()):\n",
    "    wkgdomain[worldtype] = set()\n",
    "    wkgrange[worldtype] = set()"
   ]
  },
  {
   "cell_type": "code",
   "execution_count": 32,
   "metadata": {},
   "outputs": [
    {
     "name": "stderr",
     "output_type": "stream",
     "text": [
      "2228040it [00:03, 737379.83it/s]\n"
     ]
    }
   ],
   "source": [
    "all_rel = set()\n",
    "with open(path_to_worldkg_edges, mode= 'r', encoding= 'utf-8') as mrrel: \n",
    "    count = 0\n",
    "    for line in tqdm(mrrel):\n",
    "        if count == 0:\n",
    "            count += 1\n",
    "            continue\n",
    "        line = line.split(\",\")\n",
    "        property_name = line[2].replace(\"\\n\",\"\")\n",
    "        all_rel.add(property_name)\n",
    "        domain_obj = dict_label[line[0]]\n",
    "        range_obj = dict_label[line[1]]\n",
    "        wkgdomain[domain_obj].add(property_name)\n",
    "        wkgrange[range_obj].add(property_name)"
   ]
  },
  {
   "cell_type": "code",
   "execution_count": 33,
   "metadata": {},
   "outputs": [],
   "source": [
    "# For each relation\n",
    "with worldkg:\n",
    "    for rel in all_rel:\n",
    "        domainlist = []\n",
    "        rangelist = []\n",
    "        for key in wkgdomain.keys():\n",
    "            if rel in wkgdomain[key]:\n",
    "                domainlist.append(dict_str_to_class[key])\n",
    "        for key in wkgrange.keys():\n",
    "            if rel in wkgrange[key]:\n",
    "                rangelist.append(dict_str_to_class[key])\n",
    "        addRelation = type(rel,(ObjectProperty,),  {\n",
    "            'domain' : domainlist,\n",
    "            'range' : rangelist\n",
    "        })"
   ]
  },
  {
   "cell_type": "code",
   "execution_count": 34,
   "metadata": {},
   "outputs": [],
   "source": [
    "worldkg.save(file=path_save_worldkg,format=\"rdfxml\")"
   ]
  },
  {
   "cell_type": "markdown",
   "metadata": {},
   "source": [
    "## Semi-Automatic Alignment"
   ]
  },
  {
   "cell_type": "code",
   "execution_count": 35,
   "metadata": {},
   "outputs": [],
   "source": [
    "propaphen.imported_ontologies.append(umlsonto)\n",
    "propaphen.imported_ontologies.append(worldkg)"
   ]
  },
  {
   "cell_type": "code",
   "execution_count": 85,
   "metadata": {
    "scrolled": true
   },
   "outputs": [],
   "source": [
    "# Add wordkg as spatial object\n",
    "for x in list(worldkg.classes()):\n",
    "    if Thing in x.is_a:\n",
    "        x.is_a.remove(Thing)\n",
    "    x.is_a.append(propaphen_dict_classes['System'])"
   ]
  },
  {
   "cell_type": "code",
   "execution_count": 87,
   "metadata": {},
   "outputs": [],
   "source": [
    "# Adding umls entities to gufo\n",
    "umlsonto.search(iri='*UMLSEntity')[0].is_a = [propaphen_dict_classes['Entity']]"
   ]
  },
  {
   "cell_type": "code",
   "execution_count": 88,
   "metadata": {},
   "outputs": [],
   "source": [
    "worldkg.save(file=path_save_worldkg,format=\"rdfxml\")\n",
    "umlsonto.save(file=path_save_umlsonto,format=\"rdfxml\")\n",
    "propaphen.save(file=\"data/saved/propaphenplus.owl\",format=\"rdfxml\")"
   ]
  }
 ],
 "metadata": {
  "kernelspec": {
   "display_name": "dcvenv",
   "language": "python",
   "name": "dcvenv"
  },
  "language_info": {
   "codemirror_mode": {
    "name": "ipython",
    "version": 3
   },
   "file_extension": ".py",
   "mimetype": "text/x-python",
   "name": "python",
   "nbconvert_exporter": "python",
   "pygments_lexer": "ipython3",
   "version": "3.8.10"
  }
 },
 "nbformat": 4,
 "nbformat_minor": 2
}
