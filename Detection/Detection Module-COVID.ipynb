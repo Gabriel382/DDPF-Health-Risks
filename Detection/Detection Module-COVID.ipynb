{
 "cells": [
  {
   "cell_type": "markdown",
   "id": "f6d84d91",
   "metadata": {},
   "source": [
    "# Detection Module\n",
    "\n",
    "    The main goal of the detection module is to use the gazetteers out of the ontologies used to enrich PropaPhen into PropaPhen+ to discover relationships between network nodes/systems and the gufo:Entities by text."
   ]
  },
  {
   "cell_type": "code",
   "execution_count": 1,
   "id": "110efc56",
   "metadata": {},
   "outputs": [],
   "source": [
    "%load_ext autoreload\n",
    "%autoreload 2"
   ]
  },
  {
   "cell_type": "markdown",
   "id": "aa0ceac9",
   "metadata": {},
   "source": [
    "## Libraries"
   ]
  },
  {
   "cell_type": "markdown",
   "id": "50975ef2",
   "metadata": {},
   "source": [
    "### Installing"
   ]
  },
  {
   "cell_type": "code",
   "execution_count": 2,
   "id": "c1d1a692",
   "metadata": {},
   "outputs": [],
   "source": [
    "#!pip install pandas\n",
    "#!pip install tqdm\n",
    "#!pip install nltk\n",
    "#!pip install gatenlp\n",
    "#!pip install py4j\n",
    "#!pip install pyodide\n",
    "#!pip install ipywidgets\n",
    "#!pip install neo4j"
   ]
  },
  {
   "cell_type": "markdown",
   "id": "65d43728",
   "metadata": {},
   "source": [
    "### Standard"
   ]
  },
  {
   "cell_type": "code",
   "execution_count": 3,
   "id": "b3f5246c",
   "metadata": {},
   "outputs": [],
   "source": [
    "import pandas as pd\n",
    "import numpy as np\n",
    "from tqdm import tqdm\n",
    "import nltk\n",
    "import glob"
   ]
  },
  {
   "cell_type": "code",
   "execution_count": 4,
   "id": "cbaeaacc",
   "metadata": {},
   "outputs": [],
   "source": [
    "from gatenlp import Document\n",
    "from gatenlp.gateworker import GateWorker"
   ]
  },
  {
   "cell_type": "markdown",
   "id": "7438eb90",
   "metadata": {},
   "source": [
    "### Custom libraries"
   ]
  },
  {
   "cell_type": "code",
   "execution_count": 5,
   "id": "f6729226",
   "metadata": {},
   "outputs": [],
   "source": [
    "import sys\n",
    "sys.path.append('lib/')"
   ]
  },
  {
   "cell_type": "code",
   "execution_count": 6,
   "id": "7296f019",
   "metadata": {},
   "outputs": [],
   "source": [
    "from detection.relationshipextraction import RelationshipDiscovery, GateExtractor, CleanDicts, rmToRelationCSV\n",
    "from detection.schema import Term, Concept, df_to_concepts, cleaningPlaceStr, conceptsToGazetteer\n",
    "from detection.worldumls import umlsConceptCleanner, isEnglish, worldConceptCleanner\n",
    "from detection.worldumls import ClearnWorldKGGazetteer\n",
    "#import detection.observationclustering"
   ]
  },
  {
   "cell_type": "markdown",
   "id": "6aaa39dd",
   "metadata": {},
   "source": [
    "## Globals"
   ]
  },
  {
   "cell_type": "code",
   "execution_count": 7,
   "id": "55a0d020",
   "metadata": {},
   "outputs": [],
   "source": [
    "path_to_covid_journals = \"data/textual/covid/newspaper/\"\n",
    "path_to_kb_gazetteer = '../data/gazetteers/kbgazetteer.csv'\n",
    "path_to_netwoork_gazetteer = '../data/gazetteers/world_gazetteer_en.csv'\n",
    "path_to_lsts = \"data/lst/\"\n",
    "path_to_relation_folder = \"../data/neo4j/\"\n",
    "path_to_observationcsv = \"../data/neo4j/observations.csv\""
   ]
  },
  {
   "cell_type": "markdown",
   "id": "e63f1ea4",
   "metadata": {},
   "source": [
    "## Relationship Discovery"
   ]
  },
  {
   "cell_type": "markdown",
   "id": "347e82cd",
   "metadata": {},
   "source": [
    "### KB Gazetteers"
   ]
  },
  {
   "cell_type": "code",
   "execution_count": 8,
   "id": "560db393",
   "metadata": {},
   "outputs": [],
   "source": [
    "kb_concept_list = []\n",
    "network_concept_list = []"
   ]
  },
  {
   "cell_type": "code",
   "execution_count": 9,
   "id": "0d665080",
   "metadata": {},
   "outputs": [],
   "source": [
    "df_kb = pd.read_csv(path_to_kb_gazetteer)"
   ]
  },
  {
   "cell_type": "code",
   "execution_count": 10,
   "id": "2efb8f09",
   "metadata": {},
   "outputs": [
    {
     "data": {
      "text/html": [
       "<div>\n",
       "<style scoped>\n",
       "    .dataframe tbody tr th:only-of-type {\n",
       "        vertical-align: middle;\n",
       "    }\n",
       "\n",
       "    .dataframe tbody tr th {\n",
       "        vertical-align: top;\n",
       "    }\n",
       "\n",
       "    .dataframe thead th {\n",
       "        text-align: right;\n",
       "    }\n",
       "</style>\n",
       "<table border=\"1\" class=\"dataframe\">\n",
       "  <thead>\n",
       "    <tr style=\"text-align: right;\">\n",
       "      <th></th>\n",
       "      <th>Unnamed: 0</th>\n",
       "      <th>ID</th>\n",
       "      <th>Name</th>\n",
       "    </tr>\n",
       "  </thead>\n",
       "  <tbody>\n",
       "    <tr>\n",
       "      <th>0</th>\n",
       "      <td>0</td>\n",
       "      <td>C0026106</td>\n",
       "      <td>Mild mental retardation</td>\n",
       "    </tr>\n",
       "    <tr>\n",
       "      <th>1</th>\n",
       "      <td>1</td>\n",
       "      <td>C0026351</td>\n",
       "      <td>Moderate mental retardation</td>\n",
       "    </tr>\n",
       "    <tr>\n",
       "      <th>2</th>\n",
       "      <td>2</td>\n",
       "      <td>C0036857</td>\n",
       "      <td>Severe mental retardation</td>\n",
       "    </tr>\n",
       "    <tr>\n",
       "      <th>3</th>\n",
       "      <td>3</td>\n",
       "      <td>C0020796</td>\n",
       "      <td>Profound mental retardation</td>\n",
       "    </tr>\n",
       "    <tr>\n",
       "      <th>4</th>\n",
       "      <td>4</td>\n",
       "      <td>C0025362</td>\n",
       "      <td>Unspecified mental retardation</td>\n",
       "    </tr>\n",
       "  </tbody>\n",
       "</table>\n",
       "</div>"
      ],
      "text/plain": [
       "   Unnamed: 0        ID                            Name\n",
       "0           0  C0026106         Mild mental retardation\n",
       "1           1  C0026351     Moderate mental retardation\n",
       "2           2  C0036857       Severe mental retardation\n",
       "3           3  C0020796     Profound mental retardation\n",
       "4           4  C0025362  Unspecified mental retardation"
      ]
     },
     "execution_count": 10,
     "metadata": {},
     "output_type": "execute_result"
    }
   ],
   "source": [
    "df_kb.head()"
   ]
  },
  {
   "cell_type": "code",
   "execution_count": 11,
   "id": "2c71050a",
   "metadata": {
    "scrolled": true
   },
   "outputs": [
    {
     "name": "stdout",
     "output_type": "stream",
     "text": [
      "Finding Terms\n"
     ]
    },
    {
     "name": "stderr",
     "output_type": "stream",
     "text": [
      "12620098it [12:56, 16258.97it/s]\n"
     ]
    },
    {
     "name": "stdout",
     "output_type": "stream",
     "text": [
      "Creating Term list\n"
     ]
    }
   ],
   "source": [
    "kb_concept_list = df_to_concepts(df_kb)"
   ]
  },
  {
   "cell_type": "code",
   "execution_count": 12,
   "id": "f22d91e7",
   "metadata": {
    "scrolled": true
   },
   "outputs": [
    {
     "name": "stderr",
     "output_type": "stream",
     "text": [
      "100%|█████████████████████████████████████████████████| 7892473/7892473 [00:34<00:00, 231919.08it/s]\n"
     ]
    }
   ],
   "source": [
    "for i in tqdm(range(len(kb_concept_list))):\n",
    "    kb_concept_list[i] = umlsConceptCleanner(kb_concept_list[i])\n",
    "    kb_concept_list[i] = umlsConceptCleanner(kb_concept_list[i])"
   ]
  },
  {
   "cell_type": "code",
   "execution_count": 13,
   "id": "41aba865",
   "metadata": {},
   "outputs": [
    {
     "name": "stderr",
     "output_type": "stream",
     "text": [
      "100%|██████████████████████████████████████████████████| 7892473/7892473 [02:13<00:00, 59149.04it/s]\n"
     ]
    }
   ],
   "source": [
    "umlsdict = conceptsToGazetteer(kb_concept_list,path_to_lsts+\"umls.lst\",cleaningPlaceStr)"
   ]
  },
  {
   "cell_type": "markdown",
   "id": "df21f141",
   "metadata": {},
   "source": [
    "### Place Gazetteers"
   ]
  },
  {
   "cell_type": "code",
   "execution_count": null,
   "id": "db6bdc78",
   "metadata": {},
   "outputs": [],
   "source": [
    "df_network = pd.read_csv(path_to_netwoork_gazetteer)"
   ]
  },
  {
   "cell_type": "code",
   "execution_count": null,
   "id": "dc09a56e",
   "metadata": {},
   "outputs": [],
   "source": [
    "clear_net_list = ['\"Nga\"', '\"Centre\"', '\"Kou\"', '\"San\"']"
   ]
  },
  {
   "cell_type": "code",
   "execution_count": null,
   "id": "26be0b47",
   "metadata": {},
   "outputs": [],
   "source": [
    "df_network = ClearnWorldKGGazetteer(df_network,clear_net_list)"
   ]
  },
  {
   "cell_type": "code",
   "execution_count": null,
   "id": "6d60d0ae",
   "metadata": {},
   "outputs": [],
   "source": [
    "df_network.head()"
   ]
  },
  {
   "cell_type": "code",
   "execution_count": null,
   "id": "40e0a927",
   "metadata": {},
   "outputs": [],
   "source": [
    "network_concept_list = df_to_concepts(df_network)"
   ]
  },
  {
   "cell_type": "code",
   "execution_count": null,
   "id": "5e35554b",
   "metadata": {},
   "outputs": [],
   "source": [
    "# Pre-processing network\n",
    "#for i in tqdm(range(len(network_concept_list))):\n",
    "#    network_concept_list[i] = worldConceptCleanner(network_concept_list[i])"
   ]
  },
  {
   "cell_type": "code",
   "execution_count": null,
   "id": "63ccbe3a",
   "metadata": {},
   "outputs": [],
   "source": [
    "# Normal\n",
    "print(\"Usual name\")\n",
    "normalplacesdict = conceptsToGazetteer(network_concept_list,path_to_lsts+\"places.lst\",cleaningPlaceStr)\n",
    "# Cap\n",
    "#print(\"Cap name\")\n",
    "#capdict = conceptsToGazetteer(network_concept_list,path_to_lsts+\"places_cap.lst\",capPlaceStr)\n",
    "# Lower\n",
    "#print(\"Lower name\")\n",
    "#lowerdict = conceptsToGazetteer(network_concept_list,path_to_lsts+\"places_lower.lst\",lowerPlaceStr)"
   ]
  },
  {
   "cell_type": "markdown",
   "id": "12dd1b0e",
   "metadata": {},
   "source": [
    "### GATE"
   ]
  },
  {
   "cell_type": "code",
   "execution_count": null,
   "id": "1ade2519",
   "metadata": {
    "scrolled": true
   },
   "outputs": [],
   "source": [
    "gs = GateWorker(start=False, auth_token=\"1234\")"
   ]
  },
  {
   "cell_type": "code",
   "execution_count": null,
   "id": "6a7c893e",
   "metadata": {},
   "outputs": [],
   "source": [
    "normalplacesdict, umlsdict = CleanDicts(normalplacesdict, umlsdict)"
   ]
  },
  {
   "cell_type": "code",
   "execution_count": null,
   "id": "7b82c956",
   "metadata": {},
   "outputs": [],
   "source": [
    "gateExtractor = GateExtractor(umlsdict,normalplacesdict)"
   ]
  },
  {
   "cell_type": "code",
   "execution_count": null,
   "id": "c29edd68",
   "metadata": {},
   "outputs": [],
   "source": [
    "# Annie\n",
    "gs.worker.loadMavenPlugin(\"uk.ac.gate.plugins\", \"annie\", \"8.6\")\n",
    "# now load the prepared ANNIE pipeline from the plugin\n",
    "pipeline = gs.worker.loadPipelineFromPlugin(\"uk.ac.gate.plugins\",\"annie\", \"/resources/ANNIE_with_defaults.gapp\")\n",
    "pipeline.getName()"
   ]
  },
  {
   "cell_type": "code",
   "execution_count": null,
   "id": "3e739724",
   "metadata": {},
   "outputs": [],
   "source": [
    "gateExtractor.extra_pr['annie'] = pipeline"
   ]
  },
  {
   "cell_type": "markdown",
   "id": "63f824bf",
   "metadata": {},
   "source": [
    "## Medical Articles Relationship Discovery"
   ]
  },
  {
   "cell_type": "code",
   "execution_count": null,
   "id": "a391034b",
   "metadata": {
    "scrolled": false
   },
   "outputs": [],
   "source": [
    "corpus = gs.getCorpus4Name('PreDiViD-CORD19-2019-12')"
   ]
  },
  {
   "cell_type": "code",
   "execution_count": null,
   "id": "c6b16de1",
   "metadata": {},
   "outputs": [],
   "source": [
    "rd = RelationshipDiscovery(corpus, gateExtractor,gs)"
   ]
  },
  {
   "cell_type": "code",
   "execution_count": null,
   "id": "b83d2e31",
   "metadata": {
    "scrolled": true
   },
   "outputs": [],
   "source": [
    "rmDoc = rd.rmGen.directTermMatching('PreDiViD-CORD19-Abstract-2019-12-Doc')"
   ]
  },
  {
   "cell_type": "code",
   "execution_count": null,
   "id": "4ff4ff32",
   "metadata": {},
   "outputs": [],
   "source": [
    "rmParagraph = rd.rmGen.paragraphTermMatching('PreDiViD-CORD19-Abstract-2019-12-Paragraph')"
   ]
  },
  {
   "cell_type": "code",
   "execution_count": null,
   "id": "5ba4aee4",
   "metadata": {},
   "outputs": [],
   "source": [
    "rmSentence = rd.rmGen.sentenceTermMatching('PreDiViD-CORD19-Abstract-2019-12-Sentence')"
   ]
  },
  {
   "cell_type": "code",
   "execution_count": null,
   "id": "46b969a2",
   "metadata": {},
   "outputs": [],
   "source": [
    "df_rm = rmToRelationCSV(rmDoc, 'Medical', 1, 'hasPresence') \n",
    "df_rm.to_csv(path_to_relation_folder+rmDoc.matrix_id+\".csv\", index=False)\n",
    "df_rmParagraph = rmToRelationCSV(rmParagraph, 'Medical', 1, 'hasPresence') \n",
    "df_rmParagraph.to_csv(path_to_relation_folder+rmParagraph.matrix_id+\".csv\", index=False)\n",
    "df_rmSentence = rmToRelationCSV(rmSentence, 'Medical', 1, 'hasPresence') \n",
    "df_rmSentence.to_csv(path_to_relation_folder+rmSentence.matrix_id+\".csv\", index=False)"
   ]
  },
  {
   "cell_type": "markdown",
   "id": "e75d7b60",
   "metadata": {},
   "source": [
    "## Online Newspaper Relationship Discovery"
   ]
  },
  {
   "cell_type": "code",
   "execution_count": null,
   "id": "e6645d11",
   "metadata": {},
   "outputs": [],
   "source": [
    "corpus = gs.getCorpus4Name('PreDiViD')\n",
    "rd = RelationshipDiscovery(corpus, gateExtractor,gs)\n",
    "rmDoc = rd.rmGen.directTermMatching('PreDiViD-Aylien-2019-11-Doc')\n",
    "rmParagraph = rd.rmGen.paragraphTermMatching('PreDiViD-Aylien-2019-11-Paragraph')\n",
    "rmSentence = rd.rmGen.sentenceTermMatching('PreDiViD-Aylien-2019-11-Sentence')\n",
    "df_rm = rmToRelationCSV(rmDoc, 'Journal', 1, 'hasPresence') \n",
    "df_rm.to_csv(path_to_relation_folder+rmDoc.matrix_id+\".csv\", index=False)\n",
    "df_rmParagraph = rmToRelationCSV(rmParagraph, 'Journal', 1, 'hasPresence') \n",
    "df_rmParagraph.to_csv(path_to_relation_folder+rmParagraph.matrix_id+\".csv\", index=False)\n",
    "df_rmSentence = rmToRelationCSV(rmSentence, 'Journal', 1, 'hasPresence') \n",
    "df_rmSentence.to_csv(path_to_relation_folder+rmSentence.matrix_id+\".csv\", index=False)"
   ]
  },
  {
   "cell_type": "markdown",
   "id": "5f1b7ab8",
   "metadata": {},
   "source": [
    "### Observation Mining"
   ]
  },
  {
   "cell_type": "code",
   "execution_count": 12,
   "id": "0221bde8",
   "metadata": {},
   "outputs": [],
   "source": [
    "from lib.kgce.schema.semantic.neo4jclasses import Neo4jRelation\n",
    "from lib.kgce.neo4j.handler import Neo4jWrapper"
   ]
  },
  {
   "cell_type": "code",
   "execution_count": 13,
   "id": "5e4934a2",
   "metadata": {},
   "outputs": [],
   "source": [
    "from neo4j import GraphDatabase\n",
    "from tqdm import tqdm\n",
    "\n",
    "\n",
    "class Neo4jWrapper:\n",
    "\n",
    "    def __init__(self, uri, userName, password):\n",
    "        self.uri = uri\n",
    "        self.userName = userName\n",
    "        self.password = password\n",
    "        # Connect to the neo4j database server\n",
    "        self.graphDB_Driver  = GraphDatabase.driver(uri, auth=(userName, password)) \n",
    "        \n",
    "    def sendQuery(self, cql_commands):\n",
    "        result = []\n",
    "        done_queries = []\n",
    "        with self.graphDB_Driver.session() as graphDB_Session:\n",
    "            for cqlCreate in tqdm(cql_commands):\n",
    "                try:\n",
    "                    result += [graphDB_Session.run(cqlCreate).to_df()]\n",
    "                    done_queries.append(cqlCreate)\n",
    "                except Exception as e:\n",
    "                    tqdm.write(str(e))\n",
    "                    tqdm.write(cqlCreate)\n",
    "                    result += [str(e)]\n",
    "        return result\n",
    "    \n",
    "    def closeConnection(self):\n",
    "        self.graphDB_Driver.close()"
   ]
  },
  {
   "cell_type": "code",
   "execution_count": 104,
   "id": "06688534",
   "metadata": {},
   "outputs": [],
   "source": [
    "neowrapper = Neo4jWrapper(uri=\"bolt://localhost:7687\",userName=\"neo4j\",password=\"test\")"
   ]
  },
  {
   "cell_type": "code",
   "execution_count": 182,
   "id": "a36e5639",
   "metadata": {},
   "outputs": [
    {
     "name": "stderr",
     "output_type": "stream",
     "text": [
      "100%|█████████████████████████████████████████████████████████████████| 1/1 [00:00<00:00,  2.46it/s]\n"
     ]
    }
   ],
   "source": [
    "result = neowrapper.sendQuery([\n",
    "    \"\"\"MATCH (n:Country)<-[r:hasPresence]-(c) \n",
    "    WHERE toInteger(r.intensity) >= 1000 AND r.source = \"Journal\"\n",
    "    RETURN n.wkgs_nameEn as System_Name, n.id, c.name, c.id, r.intensity as intensity;\"\"\"\n",
    "])"
   ]
  },
  {
   "cell_type": "code",
   "execution_count": 183,
   "id": "963862da",
   "metadata": {},
   "outputs": [],
   "source": [
    "df_result = result[0].groupby(['System_Name','n.id'],as_index=False).agg(list)"
   ]
  },
  {
   "cell_type": "code",
   "execution_count": 184,
   "id": "29042d19",
   "metadata": {
    "scrolled": true
   },
   "outputs": [
    {
     "data": {
      "text/html": [
       "<div>\n",
       "<style scoped>\n",
       "    .dataframe tbody tr th:only-of-type {\n",
       "        vertical-align: middle;\n",
       "    }\n",
       "\n",
       "    .dataframe tbody tr th {\n",
       "        vertical-align: top;\n",
       "    }\n",
       "\n",
       "    .dataframe thead th {\n",
       "        text-align: right;\n",
       "    }\n",
       "</style>\n",
       "<table border=\"1\" class=\"dataframe\">\n",
       "  <thead>\n",
       "    <tr style=\"text-align: right;\">\n",
       "      <th></th>\n",
       "      <th>System_Name</th>\n",
       "      <th>n.id</th>\n",
       "      <th>c.name</th>\n",
       "      <th>c.id</th>\n",
       "      <th>intensity</th>\n",
       "    </tr>\n",
       "  </thead>\n",
       "  <tbody>\n",
       "    <tr>\n",
       "      <th>0</th>\n",
       "      <td>\"Angola\"</td>\n",
       "      <td>wkg:424310875</td>\n",
       "      <td>[code, MK, II:23, MK, MK, MK, MK, II:23, MK, c...</td>\n",
       "      <td>[A18625219, A20722030, A34717172, A24370628, A...</td>\n",
       "      <td>[1104, 1016, 1040, 1016, 1016, 1016, 1016, 104...</td>\n",
       "    </tr>\n",
       "    <tr>\n",
       "      <th>1</th>\n",
       "      <td>\"Belgium\"</td>\n",
       "      <td>wkg:1684793666</td>\n",
       "      <td>[MK, MK, MK, II:23, MK, code, code, MK, MK, MK...</td>\n",
       "      <td>[A24367753, A32664340, A24370628, A34717172, A...</td>\n",
       "      <td>[1016, 1016, 1016, 1040, 1016, 1104, 1104, 101...</td>\n",
       "    </tr>\n",
       "    <tr>\n",
       "      <th>2</th>\n",
       "      <td>\"Bulgaria\"</td>\n",
       "      <td>wkg:424315709</td>\n",
       "      <td>[stress test electrocardiogram: 2:1 atrioventr...</td>\n",
       "      <td>[A17248370, A20722030, A7565400, A32664340, C1...</td>\n",
       "      <td>[4592, 3556, 1456, 3556, 1456, 3864, 1456, 355...</td>\n",
       "    </tr>\n",
       "    <tr>\n",
       "      <th>3</th>\n",
       "      <td>\"China\"</td>\n",
       "      <td>wkg:424313582</td>\n",
       "      <td>[stress test electrocardiogram: 2:1 atrioventr...</td>\n",
       "      <td>[A17248370]</td>\n",
       "      <td>[1200]</td>\n",
       "    </tr>\n",
       "    <tr>\n",
       "      <th>4</th>\n",
       "      <td>\"Denmark\"</td>\n",
       "      <td>wkg:432424968</td>\n",
       "      <td>[II:23, MK, MK, MK, MK, II:23, MK, MK, code, s...</td>\n",
       "      <td>[C5761581, A16758859, A32664337, A20759385, C5...</td>\n",
       "      <td>[1040, 1016, 1016, 1016, 1016, 1040, 1016, 101...</td>\n",
       "    </tr>\n",
       "    <tr>\n",
       "      <th>5</th>\n",
       "      <td>\"France\"</td>\n",
       "      <td>wkg:1363947712</td>\n",
       "      <td>[O/E: E.M. micr.: virus, Description, 6:2 FTAB...</td>\n",
       "      <td>[A22865475, A32797912, A33643234, C3639183, A1...</td>\n",
       "      <td>[1447, 1344, 1456, 1324, 8832, 1024, 1136, 146...</td>\n",
       "    </tr>\n",
       "    <tr>\n",
       "      <th>6</th>\n",
       "      <td>\"Germany\"</td>\n",
       "      <td>wkg:1683325355</td>\n",
       "      <td>[MK, MK, MK, MK, code, MK, stress test electro...</td>\n",
       "      <td>[A32664340, A16758859, A24583083, A24370628, A...</td>\n",
       "      <td>[1524, 1524, 1524, 1524, 1656, 1524, 1968, 152...</td>\n",
       "    </tr>\n",
       "    <tr>\n",
       "      <th>7</th>\n",
       "      <td>\"Grenada\"</td>\n",
       "      <td>wkg:424316074</td>\n",
       "      <td>[Description, electrocardiogram: 1:1 atriovent...</td>\n",
       "      <td>[A8317986, A17276557, C5761581, A8317350, A227...</td>\n",
       "      <td>[1680, 4160, 10400, 2080, 1040, 1120, 1000, 17...</td>\n",
       "    </tr>\n",
       "    <tr>\n",
       "      <th>8</th>\n",
       "      <td>\"Haiti\"</td>\n",
       "      <td>wkg:424297281</td>\n",
       "      <td>[MK, code, MK, code, MK, MK, MK, MK, II:23, st...</td>\n",
       "      <td>[A32664337, A18625219, A24367753, A18553518, C...</td>\n",
       "      <td>[1016, 1104, 1016, 1104, 1016, 1016, 1016, 101...</td>\n",
       "    </tr>\n",
       "    <tr>\n",
       "      <th>9</th>\n",
       "      <td>\"Kazakhstan\"</td>\n",
       "      <td>wkg:424311521</td>\n",
       "      <td>[virus, virus, virus, virus, virus, O/E: E.M. ...</td>\n",
       "      <td>[C0319157, A18650525, A9333675, A4387104, A186...</td>\n",
       "      <td>[1088, 1088, 1088, 1088, 1088, 1088, 1088, 108...</td>\n",
       "    </tr>\n",
       "    <tr>\n",
       "      <th>10</th>\n",
       "      <td>\"Portugal\"</td>\n",
       "      <td>wkg:2377028247</td>\n",
       "      <td>[e, information, MK, PCR, information, CDISC A...</td>\n",
       "      <td>[A15557370, A18699053, A20759385, C0032520, A8...</td>\n",
       "      <td>[1052, 1240, 9144, 1008, 1240, 1100, 3744, 138...</td>\n",
       "    </tr>\n",
       "    <tr>\n",
       "      <th>11</th>\n",
       "      <td>\"Romania\"</td>\n",
       "      <td>wkg:432425064</td>\n",
       "      <td>[code, MK, stress test electrocardiogram: 2:1 ...</td>\n",
       "      <td>[A18553518, A32664340, A17248370, C5444591, A2...</td>\n",
       "      <td>[1656, 1524, 1968, 1524, 1524, 1524, 1560, 152...</td>\n",
       "    </tr>\n",
       "    <tr>\n",
       "      <th>12</th>\n",
       "      <td>\"Russia\"</td>\n",
       "      <td>wkg:424314830</td>\n",
       "      <td>[coxsackievirus, al, viral, agent, infection, ...</td>\n",
       "      <td>[A4387189, A27032845, A1309471, C1551364, A129...</td>\n",
       "      <td>[1184, 1480, 7548, 5624, 6808, 10064, 2516, 32...</td>\n",
       "    </tr>\n",
       "    <tr>\n",
       "      <th>13</th>\n",
       "      <td>\"Spain\"</td>\n",
       "      <td>wkg:148332300</td>\n",
       "      <td>[stress test electrocardiogram: 2:1 atrioventr...</td>\n",
       "      <td>[A17248370, A18553518, A24370628, C5761581, A3...</td>\n",
       "      <td>[3944, 3312, 3048, 3120, 3048, 1248, 1248, 124...</td>\n",
       "    </tr>\n",
       "    <tr>\n",
       "      <th>14</th>\n",
       "      <td>\"United States\"</td>\n",
       "      <td>wkg:424317935</td>\n",
       "      <td>[Internet, stress test electrocardiogram: 2:1 ...</td>\n",
       "      <td>[A7578156, A17248370, A21398323, A21144343, A3...</td>\n",
       "      <td>[1024, 84616, 1536, 1552, 1024, 1024, 5120, 46...</td>\n",
       "    </tr>\n",
       "  </tbody>\n",
       "</table>\n",
       "</div>"
      ],
      "text/plain": [
       "        System_Name            n.id  \\\n",
       "0          \"Angola\"   wkg:424310875   \n",
       "1         \"Belgium\"  wkg:1684793666   \n",
       "2        \"Bulgaria\"   wkg:424315709   \n",
       "3           \"China\"   wkg:424313582   \n",
       "4         \"Denmark\"   wkg:432424968   \n",
       "5          \"France\"  wkg:1363947712   \n",
       "6         \"Germany\"  wkg:1683325355   \n",
       "7         \"Grenada\"   wkg:424316074   \n",
       "8           \"Haiti\"   wkg:424297281   \n",
       "9      \"Kazakhstan\"   wkg:424311521   \n",
       "10       \"Portugal\"  wkg:2377028247   \n",
       "11        \"Romania\"   wkg:432425064   \n",
       "12         \"Russia\"   wkg:424314830   \n",
       "13          \"Spain\"   wkg:148332300   \n",
       "14  \"United States\"   wkg:424317935   \n",
       "\n",
       "                                               c.name  \\\n",
       "0   [code, MK, II:23, MK, MK, MK, MK, II:23, MK, c...   \n",
       "1   [MK, MK, MK, II:23, MK, code, code, MK, MK, MK...   \n",
       "2   [stress test electrocardiogram: 2:1 atrioventr...   \n",
       "3   [stress test electrocardiogram: 2:1 atrioventr...   \n",
       "4   [II:23, MK, MK, MK, MK, II:23, MK, MK, code, s...   \n",
       "5   [O/E: E.M. micr.: virus, Description, 6:2 FTAB...   \n",
       "6   [MK, MK, MK, MK, code, MK, stress test electro...   \n",
       "7   [Description, electrocardiogram: 1:1 atriovent...   \n",
       "8   [MK, code, MK, code, MK, MK, MK, MK, II:23, st...   \n",
       "9   [virus, virus, virus, virus, virus, O/E: E.M. ...   \n",
       "10  [e, information, MK, PCR, information, CDISC A...   \n",
       "11  [code, MK, stress test electrocardiogram: 2:1 ...   \n",
       "12  [coxsackievirus, al, viral, agent, infection, ...   \n",
       "13  [stress test electrocardiogram: 2:1 atrioventr...   \n",
       "14  [Internet, stress test electrocardiogram: 2:1 ...   \n",
       "\n",
       "                                                 c.id  \\\n",
       "0   [A18625219, A20722030, A34717172, A24370628, A...   \n",
       "1   [A24367753, A32664340, A24370628, A34717172, A...   \n",
       "2   [A17248370, A20722030, A7565400, A32664340, C1...   \n",
       "3                                         [A17248370]   \n",
       "4   [C5761581, A16758859, A32664337, A20759385, C5...   \n",
       "5   [A22865475, A32797912, A33643234, C3639183, A1...   \n",
       "6   [A32664340, A16758859, A24583083, A24370628, A...   \n",
       "7   [A8317986, A17276557, C5761581, A8317350, A227...   \n",
       "8   [A32664337, A18625219, A24367753, A18553518, C...   \n",
       "9   [C0319157, A18650525, A9333675, A4387104, A186...   \n",
       "10  [A15557370, A18699053, A20759385, C0032520, A8...   \n",
       "11  [A18553518, A32664340, A17248370, C5444591, A2...   \n",
       "12  [A4387189, A27032845, A1309471, C1551364, A129...   \n",
       "13  [A17248370, A18553518, A24370628, C5761581, A3...   \n",
       "14  [A7578156, A17248370, A21398323, A21144343, A3...   \n",
       "\n",
       "                                            intensity  \n",
       "0   [1104, 1016, 1040, 1016, 1016, 1016, 1016, 104...  \n",
       "1   [1016, 1016, 1016, 1040, 1016, 1104, 1104, 101...  \n",
       "2   [4592, 3556, 1456, 3556, 1456, 3864, 1456, 355...  \n",
       "3                                              [1200]  \n",
       "4   [1040, 1016, 1016, 1016, 1016, 1040, 1016, 101...  \n",
       "5   [1447, 1344, 1456, 1324, 8832, 1024, 1136, 146...  \n",
       "6   [1524, 1524, 1524, 1524, 1656, 1524, 1968, 152...  \n",
       "7   [1680, 4160, 10400, 2080, 1040, 1120, 1000, 17...  \n",
       "8   [1016, 1104, 1016, 1104, 1016, 1016, 1016, 101...  \n",
       "9   [1088, 1088, 1088, 1088, 1088, 1088, 1088, 108...  \n",
       "10  [1052, 1240, 9144, 1008, 1240, 1100, 3744, 138...  \n",
       "11  [1656, 1524, 1968, 1524, 1524, 1524, 1560, 152...  \n",
       "12  [1184, 1480, 7548, 5624, 6808, 10064, 2516, 32...  \n",
       "13  [3944, 3312, 3048, 3120, 3048, 1248, 1248, 124...  \n",
       "14  [1024, 84616, 1536, 1552, 1024, 1024, 5120, 46...  "
      ]
     },
     "execution_count": 184,
     "metadata": {},
     "output_type": "execute_result"
    }
   ],
   "source": [
    "df_result"
   ]
  },
  {
   "cell_type": "code",
   "execution_count": 179,
   "id": "045739b3",
   "metadata": {},
   "outputs": [
    {
     "name": "stderr",
     "output_type": "stream",
     "text": [
      "100%|█████████████████████████████████████████████████████████████████| 1/1 [00:00<00:00,  2.52it/s]\n"
     ]
    }
   ],
   "source": [
    "result = neowrapper.sendQuery([\n",
    "    \"\"\"MATCH (n:Country)<-[r:hasPresence]-(c) \n",
    "    WHERE toInteger(r.intensity) >= 100 AND r.source = \"Medical\"\n",
    "    RETURN n.wkgs_nameEn as System_Name, n.id, c.name, c.id, r.intensity as intensity;\"\"\"\n",
    "])"
   ]
  },
  {
   "cell_type": "code",
   "execution_count": 180,
   "id": "57f40131",
   "metadata": {},
   "outputs": [],
   "source": [
    "df_result = result[0].groupby(['System_Name','n.id'],as_index=False).agg(list)"
   ]
  },
  {
   "cell_type": "code",
   "execution_count": 181,
   "id": "31f67726",
   "metadata": {},
   "outputs": [
    {
     "data": {
      "text/html": [
       "<div>\n",
       "<style scoped>\n",
       "    .dataframe tbody tr th:only-of-type {\n",
       "        vertical-align: middle;\n",
       "    }\n",
       "\n",
       "    .dataframe tbody tr th {\n",
       "        vertical-align: top;\n",
       "    }\n",
       "\n",
       "    .dataframe thead th {\n",
       "        text-align: right;\n",
       "    }\n",
       "</style>\n",
       "<table border=\"1\" class=\"dataframe\">\n",
       "  <thead>\n",
       "    <tr style=\"text-align: right;\">\n",
       "      <th></th>\n",
       "      <th>System_Name</th>\n",
       "      <th>n.id</th>\n",
       "      <th>c.name</th>\n",
       "      <th>c.id</th>\n",
       "      <th>intensity</th>\n",
       "    </tr>\n",
       "  </thead>\n",
       "  <tbody>\n",
       "    <tr>\n",
       "      <th>0</th>\n",
       "      <td>\"Angola\"</td>\n",
       "      <td>wkg:424310875</td>\n",
       "      <td>[0: Eye problem(s) had no effect on my work, 0...</td>\n",
       "      <td>[A33693090, C5570791]</td>\n",
       "      <td>[144, 144]</td>\n",
       "    </tr>\n",
       "    <tr>\n",
       "      <th>1</th>\n",
       "      <td>\"Belgium\"</td>\n",
       "      <td>wkg:1684793666</td>\n",
       "      <td>[study, virus, electrocardiogram: 1:1 atrioven...</td>\n",
       "      <td>[A18569647, A4387104, A17276557, A17263687, A2...</td>\n",
       "      <td>[101, 109, 139, 139, 109, 109, 109, 117, 109, ...</td>\n",
       "    </tr>\n",
       "    <tr>\n",
       "      <th>2</th>\n",
       "      <td>\"Canada\"</td>\n",
       "      <td>wkg:424313760</td>\n",
       "      <td>[electrocardiogram: 1:1 atrioventricular condu...</td>\n",
       "      <td>[A17276557, A17248370, A17263687]</td>\n",
       "      <td>[133, 114, 133]</td>\n",
       "    </tr>\n",
       "    <tr>\n",
       "      <th>3</th>\n",
       "      <td>\"China\"</td>\n",
       "      <td>wkg:424313582</td>\n",
       "      <td>[influenza, stress test electrocardiogram: 2:1...</td>\n",
       "      <td>[A14148709, A17248370, A18637092, A17276557, A...</td>\n",
       "      <td>[168, 114, 115, 127, 115, 115, 126, 115, 126, ...</td>\n",
       "    </tr>\n",
       "    <tr>\n",
       "      <th>4</th>\n",
       "      <td>\"France\"</td>\n",
       "      <td>wkg:1363947712</td>\n",
       "      <td>[infection, A, A, infection, A, virus, associa...</td>\n",
       "      <td>[A4386825, A15562671, A15566736, A18647936, A1...</td>\n",
       "      <td>[171, 159, 159, 171, 159, 159, 114, 104, 152, ...</td>\n",
       "    </tr>\n",
       "    <tr>\n",
       "      <th>5</th>\n",
       "      <td>\"Iran\"</td>\n",
       "      <td>wkg:424298311</td>\n",
       "      <td>[HIV: PrEP and PEP, HIV: PrEP and PEP, HIV: Pr...</td>\n",
       "      <td>[A32651247, C5400798, A32453499]</td>\n",
       "      <td>[112, 112, 112]</td>\n",
       "    </tr>\n",
       "    <tr>\n",
       "      <th>6</th>\n",
       "      <td>\"Kazakhstan\"</td>\n",
       "      <td>wkg:424311521</td>\n",
       "      <td>[RP, FA, FA, RP, FA, FA, RP, RSV, RP, FA, FA, ...</td>\n",
       "      <td>[A21114029, A20737010, A12003596, A12031273, A...</td>\n",
       "      <td>[108, 108, 108, 108, 108, 108, 108, 108, 108, ...</td>\n",
       "    </tr>\n",
       "    <tr>\n",
       "      <th>7</th>\n",
       "      <td>\"Russia\"</td>\n",
       "      <td>wkg:424314830</td>\n",
       "      <td>[B27, refill, FA, CI, years, hypocapnia, 2.5, ...</td>\n",
       "      <td>[A20723042, A18568488, A10776600, C1705941, C0...</td>\n",
       "      <td>[111, 114, 999, 343, 377, 148, 111, 148, 299, ...</td>\n",
       "    </tr>\n",
       "    <tr>\n",
       "      <th>8</th>\n",
       "      <td>\"Saudi Arabia\"</td>\n",
       "      <td>wkg:249399419</td>\n",
       "      <td>[MERS-CoV, MERS, virus, O/E: E.M. micr.: virus...</td>\n",
       "      <td>[A26632894, A26716642, A18650525, A24082341, A...</td>\n",
       "      <td>[114, 136, 108, 108, 108, 108, 108, 114, 108, ...</td>\n",
       "    </tr>\n",
       "    <tr>\n",
       "      <th>9</th>\n",
       "      <td>\"Spain\"</td>\n",
       "      <td>wkg:148332300</td>\n",
       "      <td>[electrocardiogram: 1:1 atrioventricular condu...</td>\n",
       "      <td>[A17276557, A18556155, A33693090, C5570791, A1...</td>\n",
       "      <td>[177, 138, 131, 131, 177]</td>\n",
       "    </tr>\n",
       "    <tr>\n",
       "      <th>10</th>\n",
       "      <td>\"United Kingdom\"</td>\n",
       "      <td>wkg:838090640</td>\n",
       "      <td>[patients]</td>\n",
       "      <td>[A18556155]</td>\n",
       "      <td>[115]</td>\n",
       "    </tr>\n",
       "    <tr>\n",
       "      <th>11</th>\n",
       "      <td>\"United States\"</td>\n",
       "      <td>wkg:424317935</td>\n",
       "      <td>[influenza, CI, 6:2 FTAB 6:2 fluorotelomer sul...</td>\n",
       "      <td>[A14148709, A16763009, A33643234, A17263687, A...</td>\n",
       "      <td>[179, 120, 213, 431, 217, 127, 431, 110, 429, ...</td>\n",
       "    </tr>\n",
       "  </tbody>\n",
       "</table>\n",
       "</div>"
      ],
      "text/plain": [
       "         System_Name            n.id  \\\n",
       "0           \"Angola\"   wkg:424310875   \n",
       "1          \"Belgium\"  wkg:1684793666   \n",
       "2           \"Canada\"   wkg:424313760   \n",
       "3            \"China\"   wkg:424313582   \n",
       "4           \"France\"  wkg:1363947712   \n",
       "5             \"Iran\"   wkg:424298311   \n",
       "6       \"Kazakhstan\"   wkg:424311521   \n",
       "7           \"Russia\"   wkg:424314830   \n",
       "8     \"Saudi Arabia\"   wkg:249399419   \n",
       "9            \"Spain\"   wkg:148332300   \n",
       "10  \"United Kingdom\"   wkg:838090640   \n",
       "11   \"United States\"   wkg:424317935   \n",
       "\n",
       "                                               c.name  \\\n",
       "0   [0: Eye problem(s) had no effect on my work, 0...   \n",
       "1   [study, virus, electrocardiogram: 1:1 atrioven...   \n",
       "2   [electrocardiogram: 1:1 atrioventricular condu...   \n",
       "3   [influenza, stress test electrocardiogram: 2:1...   \n",
       "4   [infection, A, A, infection, A, virus, associa...   \n",
       "5   [HIV: PrEP and PEP, HIV: PrEP and PEP, HIV: Pr...   \n",
       "6   [RP, FA, FA, RP, FA, FA, RP, RSV, RP, FA, FA, ...   \n",
       "7   [B27, refill, FA, CI, years, hypocapnia, 2.5, ...   \n",
       "8   [MERS-CoV, MERS, virus, O/E: E.M. micr.: virus...   \n",
       "9   [electrocardiogram: 1:1 atrioventricular condu...   \n",
       "10                                         [patients]   \n",
       "11  [influenza, CI, 6:2 FTAB 6:2 fluorotelomer sul...   \n",
       "\n",
       "                                                 c.id  \\\n",
       "0                               [A33693090, C5570791]   \n",
       "1   [A18569647, A4387104, A17276557, A17263687, A2...   \n",
       "2                   [A17276557, A17248370, A17263687]   \n",
       "3   [A14148709, A17248370, A18637092, A17276557, A...   \n",
       "4   [A4386825, A15562671, A15566736, A18647936, A1...   \n",
       "5                    [A32651247, C5400798, A32453499]   \n",
       "6   [A21114029, A20737010, A12003596, A12031273, A...   \n",
       "7   [A20723042, A18568488, A10776600, C1705941, C0...   \n",
       "8   [A26632894, A26716642, A18650525, A24082341, A...   \n",
       "9   [A17276557, A18556155, A33693090, C5570791, A1...   \n",
       "10                                        [A18556155]   \n",
       "11  [A14148709, A16763009, A33643234, A17263687, A...   \n",
       "\n",
       "                                            intensity  \n",
       "0                                          [144, 144]  \n",
       "1   [101, 109, 139, 139, 109, 109, 109, 117, 109, ...  \n",
       "2                                     [133, 114, 133]  \n",
       "3   [168, 114, 115, 127, 115, 115, 126, 115, 126, ...  \n",
       "4   [171, 159, 159, 171, 159, 159, 114, 104, 152, ...  \n",
       "5                                     [112, 112, 112]  \n",
       "6   [108, 108, 108, 108, 108, 108, 108, 108, 108, ...  \n",
       "7   [111, 114, 999, 343, 377, 148, 111, 148, 299, ...  \n",
       "8   [114, 136, 108, 108, 108, 108, 108, 114, 108, ...  \n",
       "9                           [177, 138, 131, 131, 177]  \n",
       "10                                              [115]  \n",
       "11  [179, 120, 213, 431, 217, 127, 431, 110, 429, ...  "
      ]
     },
     "execution_count": 181,
     "metadata": {},
     "output_type": "execute_result"
    }
   ],
   "source": [
    "df_result"
   ]
  }
 ],
 "metadata": {
  "kernelspec": {
   "display_name": "dtvenv",
   "language": "python",
   "name": "dtvenv"
  },
  "language_info": {
   "codemirror_mode": {
    "name": "ipython",
    "version": 3
   },
   "file_extension": ".py",
   "mimetype": "text/x-python",
   "name": "python",
   "nbconvert_exporter": "python",
   "pygments_lexer": "ipython3",
   "version": "3.8.10"
  }
 },
 "nbformat": 4,
 "nbformat_minor": 5
}
