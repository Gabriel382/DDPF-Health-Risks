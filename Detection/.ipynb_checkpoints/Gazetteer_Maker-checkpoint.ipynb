{
 "cells": [
  {
   "cell_type": "markdown",
   "id": "4a1f11ef",
   "metadata": {},
   "source": [
    "# Gazetteer Maker"
   ]
  },
  {
   "cell_type": "markdown",
   "id": "63f2ea46",
   "metadata": {},
   "source": [
    "## Introduction\n",
    "\n",
    "    The main goal of this code is to transform tables into tables of gazetteers for each ontology aligned with PropaPhen. Those gazetteers are going to be used in the \"Detection\" module to find the equivalent Named Entities."
   ]
  },
  {
   "cell_type": "code",
   "execution_count": 69,
   "id": "cb6183b5",
   "metadata": {},
   "outputs": [
    {
     "name": "stdout",
     "output_type": "stream",
     "text": [
      "The autoreload extension is already loaded. To reload it, use:\n",
      "  %reload_ext autoreload\n"
     ]
    }
   ],
   "source": [
    "%load_ext autoreload\n",
    "%autoreload 2"
   ]
  },
  {
   "cell_type": "markdown",
   "id": "931493bb",
   "metadata": {},
   "source": [
    "## Libraries"
   ]
  },
  {
   "cell_type": "markdown",
   "id": "c3dcf3ba",
   "metadata": {},
   "source": [
    "### Standard"
   ]
  },
  {
   "cell_type": "code",
   "execution_count": 70,
   "id": "cfcb1852",
   "metadata": {},
   "outputs": [],
   "source": [
    "import pandas as pd\n",
    "import numpy as np\n",
    "from tqdm import tqdm"
   ]
  },
  {
   "cell_type": "markdown",
   "id": "ced0b48f",
   "metadata": {},
   "source": [
    "## Globals"
   ]
  },
  {
   "cell_type": "code",
   "execution_count": 71,
   "id": "5fb2f8d8",
   "metadata": {},
   "outputs": [],
   "source": [
    "path_to_atoms = \"data/tables/MRAUI.processed.csv\"\n",
    "path_to_concepts = \"data/tables/MRCONSO.processed.csv\"\n",
    "path_to_semantics = \"data/tables/SRDEF.processed.csv\"\n",
    "path_to_world = \"data/tables/worldkg_nodes.csv\""
   ]
  },
  {
   "cell_type": "markdown",
   "id": "ffa5cd81",
   "metadata": {},
   "source": [
    "## Tables to Gazetteers"
   ]
  },
  {
   "cell_type": "code",
   "execution_count": 72,
   "id": "7291fac7",
   "metadata": {},
   "outputs": [],
   "source": [
    "df = pd.DataFrame(columns=['ID', 'Name'])"
   ]
  },
  {
   "cell_type": "markdown",
   "id": "556d1371",
   "metadata": {},
   "source": [
    "### UMLS"
   ]
  },
  {
   "cell_type": "code",
   "execution_count": 73,
   "id": "b8a3b36d",
   "metadata": {},
   "outputs": [],
   "source": [
    "concept_df = pd.read_csv(path_to_concepts)"
   ]
  },
  {
   "cell_type": "code",
   "execution_count": 74,
   "id": "e00c8866",
   "metadata": {},
   "outputs": [],
   "source": [
    "df = pd.concat([df, \n",
    "           concept_df[[\"CUI:ID\",\"name\"]].rename(columns={\"CUI:ID\": \"ID\", \n",
    "                                                         \"name\": \"Name\"})], axis=0,ignore_index=True)"
   ]
  },
  {
   "cell_type": "code",
   "execution_count": 75,
   "id": "8f1ffe8a",
   "metadata": {},
   "outputs": [],
   "source": [
    "atom_df = pd.read_csv(path_to_atoms)"
   ]
  },
  {
   "cell_type": "code",
   "execution_count": 76,
   "id": "ad6a08b1",
   "metadata": {},
   "outputs": [],
   "source": [
    "df = pd.concat([df, \n",
    "           atom_df[[\"AUI:ID\",\"name\"]].rename(columns={\"AUI:ID\": \"ID\", \n",
    "                                                         \"name\": \"Name\"})], axis=0,ignore_index=True)"
   ]
  },
  {
   "cell_type": "code",
   "execution_count": 77,
   "id": "f694acbe",
   "metadata": {},
   "outputs": [],
   "source": [
    "stype_df = pd.read_csv(path_to_semantics)"
   ]
  },
  {
   "cell_type": "code",
   "execution_count": 78,
   "id": "9ce1676e",
   "metadata": {},
   "outputs": [],
   "source": [
    "df = pd.concat([df, \n",
    "           stype_df[[\"STY:ID\",\"name\"]].rename(columns={\"STY:ID\": \"ID\", \n",
    "                                                         \"name\": \"Name\"})], axis=0,ignore_index=True)"
   ]
  },
  {
   "cell_type": "code",
   "execution_count": 84,
   "id": "bd57585d",
   "metadata": {},
   "outputs": [],
   "source": [
    "df.to_csv('data/gazetteers/kbgazetteer.csv')"
   ]
  },
  {
   "cell_type": "markdown",
   "id": "7da8f403",
   "metadata": {},
   "source": [
    "### WorldKG"
   ]
  },
  {
   "cell_type": "code",
   "execution_count": 79,
   "id": "4c96de41",
   "metadata": {},
   "outputs": [
    {
     "name": "stderr",
     "output_type": "stream",
     "text": [
      "/tmp/ipykernel_76397/181596066.py:1: DtypeWarning: Columns (2,3,4,5,6,7,8,9,10,11,12,13,14,15,17,18,19,20,21,22,23,24,25,26,27,28,29,30,31,32,33,34,35,36,37,38,39,40,41,42,43,44,45,46,47,48,50,51,52,53,54,55,56,57,58,59,60,61,62,63,64,65,66,67,68,69,70,71,72,73,74,75,76,77,78,79,80,81,82,83,84,85,86,87,88,89,90,91,92,93,94,95,96,97,98,99,100,101,102,103,104,105,106,107,108,109,110,111,112,113,114,115,116,117,118,119,120,121,122,123,124,125,126,127,128,129,130,131,132,133,134,135,136,137,138,139,140,141,142,143,144,145,146,147,148,149,150,151,152,153,154,155,156,157,158,159,160,161,162,163,164,165,166,167,168,169,170,171,172,174,175,176,177,178,179,180,181,182,183,184,185,186,187,188,189,190,191,192,193,194,195,196,197,198,199,200,201,202,203,204,205,206,207,208,209,210,211,212,213,214,215,216,217,218,219,220,221,222,223,224,225,226,227,228,229,230,231,232,233,234,235,236,237,238,239,240,241,242,243,244,245,246,247,248,249,250,251,252,253,254,255,256,257,258,259,260,261,262,263,264,265,266,267,268,269,271,272,273,274,275,276,277,278,279,280,281,282,283,284,285,286,287,288,289,290,291,292,293,294) have mixed types. Specify dtype option on import or set low_memory=False.\n",
      "  world_df = pd.read_csv(path_to_world)\n"
     ]
    }
   ],
   "source": [
    "world_df = pd.read_csv(path_to_world)"
   ]
  },
  {
   "cell_type": "code",
   "execution_count": 80,
   "id": "9e25226a",
   "metadata": {},
   "outputs": [],
   "source": [
    "world_kg_id = \"id:ID\"\n",
    "list_of_names = []\n",
    "for k in world_df.columns:\n",
    "    if \"Name\" in k or \"name\" in k:\n",
    "        list_of_names.append(k)"
   ]
  },
  {
   "cell_type": "code",
   "execution_count": 81,
   "id": "a52d2121",
   "metadata": {},
   "outputs": [],
   "source": [
    "world_df_filtered = world_df[[world_kg_id]+list_of_names]"
   ]
  },
  {
   "cell_type": "code",
   "execution_count": 82,
   "id": "a02a11ad",
   "metadata": {},
   "outputs": [
    {
     "data": {
      "text/plain": [
       "(1294509, 50)"
      ]
     },
     "execution_count": 82,
     "metadata": {},
     "output_type": "execute_result"
    }
   ],
   "source": [
    "world_df_filtered.shape"
   ]
  },
  {
   "cell_type": "code",
   "execution_count": 83,
   "id": "14c206af",
   "metadata": {},
   "outputs": [
    {
     "name": "stderr",
     "output_type": "stream",
     "text": [
      "1294509it [20:13:23, 17.78it/s]\n"
     ]
    }
   ],
   "source": [
    "world_df_final = pd.DataFrame(columns=['ID', 'Name'])\n",
    "for _, row in tqdm(world_df_filtered.iterrows()):\n",
    "    for nametype in list_of_names:\n",
    "        if not pd.isna(row[nametype]):\n",
    "            rowdataframe = pd.DataFrame({'ID': [row[\"id:ID\"]],\n",
    "                   'Name': [row[nametype]]})\n",
    "            world_df_final = pd.concat([world_df_final, \n",
    "               rowdataframe], axis=0,ignore_index=True)"
   ]
  },
  {
   "cell_type": "code",
   "execution_count": 86,
   "id": "b073fb2a",
   "metadata": {},
   "outputs": [],
   "source": [
    "world_df_final.to_csv('data/gazetteers/world_gazetteer.csv')"
   ]
  }
 ],
 "metadata": {
  "kernelspec": {
   "display_name": "dcvenv",
   "language": "python",
   "name": "dcvenv"
  },
  "language_info": {
   "codemirror_mode": {
    "name": "ipython",
    "version": 3
   },
   "file_extension": ".py",
   "mimetype": "text/x-python",
   "name": "python",
   "nbconvert_exporter": "python",
   "pygments_lexer": "ipython3",
   "version": "3.8.10"
  }
 },
 "nbformat": 4,
 "nbformat_minor": 5
}
